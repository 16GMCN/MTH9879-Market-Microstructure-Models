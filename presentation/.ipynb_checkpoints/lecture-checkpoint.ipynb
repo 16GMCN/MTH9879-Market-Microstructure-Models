{
 "cells": [
  {
   "cell_type": "markdown",
   "metadata": {},
   "source": [
    "In this paper, the author talked about an optimal trading strategy with general alpha predictors. Though there is no close form solution, the author gave an approach to this problem. \n",
    "\n",
    "We consider two days horizon. In the first day, from $t_{open}$ to $T$, we can trade. And we need to consider the overnight risk and possible alpha. So we take the second day into our consideration. Note that we can trade only on first day.\n",
    "\n",
    "![timeline](timeline.png)\n",
    "\n",
    "we consider single asset and its price revolution take the following form\n",
    "\n",
    "$$\n",
    "dP_t=\\alpha_t dt+\\sqrt\\nu dW_t\n",
    "$$\n",
    "\n",
    "And we decompose $\\alpha$ into a daily average term and intra-day component\n",
    "\n",
    "$$\n",
    "\\alpha_t:=\\bar \\alpha+x_t,\\,\\,\\,\\,  \\mathbb E[x_t]=0\n",
    "$$\n",
    "\n",
    "$x_t$ is a intra-day term and comes from high frequency signals, we leave its dynamic in very general form \n",
    "\n",
    "$$\n",
    "dx_t=\\mu(t,x)dt+\\sqrt {\\eta(t,x)}dZ_t\n",
    "$$\n",
    "\n",
    "We want to figure out, if we know $x_t$, how can we trade to get a maximum pnl. Thats the whole point of this paper.   \n",
    "\n",
    "For latter convenience, we define integrated gain of signals by $g$\n",
    "\n",
    "$$\n",
    "g(t,x):=\\int_t^{2T}\\mathbb E[x_s|x_t=x]ds\n",
    "$$\n",
    "\n",
    "and evolution of our position is\n",
    "$$\n",
    "dq_t=u_tdt\n",
    "$$\n",
    "where $u_t$ is our trading speed."
   ]
  },
  {
   "cell_type": "markdown",
   "metadata": {},
   "source": [
    "In the first scenario, we only trade in market order. The objective function is \n",
    "\n",
    "$$\n",
    "\\Omega(t,x,q)=\\min_{\\{u_s|s\\in(t,T)  \\}}\\mathbb E \\big[\\int_t^TC|u_S|ds +K\\int_t^Tu_s^2ds-\\int_t^{2T}\\alpha_sq_sds +\\frac12\\lambda\\nu\\int_t^{2T}q_s^2ds \\, \\mid q_t=q ,\\ x_t=x \\big]   \n",
    "$$\n",
    "\n",
    "The first term is cost of market order. Here C is half spread, not a function. We set it as a constant. \n",
    "\n",
    "The second term is regularization or we can think it as a temporary market impact. We only focus on quadratic form. The first two terms happen with trading. So we integrate from the end of first day.\n",
    "\n",
    "The third term is the gain from alpha and the last term is risk control. $v$ is price variance and $\\lambda$ is risk aversion. In order to consider overnight pnl and risk, we integrated to the second day.\n",
    "\n",
    "\n",
    "HJB equation for the objective function is \n",
    "\n",
    "$$\n",
    "\\hat D_{t,x} \\Omega(t,x,q)-(\\bar \\alpha+x)q+\\frac12 \\lambda \\nu q^2+\\min_u\\big[C|u|+Ku^2+\\frac{\\partial \\Omega}{\\partial q}u \\big]=0\n",
    "$$\n",
    "\n",
    "where D is differential operator of x\n",
    "$$\n",
    "\\hat D_{t,x}:=\\frac {\\partial}{\\partial t}+\\mu(t,x)\\frac{\\partial}{\\partial x}+\\frac{1}{2}\\eta(t,x)\\frac{\\partial^2}{\\partial x^2}\n",
    "$$\n",
    "\n",
    "we introduce Markowitz portfolio\n",
    "$$\n",
    "\\bar q=\\frac{\\bar \\alpha}{\\lambda \\nu}\n",
    "$$\n",
    "This only use the expectation of daily alpha, not intra-day signals. We can use this portfolio as a bench mark and write our optimization problem as a portfolio tracking problem.\n",
    "\n",
    "In order to do that, we define a new objective function\n",
    "\n",
    "$$\n",
    "V(t,x,q):=\\Omega(t,x,q)+g(t,x)q+\\frac12 \\lambda \\nu \\bar q^2(2T-t) \n",
    "$$\n",
    "\n",
    "The difference between new objective function and old one do not depend on trading rate $u_t$, hence they imply same optimization problem.\n",
    "\n",
    "HJB for new function is \n",
    "$$\n",
    "\\hat D_{t,x}V+\\frac12 \\lambda \\nu (q-\\bar q)^2+\\min_u\\big[C|u|+Ku^2+\\big(\\frac{\\partial V}{\\partial q}-g\\big)u \\big]=0\n",
    "$$\n",
    "with terminal condition \n",
    "$$\n",
    "V(T,x,q)=\\frac12 \\lambda \\nu T(q-\\bar q)^2\n",
    "$$\n",
    "\n",
    "This can be regard as our portfolio is tracking Markowitz portfolio using intra-day signals. In practice, trader can replace this benchmark with any ideal portfolio in back-test. "
   ]
  },
  {
   "cell_type": "markdown",
   "metadata": {},
   "source": [
    "Looking at the second part of new HJB equation, we can see u depends on location in (t,x,q) space. \n",
    "\n",
    "$$\n",
    "\\min_u\\big[C|u|+Ku^2+\\big(\\frac{\\partial V}{\\partial q}-g\\big)u \\big]\n",
    "$$\n",
    "\n",
    "There are three subspace, and in each u has different expression. These are the region we buy, sell and do not trade. \n",
    "\n",
    "$g>C+\\frac{\\partial V}{\\partial q}$. In this case $u>0$, so we *buy*:\n",
    "$$\n",
    "u=\\frac{1}{2K}(g-C-\\frac{\\partial V}{\\partial q})\n",
    "$$\n",
    "\n",
    "$g<-C+\\frac{\\partial V}{\\partial q}$. In this case $u<0$, so we *sell*:\n",
    "$$\n",
    "u=-\\frac{1}{2K}(-g-C+\\frac{\\partial V}{\\partial q})\n",
    "$$\n",
    "\n",
    "$-C+\\frac{\\partial V}{\\partial q}<g<C+\\frac{\\partial V}{\\partial q}$. In this case $u=0$, so we *don't trade*:\n",
    "$$\n",
    "u=0\n",
    "$$\n",
    "\n",
    "Here is a picture of three zones and we can see when time approach T, the none trading zone becomes bigger. This is consistent to our intuition. Since intra-day signal is a mean zero drift, we maximize our profit by trading at the beginning of the day.\n",
    "\n",
    "![threezone](threezone.png)\n",
    "\n",
    "\n",
    "The HJB becomes \n",
    "\n",
    "$$\n",
    "\\hat D_{t,x}V+\\frac12 \\lambda \\nu (q-\\bar q)^2-Ku^2=0\n",
    "$$\n",
    "\n",
    "which still cannot be solved in general."
   ]
  },
  {
   "cell_type": "markdown",
   "metadata": {},
   "source": [
    "\\begin{equation}\n",
    "  u=\\begin{cases}\n",
    "    \\frac{1}{2K}(g-c-\\frac{\\partial V}{\\partial q}), & \\text{if $g>c+\\frac{\\partial V}{\\partial q}$}.\\\\\n",
    "    0, & \\text{otherwise}.\n",
    "  \\end{cases}\n",
    "\\end{equation}"
   ]
  }
 ],
 "metadata": {
  "kernelspec": {
   "display_name": "Python 3",
   "language": "python",
   "name": "python3"
  },
  "language_info": {
   "codemirror_mode": {
    "name": "ipython",
    "version": 3
   },
   "file_extension": ".py",
   "mimetype": "text/x-python",
   "name": "python",
   "nbconvert_exporter": "python",
   "pygments_lexer": "ipython3",
   "version": "3.7.3"
  },
  "latex_envs": {
   "LaTeX_envs_menu_present": true,
   "autoclose": true,
   "autocomplete": true,
   "bibliofile": "biblio.bib",
   "cite_by": "apalike",
   "current_citInitial": 1,
   "eqLabelWithNumbers": false,
   "eqNumInitial": 1,
   "hotkeys": {
    "equation": "Ctrl-E",
    "itemize": "Ctrl-I"
   },
   "labels_anchors": false,
   "latex_user_defs": false,
   "report_style_numbering": false,
   "user_envs_cfg": false
  },
  "toc": {
   "base_numbering": 1,
   "nav_menu": {},
   "number_sections": true,
   "sideBar": true,
   "skip_h1_title": false,
   "title_cell": "Table of Contents",
   "title_sidebar": "Contents",
   "toc_cell": false,
   "toc_position": {},
   "toc_section_display": true,
   "toc_window_display": false
  },
  "varInspector": {
   "cols": {
    "lenName": 16,
    "lenType": 16,
    "lenVar": 40
   },
   "kernels_config": {
    "python": {
     "delete_cmd_postfix": "",
     "delete_cmd_prefix": "del ",
     "library": "var_list.py",
     "varRefreshCmd": "print(var_dic_list())"
    },
    "r": {
     "delete_cmd_postfix": ") ",
     "delete_cmd_prefix": "rm(",
     "library": "var_list.r",
     "varRefreshCmd": "cat(var_dic_list()) "
    }
   },
   "types_to_exclude": [
    "module",
    "function",
    "builtin_function_or_method",
    "instance",
    "_Feature"
   ],
   "window_display": false
  }
 },
 "nbformat": 4,
 "nbformat_minor": 2
}
