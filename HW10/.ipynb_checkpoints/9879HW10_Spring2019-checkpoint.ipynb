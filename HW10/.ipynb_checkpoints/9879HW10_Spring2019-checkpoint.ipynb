{
 "cells": [
  {
   "cell_type": "markdown",
   "metadata": {},
   "source": [
    "# Chenyu Zhao\n",
    "### R version: 3.5.1"
   ]
  },
  {
   "cell_type": "markdown",
   "metadata": {},
   "source": [
    "# MTH9879 Homework 10\n",
    "\n",
    "Assigned: April 11, 2019.\n",
    "Due: April 25, 2019 by 6pm. \n",
    "\n",
    "Late homework **will not be accepted**.\n",
    "\n",
    "$$\n",
    "\\newcommand{\\supp}{\\mathrm{supp}}\n",
    "\\newcommand{\\E}{\\mathbb{E}}\n",
    "\\newcommand{\\Eof}[1]{\\mathbb{E}\\left[ #1 \\right]}\n",
    "\\def\\Cov{{ \\mbox{Cov} }}\n",
    "\\def\\Var{{ \\mbox{Var} }}\n",
    "\\newcommand{\\1}{\\mathbf{1} }\n",
    "\\newcommand{\\PP}{\\mathbb{P} }\n",
    "%\\newcommand{\\Pr}{\\mathrm{Pr} }\n",
    "\\newcommand{\\QQ}{\\mathbb{Q} }\n",
    "\\newcommand{\\RR}{\\mathbb{R} }\n",
    "\\newcommand{\\DD}{\\mathbb{D} }\n",
    "\\newcommand{\\HH}{\\mathbb{H} }\n",
    "\\newcommand{\\spn}{\\mathrm{span} }\n",
    "\\newcommand{\\cov}{\\mathrm{cov} }\n",
    "\\newcommand{\\sgn}{\\mathrm{sgn} }\n",
    "\\newcommand{\\HS}{\\mathcal{L}_{\\mathrm{HS}} }\n",
    "%\\newcommand{\\HS}{\\mathrm{HS} }\n",
    "\\newcommand{\\trace}{\\mathrm{trace} }\n",
    "\\newcommand{\\LL}{\\mathcal{L} }\n",
    "%\\newcommand{\\LL}{\\mathrm{L} }\n",
    "\\newcommand{\\s}{\\mathcal{S} }\n",
    "\\newcommand{\\ee}{\\mathcal{E} }\n",
    "\\newcommand{\\ff}{\\mathcal{F} }\n",
    "\\newcommand{\\hh}{\\mathcal{H} }\n",
    "\\newcommand{\\bb}{\\mathcal{B} }\n",
    "\\newcommand{\\dd}{\\mathcal{D} }\n",
    "\\newcommand{\\g}{\\mathcal{G} }\n",
    "\\newcommand{\\p}{\\partial}\n",
    "\\newcommand{\\half}{\\frac{1}{2} }\n",
    "\\newcommand{\\T}{\\mathcal{T} }\n",
    "\\newcommand{\\bi}{\\begin{itemize}}\n",
    "\\newcommand{\\ei}{\\end{itemize}}\n",
    "\\newcommand{\\beq}{\\begin{equation}}\n",
    "\\newcommand{\\eeq}{\\end{equation}}\n",
    "\\newcommand{\\beas}{\\begin{eqnarray*}}\n",
    "\\newcommand{\\eeas}{\\end{eqnarray*}}\n",
    "\\newcommand{\\cO}{\\mathcal{O}}\n",
    "\\newcommand{\\cC}{\\mathcal{C}}\n",
    "\\newcommand{\\cF}{\\mathcal{F}}\n",
    "\\newcommand{\\cL}{\\mathcal{L}}\n",
    "\\newcommand{\\BS}{\\text{BS}}\n",
    "$$"
   ]
  },
  {
   "cell_type": "markdown",
   "metadata": {},
   "source": [
    "<font color = \"red\">Homework is to be done by each student individually.  To receive full credit, you must email a completed copy of this Jupyter notebook to Yassine Ghalane (yassine.ghalem@gmail.com), Victor Istrakov (stavka@gmail.com), and Tai-Ho Wang (tai-ho.wang@baruch.cuny.edu) by the due date and time.  All R-code must run correctly and solutions must be written up neatly in Markdown/LaTeX format.\n",
    "\n",
    "<font color=\"blue\">If you encounter problems with Markdown/LaTeX or Jupyter notebook, please contact your TAs."
   ]
  },
  {
   "cell_type": "markdown",
   "metadata": {},
   "source": [
    "## Numerical solution of Fredholm equation"
   ]
  },
  {
   "cell_type": "markdown",
   "metadata": {},
   "source": [
    "### 1. (12 points)\n",
    "Consider the Fredholm equation (7) in Lecture 10:\n",
    "\n",
    "$$\n",
    "\\int_0^T{G}(|t-s|)\\,dx_s =\\text{const.}\\qquad\\text{for all $t\\in [0,T]$.}\n",
    "$$\n",
    "\n",
    "Define $t_i:={i}\\frac T{N}$. One way to discretize this integral equation is as follows:\n",
    "\n",
    "$$\n",
    "\\sum_{j=1}^N G_{ij}\\,v_j=\\text{const.}\n",
    "$$\n",
    "\n",
    "where $v_j=x_{t_{j}}-x_{t_{j-1}}$ and\n",
    "\n",
    "<a name=\"eq:1\"></a>(1)\n",
    "$$\n",
    "G_{ij}=\n",
    "\\int_{t_{i-1}}^{t_i}\\,\\int_{t_{j-1}}^{t_j}\\,G(|t-s|)\\,ds\\,dt.\n",
    "$$\n",
    "\n",
    "(a) Derive an explicit expression for the $G_{ij}$ in the case\n",
    "$$\n",
    "G(\\tau)=\\frac {1}{(1+\\tau)^2}.\n",
    "$$\n",
    "You will need to compute separate expressions for the cases $i \\neq j$ and $i=j$.\n",
    "\n",
    "(b) With $N=512$, use matrix algebra to solve equation [(1)](#eq:1) numerically with this decay kernel.\n",
    "\n",
    "(c) Plot your results - you should end up with something like the top figure in Figure 2 of Lecture 10.\n",
    "\n"
   ]
  },
  {
   "cell_type": "markdown",
   "metadata": {},
   "source": [
    "### Answer\n",
    "\n",
    "(a)\n",
    "\n",
    "when $i=j$,\n",
    "\n",
    "$$\n",
    "\\begin{split}\n",
    "G_{ii}&=\\int_{t_{i-1}}^{t_{i}}\\int_{t_{i-1}}^{t_{i}}\\frac{1}{(1+|t-s|)^2}ds dt\\\\\n",
    "    &=\\int_{t_{i-1}}^{t_{i}}\\int_{t_{i-1}}^{t}\\frac{1}{(1+t-s)^2}ds dt+\\int_{t_{i-1}}^{t_{i}}\\int_{t}^{t_{i}}\\frac{1}{(1+s-t)^2}ds dt\\\\\n",
    "    &=2(t_i-t_{i-1})-2\\ln(1+t_i-t_{i-1})\\\\\n",
    "    &=2\\frac TN-2\\ln(1+\\frac TN)\n",
    "\\end{split}\n",
    "$$\n",
    "\n",
    "when $i\\ne j$, assume $i>j$, then $t>s$,\n",
    "$$\n",
    "\\begin{split}\n",
    "G_{ij}&=\\int_{t_{i-1}}^{t_{i}}\\int_{t_{j-1}}^{t_{j}}\\frac{1}{(1+t-s)^2}ds dt\\\\\n",
    "    &=\\ln(\\frac{1+t_i-t_j}{1+t_{i-1}-t_j})-\\ln(\\frac{1+t_i-t_{j-1}}{1+t_{i-1}-t_{j-1}})\\\\\n",
    "    &=\\ln\\left(\\frac{(N+(i-j)T)^2}{(N+(i-j+1)T)(N+(i-j-1)T)}  \\right)\n",
    "\\end{split}\n",
    "$$"
   ]
  },
  {
   "cell_type": "markdown",
   "metadata": {},
   "source": [
    "(b)"
   ]
  },
  {
   "cell_type": "code",
   "execution_count": 10,
   "metadata": {
    "ExecuteTime": {
     "end_time": "2019-04-13T14:11:49.697923Z",
     "start_time": "2019-04-13T14:11:49.337Z"
    }
   },
   "outputs": [],
   "source": [
    "N<-512\n",
    "\n",
    "G<-function(i,j,N){\n",
    "    if(i==j){\n",
    "        return (2/N-2*log(1+1/N))\n",
    "    }\n",
    "    \n",
    "    else{\n",
    "        if(j>i){\n",
    "            temp<-i\n",
    "            i<-j \n",
    "            j<-temp\n",
    "        }\n",
    "        return (log((N+i-j)*(N+i-j)/(N+i-j+1)/(N+i-j-1)))\n",
    "    }\n",
    "}\n",
    "\n",
    "Gmatrix<-matrix(0,N,N)\n",
    "for(i in 1:N){\n",
    "    for(j in 1:N){\n",
    "        Gmatrix[i,j]=G(i,j,N)\n",
    "    }\n",
    "}\n",
    "\n",
    "cons<-rep(1/10000,N)\n",
    "\n",
    "v<-solve(Gmatrix,cons)"
   ]
  },
  {
   "cell_type": "markdown",
   "metadata": {},
   "source": [
    "(c)"
   ]
  },
  {
   "cell_type": "code",
   "execution_count": 11,
   "metadata": {
    "ExecuteTime": {
     "end_time": "2019-04-13T14:11:51.015035Z",
     "start_time": "2019-04-13T14:11:50.388Z"
    }
   },
   "outputs": [
    {
     "data": {
      "image/png": "[encoded data removed]",
      "text/plain": [
       "plot without title"
      ]
     },
     "metadata": {},
     "output_type": "display_data"
    }
   ],
   "source": [
    "plot((1:N)/N,v,type=\"l\",col='red',xlab = 'time',ylab = 'v')"
   ]
  },
  {
   "cell_type": "markdown",
   "metadata": {},
   "source": [
    "## Optimal interval VWAP strategy in the square-root model"
   ]
  },
  {
   "cell_type": "markdown",
   "metadata": {},
   "source": [
    "### 2. (12 points)\n",
    "\n",
    "Consider equation (11) of Lecture 10 for the cost of liquidation using interval VWAPs:\n",
    "\n",
    "$$\n",
    "\\cC=\\sum_{j=1}^m\\,C_{jj}+\\sum_{i< j}^m\\,C_{ji}.\n",
    "$$\n",
    "\n",
    "(a) With $m=3$ (that is 3 interval VWAP slices), and assuming the square-root process where\n",
    "\n",
    "$$\n",
    "h(v)=\\frac  3 4 \\sigma\\,\\sqrt{\\frac{v}{V}} =\\frac  3 4 \\sigma\\,\\sqrt{\\frac{\\dot x}{V}}, \n",
    "\\quad \\mbox{ and } \\quad\n",
    "G(\\tau)=1/\\sqrt{\\tau},\n",
    "$$\n",
    "\n",
    "compute explicit expressions for the matrix elements $C_{ji}$ in terms of $x_1$, $x_2$, $t_1$, and $t_2$ (noting that $t_0=0$ and $t_3=T$).\n",
    "\n",
    "(b) Minimize the resulting expression for the expected cost of liquidation numerically to find optimal choices of $x_1$ and $x_2$ when $t_1=T/3$, and $t_2=2 \\,T/3$.\n",
    "\n",
    "(c) What is the percentage saving from trading with the 3-slice strategy relative to a VWAP?\n",
    "\n",
    "(d) Explain to your non-mathematical manager why this strategy has lower expected cost."
   ]
  },
  {
   "cell_type": "markdown",
   "metadata": {},
   "source": [
    "### Answer \n",
    "\n",
    "(a)\n",
    "\n",
    "according to lecture, plug in square-root process given, we have\n",
    "\n",
    "$$\n",
    "\\begin{split}\n",
    "C_{ii}&=\\frac{x_i}{t_{i}-t_{i-1}}\\,h(v_i)\\,\\int_{t_{i-1}}^{t_i}\\,dt\\,\\int_{t_{i-1}}^{t}\\,\\frac{1}{\\sqrt{t-s}}\\,ds \\\\\n",
    "&=\\frac{4}{3}\\,x_i\\,h(v_i)\\,\\sqrt{t_i-t_{i-1}}.\\\\\n",
    "&=\\frac{\\sigma}{\\sqrt{V}}x_i^{3/2}\n",
    "\\end{split}\n",
    "$$\n",
    "\n",
    "$$\n",
    "\\begin{split}\n",
    "C_{ji}&=\\frac{x_j}{t_{j}-t_{j-1}}\\,h(v_i)\\,\\int_{t_{j-1}}^{t_j}\\,dt\\,\\int_{t_{i-1}}^{t_i}\\,\\frac{1}{\\sqrt{t-s}}\\,ds\\\\\n",
    "&=\n",
    "\\frac{4}{3}\\,x_j\\,h(v_i)\\times \\frac{ \\left(t_{j}-t_{i-1}\\right)^{3/2} \n",
    "-\\left(t_{j}-t_{i}\\right)^{3/2}\n",
    "-\\left(t_{j-1}-t_{i-1}\\right)^{3/2}\n",
    "+\\left(t_{j-1}-t_{i}\\right)^{3/2} }{t_j-t_{j-1}}\\\\\n",
    "&=\n",
    "\\frac{\\sigma}{\\sqrt{V}}\\,x_j\\,\\sqrt{x_i}\\times \\frac{ \\left(t_{j}-t_{i-1}\\right)^{3/2} \n",
    "-\\left(t_{j}-t_{i}\\right)^{3/2}\n",
    "-\\left(t_{j-1}-t_{i-1}\\right)^{3/2}\n",
    "+\\left(t_{j-1}-t_{i}\\right)^{3/2} }{(t_j-t_{j-1})\\sqrt{t_i-t_{i-1}}}\n",
    "\\end{split}\n",
    "$$\n",
    "\n",
    "\n",
    "plug in proper i, j , we have \n",
    "\n",
    "$$\n",
    "\\begin{split}\n",
    "C_{11}&=\\frac{\\sigma}{\\sqrt{V}}x_1^{3/2}\\\\\n",
    "C_{22}&=\\frac{\\sigma}{\\sqrt{V}}x_2^{3/2}\\\\\n",
    "C_{33}&=\\frac{\\sigma}{\\sqrt{V}}(X-x_1-x_2)^{3/2}\\\\\n",
    "C_{21}&=\\sigma x_2 \\sqrt{\\frac {x_1} {V t_1}} \\frac {t_2^{\\frac 32} - \\left(t_2 - t_1\\right)^{\\frac 32} - t_1^{\\frac 32}} {t_2 - t_1} \\\\ \n",
    "C_{31}&=\\sigma { \\left( X - x_1 - x_2 \\right) } \\sqrt{\\frac {x_1} {V t_1}} \\frac {T^{\\frac 32} - \\left(T - t_1\\right)^{\\frac 32} - t_2^{\\frac 32} + \\left(t_2 - t_1\\right)^{\\frac 32}} {T - t_2} \\\\ \n",
    "C_{32}&=\\sigma { \\left( X - x_1 - x_2 \\right) } \\sqrt{\\frac {x_2} {V (t_2 - t_1)}} \\frac {\\left(T - t_1\\right)^{\\frac 32} - \\left(T - t_2\\right)^{\\frac 32} - \\left(t_2 - t_1\\right)^{\\frac 32}} {T - t_2}\n",
    "\\end{split}\n",
    "$$"
   ]
  },
  {
   "cell_type": "markdown",
   "metadata": {},
   "source": [
    "(b)\n",
    "\n",
    "plug in $t_1=\\frac T3$ and $t_2=\\frac {2T}{3}$\n",
    "\n",
    "$$\n",
    "\\begin{split}\n",
    "C_{11} &=\\frac{\\sigma}{\\sqrt{V}} x_1^{3/2} \\\\\n",
    "C_{22} &= \\frac{\\sigma}{\\sqrt{V}} x_2^{3/2} \\\\\n",
    "C_{33} &= \\frac{\\sigma}{\\sqrt{V}} (X-x_1-x_2)^{3/2} \\\\\n",
    "C_{21} &= (2\\sqrt{2}-2)\\frac{\\sigma}{\\sqrt{V}}x_2\\sqrt{x_1}\\\\\n",
    "C_{31} &= (3\\sqrt{3}-4\\sqrt{2}+1)\\frac{\\sigma}{\\sqrt{V}}(X-x_1-x_2)\\sqrt{x_1}\\\\\n",
    "C_{32} &= (2\\sqrt{2}-2)\\frac{\\sigma}{\\sqrt{V}}(X-x_1-x_2)\\sqrt{x_2}\\\\\n",
    "\\end{split}\n",
    "$$\n",
    "\n",
    "we use R to minimize total cost $\\cC=\\sum_{j=1}^m\\,C_{jj}+\\sum_{i< j}^m\\,C_{ji}.$"
   ]
  },
  {
   "cell_type": "code",
   "execution_count": 20,
   "metadata": {
    "ExecuteTime": {
     "end_time": "2019-04-13T14:58:52.339199Z",
     "start_time": "2019-04-13T14:58:52.247Z"
    }
   },
   "outputs": [
    {
     "name": "stdout",
     "output_type": "stream",
     "text": [
      "[1] \"optimal value for x1 is: \"\n",
      "[1] 0.6470551\n",
      "[1] \"optimal value for x2 is: \"\n",
      "[1] 1.779443e-14\n",
      "[1] \"the total cost is: \"\n",
      "[1] 0.8832821\n"
     ]
    }
   ],
   "source": [
    "options(warn=-1)\n",
    "\n",
    "cost<-function(x){\n",
    "    c11<-x[1]^1.5\n",
    "    c22<-x[2]^1.5\n",
    "    c33<-(1-x[1]-x[2])^1.5\n",
    "    c21<-(sqrt(8)-2)*x[2]*sqrt(x[1])\n",
    "    c31<-(sqrt(27)-sqrt(32)+1)*(1-x[1]-x[2])*sqrt(x[1])\n",
    "    c32<-(sqrt(8)-2)*(1-x[1]-x[2])*sqrt(x[2])\n",
    "    return (c11+c22+c33+c21+c31+c32)\n",
    "}\n",
    "\n",
    "res<-optim(c(0.33,0.33), cost)\n",
    "print(\"optimal value for x1 is: \" )\n",
    "print(res$par[1])\n",
    "print(\"optimal value for x2 is: \")\n",
    "print(res$par[2] )\n",
    "print(\"the total cost is: \")\n",
    "print(res$value)"
   ]
  },
  {
   "cell_type": "markdown",
   "metadata": {},
   "source": [
    "(c)\n",
    "\n",
    "from the lecture note, \n",
    "\n",
    "$$\n",
    "\\cC_{VWAP}=\\frac{\\sigma}{\\sqrt{V}}X^{3/2}\n",
    "$$\n",
    "\n",
    "and from (b), we know\n",
    "$$\n",
    "\\cC_{3-slice}=0.8833\\frac{\\sigma}{\\sqrt{V}}X^{3/2}\n",
    "$$\n",
    "\n",
    "the percentage saving is $\\frac{\\cC_{VWAP}-\\cC_{3-slice}}{\\cC_{VWAP}}=11.67\\%$"
   ]
  },
  {
   "cell_type": "markdown",
   "metadata": {},
   "source": [
    "(d)\n",
    "\n",
    "Because market has property of resilience, in 3-slice strategy, we do not trade in second period of time, which gives market a time to cool down(temporary market impact to decay). Thus our rest order suffer less from market impact. While in VWAP strategy, we just let our order suffer from continuously accumulated market impact. "
   ]
  }
 ],
 "metadata": {
  "celltoolbar": "Slideshow",
  "kernelspec": {
   "display_name": "R",
   "language": "R",
   "name": "ir"
  },
  "language_info": {
   "codemirror_mode": "r",
   "file_extension": ".r",
   "mimetype": "text/x-r-source",
   "name": "R",
   "pygments_lexer": "r",
   "version": "3.5.1"
  },
  "latex_envs": {
   "LaTeX_envs_menu_present": true,
   "autoclose": true,
   "autocomplete": true,
   "bibliofile": "biblio.bib",
   "cite_by": "apalike",
   "current_citInitial": 1,
   "eqLabelWithNumbers": true,
   "eqNumInitial": 1,
   "hotkeys": {
    "equation": "Ctrl-E",
    "itemize": "Ctrl-I"
   },
   "labels_anchors": false,
   "latex_user_defs": false,
   "report_style_numbering": false,
   "user_envs_cfg": false
  },
  "toc": {
   "base_numbering": 1,
   "nav_menu": {},
   "number_sections": true,
   "sideBar": true,
   "skip_h1_title": false,
   "title_cell": "Table of Contents",
   "title_sidebar": "Contents",
   "toc_cell": false,
   "toc_position": {},
   "toc_section_display": true,
   "toc_window_display": false
  },
  "varInspector": {
   "cols": {
    "lenName": 16,
    "lenType": 16,
    "lenVar": 40
   },
   "kernels_config": {
    "python": {
     "delete_cmd_postfix": "",
     "delete_cmd_prefix": "del ",
     "library": "var_list.py",
     "varRefreshCmd": "print(var_dic_list())"
    },
    "r": {
     "delete_cmd_postfix": ") ",
     "delete_cmd_prefix": "rm(",
     "library": "var_list.r",
     "varRefreshCmd": "cat(var_dic_list()) "
    }
   },
   "types_to_exclude": [
    "module",
    "function",
    "builtin_function_or_method",
    "instance",
    "_Feature"
   ],
   "window_display": false
  }
 },
 "nbformat": 4,
 "nbformat_minor": 1
}
