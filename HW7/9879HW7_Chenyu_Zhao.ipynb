{
 "cells": [
  {
   "cell_type": "markdown",
   "metadata": {},
   "source": [
    "# Chenyu Zhao\n",
    "#### R version: 3.5.1"
   ]
  },
  {
   "cell_type": "markdown",
   "metadata": {},
   "source": [
    "# MTH9879 Homework 7\n",
    "\n",
    "Assigned: March 21, 2019.\n",
    "Due: April 4, 2019 by 6pm. \n",
    "\n",
    "Late homework **will not be accepted**.\n",
    "\n",
    "$$\n",
    "\\newcommand{\\supp}{\\mathrm{supp}}\n",
    "\\newcommand{\\E}{\\mathbb{E}}\n",
    "\\newcommand{\\Eof}[1]{\\mathbb{E}\\left[ #1 \\right]}\n",
    "\\def\\Cov{{ \\mbox{Cov} }}\n",
    "\\def\\Var{{ \\mbox{Var} }}\n",
    "\\newcommand{\\1}{\\mathbf{1} }\n",
    "\\newcommand{\\PP}{\\mathbb{P} }\n",
    "%\\newcommand{\\Pr}{\\mathrm{Pr} }\n",
    "\\newcommand{\\QQ}{\\mathbb{Q} }\n",
    "\\newcommand{\\RR}{\\mathbb{R} }\n",
    "\\newcommand{\\DD}{\\mathbb{D} }\n",
    "\\newcommand{\\HH}{\\mathbb{H} }\n",
    "\\newcommand{\\spn}{\\mathrm{span} }\n",
    "\\newcommand{\\cov}{\\mathrm{cov} }\n",
    "\\newcommand{\\sgn}{\\mathrm{sgn} }\n",
    "\\newcommand{\\HS}{\\mathcal{L}_{\\mathrm{HS}} }\n",
    "%\\newcommand{\\HS}{\\mathrm{HS} }\n",
    "\\newcommand{\\trace}{\\mathrm{trace} }\n",
    "\\newcommand{\\LL}{\\mathcal{L} }\n",
    "%\\newcommand{\\LL}{\\mathrm{L} }\n",
    "\\newcommand{\\s}{\\mathcal{S} }\n",
    "\\newcommand{\\ee}{\\mathcal{E} }\n",
    "\\newcommand{\\ff}{\\mathcal{F} }\n",
    "\\newcommand{\\hh}{\\mathcal{H} }\n",
    "\\newcommand{\\bb}{\\mathcal{B} }\n",
    "\\newcommand{\\dd}{\\mathcal{D} }\n",
    "\\newcommand{\\g}{\\mathcal{G} }\n",
    "\\newcommand{\\p}{\\partial}\n",
    "\\newcommand{\\half}{\\frac{1}{2} }\n",
    "\\newcommand{\\T}{\\mathcal{T} }\n",
    "\\newcommand{\\bi}{\\begin{itemize}}\n",
    "\\newcommand{\\ei}{\\end{itemize}}\n",
    "\\newcommand{\\beq}{\\begin{equation}}\n",
    "\\newcommand{\\eeq}{\\end{equation}}\n",
    "\\newcommand{\\beas}{\\begin{eqnarray*}}\n",
    "\\newcommand{\\eeas}{\\end{eqnarray*}}\n",
    "\\newcommand{\\cO}{\\mathcal{O}}\n",
    "\\newcommand{\\cF}{\\mathcal{F}}\n",
    "\\newcommand{\\cL}{\\mathcal{L}}\n",
    "\\newcommand{\\BS}{\\text{BS}}\n",
    "$$"
   ]
  },
  {
   "cell_type": "markdown",
   "metadata": {},
   "source": [
    "<font color = \"red\">Homework is to be done by each student individually.  To receive full credit, you must email a completed copy of this Jupyter notebook to Yassine Ghalane (yassine.ghalem@gmail.com), Victor Istrakov (stavka@gmail.com), and Tai-Ho Wang (tai-ho.wang@baruch.cuny.edu) by the due date and time.  All R-code must run correctly and solutions must be written up neatly in Markdown/LaTeX format.\n",
    "\n",
    "<font color=\"blue\">If you encounter problems with Markdown/LaTeX or Jupyter notebook, please contact your TAs."
   ]
  },
  {
   "cell_type": "markdown",
   "metadata": {},
   "source": [
    "### 0. (0 points) \n",
    "Read Sections 4, 5 and 6 of Bouchaud, Farmer and Lillo."
   ]
  },
  {
   "cell_type": "markdown",
   "metadata": {},
   "source": [
    "## Long memory"
   ]
  },
  {
   "cell_type": "markdown",
   "metadata": {},
   "source": [
    "### 1. (6 points)\n",
    "\n",
    "Consider the long memory process\n",
    "\n",
    "$$\n",
    "X_T=\\sum_{i=1}^T\\,\\epsilon_i\n",
    "$$\n",
    "\n",
    "with autocovariance function $\\gamma(\\tau)=\\E[\\epsilon_i\\,\\epsilon_{i-\\tau}] \\sim \\tau^{-\\alpha}$.  Show that as $\\tau \\to \\infty$,\n",
    "\n",
    "$$\n",
    "\\Var[X_{t+\\tau}-X_t] \\sim \\tau ^{2\\,H}\n",
    "$$\n",
    "\n",
    "where the Hurst exponent $H$ is given by\n",
    "\n",
    "$$\n",
    "H=1-\\frac{\\alpha}{2}.\n",
    "$$"
   ]
  },
  {
   "cell_type": "markdown",
   "metadata": {},
   "source": [
    "### Answer\n",
    "\n",
    "$$\n",
    "\\Var[X_{t+\\tau}-X_t]=\\Var(\\sum_{i=t+1}^{t+\\tau}\\epsilon_i)=\\tau+2[(\\tau -1)1^{-\\alpha}+(\\tau-2)2^{-\\alpha}+\\dots+(\\tau-1)^{-\\alpha}]=\\tau+2\\sum_{i=1}^{\\tau-1}\\frac{\\tau-i}{i^\\alpha}\n",
    "$$\n",
    "\n",
    "$$\n",
    "\\sum_{i=1}^{\\tau-1}\\frac{\\tau-i}{i^\\alpha} \\sim \\sum_{i=1}^{\\tau}\\frac{\\tau}{i^\\alpha} \\sim \\tau \\int_0^{\\tau} x^{-\\alpha}dx=\\frac{1}{1-\\alpha}\\tau^{2-\\alpha}\n",
    "$$\n",
    "\n",
    "therefore\n",
    "$$\n",
    "\\Var[X_{t+\\tau}-X_t] \\sim \\tau+\\frac{2}{1-\\alpha}\\tau^{2-\\alpha} \\sim \\tau^{2-\\alpha}\n",
    "$$\n",
    "\n",
    "when $\\alpha < 1$ and $\\tau \\to \\infty$,"
   ]
  },
  {
   "cell_type": "markdown",
   "metadata": {},
   "source": [
    "## MSFT data from Alejandro Ca&ntilde;ete"
   ]
  },
  {
   "cell_type": "markdown",
   "metadata": {},
   "source": [
    "### Set up R environment"
   ]
  },
  {
   "cell_type": "code",
   "execution_count": 1,
   "metadata": {},
   "outputs": [
    {
     "name": "stderr",
     "output_type": "stream",
     "text": [
      "Loading required package: xts\n",
      "Loading required package: zoo\n",
      "\n",
      "Attaching package: ‘zoo’\n",
      "\n",
      "The following objects are masked from ‘package:base’:\n",
      "\n",
      "    as.Date, as.Date.numeric\n",
      "\n"
     ]
    }
   ],
   "source": [
    "library(highfrequency)\n",
    "download.file(url=\"http://mfe.baruch.cuny.edu/wp-content/uploads/2015/03/MSFT130311.rData_.zip\", destfile=\"MSFT130311.zip\")\n",
    "unzip(zipfile=\"MSFT130311.zip\")\n",
    "load(\"MSFT130311.rData\")"
   ]
  },
  {
   "cell_type": "code",
   "execution_count": 2,
   "metadata": {},
   "outputs": [
    {
     "data": {
      "text/html": [
       "<table>\n",
       "<thead><tr><th scope=col>signed.shares</th><th scope=col>trade.price</th></tr></thead>\n",
       "<tbody>\n",
       "\t<tr><td>   -40</td><td>27.91 </td></tr>\n",
       "\t<tr><td>542309</td><td>27.91 </td></tr>\n",
       "\t<tr><td>     2</td><td>27.94 </td></tr>\n",
       "\t<tr><td>    16</td><td>27.94 </td></tr>\n",
       "\t<tr><td>    84</td><td>27.94 </td></tr>\n",
       "\t<tr><td>  -900</td><td>27.91 </td></tr>\n",
       "</tbody>\n",
       "</table>\n"
      ],
      "text/latex": [
       "\\begin{tabular}{r|ll}\n",
       " signed.shares & trade.price\\\\\n",
       "\\hline\n",
       "\t    -40 & 27.91 \\\\\n",
       "\t 542309 & 27.91 \\\\\n",
       "\t      2 & 27.94 \\\\\n",
       "\t     16 & 27.94 \\\\\n",
       "\t     84 & 27.94 \\\\\n",
       "\t   -900 & 27.91 \\\\\n",
       "\\end{tabular}\n"
      ],
      "text/markdown": [
       "\n",
       "| signed.shares | trade.price |\n",
       "|---|---|\n",
       "|    -40 | 27.91  |\n",
       "| 542309 | 27.91  |\n",
       "|      2 | 27.94  |\n",
       "|     16 | 27.94  |\n",
       "|     84 | 27.94  |\n",
       "|   -900 | 27.91  |\n",
       "\n"
      ],
      "text/plain": [
       "  signed.shares trade.price\n",
       "1    -40        27.91      \n",
       "2 542309        27.91      \n",
       "3      2        27.94      \n",
       "4     16        27.94      \n",
       "5     84        27.94      \n",
       "6   -900        27.91      "
      ]
     },
     "metadata": {},
     "output_type": "display_data"
    }
   ],
   "source": [
    "head(msft130311.inet)"
   ]
  },
  {
   "cell_type": "markdown",
   "metadata": {},
   "source": [
    "### 2. (6 points)\n",
    "\n",
    "(a) Generate the series *tradeSign* of trade signs from the *msft130311.inet* data frame.\n",
    "\n",
    "(b) Fit an AR(1) model to the *tradeSign*  data to give the forecast:\n",
    "    $$\n",
    "    \\hat \\epsilon^{(1)}_t=\\phi_1\\,\\epsilon_{t-1}\n",
    "    $$\n",
    "\n",
    "(c) How does $\\phi_1$ relate to the autocorrelation coefficients of *tradeSign*?  What is the mean-squared error of this AR(1) forecast?\n",
    "\n",
    "(d) Fit an $AR(p)$ model to the *tradeSign* data, allowing R to find the best value of $p$ using the default AIC criterion.  This generates the forecast:\n",
    "    $$\n",
    "    \\hat \\epsilon^{(2)}_t=\\sum_{k=1}^p\\,\\phi_k\\,\\epsilon_{t-k}.\n",
    "    $$\n",
    "\n",
    "(e) What value of $p$ is selected by R?  What is the mean-squared error of this AR(p) forecast?\n"
   ]
  },
  {
   "cell_type": "markdown",
   "metadata": {},
   "source": [
    "### Answer\n",
    "\n",
    "(a)"
   ]
  },
  {
   "cell_type": "code",
   "execution_count": 21,
   "metadata": {},
   "outputs": [
    {
     "data": {
      "text/html": [
       "<ol class=list-inline>\n",
       "\t<li>-1</li>\n",
       "\t<li>1</li>\n",
       "\t<li>1</li>\n",
       "\t<li>1</li>\n",
       "\t<li>1</li>\n",
       "\t<li>-1</li>\n",
       "</ol>\n"
      ],
      "text/latex": [
       "\\begin{enumerate*}\n",
       "\\item -1\n",
       "\\item 1\n",
       "\\item 1\n",
       "\\item 1\n",
       "\\item 1\n",
       "\\item -1\n",
       "\\end{enumerate*}\n"
      ],
      "text/markdown": [
       "1. -1\n",
       "2. 1\n",
       "3. 1\n",
       "4. 1\n",
       "5. 1\n",
       "6. -1\n",
       "\n",
       "\n"
      ],
      "text/plain": [
       "[1] -1  1  1  1  1 -1"
      ]
     },
     "metadata": {},
     "output_type": "display_data"
    }
   ],
   "source": [
    "getTradeSign<-function(data){\n",
    "    res=data$signed.shares>=0\n",
    "    res[res==TRUE]=1\n",
    "    res[res==FALSE]=-1\n",
    "    return (res)\n",
    "}\n",
    "\n",
    "tradeSign=getTradeSign(msft130311.inet)\n",
    "head(tradeSign)"
   ]
  },
  {
   "cell_type": "markdown",
   "metadata": {},
   "source": [
    "(b)"
   ]
  },
  {
   "cell_type": "code",
   "execution_count": 4,
   "metadata": {},
   "outputs": [
    {
     "data": {
      "text/plain": [
       "\n",
       "Call:\n",
       "ar(x = tradeSign, order.max = 1)\n",
       "\n",
       "Coefficients:\n",
       "    1  \n",
       "0.821  \n",
       "\n",
       "Order selected 1  sigma^2 estimated as  0.3236"
      ]
     },
     "metadata": {},
     "output_type": "display_data"
    }
   ],
   "source": [
    "ar1<-ar(tradeSign,order.max = 1)\n",
    "ar1"
   ]
  },
  {
   "cell_type": "markdown",
   "metadata": {},
   "source": [
    "(c)"
   ]
  },
  {
   "cell_type": "code",
   "execution_count": 5,
   "metadata": {},
   "outputs": [
    {
     "data": {
      "text/plain": [
       "\n",
       "Autocorrelations of series ‘tradeSign’, by lag\n",
       "\n",
       "    0     1     2     3     4     5     6     7     8     9    10    11    12 \n",
       "1.000 0.821 0.712 0.643 0.591 0.552 0.518 0.491 0.474 0.455 0.434 0.419 0.403 \n",
       "   13    14    15    16    17    18    19    20    21    22    23    24    25 \n",
       "0.395 0.387 0.375 0.364 0.352 0.340 0.331 0.324 0.310 0.300 0.293 0.285 0.279 \n",
       "   26    27    28    29    30    31    32    33    34    35    36    37    38 \n",
       "0.275 0.270 0.265 0.257 0.250 0.246 0.241 0.230 0.217 0.207 0.202 0.200 0.199 \n",
       "   39    40    41    42 \n",
       "0.193 0.189 0.180 0.175 "
      ]
     },
     "metadata": {},
     "output_type": "display_data"
    },
    {
     "data": {
      "image/png": "[encoded data removed]",
      "text/plain": [
       "Plot with title “Series  tradeSign”"
      ]
     },
     "metadata": {},
     "output_type": "display_data"
    }
   ],
   "source": [
    "library(repr)\n",
    "options(repr.plot.width=5,repr.plot.height=5)\n",
    "\n",
    "acf(tradeSign, plot=F)\n",
    "acf(tradeSign)"
   ]
  },
  {
   "cell_type": "markdown",
   "metadata": {},
   "source": [
    "If the AR(1) model is correct, the acf(k) should be $\\phi^k$. But here only acf(1) matches the estimated $\\phi$. And the higher orders have long memory, not exponentially decay.\n",
    "\n",
    "mean-squared error of this AR(1) is 0.3236"
   ]
  },
  {
   "cell_type": "markdown",
   "metadata": {},
   "source": [
    "(d)"
   ]
  },
  {
   "cell_type": "code",
   "execution_count": 6,
   "metadata": {},
   "outputs": [],
   "source": [
    "#install.packages(\"forecast\")"
   ]
  },
  {
   "cell_type": "code",
   "execution_count": 7,
   "metadata": {},
   "outputs": [
    {
     "data": {
      "text/plain": [
       "Series: tradeSign \n",
       "ARIMA(14,0,0) with non-zero mean \n",
       "\n",
       "Coefficients:\n",
       "         ar1     ar2     ar3     ar4     ar5     ar6      ar7     ar8     ar9\n",
       "      0.6965  0.0375  0.0419  0.0184  0.0237  0.0054  -0.0006  0.0305  0.0112\n",
       "s.e.  0.0079  0.0096  0.0096  0.0096  0.0096  0.0096   0.0096  0.0096  0.0096\n",
       "         ar10    ar11     ar12    ar13    ar14    mean\n",
       "      -0.0080  0.0156  -0.0131  0.0238  0.0198  0.0853\n",
       "s.e.   0.0096  0.0097   0.0097  0.0096  0.0079  0.0452\n",
       "\n",
       "sigma^2 estimated as 0.3116:  log likelihood=-13415.27\n",
       "AIC=26862.54   AICc=26862.58   BIC=26985.49"
      ]
     },
     "metadata": {},
     "output_type": "display_data"
    }
   ],
   "source": [
    "library(forecast)\n",
    "ar2<-auto.arima(tradeSign,max.p=50,max.d=0,max.q=0,ic=\"aic\")\n",
    "ar2"
   ]
  },
  {
   "cell_type": "markdown",
   "metadata": {},
   "source": [
    "(e)\n",
    "\n",
    "The selected order is 14."
   ]
  },
  {
   "cell_type": "code",
   "execution_count": 8,
   "metadata": {},
   "outputs": [
    {
     "data": {
      "text/plain": [
       "\n",
       "Call:\n",
       "ar(x = tradeSign, order.max = 14)\n",
       "\n",
       "Coefficients:\n",
       "      1        2        3        4        5        6        7        8  \n",
       " 0.6962   0.0375   0.0422   0.0186   0.0236   0.0048   0.0002   0.0302  \n",
       "      9       10       11       12       13       14  \n",
       " 0.0112  -0.0080   0.0154  -0.0127   0.0237   0.0199  \n",
       "\n",
       "Order selected 14  sigma^2 estimated as  0.3116"
      ]
     },
     "metadata": {},
     "output_type": "display_data"
    }
   ],
   "source": [
    "ar3<-ar(tradeSign,order.max =14)\n",
    "ar3"
   ]
  },
  {
   "cell_type": "markdown",
   "metadata": {},
   "source": [
    "mean-squared error of this AR(1) is 0.3116"
   ]
  },
  {
   "cell_type": "markdown",
   "metadata": {},
   "source": [
    "### 3. (8 points)\n",
    "\n",
    "(a) Bin the AR(p) forecast data from the previous problem by forecast sign with bin-breaks from -1.01 to 1.01 in steps of 0.02.\n",
    "\n",
    "(b) Plot the average actual order sign in each bin against the average forecast order sign.  What is the slope of the resulting graph? (Hint: use the R function *lm*).\n",
    "\n",
    "(c) If the expected order sign is $\\hat \\epsilon$, what is the probability $p$ that the next trade will be a market buy?"
   ]
  },
  {
   "cell_type": "markdown",
   "metadata": {},
   "source": [
    "### Answer\n",
    "\n",
    "(a)"
   ]
  },
  {
   "cell_type": "code",
   "execution_count": 22,
   "metadata": {},
   "outputs": [],
   "source": [
    "coef<-ar3$ar\n",
    "order<-ar3$order\n",
    "len<-length(tradeSign)\n",
    "\n",
    "forecast<-c()\n",
    "for (i in 1:(len-order)){\n",
    "    forecast<-c(forecast,sum(coef*tradeSign[(i+order-1):i]))\n",
    "}\n",
    "tradeSign<-tradeSign[(1+order):len]"
   ]
  },
  {
   "cell_type": "code",
   "execution_count": 10,
   "metadata": {},
   "outputs": [
    {
     "data": {
      "image/png": "[encoded data removed]",
      "text/plain": [
       "Plot with title “Histogram of forecast”"
      ]
     },
     "metadata": {},
     "output_type": "display_data"
    }
   ],
   "source": [
    "hist(forecast, breaks=seq(-1.01,1.01,by=0.02))"
   ]
  },
  {
   "cell_type": "markdown",
   "metadata": {},
   "source": [
    "(b)"
   ]
  },
  {
   "cell_type": "code",
   "execution_count": 23,
   "metadata": {},
   "outputs": [
    {
     "data": {
      "text/plain": [
       "\n",
       "Call:\n",
       "lm(formula = avgActual ~ avgForecast)\n",
       "\n",
       "Residuals:\n",
       "     Min       1Q   Median       3Q      Max \n",
       "-1.43119 -0.02477  0.01936  0.07024  0.55501 \n",
       "\n",
       "Coefficients:\n",
       "             Estimate Std. Error t value Pr(>|t|)    \n",
       "(Intercept) -0.009603   0.032539  -0.295    0.769    \n",
       "avgForecast  0.982587   0.045694  21.504   <2e-16 ***\n",
       "---\n",
       "Signif. codes:  0 ‘***’ 0.001 ‘**’ 0.01 ‘*’ 0.05 ‘.’ 0.1 ‘ ’ 1\n",
       "\n",
       "Residual standard error: 0.2324 on 49 degrees of freedom\n",
       "  (50 observations deleted due to missingness)\n",
       "Multiple R-squared:  0.9042,\tAdjusted R-squared:  0.9022 \n",
       "F-statistic: 462.4 on 1 and 49 DF,  p-value: < 2.2e-16\n"
      ]
     },
     "metadata": {},
     "output_type": "display_data"
    },
    {
     "data": {
      "image/png": "[encoded data removed]",
      "text/plain": [
       "plot without title"
      ]
     },
     "metadata": {},
     "output_type": "display_data"
    }
   ],
   "source": [
    "avgActual<-c()\n",
    "avgForecast<-c()\n",
    "i<--1.01\n",
    "while(i<1.01){\n",
    "    x<-mean(tradeSign[forecast>=i & forecast<i+0.02])\n",
    "    y<-mean(forecast[forecast>=i & forecast<i+0.02])\n",
    "    avgActual<-c(avgActual,x)\n",
    "    avgForecast<-c(avgForecast,y)\n",
    "    i<-i+0.02\n",
    "}\n",
    "\n",
    "fit <- lm(avgActual ~ avgForecast)\n",
    "summary(fit)\n",
    "\n",
    "plot(avgForecast,avgActual,xlab=\"average forecast order sign\", ylab=\"average actual order sign\",col=\"red\")\n",
    "abline(fit)"
   ]
  },
  {
   "cell_type": "markdown",
   "metadata": {},
   "source": [
    "The slope of linear model is 0.982587."
   ]
  },
  {
   "cell_type": "markdown",
   "metadata": {},
   "source": [
    "(c)\n",
    "\n",
    "$$\n",
    "\\hat \\epsilon=1\\times p-1\\times(1-p)\n",
    "$$\n",
    "\n",
    "Therefore\n",
    "$$\n",
    "p=\\frac{\\hat \\epsilon+1}{2}\n",
    "$$"
   ]
  }
 ],
 "metadata": {
  "celltoolbar": "Slideshow",
  "kernelspec": {
   "display_name": "R",
   "language": "R",
   "name": "ir"
  },
  "language_info": {
   "codemirror_mode": "r",
   "file_extension": ".r",
   "mimetype": "text/x-r-source",
   "name": "R",
   "pygments_lexer": "r",
   "version": "3.5.1"
  }
 },
 "nbformat": 4,
 "nbformat_minor": 1
}
