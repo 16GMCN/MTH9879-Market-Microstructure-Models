{
 "cells": [
  {
   "cell_type": "markdown",
   "metadata": {},
   "source": [
    "# Chenyu Zhao\n",
    "#### R version: 3.5.1"
   ]
  },
  {
   "cell_type": "markdown",
   "metadata": {},
   "source": [
    "# MTH9879 Homework 5\n",
    "\n",
    "Assigned: February 28, 2019.\n",
    "Due: March 14, 2019 by 6pm. \n",
    "\n",
    "Late homework **will not be accepted**.\n",
    "\n",
    "$$\n",
    "\\newcommand{\\supp}{\\mathrm{supp}}\n",
    "\\newcommand{\\E}{\\mathbb{E}}\n",
    "\\newcommand{\\Eof}[1]{\\mathbb{E}\\left[ #1 \\right]}\n",
    "\\def\\Cov{{ \\mbox{Cov} }}\n",
    "\\def\\Var{{ \\mbox{Var} }}\n",
    "\\newcommand{\\1}{\\mathbf{1} }\n",
    "\\newcommand{\\PP}{\\mathbb{P} }\n",
    "%\\newcommand{\\Pr}{\\mathrm{Pr} }\n",
    "\\newcommand{\\QQ}{\\mathbb{Q} }\n",
    "\\newcommand{\\RR}{\\mathbb{R} }\n",
    "\\newcommand{\\DD}{\\mathbb{D} }\n",
    "\\newcommand{\\HH}{\\mathbb{H} }\n",
    "\\newcommand{\\spn}{\\mathrm{span} }\n",
    "\\newcommand{\\cov}{\\mathrm{cov} }\n",
    "\\newcommand{\\sgn}{\\mathrm{sgn} }\n",
    "\\newcommand{\\HS}{\\mathcal{L}_{\\mathrm{HS}} }\n",
    "%\\newcommand{\\HS}{\\mathrm{HS} }\n",
    "\\newcommand{\\trace}{\\mathrm{trace} }\n",
    "\\newcommand{\\LL}{\\mathcal{L} }\n",
    "%\\newcommand{\\LL}{\\mathrm{L} }\n",
    "\\newcommand{\\s}{\\mathcal{S} }\n",
    "\\newcommand{\\ee}{\\mathcal{E} }\n",
    "\\newcommand{\\ff}{\\mathcal{F} }\n",
    "\\newcommand{\\hh}{\\mathcal{H} }\n",
    "\\newcommand{\\bb}{\\mathcal{B} }\n",
    "\\newcommand{\\dd}{\\mathcal{D} }\n",
    "\\newcommand{\\g}{\\mathcal{G} }\n",
    "\\newcommand{\\p}{\\partial}\n",
    "\\newcommand{\\half}{\\frac{1}{2} }\n",
    "\\newcommand{\\T}{\\mathcal{T} }\n",
    "\\newcommand{\\bi}{\\begin{itemize}}\n",
    "\\newcommand{\\ei}{\\end{itemize}}\n",
    "\\newcommand{\\beq}{\\begin{equation}}\n",
    "\\newcommand{\\eeq}{\\end{equation}}\n",
    "\\newcommand{\\beas}{\\begin{eqnarray*}}\n",
    "\\newcommand{\\eeas}{\\end{eqnarray*}}\n",
    "\\newcommand{\\cO}{\\mathcal{O}}\n",
    "\\newcommand{\\cF}{\\mathcal{F}}\n",
    "\\newcommand{\\cL}{\\mathcal{L}}\n",
    "\\newcommand{\\BS}{\\text{BS}}\n",
    "$$"
   ]
  },
  {
   "cell_type": "markdown",
   "metadata": {},
   "source": [
    "<font color = \"red\">Homework is to be done by each student individually.  To receive full credit, you must email a completed copy of this Jupyter notebook to Yassine Ghalane (yassine.ghalem@gmail.com), Victor Istrakov (stavka@gmail.com), and Tai-Ho Wang (tai-ho.wang@baruch.cuny.edu) by the due date and time.  All R-code must run correctly and solutions must be written up neatly in Markdown/LaTeX format.\n",
    "\n",
    "<font color=\"blue\">If you encounter problems with Markdown/LaTeX or Jupyter notebook, please contact your TAs."
   ]
  },
  {
   "cell_type": "markdown",
   "metadata": {},
   "source": [
    "### 0. (0 points) \n",
    "Read Chapter 7 of Hasbrouck, Chapters 4 and 5 of Foucault, Pagano and R&ouml;ell, and Section 3 of Bouchaud, Farmer and Lillo."
   ]
  },
  {
   "cell_type": "markdown",
   "metadata": {},
   "source": [
    "## The Kyle (1985) model"
   ]
  },
  {
   "cell_type": "markdown",
   "metadata": {},
   "source": [
    "### 1. (14 points)\n",
    "\n",
    "Suppose that the monopolistic trader in the Kyle (1985) model is not told the true value $\\tilde S$ but is instead given a signal $x=\\tilde S+\\epsilon$ with $\\epsilon \\sim N(0,\\sigma_\\epsilon^2)$, where $\\tilde S$ and $\\epsilon$ are assumed independent.\n",
    "\n",
    "(a) Compute the conditional expectation $\\mathbb{E}[\\tilde S|x]$.\n",
    "\n",
    "(b) If $\\mathcal I$ assumes that the market maker $\\mathcal M$ generates a price function of the form $p=\\mu +\\lambda\\,y$, show that the informed trader's optimal (profit maximizing) demand is given by\n",
    "\n",
    "$$\n",
    "y_i=\\frac{\\phi}{2\\,\\lambda}\\,\\left(x-\\mu\\right)\n",
    "$$\n",
    "\n",
    "where\n",
    "\n",
    "$$\n",
    "\\phi = \\frac{\\sigma^2}{\\sigma^2+\\sigma_\\epsilon^2}.\n",
    "$$\n",
    "\n",
    "(c) Following the derivation from the lecture slides, use the result of (b) to deduce equation (11) in the lecture slides:\n",
    "\n",
    "$$\n",
    "\\lambda=\\frac{\\sigma}{2\\,\\sigma_u}\\,\\sqrt{\\phi}.\n",
    "$$\n"
   ]
  },
  {
   "cell_type": "markdown",
   "metadata": {},
   "source": [
    "### Answer\n",
    "\n",
    "(a)\n",
    "\n",
    "By mode lset up, we have $\\tilde S \\sim N(\\mu,\\sigma^2)$, and $x|\\tilde S \\sim N(\\tilde S,\\sigma_{\\epsilon}^2)$\n",
    "\n",
    "So\n",
    "$$\n",
    "\\tilde S|x \\sim N(\\beta x+(1-\\beta)\\mu,(1-\\beta)\\sigma^2) \n",
    "$$\n",
    "\n",
    "where $\\beta=\\frac{\\tau_x}{\\tau_{\\tilde S}+\\tau_x}=\\frac{\\sigma^2}{\\sigma^2+\\sigma_{\\epsilon}^2}$\n",
    "\n",
    "So\n",
    "$$\n",
    "\\mathbb{E}[\\tilde S|x]=\\beta x+(1-\\beta)\\mu\n",
    "$$"
   ]
  },
  {
   "cell_type": "markdown",
   "metadata": {},
   "source": [
    "(b)\n",
    "\n",
    "The informed trader wants to maximize his profit $\\mathbb{E}[y_i(\\tilde S-p(y))|x]$. Because $y=y_i+y_u$ and $y_u$ is independent of x and has mean 0, we plug in the formula of market makers' price function and take the expectation\n",
    "\n",
    "$$\n",
    "\\mathbb{E}[y_i(\\tilde S-p(y))|x]=\\mathbb{E}[y_i(\\tilde S-\\mu-\\lambda y_i)|x]=y_i(\\beta x+(1-\\beta)\\mu-\\mu-\\lambda y_i)\n",
    "$$\n",
    "\n",
    "It has a quadratic form and reach its maximum value when $y_i=\\frac{\\beta}{2\\lambda}(x-\\mu)$. The definition of $\\beta$ is same from (a) and also same with the definition of $\\phi$ in this question."
   ]
  },
  {
   "cell_type": "markdown",
   "metadata": {},
   "source": [
    "(c)\n",
    "\n",
    "Because competition between market makers, $p(y)=\\mathbb{E}[\\tilde S|y]=\\mu+\\lambda y$. From normal regression\n",
    "\n",
    "$$\n",
    "\\mathbb{E}[\\tilde S|y]=\\mathbb{E}[S]+\\frac{cov(\\tilde S,y)}{var(y)}(y-\\mathbb{E}[y])\n",
    "$$\n",
    "\n",
    "Because $y=y_i+y_u$ and $y_i=\\frac{\\phi}{2\\lambda}(x-\\mu)$, where $x=\\tilde S+\\epsilon$. So $\\mathbb{E}[y]=0$, $cov(\\tilde S,y)=\\frac{\\phi}{2\\lambda}\\sigma^2$, $var(y)=var(y_i)+var(y_u)=\\sigma_u^2+\\frac{\\phi^2}{4\\lambda^2}(\\sigma^2+\\sigma_{\\epsilon}^2)$\n",
    "\n",
    "So we have\n",
    "$$\n",
    "\\frac{\\frac{\\phi}{2\\lambda}\\sigma^2}{\\sigma_u^2+\\frac{\\phi^2}{4\\lambda^2}(\\sigma^2+\\sigma_{\\epsilon}^2)}=\\lambda\n",
    "$$\n",
    "\n",
    "We solve for $\\lambda$\n",
    "$$\n",
    "\\lambda=\\frac{\\sigma}{2\\sigma_u}\\,\\sqrt{\\phi}\n",
    "$$"
   ]
  },
  {
   "cell_type": "markdown",
   "metadata": {},
   "source": [
    "### 2. (2 points) \n",
    "In the Kyle model, if the characteristic uninformed demand $\\sigma_u$ increases by some factor $\\theta$, what happens to the optimal informed trader demand $y_i$?"
   ]
  },
  {
   "cell_type": "markdown",
   "metadata": {},
   "source": [
    "### Answer\n",
    "\n",
    "$$\n",
    "y_i=\\frac{\\sigma_u}{\\sigma}(\\tilde S-\\mu)\n",
    "$$\n",
    "\n",
    "If $\\sigma_u$ increases by some factor $\\theta$, $y_i$ should also increases by same factor $\\theta$."
   ]
  },
  {
   "cell_type": "markdown",
   "metadata": {},
   "source": [
    "### 3. (6 points) \n",
    "\n",
    "As in Exercise 7.3 of Hasbrouck (but with different notation), suppose that a broker $\\mathcal P$ spots an insider and decides to submit his own piggyback orders.  Specifically, if $\\mathcal I$ submits demand $y_i$, $\\mathcal P$ submits demand $\\gamma\\,y_i$ with $\\gamma>0$.\n",
    "\n",
    "(a) Assuming that $\\mathcal I$ can detect how much piggyback order flow there is, deduce that the equilibrium Kyle lambda is unchanged from the original case where there are no piggyback orders.\n",
    "\n",
    "(b) Derive expressions for $\\mathcal I$'s optimal demand $y_i$ and his expected P&L.\n",
    "\n",
    "(c) Explain to a non-expert what happens to your trade capacity and your profitability if someone is piggybacking on your trades.\n"
   ]
  },
  {
   "cell_type": "markdown",
   "metadata": {},
   "source": [
    "### Answer \n",
    "\n",
    "(a)\n",
    "\n",
    "Now $y=y_i+y_p+y_u=(1+\\gamma)y_i+y_u$. The informed trader knows that there is piggyback order, to maximize his profit, it is equally to miximize $y_i(\\tilde S-\\mu-\\lambda (1+\\gamma)y_i)$.\n",
    "\n",
    "So\n",
    "\n",
    "$$\n",
    "y_i=\\frac{1}{2\\lambda (1+\\gamma)}(\\tilde S-\\mu)\n",
    "$$\n",
    "\n",
    "We can see $y_i$ is scaled by $\\frac{1}{1+\\gamma}$. In normal regression, the $cov(\\tilde S,y)=(1+\\gamma)cov(\\tilde S,y_i)$ and $var(y)=(1+\\gamma)^2var(y_i)$. So these two variables are same with original Kyle model.\n",
    "\n",
    "When we solve the equillibrium $\\frac{cov(\\tilde S,y)}{var(y)}=\\lambda$, this equation is same with original Kyle model. So Kyle lambda is unchanged."
   ]
  },
  {
   "cell_type": "markdown",
   "metadata": {},
   "source": [
    "(b)\n",
    "\n",
    "The Kyle lambda is $\\frac{\\sigma}{2\\sigma_u}$, so\n",
    "$$\n",
    "y_i=\\frac{\\sigma_u}{\\sigma(1+\\gamma)}(\\tilde S-\\mu)\n",
    "$$\n",
    "\n",
    "And the expected pnl should also be scaled by $\\frac{1}{1+\\gamma}$\n",
    "$$\n",
    "\\mathbb{E}[pnl]=\\frac{(\\tilde S-\\mu)^2}{2(1+\\gamma)}\\frac{\\sigma_u}{\\sigma}\n",
    "$$"
   ]
  },
  {
   "cell_type": "markdown",
   "metadata": {},
   "source": [
    "(c)\n",
    "\n",
    "The piggyback order will take up your capacity and also same portion of your pnl. Because in order to reach you maximum profit, the total capacity of informed order should stay same. As someone gives order following you, you should decrease your order size.\n",
    "\n",
    "Also from the other hand, as others mimic your order, your order actually has greater market impact. The market maker will demand a higher price. So your total capacity and profit will decrease."
   ]
  }
 ],
 "metadata": {
  "celltoolbar": "Slideshow",
  "kernelspec": {
   "display_name": "R",
   "language": "R",
   "name": "ir"
  },
  "language_info": {
   "codemirror_mode": "r",
   "file_extension": ".r",
   "mimetype": "text/x-r-source",
   "name": "R",
   "pygments_lexer": "r",
   "version": "3.5.1"
  }
 },
 "nbformat": 4,
 "nbformat_minor": 1
}
