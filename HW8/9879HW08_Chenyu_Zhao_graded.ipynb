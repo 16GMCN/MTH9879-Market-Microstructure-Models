{
 "cells": [
  {
   "cell_type": "markdown",
   "metadata": {},
   "source": [
    "# Chenyu Zhao\n",
    "### R version: 3.5.1"
   ]
  },
  {
   "cell_type": "markdown",
   "metadata": {},
   "source": [
    "# MTH9879 Homework 8\n",
    "\n",
    "Assigned: March 28, 2019.\n",
    "Due: April 11, 2019 by 6pm. \n",
    "\n",
    "Late homework **will not be accepted**.\n",
    "\n",
    "$$\n",
    "\\newcommand{\\supp}{\\mathrm{supp}}\n",
    "\\newcommand{\\E}{\\mathbb{E}}\n",
    "\\newcommand{\\Eof}[1]{\\mathbb{E}\\left[ #1 \\right]}\n",
    "\\def\\Cov{{ \\mbox{Cov} }}\n",
    "\\def\\Var{{ \\mbox{Var} }}\n",
    "\\newcommand{\\1}{\\mathbf{1} }\n",
    "\\newcommand{\\PP}{\\mathbb{P} }\n",
    "%\\newcommand{\\Pr}{\\mathrm{Pr} }\n",
    "\\newcommand{\\QQ}{\\mathbb{Q} }\n",
    "\\newcommand{\\RR}{\\mathbb{R} }\n",
    "\\newcommand{\\DD}{\\mathbb{D} }\n",
    "\\newcommand{\\HH}{\\mathbb{H} }\n",
    "\\newcommand{\\spn}{\\mathrm{span} }\n",
    "\\newcommand{\\cov}{\\mathrm{cov} }\n",
    "\\newcommand{\\sgn}{\\mathrm{sgn} }\n",
    "\\newcommand{\\HS}{\\mathcal{L}_{\\mathrm{HS}} }\n",
    "%\\newcommand{\\HS}{\\mathrm{HS} }\n",
    "\\newcommand{\\trace}{\\mathrm{trace} }\n",
    "\\newcommand{\\LL}{\\mathcal{L} }\n",
    "%\\newcommand{\\LL}{\\mathrm{L} }\n",
    "\\newcommand{\\s}{\\mathcal{S} }\n",
    "\\newcommand{\\ee}{\\mathcal{E} }\n",
    "\\newcommand{\\ff}{\\mathcal{F} }\n",
    "\\newcommand{\\hh}{\\mathcal{H} }\n",
    "\\newcommand{\\bb}{\\mathcal{B} }\n",
    "\\newcommand{\\dd}{\\mathcal{D} }\n",
    "\\newcommand{\\g}{\\mathcal{G} }\n",
    "\\newcommand{\\p}{\\partial}\n",
    "\\newcommand{\\half}{\\frac{1}{2} }\n",
    "\\newcommand{\\T}{\\mathcal{T} }\n",
    "\\newcommand{\\bi}{\\begin{itemize}}\n",
    "\\newcommand{\\ei}{\\end{itemize}}\n",
    "\\newcommand{\\beq}{\\begin{equation}}\n",
    "\\newcommand{\\eeq}{\\end{equation}}\n",
    "\\newcommand{\\beas}{\\begin{eqnarray*}}\n",
    "\\newcommand{\\eeas}{\\end{eqnarray*}}\n",
    "\\newcommand{\\cO}{\\mathcal{O}}\n",
    "\\newcommand{\\cF}{\\mathcal{F}}\n",
    "\\newcommand{\\cL}{\\mathcal{L}}\n",
    "\\newcommand{\\BS}{\\text{BS}}\n",
    "\\newcommand{\\Pof}[1]{\\mathbb{P}\\left[ #1 \\right]}\n",
    "$$"
   ]
  },
  {
   "cell_type": "markdown",
   "metadata": {},
   "source": [
    "<font color = \"red\">Homework is to be done by each student individually.  To receive full credit, you must email a completed copy of this Jupyter notebook to Yassine Ghalane (yassine.ghalem@gmail.com), Victor Istrakov (stavka@gmail.com), and Tai-Ho Wang (tai-ho.wang@baruch.cuny.edu) by the due date and time.  All R-code must run correctly and solutions must be written up neatly in Markdown/LaTeX format.\n",
    "\n",
    "<font color=\"blue\">If you encounter problems with Markdown/LaTeX or Jupyter notebook, please contact your TAs.\n"
   ]
  },
  {
   "cell_type": "markdown",
   "metadata": {},
   "source": [
    "### 0. (0 points) \n",
    "Read Section 6.7 of Bouchaud, Farmer and Lillo."
   ]
  },
  {
   "cell_type": "markdown",
   "metadata": {},
   "source": [
    "## Predictability of order flow"
   ]
  },
  {
   "cell_type": "markdown",
   "metadata": {},
   "source": [
    "### 1. (6 points)\n",
    "\n",
    "Suppose that the distribution of meta order sizes $Q$ is exponential so that\n",
    "\n",
    "$$\n",
    "\\Pof{Q > V}= e^{-\\lambda\\,V}\n",
    "$$\n",
    "\n",
    "Assuming slices of  constant size $\\bar v$, compute the conditional probability that a hidden order has more slices given that $n$ slices have already been observed.  Compare your result with the case where distribution of metaorder size is power-law."
   ]
  },
  {
   "cell_type": "markdown",
   "metadata": {},
   "source": [
    "### Answer \n",
    "\n",
    "We want to compute following conditional probability\n",
    "$$\n",
    "\\Pr(Q\\ge (n+1)\\bar{v}\\mid Q\\ge n\\bar{v})=\\frac{\\Pr(Q\\ge (n+1)\\bar{v})}{\\Pr(Q\\ge n\\bar{v})}\n",
    "$$\n",
    "\n",
    "Under the distribution that Q is exponential\n",
    "$$\n",
    "\\Pr(Q\\ge (n+1)\\bar{v}\\mid Q\\ge n\\bar{v})=\\frac{e^{-\\lambda(n+1)\\bar v}}{e^{-\\lambda n \\bar v}}=e^{-\\lambda \\bar v}\n",
    "$$\n",
    "\n",
    "When distribution is power-law, $\\Pr(Q>V)\\sim (\\frac{1}{V})^\\beta$\n",
    "$$\n",
    "\\Pr(Q\\ge (n+1)\\bar{v}\\mid Q\\ge n\\bar{v})=(\\frac{n}{n+1})^\\beta\n",
    "$$\n",
    "\n",
    "Comparison: Under power-law, the longer a metaorder has been active, the more likely it is to continue, since the conditinal probability increases with n. While under exponential, the probability stays same when n increases.  "
   ]
  },
  {
   "cell_type": "markdown",
   "metadata": {},
   "source": [
    "## Price manipulation"
   ]
  },
  {
   "cell_type": "markdown",
   "metadata": {},
   "source": [
    "### 2. (10 points)\n",
    "\n",
    "Consider the price process\n",
    "\n",
    "$$\n",
    "S_t=S_0+\\int_0^t\\,f(\\dot{x}_s)\\,G(t-s)\\,ds+\\int_0^t\\,\\sigma\\,dZ_s\n",
    "$$\n",
    "\n",
    "where ${\\dot x}_s$ is the rate of trading in dollars at time $s < t$, $f(\\dot{x}_s)$ represents the impact of trading at time $s$ and $G(t-s)$ is a decay factor.\n",
    "\n",
    "(a) With the choices\n",
    "\n",
    "$$\n",
    "f(v)=\\sqrt{v},\\quad G(\\tau)=\\frac{1}{1+\\tau},\n",
    "$$\n",
    "    \n",
    "repeat the computations in Lecture 8  to derive an expression for the expected cost of accumulating shares at the rate $v_1$ and liquidating them at the rate $v_2$.\n",
    "\n",
    "(b) Verify that with $T=1$, $v_1=1/4$, $v_2=1$, the expected cost of this round-trip strategy is negative, thus demonstrating that price manipulation is possible. (Recall from the lecture slides that price manipulation is always possible if $f(\\cdot)$ is nonlinear and the decay kernel $G(\\cdot)$  is finite at the origin.)"
   ]
  },
  {
   "cell_type": "markdown",
   "metadata": {},
   "source": [
    "### Answer \n",
    "\n",
    "(a) According to lecture 8, $C(\\Pi)=C_{11}+C_{22}-C_{12}$, in this case, where\n",
    "$$\n",
    "C_{11}=v_1\\sqrt{v_1}\\int_0^{\\theta T}dt\\int_0^t\\frac{1}{1+t-s}ds=v_1\\sqrt{v_1}(1+\\theta T)\\ln(1+\\theta T) - v_1\\sqrt{v_1}\\theta T \n",
    "$$\n",
    "\n",
    "$$\n",
    "C_{22}=v_2\\sqrt{v_2}\\int_{\\theta T}^T dt\\int_{\\theta T}^t\\frac{1}{1+t-s}ds=v_2\\sqrt{v_2}(1+T-\\theta T)\\ln(1+T-\\theta T) + v_2\\sqrt{v_2}(\\theta T-T)\n",
    "$$\n",
    "\n",
    "$$\n",
    "C_{12}=v_2\\sqrt{v_1}\\int_{\\theta T}^T dt\\int^{\\theta T}_0\\frac{1}{1+t-s}ds=v_2 \\sqrt v_1 \\left[(1+T)\\ln(1+T) - (1+\\theta T) \\ln(1+\\theta T) - (1+T-\\theta T)\\ln(1+T-\\theta T)\\right]\n",
    "$$\n",
    "\n",
    "and with $\\theta=\\frac{v_2}{v_1+v_2}$"
   ]
  },
  {
   "cell_type": "markdown",
   "metadata": {},
   "source": [
    "(b) Under these parameters, $\\theta=\\frac{4}{5}$\n",
    "$$\n",
    "C_{11} = 0.0323 \\\\\n",
    "C_{22} = 0.0188 \\\\\n",
    "C_{12} = 0.0547 \n",
    "$$\n",
    "\n",
    "So the total cost\n",
    "$$\n",
    "C(\\Pi)=−0.0036 < 0\n",
    "$$\n",
    "\n",
    "which admits price manipulation"
   ]
  },
  {
   "cell_type": "markdown",
   "metadata": {},
   "source": [
    "## The Obizhaeva-Wang model"
   ]
  },
  {
   "cell_type": "markdown",
   "metadata": {},
   "source": [
    "### 3. (8 points)\n",
    "\n",
    "In the Obizhaeva-Wang (OW) model, the price follows\n",
    "\n",
    "$$\n",
    "S_t=S_0+\\eta\\,\\int_0^t\\,{\\dot x}_s\\,e^{-\\rho\\,(t-s)}\\,ds+\\int_0^t\\,\\sigma\\,dZ_s\n",
    "$$\n",
    "\n",
    "(a) Derive an expression for the expected price path corresponding to a VWAP execution.\n",
    "\n",
    "(b) With the duration $T$ of the meta order set to 1, plot the expected price path from time $t=0$ to time $t=2$ for $\\rho=0.5,1,$ and $2$.\n",
    "\n",
    "(c) What is the expected average cost per share $\\bar S_T$ of a VWAP order in the OW model?"
   ]
  },
  {
   "cell_type": "markdown",
   "metadata": {},
   "source": [
    "### Answer\n",
    "\n",
    "(a) Under VWAP execution\n",
    "$$\n",
    "{\\dot x}_t = \\begin{cases} v,\\, t \\leq T \\\\\n",
    "0,\\, t > T \\end{cases}\n",
    "$$\n",
    "\n",
    "So the expected price is \n",
    "$$\n",
    "\\E [S_t]=S_0+\\eta \\int_0^t \\mathbb I\\{s\\leq T\\}v e^{-\\rho(t-s)}ds\n",
    "$$\n",
    "\n",
    "So\n",
    "$$\n",
    "\\E [S_t]=\\begin{cases}S_0+\\frac{\\eta v}{\\rho}(1-e^{-\\rho t}), \\, t\\leq T \\\\\n",
    "S_0+\\frac{\\eta v}{\\rho}(e^{-\\rho(t-T)}-e^{-\\rho t}), \\, t> T \\end{cases}\n",
    "$$"
   ]
  },
  {
   "cell_type": "markdown",
   "metadata": {},
   "source": [
    "(b)"
   ]
  },
  {
   "cell_type": "code",
   "execution_count": 19,
   "metadata": {},
   "outputs": [
    {
     "data": {
      "image/png": "[encoded data removed]",
      "text/plain": [
       "plot without title"
      ]
     },
     "metadata": {},
     "output_type": "display_data"
    }
   ],
   "source": [
    "library(repr)\n",
    "options(repr.plot.width=7,repr.plot.height=5)\n",
    "\n",
    "# suppose eta, v and T are 1, S0 is 0\n",
    "eta<-1\n",
    "v<-1\n",
    "T<-1\n",
    "S0<-0\n",
    "\n",
    "Soft<-function(t,rho){\n",
    "    res<-S0\n",
    "    if(t<=T){\n",
    "        res<-res+eta*v/rho*(1-exp(-rho*t))\n",
    "    }\n",
    "    else{\n",
    "        res<-res+eta*v/rho*(exp(-rho*(t-T))-exp(-rho*t))\n",
    "    }\n",
    "    return (res)\n",
    "}\n",
    "\n",
    "t<-(0:200)/100\n",
    "rhos<-c(0.5,1,2)\n",
    "colors<-c(\"red\",\"green\",\"blue\")\n",
    "plot(0:2,(0:2)/2, type=\"n\", xlab=\"Time\", ylab=\"Expected Price\")\n",
    "for(i in 1:3){\n",
    "    rho<-rhos[i]\n",
    "    color<-colors[i]\n",
    "    s<-c()\n",
    "    for(j in 1:(length(t))){\n",
    "        s<-c(s,Soft(t[j],rho))\n",
    "    }\n",
    "    lines(t,s,col=color)\n",
    "}\n",
    "\n",
    "legend(\"topright\", \n",
    "       c(expression(paste(rho,\"=0.5\")), expression(paste(rho,\"=1\")), expression(paste(rho,\"=2\"))), \n",
    "       col=c(\"red\", \"green\", \"blue\"), lty=1)"
   ]
  },
  {
   "cell_type": "markdown",
   "metadata": {},
   "source": [
    "(c)\n",
    "\n",
    "For VWAP, ${\\dot x}_t=\\frac{x}{T}$, where x is total volum. Then total cost  \n",
    "$$\n",
    "C(\\Pi)=\\int_0^T \\frac{x}{T}dt\\int^t_0 \\eta \\frac{x}{T}e^{-\\rho(t-s)}ds\n",
    "$$\n",
    "\n",
    "Therefore, the expected average cost per share  \n",
    "$$\n",
    "\\bar{S_T}=\\frac{C(\\Pi)}{x}=\\frac{\\eta x}{\\rho T} + \\frac{\\eta x}{\\rho^2 T^2}\\,(e^{-\\rho T}-1)\n",
    "$$"
   ]
  }
 ],
 "metadata": {
  "celltoolbar": "Slideshow",
  "kernelspec": {
   "display_name": "R",
   "language": "R",
   "name": "ir"
  },
  "language_info": {
   "codemirror_mode": "r",
   "file_extension": ".r",
   "mimetype": "text/x-r-source",
   "name": "R",
   "pygments_lexer": "r",
   "version": "3.5.1"
  },
  "latex_envs": {
   "LaTeX_envs_menu_present": true,
   "autoclose": true,
   "autocomplete": true,
   "bibliofile": "biblio.bib",
   "cite_by": "apalike",
   "current_citInitial": 1,
   "eqLabelWithNumbers": false,
   "eqNumInitial": 1,
   "hotkeys": {
    "equation": "Ctrl-E",
    "itemize": "Ctrl-I"
   },
   "labels_anchors": false,
   "latex_user_defs": false,
   "report_style_numbering": false,
   "user_envs_cfg": false
  },
  "toc": {
   "base_numbering": 1,
   "nav_menu": {},
   "number_sections": true,
   "sideBar": true,
   "skip_h1_title": false,
   "title_cell": "Table of Contents",
   "title_sidebar": "Contents",
   "toc_cell": false,
   "toc_position": {},
   "toc_section_display": true,
   "toc_window_display": false
  },
  "varInspector": {
   "cols": {
    "lenName": 16,
    "lenType": 16,
    "lenVar": 40
   },
   "kernels_config": {
    "python": {
     "delete_cmd_postfix": "",
     "delete_cmd_prefix": "del ",
     "library": "var_list.py",
     "varRefreshCmd": "print(var_dic_list())"
    },
    "r": {
     "delete_cmd_postfix": ") ",
     "delete_cmd_prefix": "rm(",
     "library": "var_list.r",
     "varRefreshCmd": "cat(var_dic_list()) "
    }
   },
   "types_to_exclude": [
    "module",
    "function",
    "builtin_function_or_method",
    "instance",
    "_Feature"
   ],
   "window_display": false
  }
 },
 "nbformat": 4,
 "nbformat_minor": 1
}
