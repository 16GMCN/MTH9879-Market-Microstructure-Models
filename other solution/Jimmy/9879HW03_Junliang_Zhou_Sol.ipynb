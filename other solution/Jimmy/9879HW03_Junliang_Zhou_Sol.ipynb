{
 "cells": [
  {
   "cell_type": "markdown",
   "metadata": {},
   "source": [
    "# MTH9879 Homework 3\n",
    "\n",
    "Assigned: February 15, 2018.\n",
    "Due: March 1, 2018 by 6pm. \n",
    "\n",
    "Late homework **will not be accepted**.\n",
    "\n",
    "$$\n",
    "\\newcommand{\\supp}{\\mathrm{supp}}\n",
    "\\newcommand{\\E}{\\mathbb{E}}\n",
    "\\newcommand{\\EE}{\\mathbb{E}}\n",
    "\\newcommand{\\Eof}[1]{\\mathbb{E}\\left[ #1 \\right]}\n",
    "\\def\\Cov{{ \\mbox{Cov} }}\n",
    "\\def\\Var{{ \\mbox{Var} }}\n",
    "\\newcommand{\\1}{\\mathbf{1} }\n",
    "\\newcommand{\\PP}{\\mathbb{P} }\n",
    "%\\newcommand{\\Pr}{\\mathrm{Pr} }\n",
    "\\newcommand{\\QQ}{\\mathbb{Q} }\n",
    "\\newcommand{\\RR}{\\mathbb{R} }\n",
    "\\newcommand{\\DD}{\\mathbb{D} }\n",
    "\\newcommand{\\HH}{\\mathbb{H} }\n",
    "\\newcommand{\\spn}{\\mathrm{span} }\n",
    "\\newcommand{\\cov}{\\mathrm{cov} }\n",
    "\\newcommand{\\sgn}{\\mathrm{sgn} }\n",
    "\\newcommand{\\HS}{\\mathcal{L}_{\\mathrm{HS}} }\n",
    "%\\newcommand{\\HS}{\\mathrm{HS} }\n",
    "\\newcommand{\\trace}{\\mathrm{trace} }\n",
    "\\newcommand{\\LL}{\\mathcal{L} }\n",
    "%\\newcommand{\\LL}{\\mathrm{L} }\n",
    "\\newcommand{\\s}{\\mathcal{S} }\n",
    "\\newcommand{\\ee}{\\mathcal{E} }\n",
    "\\newcommand{\\ff}{\\mathcal{F} }\n",
    "\\newcommand{\\hh}{\\mathcal{H} }\n",
    "\\newcommand{\\bb}{\\mathcal{B} }\n",
    "\\newcommand{\\dd}{\\mathcal{D} }\n",
    "\\newcommand{\\g}{\\mathcal{G} }\n",
    "\\newcommand{\\p}{\\partial}\n",
    "\\newcommand{\\half}{\\frac{1}{2} }\n",
    "\\newcommand{\\T}{\\mathcal{T} }\n",
    "\\newcommand{\\bi}{\\begin{itemize}}\n",
    "\\newcommand{\\ei}{\\end{itemize}}\n",
    "\\newcommand{\\beq}{\\begin{equation}}\n",
    "\\newcommand{\\eeq}{\\end{equation}}\n",
    "\\newcommand{\\beas}{\\begin{eqnarray*}}\n",
    "\\newcommand{\\eeas}{\\end{eqnarray*}}\n",
    "\\newcommand{\\cO}{\\mathcal{O}}\n",
    "\\newcommand{\\cF}{\\mathcal{F}}\n",
    "\\newcommand{\\cL}{\\mathcal{L}}\n",
    "\\newcommand{\\BS}{\\text{BS}}\n",
    "$$"
   ]
  },
  {
   "cell_type": "markdown",
   "metadata": {},
   "source": [
    "<font color = \"red\">Homework is to be done by each student individually.  To receive full credit, you must email a completed copy of this iPython notebook to Victor Istratov (stavka@gmail.com), Yassine Ghalem (yassine.ghalem@gmail.com) and Jim Gatheral (jim.gatheral@gmail.com) by the due date and time.  All R-code must run correctly and solutions must be written up neatly in Markdown/LaTeX format.\n"
   ]
  },
  {
   "cell_type": "markdown",
   "metadata": {},
   "source": [
    "## Junliang Zhou\n",
    "\n",
    "Tel: (347) 276-1207\n",
    "\n",
    "Email: gjimzhou@gmail.com"
   ]
  },
  {
   "cell_type": "markdown",
   "metadata": {},
   "source": [
    "### 0. (0 points) \n",
    "Read Chapter 11 of Hasbrouck and Section 3.5 of Foucault, Pagano and R&ouml;ell. <br>\n",
    "Also, read the article on high-frequency trading by Menkveld available at http://papers.tinbergen.nl/11076.pdf."
   ]
  },
  {
   "cell_type": "markdown",
   "metadata": {},
   "source": [
    "## The Garman (1976) model"
   ]
  },
  {
   "cell_type": "markdown",
   "metadata": {},
   "source": [
    "### 1. (6 points) \n",
    "Suppose supply and demand functions satisfy\n",
    "\n",
    "$$\n",
    "P_A(\\lambda) = 101 − 18\\lambda + \\lambda^2; \\; P_B(\\lambda) = 61 + 2\\lambda + \\lambda^2,\n",
    "$$\n",
    "\n",
    "where $\\lambda$ is the market order arrival rate per minute and $P_B(\\cdot)$ and $P_A(\\cdot)$ denote supply and demand curves respectively. <br>\n",
    "Determine the dealer’s optimal bid $B$ and ask $A$ and the average profit per minute."
   ]
  },
  {
   "cell_type": "markdown",
   "metadata": {},
   "source": [
    "### Solution\n",
    "\n",
    "The average profit per minute can be denoted as\n",
    "\n",
    "$$PnL=(P_A(\\lambda)-P_B(\\lambda))\\lambda=40\\lambda-20\\lambda^2$$\n",
    "\n",
    "To find the optimal $PnL$, set the first order derivative to zero.\n",
    "\n",
    "$$\\frac{\\partial PnL}{\\partial\\lambda}=40-40\\lambda=0$$\n",
    "\n",
    "The optimal market order arrival rate is $\\lambda=1$ and the  optimal bid and ask prices are\n",
    "\n",
    "$$P_A(\\lambda) = 101 − 18\\lambda + \\lambda^2=84$$\n",
    "$$P_B(\\lambda) = 61 + 2\\lambda + \\lambda^2=64$$\n",
    "\n",
    "The optimal average profit per minute is\n",
    "\n",
    "$$PnL=40\\lambda-20\\lambda^2=20$$"
   ]
  },
  {
   "cell_type": "markdown",
   "metadata": {},
   "source": [
    "## The Stoll (1978) model"
   ]
  },
  {
   "cell_type": "markdown",
   "metadata": {},
   "source": [
    "### 2. (4 points) \n",
    "In the Stoll (1978) model, assuming exponential utility with $S \\sim N(\\mu, \\sigma^2)$, and with current inventory $q$ shares, what are the dealer’s indifference bid and ask prices for $n$ shares?"
   ]
  },
  {
   "cell_type": "markdown",
   "metadata": {},
   "source": [
    "### Solution\n",
    "\n",
    "Suppose the dealer posts the bid at $B$. If his bid is not hit, his terminal wealth will be $W=qS$. If his bid is hit, his terminal wealth will be $W=(q+n)S-B$.\n",
    "\n",
    "For him to be indifferent, we must have\n",
    "\n",
    "$$\\E[U((q+n)S-nB)]=\\E[U(qS)]$$\n",
    " \n",
    "So\n",
    "    \n",
    "\n",
    "$$(q+n)\\E[S]-nB-\\frac{\\alpha}{2}\\Var[(q+n)S]=q\\E[S]-\\frac{\\alpha}{2}\\Var[qS]$$\n",
    "    \n",
    "Then\n",
    "\n",
    "$$nB=n\\mu-\\frac{\\alpha}{2}((q+n)^2-q^2)\\sigma^2$$\n",
    "\n",
    "that is \n",
    "\n",
    "$$B=\\mu-\\frac{\\alpha}{2}(2q+n)\\sigma^2$$"
   ]
  },
  {
   "cell_type": "markdown",
   "metadata": {},
   "source": [
    "Similarly, for the ask $A$, we have\n",
    "\n",
    "\n",
    "$$\\E[U((q-n)S+nA)]=\\E[U(qS)]$$\n",
    " \n",
    "So\n",
    "    \n",
    "\n",
    "$$(q-n)\\E[S]+nA-\\frac{\\alpha}{2}\\Var[(q-n)S]=q\\E[S]-\\frac{\\alpha}{2}\\Var[qS]$$\n",
    "    \n",
    "Then\n",
    "\n",
    "$$nA=n\\mu-\\frac{\\alpha}{2}(q^2-(q-n)^2)\\sigma^2$$\n",
    "\n",
    "that is \n",
    "\n",
    "$$A=\\mu-\\frac{\\alpha}{2}(2q-n)\\sigma^2$$"
   ]
  },
  {
   "cell_type": "markdown",
   "metadata": {},
   "source": [
    "### 3. (10 points)\n",
    "As mentioned in Lecture 3, in real markets, bid and ask prices $B$ and $A$ are often given and the dealer must decide how much size to quote at these fixed prices.  Suppose there are currently $Q_A$ offered and $Q_B$ shares bid.  According to Lecture 1,\n",
    "\n",
    "$$\n",
    "\\Eof{S} \\approx M + \\frac s 2 \\,\\frac 4\\pi \\,\\arctan I.\n",
    "$$\n",
    "\n",
    "where $M$ is the mid-price, $s=A-B$, and the book imbalance is given by\n",
    "\n",
    "$$\n",
    "I = \\frac{Q_B-Q_A}{Q_B + Q_A}.\n",
    "$$\n",
    "\n",
    "Assume that $S$ is normally distributed with variance $\\sigma^2$, that the dealer has exponential utility, and that his current inventory is $q$.\n",
    "\n",
    "(a) Use your answer to Problem 2 to show that the indifference size $n_B$ the dealer should quote at the bid $B$ is given by\n",
    "\n",
    "$$\n",
    "n_B = \\frac{s}{\\alpha\\,\\sigma^2}\\,\\left(  1+\\frac 4 \\pi \\,\\arctan I \\right) - 2\\,q.\n",
    "$$\n",
    "\n",
    "(b) Derive a similar formula for the indifference offered quantity $n_A$.\n",
    "\n",
    "(c) Give your intuition for the sensitivities of $n_B$ and $n_A$ to each of the various inputs.\n"
   ]
  },
  {
   "cell_type": "markdown",
   "metadata": {},
   "source": [
    "### Solution\n",
    "\n",
    "(a)\n",
    "\n",
    "We know from Problem 2 that\n",
    "\n",
    "$$B=\\mu-\\frac{\\alpha}{2}(2q+n_B)\\sigma^2$$\n",
    "\n",
    "where\n",
    "\n",
    "$$\\mu=M+\\frac s 2 \\frac 4\\pi \\arctan I$$\n",
    "\n",
    "and\n",
    "\n",
    "$$M=B+\\frac s 2$$\n",
    "\n",
    "Therefore,\n",
    "\n",
    "$$B=B+\\frac s 2+\\frac s 2 \\frac 4\\pi \\arctan I-\\frac{\\alpha}{2}(2q+n_B)\\sigma^2$$\n",
    "\n",
    "By simplifying the equation above, we can obtain that\n",
    "\n",
    "$$n_B = \\frac{s}{\\alpha\\sigma^2}(1+\\frac 4 \\pi \\arctan I)-2q$$"
   ]
  },
  {
   "cell_type": "markdown",
   "metadata": {},
   "source": [
    "(b)\n",
    "\n",
    "For the ask quotes, we know that\n",
    "\n",
    "$$A=\\mu-\\frac{\\alpha}{2}(2q-n_A)\\sigma^2$$\n",
    "\n",
    "where\n",
    "\n",
    "$$\\mu=M+\\frac s 2 \\frac 4\\pi \\arctan I$$\n",
    "\n",
    "and\n",
    "\n",
    "$$M=A-\\frac s 2$$\n",
    "\n",
    "Therefore,\n",
    "\n",
    "$$A=A-\\frac s 2+\\frac s 2 \\frac 4\\pi \\arctan I-\\frac{\\alpha}{2}(2q-n_A)\\sigma^2$$\n",
    "\n",
    "By simplifying the equation above, we can obtain that\n",
    "\n",
    "$$n_A = \\frac{s}{\\alpha\\sigma^2}(1-\\frac 4 \\pi \\arctan I)+2q$$"
   ]
  },
  {
   "cell_type": "markdown",
   "metadata": {},
   "source": [
    "(c)\n",
    "\n",
    "For bid orders, the indifferent size $n_B$ is\n",
    "- Increasing in spread $s$. The larger the spread, the more profitable the order is.\n",
    "- Decreasing in risk measure $\\alpha\\sigma^2$. The riskier the stock is, the less profitable the order is.\n",
    "- Increasing in imbalance $I$. The more likely the price tends to go up, the more profitable the bid order is.\n",
    "- Decreasing in inventory $q$. The smaller the inventory is, the more likely the dealer expands its inventory.\n",
    "\n",
    "For ask orders, the indifferent size $n_A$ is\n",
    "- Increasing in spread $s$. The larger the spread, the more profitable the order is.\n",
    "- Decreasing in risk measure $\\alpha\\sigma^2$. The riskier the stock is, the less profitable the order is.\n",
    "- Decreasing in imbalance $I$. The more likely the price tends to go down, the more profitable the ask order is.\n",
    "- Increasing in inventory $q$. The larger the inventory is, the more likely the dealer shrinks its inventory."
   ]
  },
  {
   "cell_type": "markdown",
   "metadata": {},
   "source": [
    "## Avellaneda and Stoikov (2008)"
   ]
  },
  {
   "cell_type": "markdown",
   "metadata": {},
   "source": [
    "### 4. (6 points) \n",
    "According to the lecture slides, in the Avellaneda and Stoikov model, the optimal bid and ask prices are given in terms of market order arrival rates by\n",
    "\n",
    "$$\n",
    "B=r_B-\\frac{1}{\\alpha}\\,\\log\\left(1-\\alpha\\,\\frac{{\\lambda_B}(\\delta_B)}{\\lambda_B'(\\delta_B)}\\right).\n",
    "$$\n",
    "\n",
    "Similarly, the optimal ask price is given by\n",
    "\n",
    "$$\n",
    "A=r_A + \\frac{1}{\\alpha}\\,\\log\\left(1-\\alpha\\,\\frac{{\\lambda_A}(\\delta_A)}{\\lambda_A'(\\delta_A)}\\right).\n",
    "$$\n",
    "\n",
    "where $A= S+\\delta_A$ and $B= S-\\delta_B$.\n",
    "\n",
    "Suppose that arrival rates of orders (symmetric between market buys and sells) are given by\n",
    "\n",
    "$$\n",
    "\\lambda(\\delta) = e^{-k \\delta \\pm \\beta\\,q}\n",
    "$$\n",
    "\n",
    "for some constant $\\beta>0$ that reflects adverse selection (i.e., the longer you are, the more market sell orders arrive).\n",
    "\n",
    "(a) Write down expressions for $A$ and $B$ in terms of $r_A$, $r_B$, $k$, $\\beta$ and $q$.\n",
    "\n",
    "(b) How does the optimal spread depend on $q$?\n",
    "\n",
    "(c) Conjecture how the reservation prices $r_A$ and $r_B$ should depend on $q$ if there is adverse selection."
   ]
  },
  {
   "cell_type": "markdown",
   "metadata": {},
   "source": [
    "### Solution\n",
    "\n",
    "(a)\n",
    "\n",
    "From the lecture we know that\n",
    "\n",
    "$$B=r_B-\\frac{1}{\\alpha}\\log\\left(1 - \\alpha\\frac{{\\lambda}(\\delta)}{\\lambda'(\\delta)}\\right)$$\n",
    "\n",
    "$$A=r_A+\\frac{1}{\\alpha}\\log\\left(1-\\alpha\\frac{{\\lambda}(\\delta)}{\\lambda'(\\delta)}\\right)$$\n",
    "\n",
    "Now we assume that the $\\lambda$ and $\\delta$ are the same on both sides, that is\n",
    "\n",
    "$$\\lambda(\\delta) = e^{-k \\delta \\pm \\beta q}$$\n",
    "\n",
    "$$\\lambda'(\\delta) =-k e^{-k \\delta \\pm \\beta q}$$\n",
    "\n",
    "Substitute back we have\n",
    "\n",
    "$$B=r_B-\\frac{1}{\\alpha}\\log\\left(1 + \\frac \\alpha k\\right)$$\n",
    "\n",
    "$$A=r_A+\\frac{1}{\\alpha}\\log\\left(1 + \\frac \\alpha k\\right)$$\n"
   ]
  },
  {
   "cell_type": "markdown",
   "metadata": {},
   "source": [
    "(b)\n",
    "\n",
    "The optimal spread is\n",
    "\n",
    "$$s=A-B=r_A-r_B+\\frac{2}{\\alpha}\\log\\left(1 + \\frac \\alpha k\\right)$$\n",
    "\n",
    "which doesn't depend on $q$."
   ]
  },
  {
   "cell_type": "markdown",
   "metadata": {},
   "source": [
    "(c)\n",
    "\n",
    "According to the lecture, $r_B$ and $r_A$ are\n",
    "\n",
    "$$r_B(t,x,S,q) = S - \\frac{\\alpha}{2}(2q+1)\\sigma^2(T-t)$$\n",
    "\n",
    "and\n",
    "\n",
    "$$r_A(t,x,S,q) = S - \\frac{\\alpha}{2}(2q-1)\\sigma^2(T-t)$$\n",
    "\n",
    "respectively, which are both negative correlated with inventory $q$.\n",
    "\n",
    "If there is adverse selection, the market maker would tend to charge a larger spread to compensate their loss. To achieve that, a modification term negative correlated with inventory $q$ should be added to $r_B$ and a modification term positive correlated with inventory $q$ should be added to $r_A$.\n",
    "\n",
    "<font color=\"red\">Not necessarily positive for $r_A$, both terms can be negative with increasing spread. If term is positive it means you increase the Ask price relative to non-adverse selection model as you inventory increases, not good.</font> "
   ]
  }
 ],
 "metadata": {
  "anaconda-cloud": {},
  "kernelspec": {
   "display_name": "R",
   "language": "R",
   "name": "ir"
  },
  "language_info": {
   "codemirror_mode": "r",
   "file_extension": ".r",
   "mimetype": "text/x-r-source",
   "name": "R",
   "pygments_lexer": "r",
   "version": "3.3.1"
  }
 },
 "nbformat": 4,
 "nbformat_minor": 0
}
