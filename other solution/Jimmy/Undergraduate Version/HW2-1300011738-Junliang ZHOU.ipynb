{
 "cells": [
  {
   "cell_type": "markdown",
   "metadata": {},
   "source": [
    "## Junliang ZHOU\n",
    "\n",
    "Student ID: 1300011738\n",
    "\n",
    "TEL: +86 186-1002-0527\n",
    "\n",
    "Email: <junliangzhou@pku.edu.cn>"
   ]
  },
  {
   "cell_type": "markdown",
   "metadata": {},
   "source": [
    "### Updating log 2.2\n",
    "1. In Problem 1(b): Simplified the equation."
   ]
  },
  {
   "cell_type": "markdown",
   "metadata": {},
   "source": [
    "### Updating log 2.1\n",
    "1. In Problem 2(a) and 2(c): Corrected integral results. "
   ]
  },
  {
   "cell_type": "markdown",
   "metadata": {},
   "source": [
    "### Updating log 1.3\n",
    "1. In Problem 3(a): Rewrited the solution because $t$ was previously assumed mistakenly to be greater than 1.\n",
    "2. In Problem 3(b): Corrected the answer to joint Gaussian distribution."
   ]
  },
  {
   "cell_type": "markdown",
   "metadata": {},
   "source": [
    "### Updating log 1.2\n",
    "1. In Problem 2(b) and 2(c): Added step-by-step solution to integral calculation. "
   ]
  },
  {
   "cell_type": "markdown",
   "metadata": {},
   "source": [
    "### Updating log 1.1\n",
    "1. In Problem 2(c): Corrected an error of recognizing certain integral as divergence."
   ]
  },
  {
   "cell_type": "markdown",
   "metadata": {},
   "source": [
    "# Topics in Market Microstructure Models - Homework 2\n",
    "\n",
    "Assigned: July 14, 2016.\n",
    "Due: July 21, 2016 by 1pm. \n",
    "\n",
    "Late homework **will not be accepted**.\n",
    "\n",
    "$$\n",
    "\\newcommand{\\supp}{\\mathrm{supp}}\n",
    "\\newcommand{\\E}{\\mathbb{E} }\n",
    "\\newcommand{\\Eof}[1]{\\mathbb{E}[ #1 ]}\n",
    "\\def\\Cov{{ \\mbox{Cov} }}\n",
    "\\def\\Var{{ \\mbox{Var} }}\n",
    "\\newcommand{\\1}{\\mathbf{1} }\n",
    "\\newcommand{\\PP}{\\mathbb{P} }\n",
    "\\newcommand{\\Pof}[1]{\\mathbb{P}\\left[ #1 \\right]}\n",
    "%\\newcommand{\\Pr}{\\mathrm{Pr} }\n",
    "\\newcommand{\\QQ}{\\mathbb{Q} }\n",
    "\\newcommand{\\RR}{\\mathbb{R} }\n",
    "\\newcommand{\\DD}{\\mathbb{D} }\n",
    "\\newcommand{\\HH}{\\mathbb{H} }\n",
    "\\newcommand{\\spn}{\\mathrm{span} }\n",
    "\\newcommand{\\cov}{\\mathrm{cov} }\n",
    "\\newcommand{\\sgn}{\\mathrm{sgn} }\n",
    "\\newcommand{\\HS}{\\mathcal{L}_{\\mathrm{HS}} }\n",
    "%\\newcommand{\\HS}{\\mathrm{HS} }\n",
    "\\newcommand{\\trace}{\\mathrm{trace} }\n",
    "\\newcommand{\\LL}{\\mathcal{L} }\n",
    "%\\newcommand{\\LL}{\\mathrm{L} }\n",
    "\\newcommand{\\s}{\\mathcal{S} }\n",
    "\\newcommand{\\ee}{\\mathcal{E} }\n",
    "\\newcommand{\\ff}{\\mathcal{F} }\n",
    "\\newcommand{\\hh}{\\mathcal{H} }\n",
    "\\newcommand{\\bb}{\\mathcal{B} }\n",
    "\\newcommand{\\dd}{\\mathcal{D} }\n",
    "\\newcommand{\\g}{\\mathcal{G} }\n",
    "\\newcommand{\\p}{\\partial}\n",
    "\\newcommand{\\half}{\\frac{1}{2} }\n",
    "\\newcommand{\\T}{\\mathcal{T} }\n",
    "\\newcommand{\\bi}{\\begin{itemize}}\n",
    "\\newcommand{\\ei}{\\end{itemize}}\n",
    "\\newcommand{\\beq}{\\begin{equation}}\n",
    "\\newcommand{\\eeq}{\\end{equation}}\n",
    "\\newcommand{\\beas}{\\begin{eqnarray*}}\n",
    "\\newcommand{\\eeas}{\\end{eqnarray*}}\n",
    "\\newcommand{\\cO}{\\mathcal{O}}\n",
    "\\newcommand{\\cF}{\\mathcal{F}}\n",
    "\\newcommand{\\cL}{\\mathcal{L}}\n",
    "\\newcommand{\\BS}{\\text{BS}}\n",
    "\\newcommand{\\d}{\\mathrm{d}}\n",
    "$$"
   ]
  },
  {
   "cell_type": "markdown",
   "metadata": {},
   "source": [
    "<font color = \"red\">Homework is to be done by each student individually.  To receive full credit, you must email a completed copy of this iPython notebook to Xinquan Chen (cxq_ccer@163.com) and Tai-Ho Wang (tai-ho.wang@baruch.cuny.edu) by the due date and time.  All R-code must run correctly and solutions must be written up neatly in Markdown/LaTeX format.\n",
    "\n",
    "<font color=\"blue\">If you encounter problems with Markdown/LaTeX or iPython notebook, please contact your TA Xinquan Chen.\n"
   ]
  },
  {
   "cell_type": "markdown",
   "metadata": {},
   "source": [
    "$B_t$ deontes a standard Brownian motion in the following. "
   ]
  },
  {
   "cell_type": "markdown",
   "metadata": {},
   "source": [
    "### 1. (10 points)\n",
    "\n",
    "Let $\\sigma(t)$ and $r(t)$ be positive deterministic functions of $t$. Define\n",
    "\n",
    "$$\n",
    "  X_t = \\int_0^t r(s) ds + \\int_0^t \\sigma(s) dB_s, \\quad S_t = s_0 e^{X_t - \\frac12 \\int_0^t \\sigma^2(s) ds}.\n",
    "$$\n",
    "\n",
    "(a) What are the distributions of $X_t$ and $S_t$?\n",
    "\n",
    "(b) Determine the mean and variance of $X_t$ and $S_t$."
   ]
  },
  {
   "cell_type": "markdown",
   "metadata": {},
   "source": [
    "(a) $X_t$\n",
    "\n",
    "According to Lecture 2, \n",
    "$$\n",
    "\\int_0^t \\sigma(s) \\d B_s \\sim N(0, \\int_0^t \\sigma^2(s) \\d s).\n",
    "$$\n",
    "\n",
    "As $r(t)$ is a deterministic function, for $\\forall t$, \n",
    "$$\n",
    "\\int_0^t r(s) \\d s\n",
    "$$\n",
    "is deterministic.\n",
    "\n",
    "Thus, after adding a deterministic function, the random variable $X_t$ should have a Gaussian distribution shown below.\n",
    "$$\n",
    "X_t \\sim N(\\int_0^t r(s) \\d s, \\int_0^t \\sigma^2(s) \\d s)\n",
    "$$"
   ]
  },
  {
   "cell_type": "markdown",
   "metadata": {},
   "source": [
    "(b) $S_t$\n",
    "\n",
    "Take a natural logarithm of $S_t$, we shall have\n",
    "$$\n",
    "\\ln S_t = \\ln s_0 + X_t - \\frac 12 \\int_0^t \\sigma^2(s) \\d s .\n",
    "$$\n",
    "\n",
    "Since the first and third term of this polynomial is deterministic, $\\ln S_t$ has a Gaussian distribution just like $X_t$,\n",
    "$$\n",
    "\\ln S_t \\sim N(\\ln s_0 + \\int_0^t r(s) \\d s - \\frac12 \\int_0^t \\sigma^2(s) \\d s, \\int_0^t \\sigma^2(s) \\d s ) .\n",
    "$$\n",
    "\n",
    "Thus, $S_t$ has a so-called logarithmic Gaussian distribution whose parameters $\\mu$ and $\\sigma^2$ are the same with $\\ln S_0$.\n",
    "\n",
    "Therefore, we can calculate the expectation and variance of $S_t$,\n",
    "$$\n",
    "\\Eof {S_t} = e^{\\mu + \\frac 12 \\sigma^2}; \\\\ \n",
    "\\Var {[S_t]} = (e^{\\sigma^2} - 1) e^{2 \\mu + \\sigma^2}, \n",
    "$$\n",
    "where\n",
    "$$\n",
    "\\mu = \\ln s_0 + \\int_0^t r(s) \\d s - \\frac 12 \\int_0^t \\sigma^2(s) \\d s; \\\\ \n",
    "\\sigma^2 = \\int_0^t \\sigma^2(s) \\d s. \n",
    "$$\n",
    "\n",
    "Substitute these parameters into $\\Eof {S_t}$ and $\\Var {[S_t]}$, that is\n",
    "$$\n",
    "\\Eof {S_t} = s_0 e^{\\int_0^t r(s) \\d s}; \\\\ \n",
    "\\Var {[S_t]} = s_0^2 (e^{\\int_0^t \\sigma^2(s) \\d s} - 1) e^{2 \\int_0^t r(s) \\d s}. \n",
    "$$"
   ]
  },
  {
   "cell_type": "markdown",
   "metadata": {},
   "source": [
    "### 2. (10 points)\n",
    "\n",
    "Let $X$ be the random variable given by the stochastic integral \n",
    "\n",
    "$$\n",
    "X = \\int_a^b f_s dB_s\n",
    "$$\n",
    "\n",
    "where $f_s$ is an adapted stochastic process. \n",
    "Recall that Ito isometry states \n",
    "\n",
    "$$\n",
    "\\Eof{X^2} = \\int_a^b \\Eof{f_s^2} ds.\n",
    "$$\n",
    "\n",
    "Use Ito isometry to determine the variance of the following random variables. \n",
    "\n",
    "(a) $X = \\int_0^t B_s^2 dB_s$\n",
    "\n",
    "(b) $X = \\int_a^b \\sqrt t e^{B_t} dB_t$\n",
    "\n",
    "(c) $X = \\int_a^b \\sqrt t \\sin(B_t) dB_t$"
   ]
  },
  {
   "cell_type": "markdown",
   "metadata": {},
   "source": [
    "Since Wiener integral has a Gaussian distribution whose expectation is 0. That is\n",
    "$$\n",
    "\\int_a^b f(s) \\d B_s \\sim N(0, \\int_a^b f^2(s) \\d s) .\n",
    "$$\n",
    "\n",
    "Thus, the variance of those three integrals above can be denoted as $\\Eof {X^2}$.\n",
    "\n",
    "Then it can be calculated according to Ito isometry,\n",
    "$$\n",
    "\\Eof {X^2} = \\int_a^b \\Eof {f_s^2} \\d s.\n",
    "$$"
   ]
  },
  {
   "cell_type": "markdown",
   "metadata": {},
   "source": [
    "(a) $X = \\int_0^t B_s^2 \\d B_s$\n",
    "\n",
    "$$\n",
    "\\Var {[X^2]} = \\int_0^t \\Eof {B_s^4} \\d s \\\\ \n",
    "= \\int_0^t 3s^2 \\d s \\\\\n",
    "= t^3\n",
    "$$"
   ]
  },
  {
   "cell_type": "markdown",
   "metadata": {},
   "source": [
    "(b) $X = \\int_a^b \\sqrt t e^{B_t} \\d B_t$\n",
    "\n",
    "$$\n",
    "\\Var {[X^2]} = \\int_a^b \\Eof {t e^{2 B_t}} \\d t \\\\ \n",
    "= \\int_a^b t e^{2t} \\d t \\\\\n",
    "= \\frac 12 t e^{2t} \\bigg|_a^b - \\frac 12 \\int_a^b e^{2t} \\d t \\\\\n",
    "= \\frac 14 (2b - 1) e^{2b} - \\frac 14 (2a - 1) e^{2a}\n",
    "$$"
   ]
  },
  {
   "cell_type": "markdown",
   "metadata": {},
   "source": [
    "(c) $X = \\int_a^b \\sqrt t \\sin (B_t) \\d B_t$\n",
    "\n",
    "$$\n",
    "\\Var {[X^2]} = \\int_a^b \\Eof {t \\sin^2 {(B_t)}} \\d t \n",
    "$$\n",
    "\n",
    "For $\\Eof {\\sin^2 {(B_t)}}$, we have\n",
    "$$\n",
    "\\Eof {\\sin^2 {(B_t)}} = \\int_{- \\infty}^{+ \\infty} {\\sin^2 {x}} \\frac {1} {\\sqrt {2 \\pi t}} e^{- \\frac {{x}^2} {2 t}} \\d x \\\\ \n",
    "= \\frac 12 - \\frac 12 \\frac {1} {e^{2 t}}.\n",
    "$$\n",
    "\n",
    "Then look back to $\\Var {[X^2]}$.\n",
    "$$\n",
    "\\Var {[ X^2 ]} = \\int_a^b t {(\\frac 12 - \\frac 12 \\frac {1} {e^{2 t}})} \\d t \\\\ \n",
    "= \\frac 12 t (t + \\frac 12 \\frac {1} {e^{2t}}) \\bigg|_a^b - \\int_a^b {(\\frac 12 - \\frac 12 \\frac {1} {e^{2t}})} \\d t \\\\\n",
    "= \\frac 18 {(2 b^2 + (2b + 1) e^{2b})} - \\frac 18 {(2 a^2 + (2a + 1) e^{2a})} \n",
    "$$"
   ]
  },
  {
   "cell_type": "markdown",
   "metadata": {},
   "source": [
    "### 3. (6 points)\n",
    "\n",
    "Define the process $X_t$ as $X_t = B_t - t B_1$, for $t \\in [0,1]$. \n",
    "\n",
    "For any $0 \\leq t_1 \\leq t_2 \\leq 1$, \n",
    "\n",
    "(a) determine the quantities $\\Eof{X_{t_1}}$, $\\Eof{X_{t_2}}$, $\\mbox{Var}[X_{t_1}]$, $\\mbox{Var}[X_{t_2}]$, and $\\mbox{cov}[X_{t_1}, X_{t_2}]$. \n",
    "\n",
    "(b) what is the joint probability density function $\\Pof{X_{t_1} = x_1, X_{t_2} = x_2}$?\n",
    "\n"
   ]
  },
  {
   "cell_type": "markdown",
   "metadata": {},
   "source": [
    "(a) \n",
    "\n",
    "$X_t$ can be writen as\n",
    "$$\n",
    "X_t = - t (B_1 - B_t) + (1 - t) B_t,\n",
    "$$\n",
    "where the two parts of the polynomial are indepencent.\n",
    "\n",
    "Assign $(B_1 - B_t)$ as $B_{1 - t}$, which is also a Brownian motion identical to $B_{1 - t}$ but independent to $B_t$. Therefore we are able to calculate the expactation and variance easily with the properties of Brownian motion.\n",
    "\n",
    "$$\n",
    "\\Eof {X_{t_1}} = - t_1 \\Eof {B_{1 - t_1}} + (1 - t_1) \\Eof {B_t} = 0 \\\\ \n",
    "\\Eof {X_{t_2}} = - t_2 \\Eof {B_{1 - t_2}} + (1 - t_2) \\Eof {B_t} = 0\n",
    "$$\n",
    "\n",
    "$$\n",
    "\\Var {[X_{t_1}]} = {t_1}^2 \\Var {[B_{1 - t_1}]} + (1 - t_1)^2 \\Var {[B_{t_1}]} = t_1 (1 - t_1) \\\\ \n",
    "\\Var {[X_{t_2}]} = {t_2}^2 \\Var {[B_{1 - t_2}]} + (1 - t_2)^2 \\Var {[B_{t_2}]} = t_2 (1 - t_2) \n",
    "$$\n",
    "\n",
    "$$\n",
    "\\Cov {[X_{t_1}, X_{t_2}]} = \\Cov {[- t_1 B_{1 - t_1} + (1 - t_1) {B_{t_1}}, - t_2 B_{1 - t_2} + (1 - t_2) {B_{t_2}}]} \\\\ \n",
    "= t_1 t_2 \\Cov {[B_{1 - t_1}, B_{1 - t_2}]} - t_1 (1 - t_2) \\Cov {[B_{1 - t_1}, B_{t_2}]} - t_2 (1 - t_1) \\Cov {[B_{1 - t_2}, B_{t_1}]} + (1 - t_1) (1 - t_2) \\Cov {[B_{t_1}, B_{t_2}]} \n",
    "$$\n",
    "\n",
    "As $t_1 \\leq t_2$, \n",
    "$$\n",
    "\\Cov {[B_{1- t_1}, B_{1 - t_2}]} = 1 - t_2; \\\\ \n",
    "\\Cov {[B_{t_1}, B_{t_2}]} = t_1; \\\\ \n",
    "\\Cov {[B_{1 - t_1}, B_{t_2}]} = t_2 - t_1; \\\\\n",
    "\\Cov {[B_{1 - t_2}, B_{t_1}]} = 0.\n",
    "$$\n",
    "\n",
    "Thus, \n",
    "$$\n",
    "\\Cov {[X_{t_1}, X_{t_2}]} = t_1 t_2 (1 - t_2) - t_1 (1 - t_2) (t_2 - t_1) + (1 - t_1) (1 - t_2) t_1 \\\\ \n",
    "= t_1 (1 - t_2). \n",
    "$$"
   ]
  },
  {
   "cell_type": "markdown",
   "metadata": {},
   "source": [
    "(b)\n",
    "\n",
    "$\\Pof{X_{t_1} = x_1, X_{t_2} = x_2}$ has a joint Gaussian distribution since $X_t$ is Gaussian distributed. That is\n",
    "$$\n",
    "f(X_{t_1} = x_1, X_{t_2} = x_2) = \\frac {1} {2 \\pi \\sigma_1 \\sigma_2 \\sqrt {1 - \\rho^2}} e^{{- \\frac {1} {2 (1 - \\rho^2)}} {[{(\\frac {x_1-\\mu_1} {\\sigma_1})}^2 + {(\\frac {x_2-\\mu_2} {\\sigma_2})}^2 - 2 \\rho \\frac {(x_1 - \\mu_1) (x_2 - \\mu_2)} {\\sigma_1 \\sigma_2}]}},\n",
    "$$\n",
    "where\n",
    "$$\n",
    "\\mu_1 = 0; \\\\ \n",
    "\\mu_2 = 0; \\\\\n",
    "\\sigma_1 = \\sqrt {t_1 (1 - t_1)}; \\\\ \n",
    "\\sigma_2 = \\sqrt {t_2 (1 - t_2}; \\\\ \n",
    "\\rho = \\frac {\\Cov {[X_{t_1}, X_{t_2}]}} {\\sigma_1 \\sigma_2} = \\sqrt {\\frac {t_1 (1 - t_2)} {t_2 (1 - t_1)}}.\n",
    "$$"
   ]
  },
  {
   "cell_type": "markdown",
   "metadata": {},
   "source": [
    "## QED"
   ]
  }
 ],
 "metadata": {
  "anaconda-cloud": {},
  "celltoolbar": "Slideshow",
  "kernelspec": {
   "display_name": "R",
   "language": "R",
   "name": "ir"
  },
  "language_info": {
   "codemirror_mode": "r",
   "file_extension": ".r",
   "mimetype": "text/x-r-source",
   "name": "R",
   "pygments_lexer": "r",
   "version": "3.3.0"
  }
 },
 "nbformat": 4,
 "nbformat_minor": 0
}
