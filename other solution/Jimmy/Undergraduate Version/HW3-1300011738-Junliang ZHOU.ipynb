{
 "cells": [
  {
   "cell_type": "markdown",
   "metadata": {},
   "source": [
    "## Junliang ZHOU\n",
    "\n",
    "Student ID: 1300011738\n",
    "\n",
    "TEL: +86 186-1002-0527\n",
    "\n",
    "Email: <junliangzhou@pku.edu.cn>"
   ]
  },
  {
   "cell_type": "markdown",
   "metadata": {},
   "source": [
    "### Updating log 2.1\n",
    "1. In Problem 1(a), 2(a) and 2(b): Corrected a mistake that constant term should be $\\log x$ instead of $x$.\n",
    "2. In Problem 1(b): Added mean and variance.\n",
    "3. In Problem 3: Corrected a mistake that probabilities should be divided by 2."
   ]
  },
  {
   "cell_type": "markdown",
   "metadata": {},
   "source": [
    "### Updating log 1.2\n",
    "1. In Problem 3: added linear programming plotted by R."
   ]
  },
  {
   "cell_type": "markdown",
   "metadata": {},
   "source": [
    "### Updating log 1.1\n",
    "1. In Problem 1(a) and 1(b): Modified integral representations."
   ]
  },
  {
   "cell_type": "markdown",
   "metadata": {},
   "source": [
    "# Topics in Market Microstructure Models - Homework 3 \n",
    "\n",
    "Assigned: July 19, 2016.\n",
    "Due: July 26, 2016 by 1pm. \n",
    "\n",
    "Late homework **will not be accepted**.\n",
    "\n",
    "$$\n",
    "\\newcommand{\\supp}{\\mathrm{supp}}\n",
    "\\newcommand{\\E}{\\mathbb{E} }\n",
    "\\def\\Cov{{ \\mbox{Cov} }}\n",
    "\\def\\Var{{ \\mbox{Var} }}\n",
    "\\newcommand{\\1}{\\mathbf{1} }\n",
    "\\newcommand{\\PP}{\\mathbb{P} }\n",
    "%\\newcommand{\\Pr}{\\mathrm{Pr} }\n",
    "\\newcommand{\\QQ}{\\mathbb{Q} }\n",
    "\\newcommand{\\RR}{\\mathbb{R} }\n",
    "\\newcommand{\\DD}{\\mathbb{D} }\n",
    "\\newcommand{\\HH}{\\mathbb{H} }\n",
    "\\newcommand{\\spn}{\\mathrm{span} }\n",
    "\\newcommand{\\cov}{\\mathrm{cov} }\n",
    "\\newcommand{\\sgn}{\\mathrm{sgn} }\n",
    "\\newcommand{\\HS}{\\mathcal{L}_{\\mathrm{HS}} }\n",
    "%\\newcommand{\\HS}{\\mathrm{HS} }\n",
    "\\newcommand{\\trace}{\\mathrm{trace} }\n",
    "\\newcommand{\\LL}{\\mathcal{L} }\n",
    "%\\newcommand{\\LL}{\\mathrm{L} }\n",
    "\\newcommand{\\s}{\\mathcal{S} }\n",
    "\\newcommand{\\ee}{\\mathcal{E} }\n",
    "\\newcommand{\\ff}{\\mathcal{F} }\n",
    "\\newcommand{\\hh}{\\mathcal{H} }\n",
    "\\newcommand{\\bb}{\\mathcal{B} }\n",
    "\\newcommand{\\dd}{\\mathcal{D} }\n",
    "\\newcommand{\\g}{\\mathcal{G} }\n",
    "\\newcommand{\\p}{\\partial}\n",
    "\\newcommand{\\half}{\\frac{1}{2} }\n",
    "\\newcommand{\\T}{\\mathcal{T} }\n",
    "\\newcommand{\\bi}{\\begin{itemize}}\n",
    "\\newcommand{\\ei}{\\end{itemize}}\n",
    "\\newcommand{\\beq}{\\begin{equation}}\n",
    "\\newcommand{\\eeq}{\\end{equation}}\n",
    "\\newcommand{\\beas}{\\begin{eqnarray*}}\n",
    "\\newcommand{\\eeas}{\\end{eqnarray*}}\n",
    "\\newcommand{\\cO}{\\mathcal{O}}\n",
    "\\newcommand{\\cF}{\\mathcal{F}}\n",
    "\\newcommand{\\cL}{\\mathcal{L}}\n",
    "\\newcommand{\\BS}{\\text{BS}}\n",
    "\\newcommand{\\d}{\\mathrm{d}}\n",
    "$$"
   ]
  },
  {
   "cell_type": "markdown",
   "metadata": {},
   "source": [
    "<font color = \"red\">Homework is to be done by each student individually.  To receive full credit, you must email a completed copy of this Jupyper notebook to Xinquan Chen (cxq_ccer@163.com) and Tai-Ho Wang (tai-ho.wang@baruch.cuny.edu) by the due date and time.  All R-code must run correctly and solutions must be written up neatly in Markdown/LaTeX format.\n",
    "\n",
    "<font color=\"blue\">If you encounter problems with Markdown/LaTeX or iPython notebook, please contact your TA Xinquan Chen.\n"
   ]
  },
  {
   "cell_type": "markdown",
   "metadata": {
    "slideshow": {
     "slide_type": "-"
    }
   },
   "source": [
    "### 1. (10 points)\n",
    "\n",
    "Let $W_t$ be a Brownian motions. \n",
    "\n",
    "(a) Solve the SDE for geometric Brownian motion or Black-Scholes model\n",
    "\n",
    "$$\n",
    "dX_t = \\mu X_t dt + \\sigma X_t dW_t \\quad \\Longleftrightarrow \\quad \\frac{dX_t}{X_t} = \\mu dt + \\sigma dW_t, \\quad X_0 = x\n",
    "$$\n",
    "\n",
    "by applying Ito's formula to $\\log X_t$.\n",
    "\n",
    "(b) Solve the SDE for Ornstein-Uhlenbeck process or the Vasicek model\n",
    "\n",
    "$$\n",
    "dX_t = \\lambda(m - X_t) dt + \\sigma dW_t, \\quad X_0 = x\n",
    "$$\n",
    "\n",
    "by applying Ito's formula to $e^{\\lambda t} X_t$. Determine the mean and variance of $X_t$.  \n"
   ]
  },
  {
   "cell_type": "markdown",
   "metadata": {},
   "source": [
    "(a)\n",
    "\n",
    "Apply Ito's formula to $\\log X_t$, and we have\n",
    "$$\n",
    "\\d \\log X_t = {(\\sigma_t X_t \\frac {1} {X_t})} \\d W_t + {(0 + L \\log X_t)} \\d t.\n",
    "$$\n",
    "\n",
    "The infinitesimal generator of $\\log X_t$ can be represented as\n",
    "$$\n",
    "L \\log X_t = \\frac 12 {\\sigma_t}^2 {X_t}^2 {(- \\frac {1} {{X_t}^2})} + \\mu_t X_t \\frac {1} {X_t}.\n",
    "$$\n",
    "\n",
    "Then substitute the infinitesimal generator back into the original equation and simplify it. That is\n",
    "$$\n",
    "\\d \\log X_t = \\sigma_t \\d W_t + {(\\mu_t - \\frac 12 {\\sigma_t}^2)} \\d t.\n",
    "$$\n",
    "\n",
    "Finally, integrate up the differential equation.\n",
    "$$\n",
    "\\log X_t = \\log x + \\int_0^t \\sigma_s \\d W_s + \\int_0^t {(\\mu_s - \\frac 12 {\\sigma_s}^2)} \\d s \n",
    "$$"
   ]
  },
  {
   "cell_type": "markdown",
   "metadata": {},
   "source": [
    "(b)\n",
    "\n",
    "Similiarily, apply Ito's formula to $e^{\\lambda t} X_t$, and we have\n",
    "$$\n",
    "\\d e^{\\lambda t} X_t = {(\\sigma e^{\\lambda t})} \\d W_t + {(\\lambda e^{\\lambda t} X_t + 0 + \\lambda (m - X_t) e^{\\lambda t})} \\d t.\n",
    "$$\n",
    "\n",
    "Then, integrate up the differential equation, we shall get\n",
    "$$\n",
    "e^{\\lambda t} X_t = x + \\sigma \\int_0^t e^{\\lambda s} \\d W_s + {(e^{\\lambda t} - 1)} X_t + (m - X_t) {(e^{\\lambda t} - 1)}.\n",
    "$$\n",
    "\n",
    "Finally, simplify the equation.\n",
    "$$\n",
    "X_t = e^{- \\lambda t} x + e^{- \\lambda t} \\sigma \\int_0^t e^{\\lambda s} \\d W_s + {(1 - e^{- \\lambda t})} m\n",
    "$$\n",
    "\n",
    "Hence, $X_t$ is Gaussian distributed with mean $e^{- \\lambda t} x + {(1 - e^{- \\lambda t})} m$ and variance $e^{- 2 \\lambda t} \\sigma^2 \\int_0^t e^{2 \\lambda s} \\d s$."
   ]
  },
  {
   "cell_type": "markdown",
   "metadata": {},
   "source": [
    "### 2. (10 points)\n",
    "\n",
    "Let $u$ be a solution to the terminal value problem\n",
    "\n",
    "\\begin{eqnarray*}\n",
    "  && u_t + \\frac{\\sigma^2 x^2}2 u_{xx} + r x u_x = r u + D, \\quad t < T,  \\\\\n",
    "  && u(x,T) = x,\n",
    "\\end{eqnarray*}\n",
    "\n",
    "where $\\sigma$, $r$, and $D$ are constants. \n",
    "\n",
    "(a) Find a stochastic representation for $u$, clearly indicate what the underlying SDE is and which expectation to evaluate. \n",
    "\n",
    "(b) Use the result from 1(a) to determine the value $u(x,0)$."
   ]
  },
  {
   "cell_type": "markdown",
   "metadata": {},
   "source": [
    "(a)\n",
    "\n",
    "According to Lecture 2, a stochastic representation for $u (x, t)$ can be written as\n",
    "$$\n",
    "u (x,t) = \\E_{t,x} \\left [e^{- \\int_t^T r \\d s} X_T - \\int_t^T e^{- \\int_t^\\tau r \\d s} D \\d \\tau \\right] \\\\ \n",
    "= \\E_{t,x} \\left [e^{- r (T - t)} X_T + \\frac {D} {r} (e^{- r (T - t)} - 1) \\right].\n",
    "$$\n",
    "where\n",
    "$$\n",
    "\\d X_t = r X_t \\d t + \\sigma X_t \\d W_t.\n",
    "$$"
   ]
  },
  {
   "cell_type": "markdown",
   "metadata": {},
   "source": [
    "(b)\n",
    "\n",
    "For $u (x, 0)$,\n",
    "$$\n",
    "u (x, 0) = \\E \\left [e^{- r T} X_T + \\frac {D} {r} (e^{- r T} - 1) | X_0 = x \\right].\n",
    "$$\n",
    "\n",
    "As we know in Problem 1(a),\n",
    "$$\n",
    "X_t = x e^{\\sigma W_t + (r - \\frac 12 {\\sigma}^2)t}, X_0 = x.\n",
    "$$\n",
    "\n",
    "Thus, the expectation of $X_T$ is\n",
    "$$\n",
    "\\E {[X_T]} = x e^{(r - \\frac 12 {\\sigma}^2)T + \\frac 12 {\\sigma}^2T} \\\\ \n",
    "= x e^{r T}.\n",
    "$$\n",
    "\n",
    "Then substitude $\\E {[X_T]}$ back into $u (x, 0)$, we shall have\n",
    "$$\n",
    "u (x, 0) = x e^{- r T} e^{r T} + \\frac {D} {r} (e^{- r T} - 1) \\\\ \n",
    "=  x + \\frac {D} {r} (e^{- r T} - 1). \n",
    "$$"
   ]
  },
  {
   "cell_type": "markdown",
   "metadata": {},
   "source": [
    "## The Parlour (1998) model"
   ]
  },
  {
   "cell_type": "markdown",
   "metadata": {},
   "source": [
    "### 3. (10 points) \n",
    "Consider the first step $t = 1$ of the 3-step order book case presented in the lecture slides. Suppose that the order book at (or just before) $t = 1$ has one share offered and one share bid ($n_B = n_A = 1$).\n",
    "\n",
    "Give the probabilities as of a market buy, market sell, limit buy and limit sell at $t = 1$."
   ]
  },
  {
   "cell_type": "markdown",
   "metadata": {},
   "source": [
    "There are six possible actions at $t = 1$, and each will generate a different order book. All six possible actions are summarized in the table shown below.\n",
    "\n",
    "|  Action  |  Order book  |\n",
    "|:---------|:---------|\n",
    "|  Market sell (MS)  |  $(0, 1)$  |\n",
    "|  Limit sell (LS)  |  $(1, 2)$  |\n",
    "|  No sell (NS)  |  $(1, 1)$  |\n",
    "|  Market buy (MB)  |  $(1, 0)$  |\n",
    "|  Limit buy (LB)  |  $(2, 1)$  |\n",
    "| No buy (NB)  |  $(1, 1)$  |\n"
   ]
  },
  {
   "cell_type": "markdown",
   "metadata": {},
   "source": [
    "For limit sell and limit buy, succeed actions should be taken into consideration. As there are already two limit sells/buys in the order book, two conclusions can be drawn:\n",
    "1. Succeed traders cannot submit limit orders.\n",
    "2. Limit sell/buy can be fulfilled only if all two succeed traders submit market sell/buy.\n",
    "\n",
    "Thus, the second and the third trader will have the same strategy. According to Lecture 3, that is \n",
    "$$\n",
    "\\PP^S_2 = \\PP^S_3 = \\frac {5} {22}.\n",
    "$$ \n",
    "\n",
    "By symmetry, \n",
    "$$\n",
    "\\PP^B_2 = \\PP^B_3 = \\frac {5} {22}.\n",
    "$$"
   ]
  },
  {
   "cell_type": "markdown",
   "metadata": {},
   "source": [
    "As a result, payoff of each six actions can be calculated and summarized in the table shown below.\n",
    "\n",
    "|  Action  |  Payoff  |\n",
    "|:---------|:---------|\n",
    "|  Market sell (MS)  |  $B - \\beta_1 V$  |\n",
    "|  Limit sell (LS)  |  $(A - \\beta_1 V) \\PP^S_2 \\PP^S_3$  |\n",
    "|  No sell (NS)  |  $0$  |\n",
    "|  Market buy (MB)  |  $\\beta_1 V - A$  |\n",
    "|  Limit buy (LB)  |  $(\\beta_1 V - B) \\PP^B_2 \\PP^B_3$  |\n",
    "| No buy (NB)  |  $0$  |\n"
   ]
  },
  {
   "cell_type": "code",
   "execution_count": 1,
   "metadata": {
    "collapsed": false
   },
   "outputs": [
    {
     "data": {
      "image/png": "[encoded data removed]",
      "text/plain": [
       "Plot with title \"Buy strategy\""
      ]
     },
     "metadata": {
      "image/svg+xml": {
       "isolated": true
      }
     },
     "output_type": "display_data"
    }
   ],
   "source": [
    "#Initialize parameters\n",
    "v <- 5.5\n",
    "b <- 5\n",
    "a <- 6\n",
    "ps <- 5/22\n",
    "pb <- 5/22\n",
    "\n",
    "#Set plots position\n",
    "par(mfrow=c(1,2))\n",
    "\n",
    "#Plot sell strategy\n",
    "plot (0:2, (-1:1)/5, type=\"n\", main=\"Sell strategy\", xlab=expression(beta), ylab=\"Payoff\")\n",
    "curve(b-v*x, add=T, col=\"red\")\n",
    "curve((a-v*x)*ps*ps, add=T, col=\"green\")\n",
    "curve(0*x, add=T, col=\"blue\")\n",
    "legend(\"topright\", c(\"MS\", \"LS\", \"NS\"), col=c(\"red\", \"green\", \"blue\"), lty=1, inset=0.02)\n",
    "\n",
    "#Plot buy Strategy\n",
    "plot (0:2, (-1:1)/5, type=\"n\", main=\"Buy strategy\", xlab=expression(beta), ylab=\"Payoff\")\n",
    "curve(v*x-a, add=T, col=\"red\")\n",
    "curve((v*x-b)*pb*pb, add=T, col=\"green\")\n",
    "curve(0*x, add=T, col=\"blue\")\n",
    "legend(\"topleft\", c(\"MB\", \"LB\", \"NB\"), col=c(\"red\", \"green\", \"blue\"), lty=1, inset=0.02)"
   ]
  },
  {
   "cell_type": "markdown",
   "metadata": {},
   "source": [
    "From the plots above we can calculate two crossover points, $\\beta_1 = \\frac {4540} {5049}$, $\\beta_1 = \\frac {12} {11}$ for sell orders, and $\\beta_1 = \\frac {5558} {5049}$, $\\beta_1 = \\frac {10} {11}$ for buy orders.\n",
    "\n",
    "Thus, the probability of each six actions can be calculated and summarized in the table shown below.\n",
    "\n",
    "|  Action  |  Condition  |  Probability  |\n",
    "|:---------|:------------|:--------------|\n",
    "|  Market sell (MS)  |  $0 \\leq \\beta_1 < \\frac {4540} {5049}$  |  $\\frac {1135} {5049}$  |\n",
    "|  Limit sell (LS)  |  $\\frac {4540} {5049} \\leq \\beta_1 < \\frac {12} {11}$  |  $\\frac {22} {459}$  |\n",
    "|  No sell (NS)  |  $\\frac {12} {11} \\leq \\beta_1 \\leq 2$  |  $\\frac {5} {22}$  |\n",
    "|  Market buy (MB)  |  $\\frac {4540} {5049} < \\beta_1 \\leq 2$  |  $\\frac {1135} {5049}$  |\n",
    "|  Limit buy (LB)  |  $\\frac {10} {11} < \\beta_1 \\leq \\frac {4540} {5049}$  |  $\\frac {22} {459}$  |\n",
    "| No buy (NB)  |  $0 \\leq \\beta_1 \\leq \\frac {10} {11}$  |  $\\frac {5} {22}$  |\n"
   ]
  },
  {
   "cell_type": "markdown",
   "metadata": {},
   "source": [
    "### 4. (4 points) \n",
    "Explain why the optimal market/limit order decision depends in general on quantity available on both sides of the order book in the Parlour model."
   ]
  },
  {
   "cell_type": "markdown",
   "metadata": {},
   "source": [
    "Firstly, if quantity on the same side increases, the likelihood of submitting a limit order will decrease, since it will be harder to fulfill. Correspondingly, the likelihood of submitting a market order will increase.\n",
    "\n",
    "Now that a limit order requires a market order from the opposite side to fulfill it, quantity on the opposite side will also change the likelihood of submitting a limit order by changing the likelihood of submitting a market order on the opposite side. Thus, if quantity on the opposite side increases, the likelihood of submitting a market order on the opposite side will increase, and push up the likelihood of submitting a limit order."
   ]
  },
  {
   "cell_type": "markdown",
   "metadata": {},
   "source": [
    "## QED"
   ]
  }
 ],
 "metadata": {
  "anaconda-cloud": {},
  "celltoolbar": "Slideshow",
  "kernelspec": {
   "display_name": "R",
   "language": "R",
   "name": "ir"
  },
  "language_info": {
   "codemirror_mode": "r",
   "file_extension": ".r",
   "mimetype": "text/x-r-source",
   "name": "R",
   "pygments_lexer": "r",
   "version": "3.3.0"
  }
 },
 "nbformat": 4,
 "nbformat_minor": 0
}
