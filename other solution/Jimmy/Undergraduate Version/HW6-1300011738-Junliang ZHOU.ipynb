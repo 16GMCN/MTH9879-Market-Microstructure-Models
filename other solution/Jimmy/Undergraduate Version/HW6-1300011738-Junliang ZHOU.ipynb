{
 "cells": [
  {
   "cell_type": "markdown",
   "metadata": {},
   "source": [
    "## Junliang ZHOU\n",
    "\n",
    "Student ID: 1300011738\n",
    "\n",
    "TEL: +86 186-1002-0527\n",
    "\n",
    "Email: <junliangzhou@pku.edu.cn>"
   ]
  },
  {
   "cell_type": "markdown",
   "metadata": {},
   "source": [
    "### Updating log 1.3\n",
    "1. In Problem 1(a): Modified the integral of the expected cost."
   ]
  },
  {
   "cell_type": "markdown",
   "metadata": {},
   "source": [
    "### Updating log 1.2\n",
    "1. In Problem 3(b): Debugged optimization code."
   ]
  },
  {
   "cell_type": "markdown",
   "metadata": {},
   "source": [
    "### Updating log 1.1\n",
    "1. In Problem 2(a): Added a GBM which is sampled by volume time instead of evenly sampled. "
   ]
  },
  {
   "cell_type": "markdown",
   "metadata": {},
   "source": [
    "# Topics in Market Microstructure Models - Homework 6 \n",
    "\n",
    "Assigned: July 28, 2016.\n",
    "Due: August 4, 2016 by 1pm. \n",
    "\n",
    "Late homework **will not be accepted**.\n",
    "\n",
    "$$\n",
    "\\newcommand{\\supp}{\\mathrm{supp}}\n",
    "\\newcommand{\\E}{\\mathbb{E} }\n",
    "\\newcommand{\\EE}{\\mathbb{E} }\n",
    "\\def\\Cov{{ \\mbox{Cov} }}\n",
    "\\def\\Var{{ \\mbox{Var} }}\n",
    "\\newcommand{\\1}{\\mathbf{1} }\n",
    "\\newcommand{\\PP}{\\mathbb{P} }\n",
    "%\\newcommand{\\Pr}{\\mathrm{Pr} }\n",
    "\\newcommand{\\QQ}{\\mathbb{Q} }\n",
    "\\newcommand{\\RR}{\\mathbb{R} }\n",
    "\\newcommand{\\DD}{\\mathbb{D} }\n",
    "\\newcommand{\\HH}{\\mathbb{H} }\n",
    "\\newcommand{\\spn}{\\mathrm{span} }\n",
    "\\newcommand{\\cov}{\\mathrm{cov} }\n",
    "\\newcommand{\\sgn}{\\mathrm{sgn} }\n",
    "\\newcommand{\\HS}{\\mathcal{L}_{\\mathrm{HS}} }\n",
    "%\\newcommand{\\HS}{\\mathrm{HS} }\n",
    "\\newcommand{\\trace}{\\mathrm{trace} }\n",
    "\\newcommand{\\LL}{\\mathcal{L} }\n",
    "%\\newcommand{\\LL}{\\mathrm{L} }\n",
    "\\newcommand{\\s}{\\mathcal{S} }\n",
    "\\newcommand{\\ee}{\\mathcal{E} }\n",
    "\\newcommand{\\ff}{\\mathcal{F} }\n",
    "\\newcommand{\\hh}{\\mathcal{H} }\n",
    "\\newcommand{\\bb}{\\mathcal{B} }\n",
    "\\newcommand{\\dd}{\\mathcal{D} }\n",
    "\\newcommand{\\g}{\\mathcal{G} }\n",
    "\\newcommand{\\p}{\\partial}\n",
    "\\newcommand{\\half}{\\frac{1}{2} }\n",
    "\\newcommand{\\T}{\\mathcal{T} }\n",
    "\\newcommand{\\bi}{\\begin{itemize}}\n",
    "\\newcommand{\\ei}{\\end{itemize}}\n",
    "\\newcommand{\\beq}{\\begin{equation}}\n",
    "\\newcommand{\\eeq}{\\end{equation}}\n",
    "\\newcommand{\\beas}{\\begin{eqnarray*}}\n",
    "\\newcommand{\\eeas}{\\end{eqnarray*}}\n",
    "\\newcommand{\\cO}{\\mathcal{O}}\n",
    "\\newcommand{\\cC}{\\mathcal{C}}\n",
    "\\newcommand{\\cF}{\\mathcal{F}}\n",
    "\\newcommand{\\cL}{\\mathcal{L}}\n",
    "\\newcommand{\\cM}{\\mathcal{M}}\n",
    "\\newcommand{\\cI}{\\mathcal{I}}\n",
    "\\newcommand{\\BS}{\\text{BS}}\n",
    "\\newcommand{\\d}{\\mathrm{d}}\n",
    "$$"
   ]
  },
  {
   "cell_type": "markdown",
   "metadata": {},
   "source": [
    "<font color = \"red\">Homework is to be done by each student individually.  To receive full credit, you must email a completed copy of this Jupyter notebook to Xinquan Chen (cxq_ccer@163.com) and Tai-Ho Wang (tai-ho.wang@baruch.cuny.edu) by the due date and time.  All R-code must run correctly and solutions must be written up neatly in Markdown/LaTeX format.\n",
    "\n",
    "<font color=\"blue\">If you encounter problems with Markdown/LaTeX or iPython notebook, please contact your TA Xinquan Chen."
   ]
  },
  {
   "cell_type": "markdown",
   "metadata": {},
   "source": [
    "### 1. (18 points)\n",
    "Following Almgren and Chriss, assume that the stock price $S_t$ evolves as\n",
    "\n",
    "$$\n",
    "dS_t = \\sigma\\,dZ_t\n",
    "$$\n",
    "\n",
    "and the price $\\tilde S_t$ at which we transact is given by\n",
    "\n",
    "$$\n",
    "\\tilde S_t = S_t - \\eta\\,v_t\n",
    "$$\n",
    "\n",
    "where $v_t:=-{\\dot x}_t$ is the rate of trading with $x_0 = X$ and $x_T = 0$.\n",
    "\n",
    "In the lecture notes, we showed that with a risk term that penalizes average VaR instead of variance, the risk-adjusted cost of trading associated with a given price path $\\{S_t\\}$ is given by\n",
    "\n",
    "$$\n",
    "C = \\int_0^T\\,(S_t - \\eta\\,v_t) \\,dx_t + \\lambda\\,\\sigma\\,\\int_0^T\\,x_t\\,dt\n",
    "$$\n",
    "\n",
    "for some price of risk $\\lambda$. We want to find a (possibly state-dependent) control $v_t$ that minimizes the expected cost $\\cC=\\E[C]$.\n",
    "\n",
    "(a) Apply the technique of integration by parts to simplify the term $\\int_0^T S_t dx_t$. Write down the HJB equation for the resulting problem.\n",
    "\n",
    "(b) Solve the first order condition to find the optimal trading rate $v^\\star$.    \n",
    "\n",
    "(c) Substitute $v^\\star$ back into the HJB equation to show that the value function $\\cC$ must satisfy\n",
    "$$\n",
    "\\cC_t = \\frac{\\cC_x^2}{4\\,\\eta\\,} - \\lambda \\sigma x.\n",
    "$$\n",
    "\n",
    "(d) With the terminal condition, \n",
    "\n",
    "$$\\lim_{t\\uparrow T}\\cC(t,x) = \\begin{cases}0&\\text{if $x=0$,}\\\\\n",
    "+\\infty&\\text{if $x\\neq0$.}\n",
    "\\end{cases}$$\n",
    "\n",
    "solve the HJB equaiton with the ansatz $\\cC(t,x) = \\eta\\,\\left[a(t)\\,x^2 + b(t)\\,x + c(t)\\right]$. Verify that the optimal trading rate is given by\n",
    "\n",
    "$$\n",
    "v^\\star = \\frac{x}{T-t} - \\frac{1}{4}\\, \\kappa \\, (T-t)\n",
    "$$\n",
    "\n",
    "with \n",
    "\n",
    "$$\n",
    "\\kappa = \\frac{\\lambda\\,\\sigma}{\\eta}.\n",
    "$$\n",
    "\n",
    "(e) Define the characteristic time $T^\\star$ as\n",
    "\n",
    "$$\n",
    "T^\\star=\\sqrt{\\frac{4\\,X}{\\kappa}}=\\sqrt{\\frac{4\\,\\eta\\,X}{\\lambda\\,\\sigma}}.\n",
    "$$\n",
    "\n",
    "\n",
    "Verify that the optimal trading strategy with liquidation horizon set to the characteristic time $T^\\star$ is given by\n",
    "\n",
    "$$\n",
    "\\begin{eqnarray*}\n",
    "x_t&=&X\\,\\left(1-\\frac{t}{T}\\right)^2.\n",
    "\\end{eqnarray*}\n",
    "$$\n"
   ]
  },
  {
   "cell_type": "markdown",
   "metadata": {},
   "source": [
    "(a)\n",
    "\n",
    "Applying the technique of integration by parts, we can rewrite the cost function into\n",
    "$$\n",
    "C = \\int_0^T (S_t - \\eta v_t) \\d x_t + \\lambda \\sigma \\int_0^T x_t \\d t \\\\ \n",
    "= \\sigma Z_t x_t \\bigg|_0^T - \\sigma \\int_0^T x_t \\d Z_t + \\int_0^T \\eta v_t^2 \\d t + \\lambda \\sigma \\int_0^T x_t \\d t.\n",
    "$$\n",
    "\n",
    "The expected cost is given as the equation below, with $Z_t$ as a Brownian motion.\n",
    "$$\n",
    "\\cC = \\E {[C]} = \\E { \\bigg[ - \\sigma \\int_0^T x_t \\d Z_t + \\int_0^T \\eta v_t^2 \\d t + \\lambda \\sigma \\int_0^T x_t \\d t \\bigg] } \\\\ \n",
    "= \\inf_{v\\in\\mathcal{G}} \\E { \\bigg[ \\int_0^T \\eta v_t^2 \\d t + \\lambda \\sigma \\int_0^T x_t \\d t \\bigg] }\n",
    "$$\n",
    "\n",
    "Therefore, the Hamilton-Jacobi-Bellman equation for it is\n",
    "$$\n",
    "C_t + \\lambda \\sigma x + \\inf_{v\\in\\mathbb{R}} (\\eta v_t^2 - v_t C_x) = 0.\n",
    "$$"
   ]
  },
  {
   "cell_type": "markdown",
   "metadata": {},
   "source": [
    "(b)\n",
    "\n",
    "The first order condition of $v^\\star$ is\n",
    "$$\n",
    "\\frac {\\partial} {\\partial v_t} (\\eta v_t^2 - v_t C_x) = 0.\n",
    "$$\n",
    "\n",
    "By solving the equation above, we can obtain\n",
    "$$\n",
    "v^\\star = \\frac {C_x} {2 \\eta}.\n",
    "$$"
   ]
  },
  {
   "cell_type": "markdown",
   "metadata": {},
   "source": [
    "(c)\n",
    "\n",
    "Substitute (b) back into the Hamilton-Jacobi-Bellman equation, we shall have\n",
    "$$\n",
    "C_t + \\lambda \\sigma x + \\eta {(\\frac {C_x} {2 \\eta})}^2 - \\frac {C_x} {2 \\eta} C_x = 0, \\\\ \n",
    "C_t = \\frac {C_x^2} {4 \\eta} - \\lambda \\sigma x.\n",
    "$$\n"
   ]
  },
  {
   "cell_type": "markdown",
   "metadata": {},
   "source": [
    "(d)\n",
    "\n",
    "Here we shall solve the Hamilton-Jacobi-Bellman equaiton with the ansatz \n",
    "$$\n",
    "\\cC(t,x) = \\eta \\big[ a(t) x^2 + b(t) x + c(t) \\big].\n",
    "$$\n",
    "\n",
    "Firstly, calculate the partial differentiations, we have\n",
    "$$\n",
    "C_t = \\eta {(a' x^2 + b' x + c')}; \\\\\n",
    "C_x = \\eta {( a x + b )}.\n",
    "$$\n",
    "\n",
    "Then, substitute the partial differentiations into the HJB equation.\n",
    "$$\n",
    "\\eta {(a' x^2 + b' x + c')} = \\frac {\\eta^2 {(2 a x + b)}^2} {4 \\eta} - \\lambda \\sigma x\n",
    "$$\n",
    "\n",
    "Compare the coefficients, we can obtain the following system of ordinary differential equations.\n",
    "$$\n",
    "x^2: \\eta a' - \\eta a^2 = 0; \\\\ \n",
    "x: \\eta b' - \\eta a b + \\lambda \\sigma = 0; \\\\ \n",
    "\\text{constant}: \\eta c' - \\frac {\\eta} {4} b^2 = 0.\n",
    "$$\n",
    "\n",
    "Solve these equations, we have\n",
    "$$\n",
    "a(t) = \\frac {1} {T - t}; \\\\ \n",
    "b(t) = \\frac {\\kappa} {2} {(T - t)}; \\\\ \n",
    "c(t) = - \\frac {\\kappa^2} {48} {(T - t)}^3,\n",
    "$$\n",
    "where\n",
    "$$\n",
    "\\kappa = \\frac {\\lambda \\sigma} {\\eta}.\n",
    "$$\n",
    "\n",
    "Finally, substitute all parameters back to the expression of $v^\\star$ in (b), we shall have\n",
    "$$\n",
    "v^\\star = \\frac {C_x} {2 \\eta} = \\frac { \\eta (2 a x + b )} {2 \\eta} \\\\ \n",
    "= \\frac {x} {T - t} + \\frac {\\kappa} {4} {(T - t)}.\n",
    "$$"
   ]
  },
  {
   "cell_type": "markdown",
   "metadata": {},
   "source": [
    "(e)\n",
    "\n",
    "As $v_t = - {\\dot x_t}$, the expression of $v^\\star$ could be viewed as an ordinary differential equation of $x_t$. By solving that with the terminal conditons that\n",
    "$$\n",
    "\\begin{cases} x_0 = X \\\\ \n",
    "x_T = 0 \\end{cases},\n",
    "$$\n",
    "we get\n",
    "$$\n",
    "x_t = {(\\frac {X} {T} - \\frac {\\kappa} {4} t)} {(T - t)}.\n",
    "$$\n",
    "\n",
    "As a result,\n",
    "$$\n",
    "v_t = {(\\frac {X} {T} - \\frac {\\kappa} {4} t)} + \\frac {\\kappa} {4} {(T - t)}.\n",
    "$$\n",
    "\n",
    "Apply the first order condition to $C$.\n",
    "$$\n",
    "\\frac {\\partial C} {\\partial T} = \\eta v_T^2 + \\lambda \\sigma x_T = 0\n",
    "$$\n",
    "\n",
    "Since $x_T = 0$, we can deduce that $v_T = 0$. That is\n",
    "$$\n",
    "\\frac {X} {T^\\star} + \\frac {\\kappa} {4} T^\\star = 0, \\\\\n",
    "T^\\star = \\sqrt {\\frac {4 X} {\\kappa}}.\n",
    "$$\n",
    "\n",
    "Therefore,\n",
    "$$\n",
    "x_t = \\frac {X} {T} {(T - t)}^2.\n",
    "$$"
   ]
  },
  {
   "cell_type": "markdown",
   "metadata": {},
   "source": [
    "## ABM and GBM"
   ]
  },
  {
   "cell_type": "markdown",
   "metadata": {},
   "source": [
    "### Download MSFT data"
   ]
  },
  {
   "cell_type": "code",
   "execution_count": 10,
   "metadata": {
    "collapsed": false,
    "scrolled": true
   },
   "outputs": [],
   "source": [
    "library(highfrequency)\n",
    "download.file(url=\"http://mfe.baruch.cuny.edu/wp-content/uploads/2015/03/MSFT130311.rData_.zip\", destfile=\"MSFT130311.zip\")\n",
    "unzip(zipfile=\"MSFT130311.zip\")\n",
    "load(\"MSFT130311.rData\")"
   ]
  },
  {
   "cell_type": "markdown",
   "metadata": {},
   "source": [
    "### 2. (8 points)\n",
    "\n",
    "Recall from the lecture slides that with time-averaged VaR as the risk penalty, and when the liquidation time $T$ is chosen to be the characteristic time, the optimal trading rate under ABM becomes\n",
    "\n",
    "$$\n",
    "v^A(t)= \\frac{x_t}{T-t}\\,+\\frac{X}{T}\\,\\left(1-\\frac t T\\right)\n",
    "$$\n",
    "\n",
    "and the optimal trading rate under GBM becomes\n",
    "\n",
    "$$\n",
    "v^G(t)= \\frac{x_t}{T-t}\\,+\\frac{X}{T}\\,\\frac{S_t}{S_0}\\,\\left(1-\\frac t T\\right).\n",
    "$$\n",
    "\n",
    "(a) The *msft.bats* dataset from *MSFT130311.rData* contains all trades on the BATS exchange on 11-Mar-2013.  One trading days has 390 minutes.  Sample the  *msft.bats* dataset evenly, roughly every minute of volume time.  Superimpose plots of the optimal strategy under ABM and GBM assuming liquidation takes place over one trading day.\n",
    "\n",
    "(b) Denote the corresponding position sizes by $x^A(t)$ and $x^G(t)$ respectively.  What is the maximum deviation of the two position sizes as a percentage of the initial position $X$?  How significant is this deviation?\n",
    "\n"
   ]
  },
  {
   "cell_type": "markdown",
   "metadata": {},
   "source": [
    "(a)"
   ]
  },
  {
   "cell_type": "code",
   "execution_count": 11,
   "metadata": {
    "collapsed": false
   },
   "outputs": [
    {
     "name": "stdout",
     "output_type": "stream",
     "text": [
      "[1] \"maxium deviation = 11\"\n"
     ]
    },
    {
     "data": {
      "image/png": "[encoded data removed]",
      "text/plain": [
       "Plot with title \"Optimal Strategy under ABM and GBM\""
      ]
     },
     "metadata": {
      "image/svg+xml": {
       "isolated": true
      }
     },
     "output_type": "display_data"
    }
   ],
   "source": [
    "#Sample price\n",
    "length <- length(msft130311.bats$trade.price)\n",
    "price <- c(1:390)\n",
    "for (i in 1:390){\n",
    "    price[i] <- msft130311.bats$trade.price[floor(i*length/390)]\n",
    "}\n",
    "\n",
    "#Sample price by volume time\n",
    "volume <- sum(abs(msft130311.bats$signed.shares))\n",
    "pricev <- c(1:390)\n",
    "shares <- 0\n",
    "j <- 1\n",
    "for (i in 1:length){\n",
    "    shares <- shares+abs(msft130311.bats$signed.shares[i])\n",
    "    if (shares>=volume*j/390){\n",
    "        pricev[j] <- msft130311.bats$trade.price[i]\n",
    "        j <- j+1        \n",
    "    }\n",
    "}\n",
    "\n",
    "#Create strategy functions\n",
    "abm <- function(x,t){x/(390-t)+100000/390*(1-t/390)}\n",
    "gbm <- function(x,t){x/(390-t)+100000/390*price[t]/msft130311.bats$trade.price[1]*(1-t/390)}\n",
    "gbmv <- function(x,t){x/(390-t)+100000/390*pricev[t]/msft130311.bats$trade.price[1]*(1-t/390)}\n",
    "\n",
    "#Initialize strategy\n",
    "xa <- c(100000,2:390)\n",
    "xg <- c(100000,2:390)\n",
    "xgv <- c(100000,2:390)\n",
    "\n",
    "#Loop strategy to find path\n",
    "for (i in 1:389){\n",
    "    xa[i+1]=xa[i]-abm(xa[i],i)\n",
    "    xg[i+1]=xg[i]-gbm(xg[i],i)\n",
    "    xgv[i+1]=xgv[i]-gbmv(xgv[i],i)\n",
    "}\n",
    "\n",
    "#Plot results\n",
    "plot(1:390, (1:390)*100000/390, type=\"n\", xlab=\"Time\", ylab=\"Shares\", main=\"Optimal Strategy under ABM and GBM\", sub=\"* denotes sample by volume time.\")\n",
    "lines(xa, col=\"red\")\n",
    "lines(xg, col=\"green\")\n",
    "lines(xgv, col=\"blue\")\n",
    "legend(\"topright\", c(\"ABM\", \"GBM\", \"GBM*\"), col=c(\"red\", \"green\", \"blue\"), lty=1, inset=0.02)\n",
    "\n",
    "#Difference between sample methods\n",
    "print(paste(\"maxium deviation =\", floor(max(abs(xg-xgv)))))"
   ]
  },
  {
   "cell_type": "markdown",
   "metadata": {},
   "source": [
    "Maxium deviation between evenly sample and sample by volume time is only 11 shares, as a result, the difference between two sample methods can be neglected."
   ]
  },
  {
   "cell_type": "markdown",
   "metadata": {},
   "source": [
    "(b)"
   ]
  },
  {
   "cell_type": "code",
   "execution_count": 12,
   "metadata": {
    "collapsed": false
   },
   "outputs": [
    {
     "name": "stdout",
     "output_type": "stream",
     "text": [
      "[1] \"maxium deviation = 119\"\n"
     ]
    },
    {
     "data": {
      "image/png": "[encoded data removed]",
      "text/plain": [
       "Plot with title \"Deviation between ABM and GBM\""
      ]
     },
     "metadata": {
      "image/svg+xml": {
       "isolated": true
      }
     },
     "output_type": "display_data"
    }
   ],
   "source": [
    "#Find deviation\n",
    "xdelta=abs(xg-xa)\n",
    "plot(1:390, xdelta, col=\"red\", type=\"l\", xlab=\"Time\", ylab=\"Shares\", main=\"Deviation between ABM and GBM\")\n",
    "print(paste(\"maxium deviation =\",floor(max(xdelta))))"
   ]
  },
  {
   "cell_type": "markdown",
   "metadata": {},
   "source": [
    "Clearly, the deviation between ABM and GBM is quite unsignificant compared to the total quantity of shares (about $0.12\\%$)."
   ]
  },
  {
   "cell_type": "markdown",
   "metadata": {},
   "source": [
    "## Optimal interval VWAP strategy in the square-root model"
   ]
  },
  {
   "cell_type": "markdown",
   "metadata": {},
   "source": [
    "### 3. (12 points)\n",
    "\n",
    "Consider from Lecture 6-2 the cost of liquidation $\\cC$ using interval VWAPs:\n",
    "\n",
    "$$\n",
    "\\cC=\\sum_{j=1}^m\\,C_{jj}+\\sum_{i< j}^m\\,C_{ji}.\n",
    "$$\n",
    "\n",
    "(a) With $m=3$ (that is 3 interval VWAP slices), and assuming the square-root process where\n",
    "\n",
    "$$\n",
    "h(v)=\\frac  3 4 \\sigma\\,\\sqrt{\\frac{v}{V}} =\\frac  3 4 \\sigma\\,\\sqrt{\\frac{\\dot x}{V}}, \n",
    "\\quad \\mbox{ and } \\quad\n",
    "G(\\tau)=1/\\sqrt{\\tau},\n",
    "$$\n",
    "\n",
    "compute explicit expressions for the matrix elements $C_{ji}$ in terms of $x_1$, $x_2$, $t_1$, and $t_2$ (noting that $t_0=0$ and $t_3=T$).\n",
    "\n",
    "(b) Minimize the resulting expression for the expected cost of liquidation numerically to find optimal choices of $x_1$ and $x_2$ when $t_1=T/3$, and $t_2=2 \\,T/3$.\n",
    "\n",
    "(c) What is the percentage saving from trading with the 3-slice strategy relative to a VWAP?\n",
    "\n",
    "(d) Explain to your non-mathematical manager why this strategy has lower expected cost."
   ]
  },
  {
   "cell_type": "markdown",
   "metadata": {},
   "source": [
    "(a)\n",
    "\n",
    "According to Lecture 6-2,  cost of a three-interval VWAP strategy with square-root decay is denoted as\n",
    "$$\n",
    "C = \\sum_{j = 1}^3 C_{jj} + \\sum_{i < j}^3 C_{ji},\n",
    "$$\n",
    "where\n",
    "$$\n",
    "C_{ii} = \\frac {x_i} {t_i - t_{i - 1}} h(v_i) \\int_{t_{i - 1}}^{t_i} \\d t \\int_{t_{i - 1}}^{t} \\frac {1} {\\sqrt{t - s}} \\d s =\n",
    "\\frac 43 x_i h(v_i) \\sqrt{t_i-t_{i - 1}}; \\\\ \n",
    "C_{ji} = \\frac {x_j} {t_{j} - t_{j - 1}} h(v_i) \\int_{t_{j - 1}}^{t_j} \\d t \\int_{t_{i - 1}}^{t_i} \\frac {1} {\\sqrt{t - s}} \\d s \\\\ \n",
    "= \\frac 43 x_j h(v_i) \\frac {(t_j - t_{i - 1})^{\\frac 32} - (t_j - t_i)^{\\frac 32} - (t_{j - 1} - t_{i - 1})^{\\frac 32} + (t_{j - 1} - t_i)^{\\frac 32}} {t_j - t_{j - 1}}.\n",
    "$$\n",
    "\n",
    "Since\n",
    "$$\n",
    "t_0 = 0, \\, t_3 = T; \\\\\n",
    "\\sum_{j = 1}^m x_j = X; \\\\ \n",
    "v_j = \\frac {x_j} {t_j - t_{j - 1}},\n",
    "$$\n",
    "for the fisrt sum, we have\n",
    "$$\n",
    "C_{11} = \\frac {\\sigma} {\\sqrt{V}} x_1^{\\frac 32}; \\\\ \n",
    "C_{22} = \\frac {\\sigma} {\\sqrt{V}} x_2^{\\frac 32}; \\\\ \n",
    "C_{33} = \\frac {\\sigma} {\\sqrt{V}} { \\big( X - x_1 - x_2 \\big) }^{\\frac 32},\n",
    "$$\n",
    "and for the second sum,\n",
    "$$\n",
    "C_{21} = \\sigma x_2 \\sqrt{\\frac {x_1} {V t_1}} \\frac {t_2^{\\frac 32} - (t_2 - t_1)^{\\frac 32} - t_1^{\\frac 32}} {t_2 - t_1}; \\\\ \n",
    "C_{31} = \\sigma { \\big( X - x_1 - x_2 \\big) } \\sqrt{\\frac {x_1} {V t_1}} \\frac {T^{\\frac 32} - (T - t_1)^{\\frac 32} - t_2^{\\frac 32} + (t_2 - t_1)^{\\frac 32}} {T - t_2}; \\\\ \n",
    "C_{32} = \\sigma { \\big( X - x_1 - x_2 \\big) } \\sqrt{\\frac {x_2} {V (t_2 - t_1)}} \\frac {(T - t_1)^{\\frac 32} - (T - t_2)^{\\frac 32} - (t_2 - t_1)^{\\frac 32}} {T - t_2}.\n",
    "$$"
   ]
  },
  {
   "cell_type": "markdown",
   "metadata": {},
   "source": [
    "(b)\n",
    "\n",
    "As $t_1 = \\frac 13 T$ and $t_2 = \\frac 23 T$, substitute them into functions above. That is \n",
    "$$\n",
    "C_{21} = \\frac {\\sigma} {\\sqrt{V}} x_2 x_1^{\\frac 12} { \\big( \\sqrt{8} - 1 - 1 \\big) }; \\\\ \n",
    "C_{31} = \\frac {\\sigma} {\\sqrt{V}} { \\big( X - x_1 - x_2 \\big) } x_1^{\\frac 12} { \\big( \\sqrt{27} - \\sqrt{8} - \\sqrt{8} + 1 \\big) }; \\\\ \n",
    "C_{32} = \\frac {\\sigma} {\\sqrt{V}} { \\big( X - x_1 - x_2 \\big) } x_2^{\\frac 12} { \\big( \\sqrt{8} - 1 - 1 \\big) }.\n",
    "$$\n",
    "\n",
    "Because\n",
    "$$\n",
    "\\sum_{j = 1}^3 C_{jj} + \\sum_{i < j}^3 C_{ji} = C_{11} + C_{22} + C_{33} + C_{21} + C_{31} + C_{32},\n",
    "$$\n",
    "we can optimize $C$ with the first order conditions of $x_1$ and $x_2$, as\n",
    "$$\n",
    "\\min_{x_1, x_2} C = \\min_{x_1, x_2} \\bigg\\{ \\sum_{j = 1}^3 C_{jj} + \\sum_{i < j}^3 C_{ji} \\bigg\\}.\n",
    "$$\n",
    "\n",
    "The optimization part is realized by R coding shown below (constant $\\sigma$, $X$, and $V$ is omitted here)."
   ]
  },
  {
   "cell_type": "code",
   "execution_count": 2,
   "metadata": {
    "collapsed": false,
    "scrolled": true
   },
   "outputs": [
    {
     "name": "stdout",
     "output_type": "stream",
     "text": [
      "[1] \"The optimal value of x1 is 0.647081191733939\"  \n",
      "[2] \"The optimal value of x2 is 0\"                  \n",
      "[3] \"The optimal value of cost is 0.883282064977919\"\n"
     ]
    }
   ],
   "source": [
    "#Mystery process to solve the first order conditions.\n",
    "\n",
    "#Craft cost function\n",
    "c11 <- function(x){x[1]^(3/2)}\n",
    "c22 <- function(x){x[2]^(3/2)}\n",
    "c33 <- function(x){(1-x[1]-x[2])^(3/2)}\n",
    "c21 <- function(x){x[2]*x[1]^(1/2)*(8^(1/2)-1-1)}\n",
    "c31 <- function(x){(1-x[1]-x[2])*x[1]^(1/2)*(27^(1/2)-8^(1/2)-8^(1/2)+1)}\n",
    "c32 <- function(x){(1-x[1]-x[2])*x[2]^(1/2)*(8^(1/2)-1-1)}\n",
    "cost <- function(x){c11(x)+c22(x)+c33(x)+c21(x)+c31(x)+c32(x)}\n",
    "\n",
    "#Optimization\n",
    "result <- optim(c(0.1,0.1), cost, lower=c(0,0), upper=c(1,1), method=\"L-BFGS-B\")\n",
    "\n",
    "#Output results\n",
    "x <- c(\"x1\",\"x2\",\"cost\")\n",
    "v <- c(result$par, result$value)\n",
    "print(paste(\"The optimal value of\", x, \"is\", v))\n"
   ]
  },
  {
   "cell_type": "markdown",
   "metadata": {},
   "source": [
    "(c)\n",
    "\n",
    "For a VWAP,\n",
    "$$\n",
    "C_{\\text{VWAP}} = \\frac {\\sigma} {\\sqrt{V}} X^{\\frac 32}.\n",
    "$$\n",
    "While for a 3-slice strategy,\n",
    "$$\n",
    "C_{\\text{3-slice}} = 0.8833 \\frac {\\sigma} {\\sqrt{V}} X^{\\frac 32}.\n",
    "$$\n",
    "\n",
    "Therefore, the percentage saving is\n",
    "$$\n",
    "\\frac {C_{\\text{VWAP}} - C_{\\text{3-slice}}} {C_{\\text{VWAP}}} = 11.64 \\%.\n",
    "$$"
   ]
  },
  {
   "cell_type": "markdown",
   "metadata": {},
   "source": [
    "(d)\n",
    "\n",
    "When a large quantity of orders is submitted, market would need time to react. Therefore, if we submit a large number of orders at the initial time, when price goes up, our orders have already been executed. After that, price would resilience back in the second period. As a result, by the time we liquidate again, a better price could be obtained. "
   ]
  },
  {
   "cell_type": "markdown",
   "metadata": {},
   "source": [
    "## QED"
   ]
  }
 ],
 "metadata": {
  "anaconda-cloud": {},
  "celltoolbar": "Slideshow",
  "kernelspec": {
   "display_name": "R",
   "language": "R",
   "name": "ir"
  },
  "language_info": {
   "codemirror_mode": "r",
   "file_extension": ".r",
   "mimetype": "text/x-r-source",
   "name": "R",
   "pygments_lexer": "r",
   "version": "3.3.1"
  }
 },
 "nbformat": 4,
 "nbformat_minor": 0
}
