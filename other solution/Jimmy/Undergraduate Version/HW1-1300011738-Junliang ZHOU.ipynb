{
 "cells": [
  {
   "cell_type": "markdown",
   "metadata": {},
   "source": [
    "## Junliang ZHOU\n",
    "\n",
    "Student ID: 1300011738\n",
    "\n",
    "TEL: +86 186-1002-0527\n",
    "\n",
    "Email: <junliangzhou@pku.edu.cn>"
   ]
  },
  {
   "cell_type": "markdown",
   "metadata": {},
   "source": [
    "### Updating log 1.3\n",
    "1. In Problem 2(b): Modified range of slope fittings."
   ]
  },
  {
   "cell_type": "markdown",
   "metadata": {},
   "source": [
    "### Updating log 1.2\n",
    "1. In Problem 2(b): Added fittings to order slope and depth of each simulation.\n",
    "2. In Problem 2(c) and 2(d): Modified answers related to parameters of simulation results. "
   ]
  },
  {
   "cell_type": "markdown",
   "metadata": {},
   "source": [
    "### Updating log 1.1\n",
    "1. In Problem 3(b) and 3(c): Corrected an error related to the calculation of sample error."
   ]
  },
  {
   "cell_type": "markdown",
   "metadata": {},
   "source": [
    "# Topics in Market Microstructure Models - Homework 1 \n",
    "\n",
    "Assigned: July 12, 2016.\n",
    "Due: July 19, 2016 by 1pm. \n",
    "\n",
    "Late homework **will not be accepted**.\n",
    "\n",
    "$$\n",
    "\\newcommand{\\supp}{\\mathrm{supp}}\n",
    "\\newcommand{\\E}{\\mathbb{E} }\n",
    "\\def\\Cov{{ \\mbox{Cov} }}\n",
    "\\def\\Var{{ \\mbox{Var} }}\n",
    "\\newcommand{\\1}{\\mathbf{1} }\n",
    "\\newcommand{\\PP}{\\mathbb{P} }\n",
    "%\\newcommand{\\Pr}{\\mathrm{Pr} }\n",
    "\\newcommand{\\QQ}{\\mathbb{Q} }\n",
    "\\newcommand{\\RR}{\\mathbb{R} }\n",
    "\\newcommand{\\DD}{\\mathbb{D} }\n",
    "\\newcommand{\\HH}{\\mathbb{H} }\n",
    "\\newcommand{\\spn}{\\mathrm{span} }\n",
    "\\newcommand{\\cov}{\\mathrm{cov} }\n",
    "\\newcommand{\\sgn}{\\mathrm{sgn} }\n",
    "\\newcommand{\\HS}{\\mathcal{L}_{\\mathrm{HS}} }\n",
    "%\\newcommand{\\HS}{\\mathrm{HS} }\n",
    "\\newcommand{\\trace}{\\mathrm{trace} }\n",
    "\\newcommand{\\LL}{\\mathcal{L} }\n",
    "%\\newcommand{\\LL}{\\mathrm{L} }\n",
    "\\newcommand{\\s}{\\mathcal{S} }\n",
    "\\newcommand{\\ee}{\\mathcal{E} }\n",
    "\\newcommand{\\ff}{\\mathcal{F} }\n",
    "\\newcommand{\\hh}{\\mathcal{H} }\n",
    "\\newcommand{\\bb}{\\mathcal{B} }\n",
    "\\newcommand{\\dd}{\\mathcal{D} }\n",
    "\\newcommand{\\g}{\\mathcal{G} }\n",
    "\\newcommand{\\p}{\\partial}\n",
    "\\newcommand{\\half}{\\frac{1}{2} }\n",
    "\\newcommand{\\T}{\\mathcal{T} }\n",
    "\\newcommand{\\bi}{\\begin{itemize}}\n",
    "\\newcommand{\\ei}{\\end{itemize}}\n",
    "\\newcommand{\\beq}{\\begin{equation}}\n",
    "\\newcommand{\\eeq}{\\end{equation}}\n",
    "\\newcommand{\\beas}{\\begin{eqnarray*}}\n",
    "\\newcommand{\\eeas}{\\end{eqnarray*}}\n",
    "\\newcommand{\\cO}{\\mathcal{O}}\n",
    "\\newcommand{\\cF}{\\mathcal{F}}\n",
    "\\newcommand{\\cL}{\\mathcal{L}}\n",
    "\\newcommand{\\BS}{\\text{BS}}\n",
    "$$"
   ]
  },
  {
   "cell_type": "markdown",
   "metadata": {},
   "source": [
    "<font color = \"red\">Homework is to be done by each student individually.  To receive full credit, you must email a completed copy of this Jupyter notebook to Xinquan Chen (cxq_ccer@163.com) and Tai-Ho Wang (tai-ho.wang@baruch.cuny.edu) by the due date and time.  All R-code must run correctly and solutions must be written up neatly in Markdown/LaTeX format.\n",
    "\n",
    "<font color=\"blue\">If you encounter problems with Markdown/LaTeX or Jupyter notebook, please contact your TA Xinquan Chen.\n"
   ]
  },
  {
   "cell_type": "markdown",
   "metadata": {},
   "source": [
    "## The Smith Farmer zero-intelligence model"
   ]
  },
  {
   "cell_type": "markdown",
   "metadata": {},
   "source": [
    "### Download R code\n",
    "\n",
    "The following code sources *ziSetup.R* which has all the functions required for the problem."
   ]
  },
  {
   "cell_type": "code",
   "execution_count": 2,
   "metadata": {
    "collapsed": false
   },
   "outputs": [],
   "source": [
    "download.file(url=\"http://mfe.baruch.cuny.edu/wp-content/uploads/2015/01/ziSetup.zip\", destfile=\"ziSetup.zip\")\n",
    "unzip(zipfile=\"ziSetup.zip\")"
   ]
  },
  {
   "cell_type": "code",
   "execution_count": 6,
   "metadata": {
    "collapsed": false
   },
   "outputs": [],
   "source": [
    "source(\"ziSetup.R\")"
   ]
  },
  {
   "cell_type": "markdown",
   "metadata": {},
   "source": [
    "### 1. (4 points)\n",
    "\n",
    "Using the provided functions in *ziSetup.R* (with $\\alpha = 1$, $\\mu = 10$, $\\delta = 1/5$),\n",
    "initialize the order book and add two orders to the (best) bid side of the book. The resulting\n",
    "book should have 3 orders at best bid and 1 order at best offer. Plot the resulting book\n",
    "shape."
   ]
  },
  {
   "cell_type": "code",
   "execution_count": 12,
   "metadata": {
    "collapsed": false,
    "scrolled": false,
    "slideshow": {
     "slide_type": "-"
    }
   },
   "outputs": [
    {
     "data": {
      "image/png": "[encoded data removed]",
      "text/plain": [
       "Plot with title \"NA\""
      ]
     },
     "metadata": {
      "image/svg+xml": {
       "isolated": true
      }
     },
     "output_type": "display_data"
    }
   ],
   "source": [
    "#Mystery tag\n",
    "logging <- F\n",
    "\n",
    "#Initialize the order book\n",
    "alpha <- 1\n",
    "mu <- 10\n",
    "delta <- 1/5 \n",
    "initializeBook5()\n",
    "\n",
    "#Add two orders to best bid\n",
    "for(count in 1:2){\n",
    "  limitBuyOrder(bestBid())\n",
    "}\n",
    "\n",
    "#Plot the result\n",
    "plot(-20:20, bookShape(20), main=NA, xlab=\"Relative price\", ylab=\"# Shares\", col=\"red\", type=\"b\")\n"
   ]
  },
  {
   "cell_type": "markdown",
   "metadata": {},
   "source": [
    "### 2. (16 points)\n",
    "\n",
    "(a) Using the code supplied to generate Figure 2 as a template, simulate 100,000 events, computing the average book shape (in a band $\\pm 20$ around the mid price) for the\n",
    "following sets of parameters:\n",
    "\n",
    "|$\\alpha$|$\\mu$|$\\delta$|\n",
    "-----|-----:|-------:|\n",
    "I| 1 | 10 | $\\frac15$\n",
    "II| 1 | 8 |  $\\frac15$\n",
    "III| 1 |  10 | $\\frac16$\n",
    "IV| 1  | 10 | $\\frac18$ \n",
    "\n",
    "<font color=blue> Warning: This might take longer than 15 minutes to run!. </font>\n",
    "\n",
    "\n",
    "(b) Generate a summary plot of the average book shapes for each parameter set (I, II, II, and IV).\n",
    "\n",
    "(c) Verify that the relationships between the slopes of the order books at-the-money for each parameter set are consistent with the predictions from dimensional analysis.\n",
    "\n",
    "(d) Verify that the asymptotic book depths are consistent with the predictions from dimensional analysis."
   ]
  },
  {
   "cell_type": "markdown",
   "metadata": {},
   "source": [
    "(a), (b)"
   ]
  },
  {
   "cell_type": "code",
   "execution_count": 10,
   "metadata": {
    "collapsed": false,
    "scrolled": false
   },
   "outputs": [
    {
     "name": "stdout",
     "output_type": "stream",
     "text": [
      "         Slope    Depth\n",
      "I   -0.5433792 4.928018\n",
      "II  -0.5358894 5.048749\n",
      "III -0.6372678 5.989811\n",
      "IV  -0.8862045 7.951521\n"
     ]
    },
    {
     "data": {
      "image/png": "[encoded data removed]",
      "text/plain": [
       "Plot with title \"IV\""
      ]
     },
     "metadata": {
      "image/svg+xml": {
       "isolated": true
      }
     },
     "output_type": "display_data"
    }
   ],
   "source": [
    "#Function to plot average book shape for given parameters\n",
    "Figure2 <- function(a, m, d, n){\n",
    "\n",
    "    #Mystery tag again\n",
    "    logging <- F\n",
    "\n",
    "    #Initialize order book\n",
    "    alpha <<- a\n",
    "    mu <<- m\n",
    "    delta <<- d \n",
    "    initializeBook5()\n",
    "\n",
    "    #Burn in for 100 events\n",
    "    #Don't know what for, so be it.\n",
    "    for(count in 1:100){\n",
    "        generateEvent()\n",
    "    }\n",
    "\n",
    "    #Set event times\n",
    "    numEvents <- 100000 \n",
    "\n",
    "    #Calculate average book shape\n",
    "    avgBookShape <- bookShape(20) / numEvents\n",
    "    for(count in 2:numEvents){\n",
    "        generateEvent()\n",
    "        avgBookShape <- avgBookShape + bookShape(20) / numEvents\n",
    "    }\n",
    "    \n",
    "    #Fit order slope and depth\n",
    "    Fitting1 <- lm(avgBookShape[13:21] ~ c(-8:0))\n",
    "    Fitting2 <- lm(avgBookShape[21:29] ~ c(0:8))\n",
    "    Slope1 <- summary(Fitting1)$coefficients[2]\n",
    "    Slope2 <- summary(Fitting2)$coefficients[2]\n",
    "    Slope <- (Slope1-Slope2) / 2\n",
    "    Depth <- (mean(avgBookShape[1:10]) + mean(avgBookShape[32:41])) / 2\n",
    "    Results[n,1] <<- Slope\n",
    "    Results[n,2] <<- Depth\n",
    "    \n",
    "    #Plot the result)\n",
    "    plot(-20:20, avgBookShape, main=rownames(Results)[n], xlab=\"Relative price\", ylab=\"# Shares\", col=\"red\", type=\"b\")\n",
    "    \n",
    "}\n",
    "\n",
    "#Setup result matrix\n",
    "Results=matrix(0,4,2)\n",
    "rownames(Results) <- c(\"I\", \"II\", \"III\", \"IV\")\n",
    "colnames(Results) <- c(\"Slope\", \"Depth\")\n",
    "\n",
    "#Set plots position\n",
    "par(mfrow=c(2,2))\n",
    "\n",
    "#Plot results\n",
    "Figure2(1, 10, 1/5, 1)\n",
    "Figure2(1, 8, 1/5, 2)\n",
    "Figure2(1, 10, 1/6, 3)\n",
    "Figure2(1, 10, 1/8, 4)\n",
    "print(Results)"
   ]
  },
  {
   "cell_type": "markdown",
   "metadata": {
    "collapsed": true
   },
   "source": [
    "(c), (d)\n",
    "\n",
    "As we know, the slope of the order book has the dimension \n",
    "$$\n",
    "\\frac{\\alpha^2}{\\mu\\,\\delta}\n",
    "$$\n",
    "While the asymptotic book depth has the dimension \n",
    "$$\n",
    "\\frac{\\alpha}{\\delta}\n",
    "$$\n",
    "Thus, we can calculate the slope and the depth for each given sets of parameters. The results are shown below.\n",
    "\n",
    "|    |  Slope  |  Depth  |\n",
    "|:------:|:-------:|:-------:|\n",
    "|I|$\\frac12$|5|\n",
    "|II|$\\frac58$|5|  \n",
    "|III|$\\frac35$|6|\n",
    "|IV|$\\frac45$|8|\n",
    "\n",
    "Then, taking a look at those four plots and corresponding parameters drawn above, it can be easily conducted that all of these four plots are consistent with the predictions from dimensional analysis.\n"
   ]
  },
  {
   "cell_type": "markdown",
   "metadata": {},
   "source": [
    "### The following code sets up the data required for Problem 3."
   ]
  },
  {
   "cell_type": "code",
   "execution_count": 1,
   "metadata": {
    "collapsed": false
   },
   "outputs": [],
   "source": [
    "download.file(url=\"http://mfe.baruch.cuny.edu/wp-content/uploads/2015/01/ziSimResults.rData_.zip\", destfile=\"ziSimResults.rData.zip\")\n",
    "unzip(zipfile=\"ziSimResults.rData.zip\")\n",
    "load(\"ziSimResults.rData\")"
   ]
  },
  {
   "cell_type": "code",
   "execution_count": 2,
   "metadata": {
    "collapsed": true
   },
   "outputs": [],
   "source": [
    "library(pracma)"
   ]
  },
  {
   "cell_type": "markdown",
   "metadata": {},
   "source": [
    "### 3. (12 points)\n",
    "\n",
    "The datafile *ziSimResults.rData* contains a list of bid and ask prices after 100 events resulting from 10,000 simulations of the SFGK model with $\\alpha = 1$, $\\mu = 10$, and $\\delta = 1/5$. The $j$th element of the list has results for an initial book configuration with $q_b = j$ shares on the bid side and $q_a = 1$ share on the ask side."
   ]
  },
  {
   "cell_type": "code",
   "execution_count": 5,
   "metadata": {
    "collapsed": false,
    "scrolled": true
   },
   "outputs": [
    {
     "data": {
      "text/html": [
       "<table>\n",
       "<thead><tr><th></th><th scope=col>bid</th><th scope=col>ask</th><th scope=col>bid.1</th><th scope=col>ask.1</th><th scope=col>bid.2</th><th scope=col>ask.2</th><th scope=col>bid.3</th><th scope=col>ask.3</th><th scope=col>bid.4</th><th scope=col>ask.4</th><th scope=col>bid.5</th><th scope=col>ask.5</th><th scope=col>bid.6</th><th scope=col>ask.6</th><th scope=col>bid.7</th><th scope=col>ask.7</th><th scope=col>bid.8</th><th scope=col>ask.8</th><th scope=col>bid.9</th><th scope=col>ask.9</th></tr></thead>\n",
       "<tbody>\n",
       "\t<tr><th scope=row>1</th><td>-1</td><td> 2</td><td>-2</td><td> 2</td><td>-2</td><td> 4</td><td>-1</td><td> 3</td><td>-1</td><td> 3</td><td>-1</td><td> 2</td><td>-1</td><td> 2</td><td> 0</td><td> 3</td><td>-1</td><td> 2</td><td>-1</td><td> 0</td></tr>\n",
       "\t<tr><th scope=row>2</th><td>-1</td><td> 4</td><td>-3</td><td>-1</td><td>-2</td><td> 3</td><td> 1</td><td> 3</td><td>-2</td><td> 1</td><td>-1</td><td> 0</td><td>-1</td><td> 3</td><td> 0</td><td> 4</td><td>-1</td><td> 1</td><td> 1</td><td> 2</td></tr>\n",
       "\t<tr><th scope=row>3</th><td>-2</td><td>-1</td><td>-1</td><td> 0</td><td>-1</td><td> 0</td><td>-1</td><td> 3</td><td>-2</td><td> 2</td><td>-1</td><td> 2</td><td> 2</td><td> 3</td><td>-1</td><td> 1</td><td>-1</td><td> 1</td><td>-1</td><td> 0</td></tr>\n",
       "\t<tr><th scope=row>4</th><td> 0</td><td> 3</td><td>-2</td><td> 3</td><td>-2</td><td> 3</td><td>-2</td><td> 1</td><td> 0</td><td> 3</td><td>-1</td><td> 2</td><td>-1</td><td> 1</td><td>-1</td><td> 2</td><td>-1</td><td> 0</td><td>-1</td><td> 3</td></tr>\n",
       "\t<tr><th scope=row>5</th><td>-2</td><td> 2</td><td> 0</td><td> 4</td><td> 0</td><td> 3</td><td> 3</td><td> 5</td><td>-2</td><td> 2</td><td> 0</td><td> 3</td><td>-1</td><td> 2</td><td>-1</td><td> 2</td><td>-1</td><td> 2</td><td> 1</td><td> 3</td></tr>\n",
       "\t<tr><th scope=row>6</th><td>-2</td><td> 0</td><td>-4</td><td> 1</td><td>-1</td><td> 1</td><td>-3</td><td> 2</td><td>-1</td><td> 3</td><td> 1</td><td> 3</td><td>-1</td><td> 1</td><td> 1</td><td> 2</td><td> 3</td><td> 4</td><td> 2</td><td> 3</td></tr>\n",
       "</tbody>\n",
       "</table>\n"
      ],
      "text/latex": [
       "\\begin{tabular}{r|llllllllllllllllllll}\n",
       "  & bid & ask & bid.1 & ask.1 & bid.2 & ask.2 & bid.3 & ask.3 & bid.4 & ask.4 & bid.5 & ask.5 & bid.6 & ask.6 & bid.7 & ask.7 & bid.8 & ask.8 & bid.9 & ask.9\\\\\n",
       "\\hline\n",
       "\t1 & -1 &  2 & -2 &  2 & -2 &  4 & -1 &  3 & -1 &  3 & -1 &  2 & -1 &  2 &  0 &  3 & -1 &  2 & -1 &  0\\\\\n",
       "\t2 & -1 &  4 & -3 & -1 & -2 &  3 &  1 &  3 & -2 &  1 & -1 &  0 & -1 &  3 &  0 &  4 & -1 &  1 &  1 &  2\\\\\n",
       "\t3 & -2 & -1 & -1 &  0 & -1 &  0 & -1 &  3 & -2 &  2 & -1 &  2 &  2 &  3 & -1 &  1 & -1 &  1 & -1 &  0\\\\\n",
       "\t4 &  0 &  3 & -2 &  3 & -2 &  3 & -2 &  1 &  0 &  3 & -1 &  2 & -1 &  1 & -1 &  2 & -1 &  0 & -1 &  3\\\\\n",
       "\t5 & -2 &  2 &  0 &  4 &  0 &  3 &  3 &  5 & -2 &  2 &  0 &  3 & -1 &  2 & -1 &  2 & -1 &  2 &  1 &  3\\\\\n",
       "\t6 & -2 &  0 & -4 &  1 & -1 &  1 & -3 &  2 & -1 &  3 &  1 &  3 & -1 &  1 &  1 &  2 &  3 &  4 &  2 &  3\\\\\n",
       "\\end{tabular}\n"
      ],
      "text/plain": [
       "  bid ask bid.1 ask.1 bid.2 ask.2 bid.3 ask.3 bid.4 ask.4 bid.5 ask.5 bid.6\n",
       "1  -1   2    -2     2    -2     4    -1     3    -1     3    -1     2    -1\n",
       "2  -1   4    -3    -1    -2     3     1     3    -2     1    -1     0    -1\n",
       "3  -2  -1    -1     0    -1     0    -1     3    -2     2    -1     2     2\n",
       "4   0   3    -2     3    -2     3    -2     1     0     3    -1     2    -1\n",
       "5  -2   2     0     4     0     3     3     5    -2     2     0     3    -1\n",
       "6  -2   0    -4     1    -1     1    -3     2    -1     3     1     3    -1\n",
       "  ask.6 bid.7 ask.7 bid.8 ask.8 bid.9 ask.9\n",
       "1     2     0     3    -1     2    -1     0\n",
       "2     3     0     4    -1     1     1     2\n",
       "3     3    -1     1    -1     1    -1     0\n",
       "4     1    -1     2    -1     0    -1     3\n",
       "5     2    -1     2    -1     2     1     3\n",
       "6     1     1     2     3     4     2     3"
      ]
     },
     "metadata": {},
     "output_type": "display_data"
    }
   ],
   "source": [
    "head(data.frame(ziSimResults))"
   ]
  },
  {
   "cell_type": "markdown",
   "metadata": {},
   "source": [
    "(a) For each size $q_b$ at best bid, compute the mean mid-price after 10,000 events and with error computed as standard deviation of the mean.\n",
    "\n",
    "(b) Plot mean mid-price vs size at best bid, reproducing Figure 3 of the lecture slides. \n",
    "Remember to include error bars!\n",
    "\n",
    "(c) Repeat part (b) with the order book imbalance $I$ on the x-axis, reproducing Figure 7 in the lecture slides.\n",
    "\n",
    "(d) If you see an order book with large quantity at the bid and small quantity at the offer, what does it tell you about the future price?"
   ]
  },
  {
   "cell_type": "code",
   "execution_count": 3,
   "metadata": {
    "collapsed": false
   },
   "outputs": [
    {
     "name": "stdout",
     "output_type": "stream",
     "text": [
      "           [,1]      [,2]       [,3]       [,4]       [,5]       [,6]\n",
      "Mean 0.00590000 0.2155000 0.41350000 0.56635000 0.66850000 0.74110000\n",
      "Std  0.01537986 0.0143163 0.01310835 0.01229115 0.01123358 0.01038017\n",
      "           [,7]        [,8]        [,9]       [,10]\n",
      "Mean 0.80530000 0.809550000 0.838800000 0.834350000\n",
      "Std  0.01019091 0.009888385 0.009779878 0.009617315\n"
     ]
    }
   ],
   "source": [
    "#Extract data\n",
    "SimResults <- as.matrix(data.frame(ziSimResults))\n",
    "\n",
    "#Initialize result matrix\n",
    "Results=matrix(0,2,10)\n",
    "rownames(Results) <- c(\"Mean\",\"Std\")\n",
    "\n",
    "#Calculate mean and standard deviation\n",
    "for (i in 1:10){\n",
    "    \n",
    "    #Initialize variables\n",
    "    BidPrice <- SimResults[,2*i]\n",
    "    AskPrice <- SimResults[,2*i-1]\n",
    "    MidPrice <- c(0,10000)\n",
    "        \n",
    "    #Calculate\n",
    "    for (j in 1:10000){\n",
    "        MidPrice[j] = (BidPrice[j] + AskPrice[j]) / 2\n",
    "    }\n",
    "    \n",
    "    #Transfer results to the result matrix\n",
    "    Results[1,i] = mean(MidPrice)\n",
    "    Results[2,i] = sd(MidPrice)/100\n",
    "}\n",
    "\n",
    "#Output results\n",
    "print (Results)"
   ]
  },
  {
   "cell_type": "code",
   "execution_count": 4,
   "metadata": {
    "collapsed": false,
    "scrolled": false
   },
   "outputs": [
    {
     "data": {
      "image/png": "[encoded data removed]",
      "text/plain": [
       "plot without title"
      ]
     },
     "metadata": {
      "image/svg+xml": {
       "isolated": true
      }
     },
     "output_type": "display_data"
    }
   ],
   "source": [
    "#Plot with error bars\n",
    "plot(1:10, Results[1,], col = \"red\", type = \"b\", xlab = \"Size at Best Bid\", ylab = \"Mean Price After 100 Events\")\n",
    "errorbar(1:10, Results[1,], yerr=Results[2,], add=T, cap=0.015, col=\"red\",lwd=1.5)"
   ]
  },
  {
   "cell_type": "code",
   "execution_count": 7,
   "metadata": {
    "collapsed": false
   },
   "outputs": [
    {
     "data": {
      "image/png": "[encoded data removed]",
      "text/plain": [
       "plot without title"
      ]
     },
     "metadata": {
      "image/svg+xml": {
       "isolated": true
      }
     },
     "output_type": "display_data"
    }
   ],
   "source": [
    "#Plot with error bars\n",
    "plot(((1:10)-1)/((1:10)+1), Results[1,], col = \"red\", type = \"b\", xlab = \"Imbalance\", ylab = \"Mean Price After 100 Events\")\n",
    "errorbar(((1:10)-1)/((1:10)+1), Results[1,], yerr=Results[2,], add=T, cap=0.015, col=\"red\",lwd=1.5)"
   ]
  },
  {
   "cell_type": "markdown",
   "metadata": {},
   "source": [
    "If an order book has a large quantity at the bid and a small quantity at the offer, the logical presumption should be that the price of the stock will rise up."
   ]
  },
  {
   "cell_type": "markdown",
   "metadata": {},
   "source": [
    "## QED"
   ]
  }
 ],
 "metadata": {
  "anaconda-cloud": {},
  "celltoolbar": "Slideshow",
  "kernelspec": {
   "display_name": "R",
   "language": "R",
   "name": "ir"
  },
  "language_info": {
   "codemirror_mode": "r",
   "file_extension": ".r",
   "mimetype": "text/x-r-source",
   "name": "R",
   "pygments_lexer": "r",
   "version": "3.3.0"
  }
 },
 "nbformat": 4,
 "nbformat_minor": 0
}
