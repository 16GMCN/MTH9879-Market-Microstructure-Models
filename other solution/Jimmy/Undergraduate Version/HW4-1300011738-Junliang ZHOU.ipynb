{
 "cells": [
  {
   "cell_type": "markdown",
   "metadata": {},
   "source": [
    "## Junliang ZHOU\n",
    "\n",
    "Student ID: 1300011738\n",
    "\n",
    "TEL: +86 186-1002-0527\n",
    "\n",
    "Email: <junliangzhou@pku.edu.cn>"
   ]
  },
  {
   "cell_type": "markdown",
   "metadata": {},
   "source": [
    "### Updating log 1.1\n",
    "1. In Problem 1(c): Corrected an error that $p$ should equal to $\\mathbb{E} {[\\tilde S | y]}$ instead of $\\mathbb{E} {[x | y]}$."
   ]
  },
  {
   "cell_type": "markdown",
   "metadata": {},
   "source": [
    "# Topics in Market Microstructure Models - Homework 4 \n",
    "\n",
    "Assigned: July 21, 2016.\n",
    "Due: July 28, 2016 by 1pm. \n",
    "\n",
    "Late homework **will not be accepted**.\n",
    "\n",
    "$$\n",
    "\\newcommand{\\supp}{\\mathrm{supp}}\n",
    "\\newcommand{\\E}{\\mathbb{E} }\n",
    "\\def\\Cov{{ \\mbox{Cov} }}\n",
    "\\def\\Var{{ \\mbox{Var} }}\n",
    "\\newcommand{\\1}{\\mathbf{1} }\n",
    "\\newcommand{\\PP}{\\mathbb{P} }\n",
    "%\\newcommand{\\Pr}{\\mathrm{Pr} }\n",
    "\\newcommand{\\QQ}{\\mathbb{Q} }\n",
    "\\newcommand{\\RR}{\\mathbb{R} }\n",
    "\\newcommand{\\DD}{\\mathbb{D} }\n",
    "\\newcommand{\\HH}{\\mathbb{H} }\n",
    "\\newcommand{\\spn}{\\mathrm{span} }\n",
    "\\newcommand{\\cov}{\\mathrm{cov} }\n",
    "\\newcommand{\\sgn}{\\mathrm{sgn} }\n",
    "\\newcommand{\\HS}{\\mathcal{L}_{\\mathrm{HS}} }\n",
    "%\\newcommand{\\HS}{\\mathrm{HS} }\n",
    "\\newcommand{\\trace}{\\mathrm{trace} }\n",
    "\\newcommand{\\LL}{\\mathcal{L} }\n",
    "%\\newcommand{\\LL}{\\mathrm{L} }\n",
    "\\newcommand{\\s}{\\mathcal{S} }\n",
    "\\newcommand{\\ee}{\\mathcal{E} }\n",
    "\\newcommand{\\ff}{\\mathcal{F} }\n",
    "\\newcommand{\\hh}{\\mathcal{H} }\n",
    "\\newcommand{\\bb}{\\mathcal{B} }\n",
    "\\newcommand{\\dd}{\\mathcal{D} }\n",
    "\\newcommand{\\g}{\\mathcal{G} }\n",
    "\\newcommand{\\p}{\\partial}\n",
    "\\newcommand{\\half}{\\frac{1}{2} }\n",
    "\\newcommand{\\T}{\\mathcal{T} }\n",
    "\\newcommand{\\bi}{\\begin{itemize}}\n",
    "\\newcommand{\\ei}{\\end{itemize}}\n",
    "\\newcommand{\\beq}{\\begin{equation}}\n",
    "\\newcommand{\\eeq}{\\end{equation}}\n",
    "\\newcommand{\\beas}{\\begin{eqnarray*}}\n",
    "\\newcommand{\\eeas}{\\end{eqnarray*}}\n",
    "\\newcommand{\\cO}{\\mathcal{O}}\n",
    "\\newcommand{\\cF}{\\mathcal{F}}\n",
    "\\newcommand{\\cL}{\\mathcal{L}}\n",
    "\\newcommand{\\BS}{\\text{BS}}\n",
    "$$"
   ]
  },
  {
   "cell_type": "markdown",
   "metadata": {},
   "source": [
    "<font color = \"red\">Homework is to be done by each student individually.  To receive full credit, you must email a completed copy of this Jupyter notebook to Xinquan Chen (cxq_ccer@163.com) and Tai-Ho Wang (tai-ho.wang@baruch.cuny.edu) by the due date and time.  All R-code must run correctly and solutions must be written up neatly in Markdown/LaTeX format.\n",
    "\n",
    "<font color=\"blue\">If you encounter problems with Markdown/LaTeX or iPython notebook, please contact your TA Xinquan Chen."
   ]
  },
  {
   "cell_type": "markdown",
   "metadata": {},
   "source": [
    "## The Kyle (1985) model"
   ]
  },
  {
   "cell_type": "markdown",
   "metadata": {},
   "source": [
    "### 1. (14 points)\n",
    "\n",
    "Suppose that the monopolistic trader in the Kyle (1985) model is not told the true value $\\tilde S$ but is instead given a signal $x=\\tilde S+\\epsilon$ with $\\epsilon \\sim N(0,\\sigma_\\epsilon^2)$, where $\\tilde S$ and $\\epsilon$ are assumed independent.\n",
    "\n",
    "(a) Compute the conditional expectation $\\mathbb{E}[\\tilde S|x]$.\n",
    "\n",
    "(b) If $\\mathcal I$ assumes that the market maker $\\mathcal M$ generates a price function of the form $p=\\mu +\\lambda\\,y$, show that the informed trader's optimal (profit maximizing) demand is given by\n",
    "\n",
    "$$\n",
    "y_i=\\frac{\\phi}{2\\,\\lambda}\\,\\left(x-\\mu\\right)\n",
    "$$\n",
    "\n",
    "where\n",
    "\n",
    "$$\n",
    "\\phi = \\frac{\\sigma^2}{\\sigma^2+\\sigma_\\epsilon^2}.\n",
    "$$\n",
    "\n",
    "(c) Following the derivation from the lecture slides, use the result of (b) to deduce equation (11) in the lecture slides:\n",
    "\n",
    "$$\n",
    "\\lambda=\\frac{\\sigma}{2\\,\\sigma_u}\\,\\sqrt{\\phi}.\n",
    "$$\n"
   ]
  },
  {
   "cell_type": "markdown",
   "metadata": {},
   "source": [
    "(a)\n",
    "\n",
    "According to Lecture 4, $\\E {[\\tilde S|x]}$ can be carried out with a normal regression. That is\n",
    "$$\n",
    "\\E {[\\tilde S | x]} = \\E {[\\tilde S]} + \\frac {\\Cov {[\\tilde S, x]}} {\\Var {[x]}} (x - \\E {[x]}),\n",
    "$$\n",
    "where\n",
    "$$\n",
    "\\Cov {[\\tilde S, x]} = \\sigma^2; \\\\ \n",
    "\\Var {[x]} = \\sigma^2 + \\sigma_\\epsilon^2. \n",
    "$$\n",
    "\n",
    "Thus, \n",
    "$$\n",
    "\\E {[\\tilde S|x]} = \\mu + \\phi (x - \\mu),\n",
    "$$\n",
    "where\n",
    "$$\n",
    "\\phi = \\frac {\\sigma^2} {\\sigma^2 + \\sigma_\\epsilon^2}.\n",
    "$$"
   ]
  },
  {
   "cell_type": "markdown",
   "metadata": {},
   "source": [
    "(b)\n",
    "\n",
    "$\\mathcal{I} $’s expected profit is \n",
    "$$\n",
    "\\E {[y_i (\\tilde S - p) | x]} = \\E {[y_i (\\tilde S - \\mu - \\lambda (y_i + y_u)) | x]}.\n",
    "$$\n",
    "\n",
    "As we have calculated in (a), substitude $\\E {[\\tilde S|x]}$ into the equation.\n",
    "$$\n",
    "\\E {[y_i (\\tilde S - p) | x]} = y_i (\\mu + \\phi (x - \\mu) - \\mu - \\lambda y_i) \\\\ \n",
    "= y_i (\\phi (x - \\mu) - \\lambda y_i)\n",
    "$$\n",
    "\n",
    "Maximize with respect to $y_i$ then get $\\mathcal{I} $’s optimal demand as\n",
    "$$\n",
    "y_i = \\frac {\\phi (x - \\mu)} {2 \\lambda}.\n",
    "$$"
   ]
  },
  {
   "cell_type": "markdown",
   "metadata": {},
   "source": [
    "(c)\n",
    "\n",
    "$\\mathcal{M}$ conjectures that $\\mathcal{I} $’s demand function is of the form\n",
    "$$\n",
    "y_i = a + b x,\n",
    "$$\n",
    "where\n",
    "$$\n",
    "a = - \\frac {\\phi \\mu} {2 \\lambda}; \\\\ \n",
    "b = \\frac {\\phi} {2 \\lambda}.\n",
    "$$\n",
    "\n",
    "Using normal regression, we could get $\\E {[\\tilde S | y]}$.\n",
    "$$\n",
    "\\E {[\\tilde S | y]} = \\E {[\\tilde S]} + \\frac {\\Cov {[\\tilde S, y]}} {\\Var {[y]}} (y - \\E {[y]})\n",
    "$$\n",
    "\n",
    "According Lecture 4, we know\n",
    "$$\n",
    "\\Var {[y]} = \\sigma_u^2 + b^2 (\\sigma^2 + \\sigma_\\epsilon^2) = \\sigma_u^2 + b^2 \\frac {\\sigma^2} {\\phi}; \\\\ \n",
    "\\Cov {[\\tilde S, y]} = b \\sigma^2.\n",
    "$$\n",
    "\n",
    "Substitute it back into the equation we shall have\n",
    "$$\n",
    "\\E {[\\tilde S | y]} = \\mu + \\frac {b \\sigma^2} {\\sigma_u^2 + b^2 \\frac {\\sigma^2} {\\phi}} (y - a - b \\mu).\n",
    "$$\n",
    "\n",
    "Also,\n",
    "$$\n",
    "p = \\mu + \\lambda y = \\E {[\\tilde S | y]}; \\\\ \n",
    "b = \\frac {\\phi} {2 \\lambda}.\n",
    "$$\n",
    "\n",
    "As a result, we have \n",
    "$$\n",
    "\\lambda = \\frac {\\frac {\\phi} {2 \\lambda} \\sigma^2} {\\sigma_u^2 + {(\\frac {\\phi} {2 \\lambda})}^2 \\frac {\\sigma^2} {\\phi}}.\n",
    "$$\n",
    "\n",
    "Finally, solve and simplify the equation above.\n",
    "$$\n",
    "\\lambda = \\frac 12 \\frac {\\sigma} {\\sigma_u} \\sqrt {\\phi}\n",
    "$$"
   ]
  },
  {
   "cell_type": "markdown",
   "metadata": {},
   "source": [
    "### 2. (6 points) \n",
    "\n",
    "Suppose that a broker $\\mathcal P$ spots an insider and decides to submit his own piggyback orders.  Specifically, if $\\mathcal I$ submits demand $y_i$, $\\mathcal P$ submits demand $\\gamma\\,y_i$ with $\\gamma>0$.\n",
    "\n",
    "(a) Assuming that $\\mathcal I$ can detect how much piggyback order flow there is, deduce that the equilibrium Kyle lambda is unchanged from the original case where there are no piggyback orders.\n",
    "\n",
    "(b) Derive expressions for $\\mathcal I$'s optimal demand $y_i$ and his expected P&L.\n",
    "\n",
    "(c) Explain to a non-expert what happens to your trade capacity and your profitability if someone is piggybacking on your trades."
   ]
  },
  {
   "cell_type": "markdown",
   "metadata": {
    "collapsed": true
   },
   "source": [
    "(a)\n",
    "\n",
    "If a broker $\\mathcal P$ exists and he submit $\\gamma y$, then the total demand would be\n",
    "$$\n",
    "y = {(1 + \\gamma)} y_i + y_u.\n",
    "$$\n",
    "\n",
    "With the same strategy, we can deduced the $\\mathcal I$'s optimal demand\n",
    "$$\n",
    "y_i = \\frac {\\tilde S - \\mu} {2 \\lambda {(1 + \\gamma)}}.\n",
    "$$\n",
    "\n",
    "Thus,\n",
    "$$\n",
    "b = \\frac {1} {2 \\lambda {(1 + \\gamma)}}.\n",
    "$$\n",
    "\n",
    "With normal regression,\n",
    "$$\n",
    "\\E {[\\tilde S | y]} = \\mu + \\frac {b {(1 + \\gamma)} \\sigma^2} {\\sigma_u^2 + b^2 {(1 + \\gamma)}^2 \\sigma^2} (y - a - b \\mu),\n",
    "$$\n",
    "where\n",
    "$$\n",
    "\\lambda = \\frac {b {(1 + \\gamma)} \\sigma^2} {\\sigma_u^2 + b^2 {(1 + \\gamma)}^2 \\sigma^2}.\n",
    "$$ \n",
    "\n",
    "Finally, solve the equation above and we shall find $\\lambda$ remain unchanged.\n",
    "$$\n",
    "\\lambda = \\frac 12 \\frac {\\sigma} {\\sigma_u}.\n",
    "$$"
   ]
  },
  {
   "cell_type": "markdown",
   "metadata": {},
   "source": [
    "(b)\n",
    "\n",
    "From (a) we know $\\mathcal I$'s optimal demand is\n",
    "$$\n",
    "y_i = \\frac {\\tilde S - \\mu} {2 \\lambda {(1 + \\gamma)}}.\n",
    "$$\n",
    "\n",
    "And his expected P&L is\n",
    "$$\n",
    "\\E {[y_i (\\tilde S - p) | \\tilde S]} = y_i {(\\tilde S - \\mu - \\lambda {(1 + \\gamma)} y_i)}.\n",
    "$$\n",
    "\n",
    "Substitude $y_i$ into the expected P&L, we shall have\n",
    "$$\n",
    "\\E {[y_i (\\tilde S - p) | \\tilde S]} = \\frac {{(\\tilde S - \\mu)}^2} {4 \\lambda {(1 + \\gamma)}}.\n",
    "$$"
   ]
  },
  {
   "cell_type": "markdown",
   "metadata": {},
   "source": [
    "(c)\n",
    "\n",
    "From the expressions above we know that the capacity $y_i$ and the profitability $\\E {[y_i (\\tilde S - p) | \\tilde S]}$ are both multiplied by a parameter $\\frac {1} {(1 + \\gamma)}$ in the presence of piggyback orders.\n",
    "\n",
    "Thus, both the capacity $y_i$ and the profitability $\\E {[y_i (\\tilde S - p) | \\tilde S]}$ will decrease if someone is piggybacking on my trades."
   ]
  },
  {
   "cell_type": "markdown",
   "metadata": {},
   "source": [
    "## QED"
   ]
  }
 ],
 "metadata": {
  "anaconda-cloud": {},
  "celltoolbar": "Slideshow",
  "kernelspec": {
   "display_name": "R",
   "language": "R",
   "name": "ir"
  },
  "language_info": {
   "codemirror_mode": "r",
   "file_extension": ".r",
   "mimetype": "text/x-r-source",
   "name": "R",
   "pygments_lexer": "r",
   "version": "3.3.0"
  }
 },
 "nbformat": 4,
 "nbformat_minor": 0
}
