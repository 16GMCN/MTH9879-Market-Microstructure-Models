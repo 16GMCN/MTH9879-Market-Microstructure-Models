{
 "cells": [
  {
   "cell_type": "markdown",
   "metadata": {},
   "source": [
    "## Junliang ZHOU\n",
    "\n",
    "Student ID: 1300011738\n",
    "\n",
    "TEL: +86 186-1002-0527\n",
    "\n",
    "Email: <junliangzhou@pku.edu.cn>"
   ]
  },
  {
   "cell_type": "markdown",
   "metadata": {},
   "source": [
    "### Updating log 1.2\n",
    "1. In Problem 2(c): Undid the previous change."
   ]
  },
  {
   "cell_type": "markdown",
   "metadata": {},
   "source": [
    "### Updating log 1.1\n",
    "1. In Problem 2(c): Added $S_0$ to the integral."
   ]
  },
  {
   "cell_type": "markdown",
   "metadata": {},
   "source": [
    "# Topics in Market Microstructure Models - Homework 5 \n",
    "\n",
    "Assigned: July 26, 2016.\n",
    "Due: August 2, 2016 by 1pm. \n",
    "\n",
    "Late homework **will not be accepted**.\n",
    "\n",
    "$$\n",
    "\\newcommand{\\supp}{\\mathrm{supp}}\n",
    "\\newcommand{\\E}{\\mathbb{E} }\n",
    "\\newcommand{\\EE}{\\mathbb{E} }\n",
    "\\def\\Cov{{ \\mbox{Cov} }}\n",
    "\\def\\Var{{ \\mbox{Var} }}\n",
    "\\newcommand{\\1}{\\mathbf{1} }\n",
    "\\newcommand{\\PP}{\\mathbb{P} }\n",
    "%\\newcommand{\\Pr}{\\mathrm{Pr} }\n",
    "\\newcommand{\\QQ}{\\mathbb{Q} }\n",
    "\\newcommand{\\RR}{\\mathbb{R} }\n",
    "\\newcommand{\\DD}{\\mathbb{D} }\n",
    "\\newcommand{\\HH}{\\mathbb{H} }\n",
    "\\newcommand{\\spn}{\\mathrm{span} }\n",
    "\\newcommand{\\cov}{\\mathrm{cov} }\n",
    "\\newcommand{\\sgn}{\\mathrm{sgn} }\n",
    "\\newcommand{\\HS}{\\mathcal{L}_{\\mathrm{HS}} }\n",
    "%\\newcommand{\\HS}{\\mathrm{HS} }\n",
    "\\newcommand{\\trace}{\\mathrm{trace} }\n",
    "\\newcommand{\\LL}{\\mathcal{L} }\n",
    "%\\newcommand{\\LL}{\\mathrm{L} }\n",
    "\\newcommand{\\s}{\\mathcal{S} }\n",
    "\\newcommand{\\ee}{\\mathcal{E} }\n",
    "\\newcommand{\\ff}{\\mathcal{F} }\n",
    "\\newcommand{\\hh}{\\mathcal{H} }\n",
    "\\newcommand{\\bb}{\\mathcal{B} }\n",
    "\\newcommand{\\dd}{\\mathcal{D} }\n",
    "\\newcommand{\\g}{\\mathcal{G} }\n",
    "\\newcommand{\\p}{\\partial}\n",
    "\\newcommand{\\half}{\\frac{1}{2} }\n",
    "\\newcommand{\\T}{\\mathcal{T} }\n",
    "\\newcommand{\\bi}{\\begin{itemize}}\n",
    "\\newcommand{\\ei}{\\end{itemize}}\n",
    "\\newcommand{\\beq}{\\begin{equation}}\n",
    "\\newcommand{\\eeq}{\\end{equation}}\n",
    "\\newcommand{\\beas}{\\begin{eqnarray*}}\n",
    "\\newcommand{\\eeas}{\\end{eqnarray*}}\n",
    "\\newcommand{\\cO}{\\mathcal{O}}\n",
    "\\newcommand{\\cF}{\\mathcal{F}}\n",
    "\\newcommand{\\cL}{\\mathcal{L}}\n",
    "\\newcommand{\\cM}{\\mathcal{M}}\n",
    "\\newcommand{\\cI}{\\mathcal{I}}\n",
    "\\newcommand{\\BS}{\\text{BS}}\n",
    "\\newcommand{\\d}{\\mathrm{d}}\n",
    "$$"
   ]
  },
  {
   "cell_type": "markdown",
   "metadata": {},
   "source": [
    "<font color = \"red\">Homework is to be done by each student individually.  To receive full credit, you must email a completed copy of this Jupyter notebook to Xinquan Chen (cxq_ccer@163.com) and Tai-Ho Wang (tai-ho.wang@baruch.cuny.edu) by the due date and time.  All R-code must run correctly and solutions must be written up neatly in Markdown/LaTeX format.\n",
    "\n",
    "<font color=\"blue\">If you encounter problems with Markdown/LaTeX or iPython notebook, please contact your TA Xinquan Chen."
   ]
  },
  {
   "cell_type": "markdown",
   "metadata": {},
   "source": [
    "## Price manipulation"
   ]
  },
  {
   "cell_type": "markdown",
   "metadata": {},
   "source": [
    "### 1. (10 points)\n",
    "\n",
    "Consider the price process\n",
    "\n",
    "$$\n",
    "S_t=S_0+\\int_0^t\\,f(\\dot{x}_s)\\,G(t-s)\\,ds+\\int_0^t\\,\\sigma\\,dZ_s\n",
    "$$\n",
    "\n",
    "where ${\\dot x}_s$ is the rate of trading in dollars at time $s < t$, $f(\\dot{x}_s)$ represents the impact of trading at time $s$ and $G(t-s)$ is a decay factor.\n",
    "\n",
    "(a) With the choices\n",
    "\n",
    "$$\n",
    "f(v)=\\sqrt{v},\\quad G(\\tau)=\\frac{1}{1+\\tau},\n",
    "$$\n",
    "    \n",
    "repeat the computations in Lecture 5 to derive an expression for the expected cost of accumulating shares at the rate $v_1$ and liquidating them at the rate $v_2$.\n",
    "\n",
    "(b) Verify that with $T=1$, $v_1=1/4$, $v_2=1$, the expected cost of this round-trip strategy is negative, thus demonstrating that price manipulation is possible. \n"
   ]
  },
  {
   "cell_type": "markdown",
   "metadata": {},
   "source": [
    "(a)\n",
    "\n",
    "A round-trip cost $C[\\Pi]$ can be written as\n",
    "$$\n",
    "C[\\Pi] = C_{11} + C_{22} - C_{12}.\n",
    "$$\n",
    "\n",
    "According to Lecture 5, we have\n",
    "$$ \n",
    "C_{11} = v_1 f(v_1) \\int_0^{\\theta T} \\d t \\int_0^t G(t-s) \\d s; \\\\ \n",
    "C_{22} = v_2 f(v_2) \\int_{\\theta T}^T \\d t \\int_{\\theta T}^t G(t-s) \\d s; \\\\ \n",
    "C_{12} = v_2 f(v_1) \\int_{\\theta T}^T \\d t \\int_0^{\\theta T} G(t-s) \\d s,\n",
    "$$\n",
    "\n",
    "where\n",
    "$$\n",
    "\\theta = \\frac {v_2} {v_1+v_2}.\n",
    "$$\n",
    "\n",
    "Since the decay kernel has the form\n",
    "$$\n",
    "G(\\tau) = \\frac {1} {1+\\tau},\n",
    "$$\n",
    "explicit computation of all the integrals gives\n",
    "$$ \n",
    "C_{11} = v_1 f(v_1) \\int_0^{\\theta T} \\ln {(1 + t)} \\d t = v_1 \\sqrt{v_1} { \\bigg\\{ (1 + \\theta T) \\big[ \\ln {(1 + \\theta T)} - 1 \\big] + 1 \\bigg\\} }; \\\\ \n",
    "C_{22} = v_2 f(v_2) \\int_{\\theta T}^T \\ln {(1 + t - \\theta T)} \\d t = v_2 \\sqrt{v_2} { \\bigg\\{ (1 + T - \\theta T) \\big[ \\ln {(1 + T - \\theta T)} - 1 \\big] + 1 \\bigg\\} }; \\\\ \n",
    "C_{12} = v_2 f(v_1) \\int_{\\theta T}^T {\\big[ \\ln {(1 + t)} - \\ln {(1 + t - \\theta T)} \\big] } \\d t = v_2 \\sqrt{v_1} { \\bigg\\{ (1 + T) \\big[ \\ln {(1 + T)} - 1 \\big] - (1 + \\theta T) \\big[ \\ln {(1 + \\theta T)} - 1 \\big] - (1 + T - \\theta T) \\big[ \\ln {(1 + T - \\theta T)} - 1 \\big] - 1 \\bigg\\} }.\n",
    "$$\n"
   ]
  },
  {
   "cell_type": "markdown",
   "metadata": {},
   "source": [
    "(b)\n",
    "\n",
    "Substitude parameters $T = 1$, $v_1 = \\frac 14$, $v_2 = 1$ and $\\theta = \\frac 45$ into the cost function.\n",
    "$$\n",
    "C_{11} = 0.0323 \\\\\n",
    "C_{22} = 0.0188 \\\\\n",
    "C_{12} = 0.0547 \n",
    "$$\n",
    "\n",
    "Finally it gives the total cost of the order\n",
    "$$\n",
    "C[\\Pi] = C_{11} + C_{22} - C_{12} = -0.0036,\n",
    "$$\n",
    "which is less than zero.\n",
    "\n",
    "Therefore, under this circumstance, price manipulation is possible."
   ]
  },
  {
   "cell_type": "markdown",
   "metadata": {},
   "source": [
    "## The Obizhaeva-Wang model"
   ]
  },
  {
   "cell_type": "markdown",
   "metadata": {},
   "source": [
    "### 2. (8 points)\n",
    "\n",
    "In the Obizhaeva Wang (OW) model, the price follows\n",
    "\n",
    "$$\n",
    "S_t=S_0+\\eta\\,\\int_0^t\\,{\\dot x}_s\\,e^{-\\rho\\,(t-s)}\\,ds+\\int_0^t\\,\\sigma\\,dZ_s\n",
    "$$\n",
    "\n",
    "(a) Derive an expression for the expected price path corresponding to a VWAP execution.\n",
    "\n",
    "(b) With the duration $T$ of the meta order set to 1, plot the expected price path from time $t=0$ to time $t=2$ for $\\rho=0.5,1,$ and $2$.\n",
    "\n",
    "(c) What is the expected average cost per share $\\bar S_T$ of a VWAP order in the OW model?"
   ]
  },
  {
   "cell_type": "markdown",
   "metadata": {},
   "source": [
    "(a)\n",
    "\n",
    "Since we use a VWAP execution, the velocity is\n",
    "$$\n",
    "{\\dot x}_t = \\begin{cases} v, t \\leq T \\\\\n",
    "0, t > T \\end{cases}.\n",
    "$$\n",
    "\n",
    "In the Obizhaeva Wang model, we integrate the function and shall obtain the expected price.\n",
    "$$\n",
    "\\E {[S_t]} = S_0 + \\eta \\int_0^t {\\dot x}_s e^{- \\rho (t - s)} \\d s + \\E { \\big[ \\int_0^t \\sigma \\d Z_s \\big] } \\\\ \n",
    "= S_0 + \\eta \\int_0^t {\\dot x}_s e^{- \\rho (t - s)} \\d s \\\\ \n",
    "= S_0 + \\eta {\\dot x}_s \\frac {1} {\\rho} e^{\\rho (s - t)} \\bigg|_{s = 0}^t\n",
    "$$\n",
    "\n",
    "Thus,\n",
    "$$\n",
    "\\E {[S_t]} = \\begin{cases} S_0 + \\frac {\\eta v} {\\rho} { \\big[ 1 - e^{- \\rho t} \\big] }, t \\leq T \\\\ \n",
    "S_0 + \\frac {\\eta v} {\\rho} { \\big[ e^{- \\rho (t - T)} - e^{- \\rho t} \\big] }, t > T \\end{cases}.\n",
    "$$"
   ]
  },
  {
   "cell_type": "markdown",
   "metadata": {},
   "source": [
    "(b)"
   ]
  },
  {
   "cell_type": "code",
   "execution_count": 1,
   "metadata": {
    "collapsed": false
   },
   "outputs": [
    {
     "data": {
      "image/png": "[encoded data removed]",
      "text/plain": [
       "plot without title"
      ]
     },
     "metadata": {
      "image/svg+xml": {
       "isolated": true
      }
     },
     "output_type": "display_data"
    }
   ],
   "source": [
    "#Create price function\n",
    "before <- function(x, eta, v, rho, T){eta*v/rho*(1-exp(-rho*x))}\n",
    "after <- function(x, eta, v, rho, T){eta*v/rho*(exp(-rho*(x-T))-exp(-rho*x))}\n",
    "Price <- function(x, eta, v, rho, T){\n",
    "    if (x<T)\n",
    "        Price <- before(x, eta, v, rho, T)\n",
    "    else \n",
    "        Price <- after(x, eta, v, rho, T)\n",
    "}\n",
    "\n",
    "#Why cannot I plot Price function directly? What a stupid language R is!\n",
    "\n",
    "#Create plot funcgtion\n",
    "PlotPrice <- function(eta, v, rho, T, c){\n",
    "    a <- c((0:200)/100)\n",
    "    b <- c((0:200)/100)\n",
    "    for (i in 0:201){\n",
    "        b[i] <- Price(i/100, eta, v, rho, T)\n",
    "    }\n",
    "    lines(a, b, col=c)\n",
    "}\n",
    "\n",
    "#Output plots\n",
    "plot(0:2,(0:2)/2, type=\"n\", xlab=\"Time\", ylab=\"Expected Price\")\n",
    "PlotPrice(1, 1, 0.5, 1, \"red\")\n",
    "PlotPrice(1, 1, 1, 1, \"green\")\n",
    "PlotPrice(1, 1, 2, 1, \"blue\")\n",
    "legend(\"topright\", c(expression(paste(rho,\"=0.5\")), expression(paste(rho,\"=1\")), expression(paste(rho,\"=2\"))), col=c(\"red\", \"green\", \"blue\"), lty=1, inset=0.02)"
   ]
  },
  {
   "cell_type": "markdown",
   "metadata": {
    "collapsed": true
   },
   "source": [
    "(c)\n",
    "\n",
    "Since we use a VWAP execution,\n",
    "$$\n",
    "\\bar S_T = \\frac {C[\\Pi]} {X}, \\\\ \n",
    "v = \\frac {X} {T}.\n",
    "$$\n",
    "\n",
    "Substitute these parameters into the cost function, we shall have\n",
    "$$\n",
    "\\bar S_T = \\int_0^T \\frac {\\eta X} {\\rho T^2} { \\big[ 1 - e^{- \\rho t} \\big] } \\d t \\\\ \n",
    "= \\frac {\\eta X} {\\rho T^2} { \\big[ t + \\frac {1} {\\rho} e^{- \\rho t} \\big] } \\bigg|_0^T \\\\ \n",
    "= \\frac {\\eta X} {\\rho T^2} { \\big[ T + \\frac {1} {\\rho} {(e^{- \\rho T} - 1)} \\big] }.\n",
    "$$"
   ]
  },
  {
   "cell_type": "markdown",
   "metadata": {},
   "source": [
    "## QED"
   ]
  }
 ],
 "metadata": {
  "anaconda-cloud": {},
  "celltoolbar": "Slideshow",
  "kernelspec": {
   "display_name": "R",
   "language": "R",
   "name": "ir"
  },
  "language_info": {
   "codemirror_mode": "r",
   "file_extension": ".r",
   "mimetype": "text/x-r-source",
   "name": "R",
   "pygments_lexer": "r",
   "version": "3.3.0"
  }
 },
 "nbformat": 4,
 "nbformat_minor": 0
}
