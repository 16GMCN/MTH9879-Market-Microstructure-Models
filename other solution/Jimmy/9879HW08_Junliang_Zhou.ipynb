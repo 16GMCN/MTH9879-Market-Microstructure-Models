{
 "cells": [
  {
   "cell_type": "markdown",
   "metadata": {},
   "source": [
    "# MTH9879 Homework 8\n",
    "\n",
    "Assigned: March 29, 2018.\n",
    "Due: April 19, 2018 by 6pm. \n",
    "\n",
    "Late homework **will not be accepted**.\n",
    "\n",
    "$$\n",
    "\\newcommand{\\supp}{\\mathrm{supp}}\n",
    "\\newcommand{\\E}{\\mathbb{E}}\n",
    "\\newcommand{\\Eof}[1]{\\mathbb{E}\\left[ #1 \\right]}\n",
    "\\def\\Cov{{ \\mbox{Cov} }}\n",
    "\\def\\Var{{ \\mbox{Var} }}\n",
    "\\newcommand{\\1}{\\mathbf{1} }\n",
    "\\newcommand{\\PP}{\\mathbb{P} }\n",
    "%\\newcommand{\\Pr}{\\mathrm{Pr} }\n",
    "\\newcommand{\\QQ}{\\mathbb{Q} }\n",
    "\\newcommand{\\RR}{\\mathbb{R} }\n",
    "\\newcommand{\\DD}{\\mathbb{D} }\n",
    "\\newcommand{\\HH}{\\mathbb{H} }\n",
    "\\newcommand{\\spn}{\\mathrm{span} }\n",
    "\\newcommand{\\cov}{\\mathrm{cov} }\n",
    "\\newcommand{\\sgn}{\\mathrm{sgn} }\n",
    "\\newcommand{\\HS}{\\mathcal{L}_{\\mathrm{HS}} }\n",
    "%\\newcommand{\\HS}{\\mathrm{HS} }\n",
    "\\newcommand{\\trace}{\\mathrm{trace} }\n",
    "\\newcommand{\\LL}{\\mathcal{L} }\n",
    "%\\newcommand{\\LL}{\\mathrm{L} }\n",
    "\\newcommand{\\s}{\\mathcal{S} }\n",
    "\\newcommand{\\ee}{\\mathcal{E} }\n",
    "\\newcommand{\\ff}{\\mathcal{F} }\n",
    "\\newcommand{\\hh}{\\mathcal{H} }\n",
    "\\newcommand{\\bb}{\\mathcal{B} }\n",
    "\\newcommand{\\dd}{\\mathcal{D} }\n",
    "\\newcommand{\\g}{\\mathcal{G} }\n",
    "\\newcommand{\\p}{\\partial}\n",
    "\\newcommand{\\half}{\\frac{1}{2} }\n",
    "\\newcommand{\\T}{\\mathcal{T} }\n",
    "\\newcommand{\\bi}{\\begin{itemize}}\n",
    "\\newcommand{\\ei}{\\end{itemize}}\n",
    "\\newcommand{\\beq}{\\begin{equation}}\n",
    "\\newcommand{\\eeq}{\\end{equation}}\n",
    "\\newcommand{\\beas}{\\begin{eqnarray*}}\n",
    "\\newcommand{\\eeas}{\\end{eqnarray*}}\n",
    "\\newcommand{\\cO}{\\mathcal{O}}\n",
    "\\newcommand{\\cF}{\\mathcal{F}}\n",
    "\\newcommand{\\cL}{\\mathcal{L}}\n",
    "\\newcommand{\\BS}{\\text{BS}}\n",
    "$$"
   ]
  },
  {
   "cell_type": "markdown",
   "metadata": {},
   "source": [
    "<font color = \"red\">Homework is to be done by each student individually.  To receive full credit, you must email a completed copy of this iPython notebook to Victor Istratov (stavka@gmail.com), Yassine Ghalem (yassine.ghalem@gmail.com) and Jim Gatheral (jim.gatheral@gmail.com) by the due date and time.  All R-code must run correctly and solutions must be written up neatly in Markdown/LaTeX format."
   ]
  },
  {
   "cell_type": "markdown",
   "metadata": {},
   "source": [
    "## Junliang Zhou\n",
    "\n",
    "Tel: (347) 276-1207\n",
    "\n",
    "Email: gjimzhou@gmail.com"
   ]
  },
  {
   "cell_type": "markdown",
   "metadata": {},
   "source": [
    "### 0. (0 points) \n",
    "Read Section 6.7 of Bouchaud, Farmer and Lillo."
   ]
  },
  {
   "cell_type": "markdown",
   "metadata": {},
   "source": [
    "## Predictability of order flow"
   ]
  },
  {
   "cell_type": "markdown",
   "metadata": {},
   "source": [
    "### 1. (6 points)\n",
    "\n",
    "Suppose that the distribution of meta order sizes $Q$ is exponential so that\n",
    "\n",
    "$$\n",
    "\\Pr(Q>V)= \\frac{1}{\\lambda}\\,e^{-\\lambda\\,V}\n",
    "$$\n",
    "\n",
    "Assuming slices of  constant size $\\bar v$, compute the conditional probability that a hidden order has more slices given that $n$ slices have already been observed.  Compare your result with the case where distribution of metaorder size is power-law."
   ]
  },
  {
   "cell_type": "markdown",
   "metadata": {},
   "source": [
    "### Solution\n",
    "\n",
    "Suppose there have been $t$ slices already observed. Let $T$ denote the overall size of the metaorder. \n",
    "\n",
    "Then, for an exponential distribution with $\\lambda$,\n",
    "\n",
    "$$\n",
    "q_t=\\mathbb{P}(T \\geq t+1|T \\geq t) = \\frac{\\mathbb{P}(T \\geq t+1)}{\\mathbb{P}(T \\geq t)} \\sim e^{-\\lambda}\n",
    "$$\n",
    "\n",
    "And for a power-law distribution with tail exponent $\\beta$,\n",
    "\n",
    "$$\n",
    "q_t=\\mathbb{P}(T \\geq t+1|T \\geq t) = \\frac{\\mathbb{P}(T \\geq t+1)}{\\mathbb{P}(T \\geq t)} \\sim \\left(\\frac{t}{t+1}\\right)^\\beta\n",
    "$$"
   ]
  },
  {
   "cell_type": "markdown",
   "metadata": {},
   "source": [
    "## Price manipulation"
   ]
  },
  {
   "cell_type": "markdown",
   "metadata": {},
   "source": [
    "### 2. (10 points)\n",
    "\n",
    "Consider the price process\n",
    "\n",
    "$$\n",
    "S_t=S_0+\\int_0^t\\,f(\\dot{x}_s)\\,G(t-s)\\,ds+\\int_0^t\\,\\sigma\\,dZ_s\n",
    "$$\n",
    "\n",
    "where ${\\dot x}_s$ is the rate of trading in dollars at time $s < t$, $f(\\dot{x}_s)$ represents the impact of trading at time $s$ and $G(t-s)$ is a decay factor.\n",
    "\n",
    "(a) With the choices\n",
    "\n",
    "$$\n",
    "f(v)=\\sqrt{v},\\quad G(\\tau)=\\frac{1}{1+\\tau},\n",
    "$$\n",
    "    \n",
    "repeat the computations in Lecture 8  to derive an expression for the expected cost of accumulating shares at the rate $v_1$ and liquidating them at the rate $v_2$.\n",
    "\n",
    "(b) Verify that with $T=1$, $v_1=1/4$, $v_2=1$, the expected cost of this round-trip strategy is negative, thus demonstrating that price manipulation is possible. (Recall from the lecture slides that price manipulation is always possible if $f(\\cdot)$ is nonlinear and the decay kernel $G(\\cdot)$  is finite at the origin.)\n",
    "\n",
    "Hint: You might consider using Mathematica or Wolfram Alpha to do the integrations."
   ]
  },
  {
   "cell_type": "markdown",
   "metadata": {},
   "source": [
    "### Solution\n",
    "\n",
    "(a)\n",
    "\n",
    "A round-trip cost $C[\\Pi]$ can be written as\n",
    "\n",
    "$$C[\\Pi] = C_{11} + C_{22} - C_{12}$$\n",
    "\n",
    "According to Lecture 5, we have\n",
    "$$ \n",
    "\\begin{split}\n",
    "C_{11} &= v_1 f(v_1) \\int_0^{\\theta T} d t \\int_0^t G(t-s) d s\\\\ \n",
    "C_{22} &= v_2 f(v_2) \\int_{\\theta T}^T d t \\int_{\\theta T}^t G(t-s) d s \\\\ \n",
    "C_{12} &= v_2 f(v_1) \\int_{\\theta T}^T d t \\int_0^{\\theta T} G(t-s) d s\n",
    "\\end{split}\n",
    "$$\n",
    "\n",
    "where\n",
    "\n",
    "$$\\theta = \\frac {v_2} {v_1+v_2}$$"
   ]
  },
  {
   "cell_type": "markdown",
   "metadata": {},
   "source": [
    "Since the decay kernel has the form\n",
    "\n",
    "$$G(\\tau) = \\frac {1} {1+\\tau}$$\n",
    "\n",
    "The explicit computation of all the integrals gives\n",
    "\n",
    "$$ \n",
    "\\begin{split}\n",
    "C_{11} &= v_1 f(v_1) \\int_0^{\\theta T} \\log {(1 + t)} d t = v_1 \\sqrt{v_1} { \\left( (1 + \\theta T) \\left( \\log {(1 + \\theta T)} - 1 \\right) + 1 \\right) } \\\\ \n",
    "C_{22} &= v_2 f(v_2) \\int_{\\theta T}^T \\log {(1 + t - \\theta T)} d t = v_2 \\sqrt{v_2} { \\left( (1 + T - \\theta T) \\left( \\log {(1 + T - \\theta T)} - 1 \\right) + 1 \\right) } \\\\ \n",
    "C_{12} &= v_2 f(v_1) \\int_{\\theta T}^T {\\left( \\log {(1 + t)} - \\log {(1 + t - \\theta T)} \\right) } d t \\\\\n",
    "&= v_2 \\sqrt{v_1} { \\left( (1 + T) \\left( \\log {(1 + T)} - 1 \\right) - (1 + \\theta T) \\left( \\log {(1 + \\theta T)} - 1 \\right) - (1 + T - \\theta T) \\left( \\log {(1 + T - \\theta T)} - 1 \\right) - 1 \\right) }\n",
    "\\end{split}\n",
    "$$"
   ]
  },
  {
   "cell_type": "markdown",
   "metadata": {},
   "source": [
    "(b)\n",
    "\n",
    "Substitude parameters $T = 1$, $v_1 = \\frac 14$, $v_2 = 1$ and $\\theta = \\frac 45$ into the cost function, we have\n",
    "\n",
    "$$\n",
    "\\begin{split}\n",
    "C_{11} = 0.0323 \\\\\n",
    "C_{22} = 0.0188 \\\\\n",
    "C_{12} = 0.0547 \n",
    "\\end{split}\n",
    "$$\n",
    "\n",
    "Finally it gives the total cost of the order\n",
    "\n",
    "$$C[\\Pi] = C_{11} + C_{22} - C_{12} = -0.0036$$\n",
    "\n",
    "which is less than zero.\n",
    "\n",
    "Therefore, under this circumstance, price manipulation is possible."
   ]
  },
  {
   "cell_type": "markdown",
   "metadata": {},
   "source": [
    "## The Obizhaeva-Wang model"
   ]
  },
  {
   "cell_type": "markdown",
   "metadata": {},
   "source": [
    "### 3. (8 points)\n",
    "\n",
    "In the Obizhaeva Wang (OW) model, the price follows\n",
    "\n",
    "$$\n",
    "S_t=S_0+\\eta\\,\\int_0^t\\,{\\dot x}_s\\,e^{-\\rho\\,(t-s)}\\,ds+\\int_0^t\\,\\sigma\\,dZ_s\n",
    "$$\n",
    "\n",
    "(a) Derive an expression for the expected price path corresponding to a VWAP execution.\n",
    "\n",
    "(b) With the duration $T$ of the meta order set to 1, plot the expected price path from time $t=0$ to time $t=2$ for $\\rho=0.5,1,$ and $2$.\n",
    "\n",
    "(c) What is the expected average cost per share $\\bar S_T$ of a VWAP order in the OW model?"
   ]
  },
  {
   "cell_type": "markdown",
   "metadata": {},
   "source": [
    "### Solution\n",
    "\n",
    "(a)\n",
    "\n",
    "Since we use a VWAP execution, the velocity is\n",
    "\n",
    "$$\n",
    "{\\dot x}_t = \\begin{cases} v,\\, t \\leq T \\\\\n",
    "0,\\, t > T \\end{cases}\n",
    "$$\n",
    "\n",
    "In the Obizhaeva Wang model, we integrate the function and shall obtain the expected price.\n",
    "\n",
    "$$\n",
    "\\begin{split}\n",
    "\\E {[S_t]} &= S_0 + \\eta \\int_0^t {\\dot x}_s e^{- \\rho (t - s)} d s + \\E { \\left[ \\int_0^t \\sigma d Z_s \\right] } \\\\ \n",
    "&= S_0 + \\eta \\int_0^t {\\dot x}_s e^{- \\rho (t - s)} d s = S_0 + \\eta {\\dot x}_s \\frac {1} {\\rho} e^{\\rho (s - t)} \\bigg|_{s = 0}^t\n",
    "\\end{split}\n",
    "$$\n",
    "\n",
    "Thus,\n",
    "\n",
    "$$\n",
    "\\E {[S_t]} = \\begin{cases} S_0 + \\frac {\\eta v} {\\rho} { \\left( 1 - e^{- \\rho t} \\right) },\\, t \\leq T \\\\ \n",
    "S_0 + \\frac {\\eta v} {\\rho} { \\left( e^{- \\rho (t - T)} - e^{- \\rho t} \\right) },\\, t > T \\end{cases}\n",
    "$$"
   ]
  },
  {
   "cell_type": "markdown",
   "metadata": {},
   "source": [
    "(b)"
   ]
  },
  {
   "cell_type": "code",
   "execution_count": 1,
   "metadata": {
    "collapsed": true
   },
   "outputs": [],
   "source": [
    "options(warn=-1)\n",
    "\n",
    "library(repr)\n",
    "options(repr.plot.width=10,repr.plot.height=7)"
   ]
  },
  {
   "cell_type": "code",
   "execution_count": 2,
   "metadata": {
    "collapsed": false
   },
   "outputs": [
    {
     "data": {
      "image/png": "[encoded data removed]",
      "text/plain": [
       "plot without title"
      ]
     },
     "metadata": {},
     "output_type": "display_data"
    }
   ],
   "source": [
    "# Create price function\n",
    "before <- function(x, eta, v, rho, T) {\n",
    "    eta*v/rho*(1-exp(-rho*x))\n",
    "}\n",
    "after <- function(x, eta, v, rho, T) {\n",
    "    eta*v/rho*(exp(-rho*(x-T))-exp(-rho*x))\n",
    "}\n",
    "Price <- function(x, eta, v, rho, T) {\n",
    "    if (x<T)\n",
    "        Price <- before(x, eta, v, rho, T)\n",
    "    else \n",
    "        Price <- after(x, eta, v, rho, T)\n",
    "}\n",
    "\n",
    "# Create plot funcgtion\n",
    "PlotPrice <- function(eta, v, rho, T, c) {\n",
    "    a <- (0:200)/100\n",
    "    b <- (0:200)/100\n",
    "    for (i in 0:201) {\n",
    "        b[i] <- Price(i/100, eta, v, rho, T)\n",
    "    }\n",
    "    lines(a, b, col=c)\n",
    "}\n",
    "\n",
    "# Output plots\n",
    "plot(0:2,(0:2)/2, type=\"n\", xlab=\"Time\", ylab=\"Expected Price\")\n",
    "PlotPrice(1, 1, 0.5, 1, \"red\")\n",
    "PlotPrice(1, 1, 1, 1, \"green\")\n",
    "PlotPrice(1, 1, 2, 1, \"blue\")\n",
    "legend(\"topright\", \n",
    "       c(expression(paste(rho,\"=0.5\")), expression(paste(rho,\"=1\")), expression(paste(rho,\"=2\"))), \n",
    "       col=c(\"red\", \"green\", \"blue\"), lty=1, inset=0.02)"
   ]
  },
  {
   "cell_type": "markdown",
   "metadata": {},
   "source": [
    "(c)\n",
    "\n",
    "Since we use a VWAP execution,\n",
    "\n",
    "$$\n",
    "\\begin{split}\n",
    "\\bar S_T &= \\frac {C[\\Pi]} {X} \\\\ \n",
    "v &= \\frac {X} {T}\n",
    "\\end{split}\n",
    "$$\n",
    "\n",
    "Substitute these parameters into the cost function, we shall have\n",
    "\n",
    "$$\n",
    "\\begin{split}\n",
    "\\bar S_T &= \\int_0^T \\frac {\\eta X} {\\rho T^2} { \\left( 1 - e^{- \\rho t} \\right) } d t \\\\\n",
    "&= \\frac {\\eta X} {\\rho T^2} { \\left( t + \\frac {1} {\\rho} e^{- \\rho t} \\right) } \\bigg|_0^T \\\\\n",
    "&= \\frac {\\eta X} {\\rho T} { \\left( 1 + \\frac {1} {\\rho T} {\\left(e^{- \\rho T} - 1\\right)} \\right) }\n",
    "\\end{split}\n",
    "$$"
   ]
  }
 ],
 "metadata": {
  "anaconda-cloud": {},
  "kernelspec": {
   "display_name": "R",
   "language": "R",
   "name": "ir"
  },
  "language_info": {
   "codemirror_mode": "r",
   "file_extension": ".r",
   "mimetype": "text/x-r-source",
   "name": "R",
   "pygments_lexer": "r",
   "version": "3.3.1"
  }
 },
 "nbformat": 4,
 "nbformat_minor": 1
}
