{
 "cells": [
  {
   "cell_type": "markdown",
   "metadata": {},
   "source": [
    "# MTH9879 Homework 10\n",
    "\n",
    "Assigned: April 19, 2018.\n",
    "Due: May 10, 2018 by 6pm. \n",
    "\n",
    "Late homework **will not be accepted**.\n",
    "\n",
    "$$\n",
    "\\newcommand{\\supp}{\\mathrm{supp}}\n",
    "\\newcommand{\\E}{\\mathbb{E}}\n",
    "\\newcommand{\\Eof}[1]{\\mathbb{E}\\left[ #1 \\right]}\n",
    "\\def\\Cov{{ \\mbox{Cov} }}\n",
    "\\def\\Var{{ \\mbox{Var} }}\n",
    "\\newcommand{\\1}{\\mathbf{1} }\n",
    "\\newcommand{\\PP}{\\mathbb{P} }\n",
    "%\\newcommand{\\Pr}{\\mathrm{Pr} }\n",
    "\\newcommand{\\QQ}{\\mathbb{Q} }\n",
    "\\newcommand{\\RR}{\\mathbb{R} }\n",
    "\\newcommand{\\DD}{\\mathbb{D} }\n",
    "\\newcommand{\\HH}{\\mathbb{H} }\n",
    "\\newcommand{\\spn}{\\mathrm{span} }\n",
    "\\newcommand{\\cov}{\\mathrm{cov} }\n",
    "\\newcommand{\\sgn}{\\mathrm{sgn} }\n",
    "\\newcommand{\\HS}{\\mathcal{L}_{\\mathrm{HS}} }\n",
    "%\\newcommand{\\HS}{\\mathrm{HS} }\n",
    "\\newcommand{\\trace}{\\mathrm{trace} }\n",
    "\\newcommand{\\LL}{\\mathcal{L} }\n",
    "%\\newcommand{\\LL}{\\mathrm{L} }\n",
    "\\newcommand{\\s}{\\mathcal{S} }\n",
    "\\newcommand{\\ee}{\\mathcal{E} }\n",
    "\\newcommand{\\ff}{\\mathcal{F} }\n",
    "\\newcommand{\\hh}{\\mathcal{H} }\n",
    "\\newcommand{\\bb}{\\mathcal{B} }\n",
    "\\newcommand{\\dd}{\\mathcal{D} }\n",
    "\\newcommand{\\g}{\\mathcal{G} }\n",
    "\\newcommand{\\p}{\\partial}\n",
    "\\newcommand{\\half}{\\frac{1}{2} }\n",
    "\\newcommand{\\T}{\\mathcal{T} }\n",
    "\\newcommand{\\bi}{\\begin{itemize}}\n",
    "\\newcommand{\\ei}{\\end{itemize}}\n",
    "\\newcommand{\\beq}{\\begin{equation}}\n",
    "\\newcommand{\\eeq}{\\end{equation}}\n",
    "\\newcommand{\\beas}{\\begin{eqnarray*}}\n",
    "\\newcommand{\\eeas}{\\end{eqnarray*}}\n",
    "\\newcommand{\\cO}{\\mathcal{O}}\n",
    "\\newcommand{\\cC}{\\mathcal{C}}\n",
    "\\newcommand{\\cF}{\\mathcal{F}}\n",
    "\\newcommand{\\cL}{\\mathcal{L}}\n",
    "\\newcommand{\\BS}{\\text{BS}}\n",
    "$$"
   ]
  },
  {
   "cell_type": "markdown",
   "metadata": {},
   "source": [
    "<font color = \"red\">Homework is to be done by each student individually.  To receive full credit, you must email a completed copy of this iPython notebook to Victor Istratov (stavka@gmail.com), Yassine Ghalem (yassine.ghalem@gmail.com) and Jim Gatheral (jim.gatheral@gmail.com) by the due date and time.  All R-code must run correctly and solutions must be written up neatly in Markdown/LaTeX format."
   ]
  },
  {
   "cell_type": "markdown",
   "metadata": {},
   "source": [
    "## Numerical solution of Fredholm equation"
   ]
  },
  {
   "cell_type": "markdown",
   "metadata": {},
   "source": [
    "### 1. (12 points)\n",
    "Consider the Fredholm equation (7) in Lecture 10:\n",
    "\n",
    "$$\n",
    "\\int_0^T{G}(|t-s|)\\,dx_s =\\text{const.}\\qquad\\text{for all $t\\in [0,T]$.}\n",
    "$$\n",
    "\n",
    "Define $t_i:={i}\\frac T{N}$. One way to discretize this integral equation is as follows:\n",
    "\n",
    "$$\n",
    "\\sum_{j=1}^N G_{ij}\\,v_j=\\text{const.}\n",
    "$$\n",
    "\n",
    "where $v_j=x_{t_{j}}-x_{t_{j-1}}$ and\n",
    "\n",
    "<a name=\"eq:1\"></a>(1)\n",
    "$$\n",
    "G_{ij}=\n",
    "\\int_{t_{i-1}}^{t_i}\\,\\int_{t_{j-1}}^{t_j}\\,G(|t-s|)\\,ds\\,dt.\n",
    "$$\n",
    "\n",
    "(a) Derive an explicit expression for the $G_{ij}$ in the case\n",
    "$$\n",
    "G(\\tau)=\\frac {1}{(1+\\tau)^2}.\n",
    "$$\n",
    "You will need to compute separate expressions for the cases $i \\neq j$ and $i=j$.\n",
    "\n",
    "(b) With $N=512$, use matrix algebra to solve equation [(1)](#eq:1) numerically with this decay kernel.\n",
    "\n",
    "(c) Plot your results - you should end up with something like Figure 2 of Lecture 10.\n",
    "\n"
   ]
  },
  {
   "cell_type": "markdown",
   "metadata": {},
   "source": [
    "### Solution\n",
    "\n",
    "(a)\n",
    "\n",
    "For $i \\neq j$, without loss of generality, assume $i>j$ and $t>s$. The integral becomes\n",
    "\n",
    "$$\n",
    "\\begin{split}\n",
    "G_{ij}&=\\int_{t_{i-1}}^{t_i} \\int_{t_{j-1}}^{t_j} \\frac{1} {(1+t-s)^2} ds dt \\\\\n",
    "&= \\int_{t_{i-1}}^{t_i} \\frac{1} {1+t-t_j} dt - \\int_{t_{i-1}}^{t_i} \\frac{1} {1+t-t_{j-1}} dt \\\\\n",
    "&= \\ln{\\left( 1+t_i-t_j \\right)} - \\ln{\\left( 1+t_{i-1}-t_j \\right)} - \\ln{\\left( 1+t_i-t_{j-1} \\right)} + \\ln{\\left( 1+t_{i-1}-t_{j-1} \\right)} \\\\\n",
    "&= \\ln{\\left[ \\frac{\\left( N+(i-j) T \\right)^2} {\\left( N+(i-j-1) T \\right) \\left( N+(i-j+1) T \\right)} \\right]}\n",
    "\\end{split}\n",
    "$$\n",
    "\n",
    "As for $i=j$, The integral becomes\n",
    "\n",
    "$$\n",
    "\\begin{split}\n",
    "G_{ij}&=2 \\int_{t_{i-1}}^{t_i} \\int_{t_{i-1}}^t \\frac{1} {(1+t-s)^2} ds dt \\\\\n",
    "&=2 \\int_{t_{i-1}}^{t_i} 1 dt - \\int_{t_{i-1}}^{t_i} \\frac{1} {1+t-t_{i-1}} dt \\\\\n",
    "&= 2 \\left( t_i-t_{i-1} \\right) - 2 \\ln{\\left( 1+t_i-t_{i-1} \\right)} \\\\\n",
    "&= \\frac{2T}{N} - 2 \\ln{\\left( 1+\\frac{T}{N} \\right)}\n",
    "\\end{split}\n",
    "$$"
   ]
  },
  {
   "cell_type": "markdown",
   "metadata": {},
   "source": [
    "(b)"
   ]
  },
  {
   "cell_type": "code",
   "execution_count": 1,
   "metadata": {
    "collapsed": true
   },
   "outputs": [],
   "source": [
    "options(warn=-1)\n",
    "\n",
    "library(repr)\n",
    "options(repr.plot.width=10,repr.plot.height=7)"
   ]
  },
  {
   "cell_type": "code",
   "execution_count": 2,
   "metadata": {
    "collapsed": true
   },
   "outputs": [],
   "source": [
    "# Function to compute G()\n",
    "G <- function(i,j,dt) {\n",
    "    if  (i == j) {\n",
    "        return (2*dt - 2*log(1 + dt))\n",
    "    }\n",
    "    else {\n",
    "        return (log((1+abs(i-j)*dt) * (1+abs(i-j)*dt) / ((1+abs(i-j-1)*dt) * (1+abs(i-j+1)*dt))))\n",
    "    } \n",
    "}\n",
    "\n",
    "# Parameters\n",
    "N <- 512\n",
    "C <- 1/10000\n",
    "\n",
    "# COmpute matrix\n",
    "Gmat <- matrix(0,N,N)\n",
    "for (i in 1:N) {\n",
    "    for (j in 1:N) {\n",
    "        Gmat[i,j] = G(i,j,1/N)    \n",
    "    }\n",
    "}\n",
    "\n",
    "const <- rep(C,N)\n",
    "\n",
    "# Solve for the vector\n",
    "v <- solve(Gmat,const)"
   ]
  },
  {
   "cell_type": "markdown",
   "metadata": {},
   "source": [
    "(c)"
   ]
  },
  {
   "cell_type": "code",
   "execution_count": 3,
   "metadata": {},
   "outputs": [
    {
     "data": {
      "image/png": "[encoded data removed]",
      "text/plain": [
       "plot without title"
      ]
     },
     "metadata": {},
     "output_type": "display_data"
    }
   ],
   "source": [
    "# Plot\n",
    "plot((1:N)/N, v, type=\"l\", col=\"red\", xlab=\"Time/s\", ylab=\"v(s)\")"
   ]
  },
  {
   "cell_type": "markdown",
   "metadata": {},
   "source": [
    "## Optimal interval VWAP strategy in the square-root model"
   ]
  },
  {
   "cell_type": "markdown",
   "metadata": {},
   "source": [
    "### 2. (12 points)\n",
    "\n",
    "Consider equation (11) of Lecture 10 for the cost of liquidation using interval VWAPs:\n",
    "\n",
    "$$\n",
    "\\cC=\\sum_{j=1}^m\\,C_{jj}+\\sum_{i< j}^m\\,C_{ji}.\n",
    "$$\n",
    "\n",
    "(a) With $m=3$ (that is 3 interval VWAP slices), and assuming the square-root process where\n",
    "\n",
    "$$\n",
    "h(v)=\\frac  3 4 \\sigma\\,\\sqrt{\\frac{v}{V}} =\\frac  3 4 \\sigma\\,\\sqrt{\\frac{\\dot x}{V}}, \n",
    "\\quad \\mbox{ and } \\quad\n",
    "G(\\tau)=1/\\sqrt{\\tau},\n",
    "$$\n",
    "\n",
    "compute explicit expressions for the matrix elements $C_{ji}$ in terms of $x_1$, $x_2$, $t_1$, and $t_2$ (noting that $t_0=0$ and $t_3=T$).\n",
    "\n",
    "(b) Minimize the resulting expression for the expected cost of liquidation numerically to find optimal choices of $x_1$ and $x_2$ when $t_1=T/3$, and $t_2=2 \\,T/3$.\n",
    "\n",
    "(c) What is the percentage saving from trading with the 3-slice strategy relative to a VWAP?\n",
    "\n",
    "(d) Explain to your non-mathematical manager why this strategy has lower expected cost."
   ]
  },
  {
   "cell_type": "markdown",
   "metadata": {},
   "source": [
    "### Solution\n",
    "\n",
    "(a)\n",
    "\n",
    "Cost of a three-interval VWAP strategy with square-root decay is denoted as\n",
    "\n",
    "$$\n",
    "C = \\sum_{j = 1}^3 C_{jj} + \\sum_{i < j}^3 C_{ji}\n",
    "$$\n",
    "\n",
    "where\n",
    "\n",
    "$$\n",
    "\\begin{split}\n",
    "C_{ii} &= \\frac {x_i} {t_i - t_{i - 1}} h(v_i) \\int_{t_{i - 1}}^{t_i} dt \\int_{t_{i - 1}}^{t} \\frac {1} {\\sqrt{t - s}} ds =\n",
    "\\frac 43 x_i h(v_i) \\sqrt{t_i-t_{i - 1}} \\\\ \n",
    "C_{ji} &= \\frac {x_j} {t_{j} - t_{j - 1}} h(v_i) \\int_{t_{j - 1}}^{t_j} dt \\int_{t_{i - 1}}^{t_i} \\frac {1} {\\sqrt{t - s}} ds \\\\ \n",
    "&= \\frac 43 x_j h(v_i) \\frac {\\left(t_j - t_{i - 1}\\right)^{\\frac 32} - \\left(t_j - t_i\\right)^{\\frac 32} - \\left(t_{j - 1} - t_{i - 1}\\right)^{\\frac 32} + \\left(t_{j - 1} - t_i\\right)^{\\frac 32}} {t_j - t_{j - 1}}\n",
    "\\end{split}\n",
    "$$"
   ]
  },
  {
   "cell_type": "markdown",
   "metadata": {},
   "source": [
    "Since\n",
    "\n",
    "$$\n",
    "t_0 = 0, \\, t_3 = T \\\\\n",
    "\\sum_{j = 1}^m x_j = X \\\\ \n",
    "v_j = \\frac {x_j} {t_j - t_{j - 1}}\n",
    "$$\n",
    "\n",
    "For the fisrt sum, we have\n",
    "\n",
    "$$\n",
    "\\begin{split}\n",
    "C_{11} &= \\frac {\\sigma} {\\sqrt{V}} x_1^{\\frac 32} \\\\ \n",
    "C_{22} &= \\frac {\\sigma} {\\sqrt{V}} x_2^{\\frac 32} \\\\ \n",
    "C_{33} &= \\frac {\\sigma} {\\sqrt{V}} { \\left( X - x_1 - x_2 \\right) }^{\\frac 32}\n",
    "\\end{split}\n",
    "$$\n",
    "\n",
    "For the second sum,\n",
    "\n",
    "$$\n",
    "\\begin{split}\n",
    "C_{21} &= \\sigma x_2 \\sqrt{\\frac {x_1} {V t_1}} \\frac {t_2^{\\frac 32} - \\left(t_2 - t_1\\right)^{\\frac 32} - t_1^{\\frac 32}} {t_2 - t_1} \\\\ \n",
    "C_{31} &= \\sigma { \\left( X - x_1 - x_2 \\right) } \\sqrt{\\frac {x_1} {V t_1}} \\frac {T^{\\frac 32} - \\left(T - t_1\\right)^{\\frac 32} - t_2^{\\frac 32} + \\left(t_2 - t_1\\right)^{\\frac 32}} {T - t_2} \\\\ \n",
    "C_{32} &= \\sigma { \\left( X - x_1 - x_2 \\right) } \\sqrt{\\frac {x_2} {V (t_2 - t_1)}} \\frac {\\left(T - t_1\\right)^{\\frac 32} - \\left(T - t_2\\right)^{\\frac 32} - \\left(t_2 - t_1\\right)^{\\frac 32}} {T - t_2}\n",
    "\\end{split}\n",
    "$$"
   ]
  },
  {
   "cell_type": "markdown",
   "metadata": {},
   "source": [
    "(b)\n",
    "\n",
    "As $t_1 = \\frac13 T$ and $t_2 = \\frac23 T$, substitute them into functions above. That is \n",
    "\n",
    "$$\n",
    "\\begin{split}\n",
    "C_{21} &= \\frac {\\sigma} {\\sqrt{V}} x_2 x_1^{\\frac 12} { \\left( \\sqrt{8} - 1 - 1 \\right) } \\\\ \n",
    "C_{31} &= \\frac {\\sigma} {\\sqrt{V}} { \\left( X - x_1 - x_2 \\right) } x_1^{\\frac 12} { \\left( \\sqrt{27} - \\sqrt{8} - \\sqrt{8} + 1 \\right) } \\\\ \n",
    "C_{32} &= \\frac {\\sigma} {\\sqrt{V}} { \\left( X - x_1 - x_2 \\right) } x_2^{\\frac 12} { \\left( \\sqrt{8} - 1 - 1 \\right) }\n",
    "\\end{split}\n",
    "$$\n",
    "\n",
    "As\n",
    "\n",
    "$$\n",
    "\\sum_{j=1}^3 C_{jj} + \\sum_{i<j}^3 C_{ji} = C_{11} + C_{22} + C_{33} + C_{21} + C_{31} + C_{32}\n",
    "$$\n",
    "\n",
    "We can optimize $C$ with the first order conditions of $x_1$ and $x_2$, as\n",
    "\n",
    "$$\n",
    "\\min_{x_1,x_2} C = \\min_{x_1,x_2} \\left( \\sum_{j=1}^3 C_{jj} + \\sum_{i<j}^3 C_{ji} \\right)\n",
    "$$\n",
    "\n",
    "The optimization part is realized by R coding shown below (constants like $\\sigma$, $X$, and $V$ is omitted here)."
   ]
  },
  {
   "cell_type": "code",
   "execution_count": 4,
   "metadata": {},
   "outputs": [
    {
     "name": "stdout",
     "output_type": "stream",
     "text": [
      "[1] \"The optimal value of x1 is 0.647081191733939\"  \n",
      "[2] \"The optimal value of x2 is 0\"                  \n",
      "[3] \"The optimal value of cost is 0.883282064977919\"\n"
     ]
    }
   ],
   "source": [
    "# Craft cost function\n",
    "c11 <- function(x){x[1]^(3/2)}\n",
    "c22 <- function(x){x[2]^(3/2)}\n",
    "c33 <- function(x){(1-x[1]-x[2])^(3/2)}\n",
    "c21 <- function(x){x[2]*x[1]^(1/2)*(8^(1/2)-1-1)}\n",
    "c31 <- function(x){(1-x[1]-x[2])*x[1]^(1/2)*(27^(1/2)-8^(1/2)-8^(1/2)+1)}\n",
    "c32 <- function(x){(1-x[1]-x[2])*x[2]^(1/2)*(8^(1/2)-1-1)}\n",
    "cost <- function(x){c11(x)+c22(x)+c33(x)+c21(x)+c31(x)+c32(x)}\n",
    "\n",
    "# Optimization\n",
    "result <- optim(c(0.1,0.1), cost, lower=c(0,0), upper=c(1,1), method=\"L-BFGS-B\")\n",
    "\n",
    "# Output results\n",
    "x <- c(\"x1\",\"x2\",\"cost\")\n",
    "v <- c(result$par, result$value)\n",
    "print(paste(\"The optimal value of\", x, \"is\", v))"
   ]
  },
  {
   "cell_type": "markdown",
   "metadata": {},
   "source": [
    "(c)\n",
    "\n",
    "For a VWAP,\n",
    "\n",
    "$$\n",
    "C_{\\text{VWAP}} = \\frac {\\sigma} {\\sqrt{V}} X^{\\frac 32}\n",
    "$$\n",
    "\n",
    "While for a 3-slice strategy,\n",
    "\n",
    "$$\n",
    "C_{\\text{3-slice}} = 0.8833 \\frac {\\sigma} {\\sqrt{V}} X^{\\frac 32}\n",
    "$$\n",
    "\n",
    "Therefore, the percentage saving is\n",
    "\n",
    "$$\n",
    "\\frac {C_{\\text{VWAP}} - C_{\\text{3-slice}}} {C_{\\text{VWAP}}} = 11.64 \\%\n",
    "$$"
   ]
  },
  {
   "cell_type": "markdown",
   "metadata": {},
   "source": [
    "(d)\n",
    "\n",
    "When a large quantity of orders is submitted, market would need time to react. Therefore, if we submit a large number of orders at the initial time, when price goes up, our orders have already been executed. After that, price would resilience back in the second period. As a result, by the time we liquidate again, a better price could be obtained. "
   ]
  }
 ],
 "metadata": {
  "anaconda-cloud": {},
  "kernelspec": {
   "display_name": "R",
   "language": "R",
   "name": "ir"
  },
  "language_info": {
   "codemirror_mode": "r",
   "file_extension": ".r",
   "mimetype": "text/x-r-source",
   "name": "R",
   "pygments_lexer": "r",
   "version": "3.5.1"
  },
  "latex_envs": {
   "LaTeX_envs_menu_present": true,
   "autoclose": true,
   "autocomplete": true,
   "bibliofile": "biblio.bib",
   "cite_by": "apalike",
   "current_citInitial": 1,
   "eqLabelWithNumbers": true,
   "eqNumInitial": 1,
   "hotkeys": {
    "equation": "Ctrl-E",
    "itemize": "Ctrl-I"
   },
   "labels_anchors": false,
   "latex_user_defs": false,
   "report_style_numbering": false,
   "user_envs_cfg": false
  },
  "toc": {
   "base_numbering": 1,
   "nav_menu": {},
   "number_sections": true,
   "sideBar": true,
   "skip_h1_title": false,
   "title_cell": "Table of Contents",
   "title_sidebar": "Contents",
   "toc_cell": false,
   "toc_position": {},
   "toc_section_display": true,
   "toc_window_display": false
  },
  "varInspector": {
   "cols": {
    "lenName": 16,
    "lenType": 16,
    "lenVar": 40
   },
   "kernels_config": {
    "python": {
     "delete_cmd_postfix": "",
     "delete_cmd_prefix": "del ",
     "library": "var_list.py",
     "varRefreshCmd": "print(var_dic_list())"
    },
    "r": {
     "delete_cmd_postfix": ") ",
     "delete_cmd_prefix": "rm(",
     "library": "var_list.r",
     "varRefreshCmd": "cat(var_dic_list()) "
    }
   },
   "types_to_exclude": [
    "module",
    "function",
    "builtin_function_or_method",
    "instance",
    "_Feature"
   ],
   "window_display": false
  }
 },
 "nbformat": 4,
 "nbformat_minor": 1
}
