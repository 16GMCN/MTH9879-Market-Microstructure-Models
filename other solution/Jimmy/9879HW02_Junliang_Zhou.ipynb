{
 "cells": [
  {
   "cell_type": "markdown",
   "metadata": {},
   "source": [
    "# MTH9879 Homework 2\n",
    "\n",
    "Assigned: February 8, 2018.\n",
    "Due: February 22, 2018 by 6pm. \n",
    "\n",
    "Late homework **will not be accepted**.\n",
    "\n",
    "$$\n",
    "\\newcommand{\\supp}{\\mathrm{supp}}\n",
    "\\newcommand{\\E}{\\mathbb{E} }\n",
    "\\def\\Cov{{ \\mbox{Cov} }}\n",
    "\\def\\Var{{ \\mbox{Var} }}\n",
    "\\newcommand{\\1}{\\mathbf{1} }\n",
    "\\newcommand{\\PP}{\\mathbb{P} }\n",
    "%\\newcommand{\\Pr}{\\mathrm{Pr} }\n",
    "\\newcommand{\\QQ}{\\mathbb{Q} }\n",
    "\\newcommand{\\RR}{\\mathbb{R} }\n",
    "\\newcommand{\\DD}{\\mathbb{D} }\n",
    "\\newcommand{\\HH}{\\mathbb{H} }\n",
    "\\newcommand{\\spn}{\\mathrm{span} }\n",
    "\\newcommand{\\cov}{\\mathrm{cov} }\n",
    "\\newcommand{\\sgn}{\\mathrm{sgn} }\n",
    "\\newcommand{\\HS}{\\mathcal{L}_{\\mathrm{HS}} }\n",
    "%\\newcommand{\\HS}{\\mathrm{HS} }\n",
    "\\newcommand{\\trace}{\\mathrm{trace} }\n",
    "\\newcommand{\\LL}{\\mathcal{L} }\n",
    "%\\newcommand{\\LL}{\\mathrm{L} }\n",
    "\\newcommand{\\s}{\\mathcal{S} }\n",
    "\\newcommand{\\ee}{\\mathcal{E} }\n",
    "\\newcommand{\\ff}{\\mathcal{F} }\n",
    "\\newcommand{\\hh}{\\mathcal{H} }\n",
    "\\newcommand{\\bb}{\\mathcal{B} }\n",
    "\\newcommand{\\dd}{\\mathcal{D} }\n",
    "\\newcommand{\\g}{\\mathcal{G} }\n",
    "\\newcommand{\\p}{\\partial}\n",
    "\\newcommand{\\half}{\\frac{1}{2} }\n",
    "\\newcommand{\\T}{\\mathcal{T} }\n",
    "\\newcommand{\\bi}{\\begin{itemize}}\n",
    "\\newcommand{\\ei}{\\end{itemize}}\n",
    "\\newcommand{\\beq}{\\begin{equation}}\n",
    "\\newcommand{\\eeq}{\\end{equation}}\n",
    "\\newcommand{\\beas}{\\begin{eqnarray*}}\n",
    "\\newcommand{\\eeas}{\\end{eqnarray*}}\n",
    "\\newcommand{\\cO}{\\mathcal{O}}\n",
    "\\newcommand{\\cF}{\\mathcal{F}}\n",
    "\\newcommand{\\cL}{\\mathcal{L}}\n",
    "\\newcommand{\\BS}{\\text{BS}}\n",
    "$$"
   ]
  },
  {
   "cell_type": "markdown",
   "metadata": {},
   "source": [
    "<font color = \"red\">Homework is to be done by each student individually.  To receive full credit, you must email a completed copy of this iPython notebook to Victor Istratov (stavka@gmail.com), Yassine Ghalem (yassine.ghalem@gmail.com) and Jim Gatheral (jim.gatheral@gmail.com) by the due date and time.  All R-code must run correctly and solutions must be written up neatly in Markdown/LaTeX format.\n"
   ]
  },
  {
   "cell_type": "markdown",
   "metadata": {},
   "source": [
    "## Junliang Zhou\n",
    "\n",
    "Tel: (347) 276-1207\n",
    "\n",
    "Email: gjimzhou@gmail.com"
   ]
  },
  {
   "cell_type": "markdown",
   "metadata": {},
   "source": [
    "### 0. (0 points) \n",
    "\n",
    "Read Chapter 12 of Hasbrouck and Section 6.4 of Foucault, Pagano and R&ouml;ell.\n"
   ]
  },
  {
   "cell_type": "markdown",
   "metadata": {},
   "source": [
    "## The Parlour (1998) model"
   ]
  },
  {
   "cell_type": "markdown",
   "metadata": {},
   "source": [
    "### 1. (10 points) \n",
    "Consider the first step $t = 1$ of the 3-step order book case presented in the lecture slides. Suppose that the order book at (or just before) $t = 1$ has one share offered and one share bid ($n_B = n_A = 1$).\n",
    "\n",
    "Give the probabilities as of a market buy, market sell, limit buy and limit sell at $t = 1$,\n",
    "You may use my Mathematica notebook *Parlour.nb* as a guide (if you wish)."
   ]
  },
  {
   "cell_type": "markdown",
   "metadata": {},
   "source": [
    "### Solution\n",
    "\n",
    "There are six possible actions at $t = 1$, and each will generate a different order book. All six possible actions are summarized in the table shown below.\n",
    "\n",
    "|  Action  |  Order book  |\n",
    "|:---------|:---------|\n",
    "|  Market sell (MS)  |  $(0, 1)$  |\n",
    "|  Limit sell (LS)  |  $(1, 2)$  |\n",
    "|  No sell (NS)  |  $(1, 1)$  |\n",
    "|  Market buy (MB)  |  $(1, 0)$  |\n",
    "|  Limit buy (LB)  |  $(2, 1)$  |\n",
    "| No buy (NB)  |  $(1, 1)$  |\n",
    "\n",
    "For limit sell and limit buy, succeed actions should be taken into consideration. As there are already two limit sells/buys in the order book, two conclusions can be drawn:\n",
    "1. Succeed traders cannot submit limit orders.\n",
    "2. Limit sell/buy can be fulfilled only if all two succeed traders submit market sell/buy.\n",
    "\n",
    "Thus, the second and the third trader will have the same strategy. According to Lecture 3, that is \n",
    "\n",
    "$$\n",
    "\\PP^S_2 = \\PP^S_3 = \\frac {5} {22}\n",
    "$$ \n",
    "\n",
    "By symmetry, \n",
    "\n",
    "$$\n",
    "\\PP^B_2 = \\PP^B_3 = \\frac {5} {22}\n",
    "$$\n",
    "\n",
    "As a result, payoff of each six actions can be calculated and summarized in the table shown below.\n",
    "\n",
    "|  Action  |  Payoff  |\n",
    "|:---------|:----------------|\n",
    "|  Market sell (MS)  |  $B - \\beta_1 V$  |\n",
    "|  Limit sell (LS)  |  $(A-\\beta_1 V)\\PP^S_2\\PP^S_3$  |\n",
    "|  No sell (NS)  |  $0$  |\n",
    "|  Market buy (MB)  |  $\\beta_1 V - A$  |\n",
    "|  Limit buy (LB)  |  $(\\beta_1 V-B)\\PP^B_2\\PP^B_3$  |\n",
    "| No buy (NB)  |  $0$  |"
   ]
  },
  {
   "cell_type": "code",
   "execution_count": 1,
   "metadata": {
    "collapsed": true
   },
   "outputs": [],
   "source": [
    "options(warn=-1)\n",
    "\n",
    "library(repr)\n",
    "options(repr.plot.width=7,repr.plot.height=7)"
   ]
  },
  {
   "cell_type": "code",
   "execution_count": 2,
   "metadata": {
    "collapsed": false
   },
   "outputs": [
    {
     "data": {
      "image/png": "[encoded data removed]",
      "text/plain": [
       "Plot with title \"Buy strategy\""
      ]
     },
     "metadata": {},
     "output_type": "display_data"
    }
   ],
   "source": [
    "# Set plots position\n",
    "par(mfrow=c(1,2))\n",
    "\n",
    "# Initialize parameters\n",
    "v <- 5.5\n",
    "b <- 5\n",
    "a <- 6\n",
    "ps <- 5/22\n",
    "pb <- 5/22\n",
    "\n",
    "# Plot sell strategy\n",
    "plot (0:2, (-1:1)/5, type=\"n\", main=\"Sell strategy\", xlab=expression(beta), ylab=\"Payoff\")\n",
    "curve(b-v*x, add=T, col=\"red\")\n",
    "curve((a-v*x)*ps*ps, add=T, col=\"green\")\n",
    "curve(0*x, add=T, col=\"blue\")\n",
    "legend(\"topright\", c(\"MS\", \"LS\", \"NS\"), col=c(\"red\", \"green\", \"blue\"), lty=1, inset=0.02)\n",
    "\n",
    "# Plot buy Strategy\n",
    "plot (0:2, (-1:1)/5, type=\"n\", main=\"Buy strategy\", xlab=expression(beta), ylab=\"Payoff\")\n",
    "curve(v*x-a, add=T, col=\"red\")\n",
    "curve((v*x-b)*pb*pb, add=T, col=\"green\")\n",
    "curve(0*x, add=T, col=\"blue\")\n",
    "legend(\"topleft\", c(\"MB\", \"LB\", \"NB\"), col=c(\"red\", \"green\", \"blue\"), lty=1, inset=0.02)"
   ]
  },
  {
   "cell_type": "markdown",
   "metadata": {},
   "source": [
    "From the plots above we can calculate two crossover points, $\\beta_1 = \\frac {4540} {5049}$, $\\beta_1 = \\frac {12} {11}$ for sell orders, and $\\beta_1 = \\frac {5558} {5049}$, $\\beta_1 = \\frac {10} {11}$ for buy orders.\n",
    "\n",
    "Thus, the probability of each six actions can be calculated and summarized in the table shown below.\n",
    "\n",
    "|  Action  |  Condition  |  Probability  |\n",
    "|:---------|:------------|:--------------|\n",
    "|  Market sell (MS)  |  $0 \\leq \\beta_1 < \\frac {4540} {5049}$  |  $\\frac {1135} {5049}$  |\n",
    "|  Limit sell (LS)  |  $\\frac {4540} {5049} \\leq \\beta_1 < \\frac {12} {11}$  |  $\\frac {22} {459}$  |\n",
    "|  No sell (NS)  |  $\\frac {12} {11} \\leq \\beta_1 \\leq 2$  |  $\\frac {5} {22}$  |\n",
    "|  Market buy (MB)  |  $\\frac {4540} {5049} < \\beta_1 \\leq 2$  |  $\\frac {1135} {5049}$  |\n",
    "|  Limit buy (LB)  |  $\\frac {10} {11} < \\beta_1 \\leq \\frac {4540} {5049}$  |  $\\frac {22} {459}$  |\n",
    "| No buy (NB)  |  $0 \\leq \\beta_1 \\leq \\frac {10} {11}$  |  $\\frac {5} {22}$  |"
   ]
  },
  {
   "cell_type": "markdown",
   "metadata": {},
   "source": [
    "### 2. (4 points) \n",
    "Explain why the optimal market/limit order decision depends in general on quantity available on both sides of the order book in the Parlour model."
   ]
  },
  {
   "cell_type": "markdown",
   "metadata": {},
   "source": [
    "### Solution\n",
    "\n",
    "Firstly, if quantity on the same side increases, the likelihood of submitting a limit order will decrease, since it will be harder to fulfill. Correspondingly, the likelihood of submitting a market order will increase.\n",
    "\n",
    "Now that a limit order requires a market order from the opposite side to fulfill it, quantity on the opposite side will also change the likelihood of submitting a limit order by changing the likelihood of submitting a market order on the opposite side. Thus, if quantity on the opposite side increases, the likelihood of submitting a market order on the opposite side will increase, and push up the likelihood of submitting a limit order."
   ]
  },
  {
   "cell_type": "markdown",
   "metadata": {},
   "source": [
    "### Set up R-environment"
   ]
  },
  {
   "cell_type": "code",
   "execution_count": 3,
   "metadata": {
    "collapsed": false
   },
   "outputs": [],
   "source": [
    "download.file(url=\"https://mfe.baruch.cuny.edu/wp-content/uploads/2015/01/ziSetup.zip\", destfile=\"ziSetup.zip\")\n",
    "unzip(zipfile=\"ziSetup.zip\")\n",
    "source(\"ziSetup.R\")\n",
    "\n",
    "library(repr)\n",
    "options(repr.plot.width=7,repr.plot.height=7)"
   ]
  },
  {
   "cell_type": "markdown",
   "metadata": {},
   "source": [
    "## Cont-Kukanov optimal order placement"
   ]
  },
  {
   "cell_type": "markdown",
   "metadata": {},
   "source": [
    "### 3. (16 points)\n",
    "\n",
    "Consider the two BATS exchanges BZX and BYX.  Suppose you are trying to buy shares of MSFT in 3.9 minutes ($1\\%$ of the trading day).  Suppose further that the two exchanges have the following characteristics:\n",
    "\n",
    "**Exchange** | **Make fee** | **Take fee** | **Daily volume** \n",
    "-----|-----:|-------:| ---- |\n",
    "| **(per share)** | **(per share)** | **(shares)** \n",
    "BZX | -0.32¢ | +0.30¢ | 10,500,000\n",
    "BYX | +0.03¢ | -0.03¢ | 1,300,000\n",
    "\n",
    "Assume the daily volatility of MSFT is $1\\%$ and that MSFT is trading at $\\$37.50$.\n",
    "\n",
    "(a) We may suppose that if your order is only partially filled, that's because the price moved away (*adverse selection*).  This suggests that we penalize any under fill of limit orders by $\\sigma\\,\\sqrt{T}$ where $T$ is the order duration.  Compute the corresponding value of $\\lambda_u$ in cents per share.\n",
    "\n",
    "\n",
    "(b) Assuming a spread of $1$ cent, what are $h$, $f$, and $r$ for BZX and BYX respectively (in cents per share)?\n",
    "\n",
    "\n",
    "(c) Assuming no seasonality, what is the mean value $\\bar \\xi$ of $\\xi$ (over 3.9 minutes) for BZX and BYX respectively (in shares)?\n",
    "\n",
    "\n",
    "(d)  Assume that $\\xi$ is log normally distributed with\n",
    "\n",
    "$$\n",
    "\\xi = \\bar \\xi \\,\\exp\\left\\{\\sigma\\,Z-\\frac 12\\,\\sigma^2\\right\\}.\n",
    "$$\n",
    "\n",
    "where $Z \\sim N(0,1)$ and $\\sigma = 1/2$.  What is the standard deviation of $\\xi$ (in terms of $\\bar \\xi$)?\n",
    "\n",
    "\n",
    "(e) Write R-code to determine the optimal order size $L^\\star+Q$ on BZX and BYX respectively. Assume here that you will either trade on BZX or BYX; there is no splitting of the order between the two exchanges. <br>\n",
    "(Hint: You may find the R function *qnorm(. )* useful).\n",
    "\n",
    "\n",
    "(f) Compare the optimal limit order sizes from part (e) with the ratios of quote sizes and volumes on BZX and BYX.  Are your results from part (e) roughly consistent with observation.  You may assume that the quote sizes shown on the MSFT BATS slides from Lecture 1 are typical."
   ]
  },
  {
   "cell_type": "markdown",
   "metadata": {},
   "source": [
    "### Solution\n",
    "\n",
    "(a)\n",
    "\n",
    "$$\\lambda_u=\\sigma\\sqrt{T}=1\\%\\times 37.50 \\times \\sqrt{1\\%}=0.0375$$"
   ]
  },
  {
   "cell_type": "markdown",
   "metadata": {},
   "source": [
    "(b)\n",
    "\n",
    "Exchange | $h$ | $f$ | $r$ \n",
    "-----|:-----:|:-------:|:----:|\n",
    "BZX | 0.0050 | 0.0030 | 0.0032\n",
    "BYX | 0.0050 | -0.0003 | -0.0003"
   ]
  },
  {
   "cell_type": "markdown",
   "metadata": {},
   "source": [
    "(c)\n",
    "\n",
    "Exchange | $\\bar\\xi$ \n",
    "-----|:-----:|\n",
    "BZX | 105,000 \n",
    "BYX | 13,000 "
   ]
  },
  {
   "cell_type": "markdown",
   "metadata": {},
   "source": [
    "(d)\n",
    "\n",
    "$$\\Var[\\xi]={\\bar\\xi}^2 {(e^{\\sigma^2}-1)}={\\bar\\xi}^2 {(e^{\\frac14}-1)}$$\n",
    "\n",
    "$$\\sigma_\\xi=\\bar\\xi \\sqrt{(e^{\\frac14}-1)}$$"
   ]
  },
  {
   "cell_type": "markdown",
   "metadata": {},
   "source": [
    "(e)"
   ]
  },
  {
   "cell_type": "code",
   "execution_count": 4,
   "metadata": {
    "collapsed": false,
    "scrolled": true
   },
   "outputs": [
    {
     "data": {
      "text/html": [
       "76887"
      ],
      "text/latex": [
       "76887"
      ],
      "text/markdown": [
       "76887"
      ],
      "text/plain": [
       "[1] 76887"
      ]
     },
     "metadata": {},
     "output_type": "display_data"
    },
    {
     "data": {
      "text/html": [
       "7834"
      ],
      "text/latex": [
       "7834"
      ],
      "text/markdown": [
       "7834"
      ],
      "text/plain": [
       "[1] 7834"
      ]
     },
     "metadata": {},
     "output_type": "display_data"
    }
   ],
   "source": [
    "# Solution for optimal order size\n",
    "optOrderSize <- function(EX) {\n",
    "    h <- EX[1]\n",
    "    f <- EX[2]\n",
    "    r <- EX[3]\n",
    "    xi <- EX[4]\n",
    "    sigma <- EX[5]\n",
    "    lambda <- EX[6]\n",
    "    z <- (2*h+f+r)/(lambda+h+r)\n",
    "    floor(qlnorm(z, meanlog=-1/2*sigma*sigma+log(xi), sdlog=sigma))\n",
    "}\n",
    "\n",
    "# Parameters\n",
    "BZX <- c(0.0050, 0.0030, 0.0032, 105000, 0.5, 0.0375)\n",
    "BYX <- c(0.0050, -0.0003, -0.0003, 13000, 0.5, 0.0375)\n",
    "\n",
    "# Calculate results\n",
    "optOrderSize(BZX)\n",
    "optOrderSize(BYX)"
   ]
  },
  {
   "cell_type": "markdown",
   "metadata": {},
   "source": [
    "The optimal order size $L^\\star+Q$ on BZX and BYX is 76887 and 7834 respectively."
   ]
  },
  {
   "cell_type": "markdown",
   "metadata": {},
   "source": [
    "(f)"
   ]
  },
  {
   "cell_type": "code",
   "execution_count": 5,
   "metadata": {
    "collapsed": false
   },
   "outputs": [
    {
     "data": {
      "text/html": [
       "0.00173778845187979"
      ],
      "text/latex": [
       "0.00173778845187979"
      ],
      "text/markdown": [
       "0.00173778845187979"
      ],
      "text/plain": [
       "[1] 0.001737788"
      ]
     },
     "metadata": {},
     "output_type": "display_data"
    },
    {
     "data": {
      "text/html": [
       "0.0030163778247895"
      ],
      "text/latex": [
       "0.0030163778247895"
      ],
      "text/markdown": [
       "0.0030163778247895"
      ],
      "text/plain": [
       "[1] 0.003016378"
      ]
     },
     "metadata": {},
     "output_type": "display_data"
    }
   ],
   "source": [
    "aveSizeBZX <- mean(c(753, 400, 400, 300, 200, 300, 300, 200, 500, 453))\n",
    "aveSizeBYX <- mean(c(100, 200, 300, 400, 300, 200, 100, 100, 353, 100))\n",
    "volumeBZX <- 219014\n",
    "volumeBYX <- 71377\n",
    "ratioBZX <- aveSizeBZX / volumeBZX\n",
    "ratioBYX <- aveSizeBYX / volumeBYX\n",
    "ratioBZX\n",
    "ratioBYX"
   ]
  },
  {
   "cell_type": "markdown",
   "metadata": {},
   "source": [
    "Conclusions cannot be drawn."
   ]
  },
  {
   "cell_type": "markdown",
   "metadata": {},
   "source": [
    "## The Bouchaud-M&eacute;zard-Potters order book approximation"
   ]
  },
  {
   "cell_type": "markdown",
   "metadata": {},
   "source": [
    "### 4. (16 points)\n",
    "\n",
    "When $\\lambda(u)=\\alpha$,  a constant, the BMP order density becomes\n",
    "\n",
    "\\begin{eqnarray*}\n",
    "\\rho_{BMP}(\\Delta) &=& \\frac{\\alpha}{\\delta}\\,\\left\\{e^{-\\Delta/{\\tilde \\Delta}}\\,\\int_0^{\\Delta/{\\tilde\\Delta}}\\,\\sinh(u)\\,du + \\sinh(\\Delta/{\\tilde \\Delta})\\,\\int_{\\Delta/{\\tilde\\Delta}}^\\infty\\,e^{-u}\\,du\\right\\} \\\\\n",
    "&=&\\frac{\\alpha}{\\delta}\\,\\left\\{1 - e^{-\\Delta/{\\tilde \\Delta}}  \\right\\}\n",
    "\\end{eqnarray*}\n",
    "\n",
    "where the characteristic distance\n",
    "\n",
    "$$\n",
    "\\tilde \\Delta=\\sqrt{\\frac{\\sigma^2}{2\\,\\delta}}.\n",
    "$$\n",
    "\n",
    "(a) Amend the SFGK zero intelligence code from Problem 3 of HW1 to count the number of limit orders generated in addition to computing the average book shape.\n",
    "\n",
    "(b) With $\\alpha = 1$, $\\mu = 10$ and $\\delta = \\frac15$, simulate 100,000 events and plot the resulting average book shape in red (in a band $\\pm 20$ around the mid price).\n",
    "\n",
    "(c) From your simulation, what is the probability $P_L$ of a limit order at a given level conditional on an event? (Recall that there are 60 limit order levels in the simulation).\n",
    "\n",
    "(d) In [Gatheral and Oomen]<sup id=\"cite_ref-GO\" class=\"reference\"><a href=\"#cite_note-GO\"><span>[</span>1<span>]</span></a></sup>, with these SFGK parameters, realized variance per event was estimated as\n",
    "\n",
    "$$\n",
    "\\sigma^2_{GO} = 0.083.\n",
    "$$\n",
    "\n",
    "Using your estimate $P_L$ of limit orders per level per event, convert this estimate to variance per limit order (recall that $\\alpha=1$).  Denote your result by $\\sigma^2_{GO}$.  Compute the characteristic distance $\\tilde \\Delta_{GO}$ with this estimate $\\sigma^2_{GO}$.\n",
    "\n",
    "(e) In Lecture 1, using dimensional analysis, we estimated that variance $\\sigma^2_{DA}$ per unit time should be of the order of\n",
    "\n",
    "$$\n",
    "\\sigma^2_{DA} = \\frac{\\mu^2\\,\\delta}{\\alpha^2}.\n",
    "$$\n",
    "\n",
    "Compute the characteristic distance $\\tilde \\Delta_{DA}$ with this estimate $\\sigma^2_{DA}$.\n",
    "\n",
    "(f)  Using your two estimates of $\\tilde \\Delta$ from parts (d) and (e),  write functions to compute the corresponding order book densities $\\rho_{GO}(\\Delta)$ and $\\rho_{DA}(\\Delta)$.\n",
    "\n",
    "(g)\n",
    "Superimpose plots of the asymptotic densities $\\rho_{DA}(\\Delta)$ (in blue) and $\\rho_{DA}(\\Delta)$ (in orange) on your plot of the average book shape."
   ]
  },
  {
   "cell_type": "markdown",
   "metadata": {},
   "source": [
    "### Solution\n",
    "\n",
    "(a)"
   ]
  },
  {
   "cell_type": "code",
   "execution_count": 6,
   "metadata": {
    "collapsed": true
   },
   "outputs": [],
   "source": [
    "# Initialize\n",
    "numLimitBuy <<- 0\n",
    "numLimitSell <<- 0\n",
    "\n",
    "# Modify limit buy\n",
    "limitBuyOrder <- function(price=NA) {\n",
    "    if(is.na(price))\n",
    "    {prx <<- (bestOffer()-pick(L))}\n",
    "    else prx <<- price  \n",
    "    if(logging==T){eventLog[count,]<<- c(\"LB\",prx)} \n",
    "    numLimitBuy <<- numLimitBuy+1\n",
    "    book$buySize[book$Price==prx] <<- book$buySize[book$Price==prx]+1\n",
    "} \n",
    "\n",
    "# Modify limit sell\n",
    "limitSellOrder <- function(price=NA){\n",
    "    if(is.na(price))\n",
    "    {prx <<- (bestBid()+pick(L))}\n",
    "    else prx <<- price  \n",
    "    if(logging==T){eventLog[count,] <<- c(\"LS\",prx)}\n",
    "    numLimitSell <<- numLimitSell+1\n",
    "    book$sellSize[book$Price==prx]<<-book$sellSize[book$Price==prx]+1\n",
    "} \n",
    "\n",
    "# Reset\n",
    "resetLimitCount <- function() {\n",
    "    numLimitBuy <<- 0\n",
    "    numLimitSell <<- 0\n",
    "}"
   ]
  },
  {
   "cell_type": "markdown",
   "metadata": {},
   "source": [
    "(b)"
   ]
  },
  {
   "cell_type": "code",
   "execution_count": 7,
   "metadata": {
    "collapsed": false
   },
   "outputs": [
    {
     "data": {
      "image/png": "[encoded data removed]",
      "text/plain": [
       "Plot with title \"Average Book Shape\""
      ]
     },
     "metadata": {},
     "output_type": "display_data"
    }
   ],
   "source": [
    "# Mystery tag again\n",
    "logging <- F\n",
    "\n",
    "# Initialize order book\n",
    "alpha <- 1\n",
    "mu <- 10\n",
    "delta <- 1/5\n",
    "resetLimitCount() ###\n",
    "initializeBook5()\n",
    "\n",
    "# Burn in for 100 events\n",
    "for(count in 1:100){\n",
    "    generateEvent()\n",
    "}\n",
    "\n",
    "# Set event times\n",
    "numEvents <- 100000\n",
    "\n",
    "# Calculate average book shape\n",
    "avgBookShape <- bookShape(20) / numEvents\n",
    "for(count in 2:numEvents){\n",
    "    generateEvent()\n",
    "    avgBookShape <- avgBookShape + bookShape(20) / numEvents\n",
    "}\n",
    "    \n",
    "# Plot the result\n",
    "plot(-20:20, avgBookShape, main=\"Average Book Shape\", xlab=\"Relative price\", ylab=\"# Shares\", col=\"red\", type=\"b\")"
   ]
  },
  {
   "cell_type": "markdown",
   "metadata": {},
   "source": [
    "(c)"
   ]
  },
  {
   "cell_type": "code",
   "execution_count": 8,
   "metadata": {
    "collapsed": false
   },
   "outputs": [
    {
     "data": {
      "text/html": [
       "0.0083435"
      ],
      "text/latex": [
       "0.0083435"
      ],
      "text/markdown": [
       "0.0083435"
      ],
      "text/plain": [
       "[1] 0.0083435"
      ]
     },
     "metadata": {},
     "output_type": "display_data"
    }
   ],
   "source": [
    "PL <- (numLimitBuy + numLimitSell) / numEvents / (2*L)\n",
    "PL"
   ]
  },
  {
   "cell_type": "markdown",
   "metadata": {},
   "source": [
    "The probability $P_L$ of a limit order at a given level conditional on an event is 0.00834066666666667."
   ]
  },
  {
   "cell_type": "markdown",
   "metadata": {},
   "source": [
    "(d)"
   ]
  },
  {
   "cell_type": "code",
   "execution_count": 9,
   "metadata": {
    "collapsed": false
   },
   "outputs": [
    {
     "data": {
      "text/html": [
       "4.9739318032001"
      ],
      "text/latex": [
       "4.9739318032001"
      ],
      "text/markdown": [
       "4.9739318032001"
      ],
      "text/plain": [
       "[1] 4.973932"
      ]
     },
     "metadata": {},
     "output_type": "display_data"
    },
    {
     "data": {
      "text/html": [
       "3.5263053622737"
      ],
      "text/latex": [
       "3.5263053622737"
      ],
      "text/markdown": [
       "3.5263053622737"
      ],
      "text/plain": [
       "[1] 3.526305"
      ]
     },
     "metadata": {},
     "output_type": "display_data"
    }
   ],
   "source": [
    "sig2GO <- 0.083\n",
    "sig2GO <- sig2GO / (2*PL)\n",
    "sig2GO\n",
    "DeltaGO <- sqrt(sig2GO / (2*delta))\n",
    "DeltaGO"
   ]
  },
  {
   "cell_type": "markdown",
   "metadata": {},
   "source": [
    "The characteristic distance $\\tilde \\Delta_{GO}$ is 3.52690425625691."
   ]
  },
  {
   "cell_type": "markdown",
   "metadata": {},
   "source": [
    "(e)"
   ]
  },
  {
   "cell_type": "code",
   "execution_count": 10,
   "metadata": {
    "collapsed": false
   },
   "outputs": [
    {
     "data": {
      "text/html": [
       "20"
      ],
      "text/latex": [
       "20"
      ],
      "text/markdown": [
       "20"
      ],
      "text/plain": [
       "[1] 20"
      ]
     },
     "metadata": {},
     "output_type": "display_data"
    },
    {
     "data": {
      "text/html": [
       "7.07106781186548"
      ],
      "text/latex": [
       "7.07106781186548"
      ],
      "text/markdown": [
       "7.07106781186548"
      ],
      "text/plain": [
       "[1] 7.071068"
      ]
     },
     "metadata": {},
     "output_type": "display_data"
    }
   ],
   "source": [
    "sig2DA <- mu^2*delta/alpha^2\n",
    "sig2DA\n",
    "DeltaDA <- sqrt(sig2DA / (2*delta))\n",
    "DeltaDA"
   ]
  },
  {
   "cell_type": "markdown",
   "metadata": {},
   "source": [
    "The characteristic distance $\\tilde \\Delta_{DA}$ is 7.07106781186548."
   ]
  },
  {
   "cell_type": "markdown",
   "metadata": {},
   "source": [
    "(f)"
   ]
  },
  {
   "cell_type": "code",
   "execution_count": 11,
   "metadata": {
    "collapsed": true
   },
   "outputs": [],
   "source": [
    "# Function to calculate rho\n",
    "rho <- function(alpha, delta, Delta, d) {\n",
    "    (alpha / delta)*(1 - exp(-abs(d) / Delta))\n",
    "}"
   ]
  },
  {
   "cell_type": "markdown",
   "metadata": {},
   "source": [
    "(g)"
   ]
  },
  {
   "cell_type": "code",
   "execution_count": 12,
   "metadata": {
    "collapsed": false
   },
   "outputs": [
    {
     "data": {
      "image/png": "[encoded data removed]",
      "text/plain": [
       "Plot with title \"Average Book Shape\""
      ]
     },
     "metadata": {},
     "output_type": "display_data"
    }
   ],
   "source": [
    "# Plot the result\n",
    "plot(-20:20, avgBookShape, main=\"Average Book Shape\", xlab=\"Relative price\", ylab=\"# Shares\", col=\"red\", type=\"b\")\n",
    "curve(rho(alpha, delta, DeltaGO, x), from=-20, to=20, n=100, col=\"blue\", add=T)\n",
    "curve(rho(alpha, delta, DeltaDA, x), from=-20, to=20, n=100, col=\"orange\", add=T)\n",
    "legend('bottomright', legend=c('ZI Simulation', 'BMP GO','BMP DA'), lty=c(1, 1, 1), col=c('red', 'blue','orange'), cex=0.7)"
   ]
  },
  {
   "cell_type": "markdown",
   "metadata": {},
   "source": [
    "### 5. (6 points)\n",
    "\n",
    "Another of Mike and Farmer's observations is that the distribution of marketable as well as unmarketable limit orders as a function of distance $\\Delta$ to the same-side best quote is well-described by a Student-$t$ distribution.  Assume $\\mu=1/2$ as above.\n",
    "\n",
    "(a) Derive an expression in terms of the Student-$t$ cumulative density function for the ratio of arrival rates of limit to market orders as a function of the spread $s$.  How does this ratio vary with $s$?\n",
    "\n",
    "(b) Relative to the zero-intelligence model, does this empirically observed strategic behavior make the spread revert faster or more slowly?"
   ]
  },
  {
   "cell_type": "markdown",
   "metadata": {},
   "source": [
    "### Solution\n",
    "\n",
    "(a)"
   ]
  },
  {
   "cell_type": "markdown",
   "metadata": {},
   "source": [
    "Let $F(\\Delta)$ be the CDF of student-t distribution. The CDF of unmarketable limit orders, which is below the best offer, is $F(s)$. Then the CDF of marketable limit orders is $1-F(s)$, which is $F(-s)$.\n",
    "\n",
    "Thus, the ratio of limit orders to market orders is\n",
    "\n",
    "$$r_{L/M}=\\frac{F(s)}{F(-s)}$$\n",
    "\n",
    "whcih is an increasing function of the spread $s$.\n",
    "\n",
    "Therefore, as the spread widens, the limit orders will take a relatively large proportion and *vice versa*."
   ]
  },
  {
   "cell_type": "markdown",
   "metadata": {},
   "source": [
    "(b)"
   ]
  },
  {
   "cell_type": "markdown",
   "metadata": {},
   "source": [
    "This empirically observed strategic behavior introduces a negative feedback comparing to the zero-intelligence model. As the spread widens, the proportion of limit order increases and shrinks the spread, while as the spread tightens, the proportion of market order increases and expands the spread. As a result of the negative feedback, the spread would revert faster than it does in the zero-intelligence model."
   ]
  },
  {
   "cell_type": "markdown",
   "metadata": {},
   "source": [
    "### References\n",
    "\n",
    "<div class=\"reflist\" style=\"list-style-type: decimal;\">\n",
    "\n",
    "<ol>\n",
    "\n",
    "  <li id=\"cite_note-GO\"><span class=\"mw-cite-backlink\"><b><a href=\"#cite_ref-GO\">^</a></b></span> Jim Gatheral and Roel C. A Oomen, Zero-intelligence realized variance estimation, <span>*Finance and Stochastics*,</span> <span>**14**</span>(2) 249–283, 2010.</li>\n",
    "\n",
    "</ol>"
   ]
  }
 ],
 "metadata": {
  "anaconda-cloud": {},
  "kernelspec": {
   "display_name": "R",
   "language": "R",
   "name": "ir"
  },
  "language_info": {
   "codemirror_mode": "r",
   "file_extension": ".r",
   "mimetype": "text/x-r-source",
   "name": "R",
   "pygments_lexer": "r",
   "version": "3.3.1"
  }
 },
 "nbformat": 4,
 "nbformat_minor": 0
}
