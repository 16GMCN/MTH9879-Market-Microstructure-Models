{
 "cells": [
  {
   "cell_type": "markdown",
   "metadata": {},
   "source": [
    "# MTH9879 Homework 1\n",
    "\n",
    "Assigned: February 1, 2018.\n",
    "Due: February 15, 2018 by 6pm. \n",
    "\n",
    "Late homework **will not be accepted**.\n",
    "\n",
    "$$\n",
    "\\newcommand{\\supp}{\\mathrm{supp}}\n",
    "\\newcommand{\\E}{\\mathbb{E} }\n",
    "\\def\\Cov{{ \\mbox{Cov} }}\n",
    "\\def\\Var{{ \\mbox{Var} }}\n",
    "\\newcommand{\\1}{\\mathbf{1} }\n",
    "\\newcommand{\\PP}{\\mathbb{P} }\n",
    "%\\newcommand{\\Pr}{\\mathrm{Pr} }\n",
    "\\newcommand{\\QQ}{\\mathbb{Q} }\n",
    "\\newcommand{\\RR}{\\mathbb{R} }\n",
    "\\newcommand{\\DD}{\\mathbb{D} }\n",
    "\\newcommand{\\HH}{\\mathbb{H} }\n",
    "\\newcommand{\\spn}{\\mathrm{span} }\n",
    "\\newcommand{\\cov}{\\mathrm{cov} }\n",
    "\\newcommand{\\sgn}{\\mathrm{sgn} }\n",
    "\\newcommand{\\HS}{\\mathcal{L}_{\\mathrm{HS}} }\n",
    "%\\newcommand{\\HS}{\\mathrm{HS} }\n",
    "\\newcommand{\\trace}{\\mathrm{trace} }\n",
    "\\newcommand{\\LL}{\\mathcal{L} }\n",
    "%\\newcommand{\\LL}{\\mathrm{L} }\n",
    "\\newcommand{\\s}{\\mathcal{S} }\n",
    "\\newcommand{\\ee}{\\mathcal{E} }\n",
    "\\newcommand{\\ff}{\\mathcal{F} }\n",
    "\\newcommand{\\hh}{\\mathcal{H} }\n",
    "\\newcommand{\\bb}{\\mathcal{B} }\n",
    "\\newcommand{\\dd}{\\mathcal{D} }\n",
    "\\newcommand{\\g}{\\mathcal{G} }\n",
    "\\newcommand{\\p}{\\partial}\n",
    "\\newcommand{\\half}{\\frac{1}{2} }\n",
    "\\newcommand{\\T}{\\mathcal{T} }\n",
    "\\newcommand{\\bi}{\\begin{itemize}}\n",
    "\\newcommand{\\ei}{\\end{itemize}}\n",
    "\\newcommand{\\beq}{\\begin{equation}}\n",
    "\\newcommand{\\eeq}{\\end{equation}}\n",
    "\\newcommand{\\beas}{\\begin{eqnarray*}}\n",
    "\\newcommand{\\eeas}{\\end{eqnarray*}}\n",
    "\\newcommand{\\cO}{\\mathcal{O}}\n",
    "\\newcommand{\\cF}{\\mathcal{F}}\n",
    "\\newcommand{\\cL}{\\mathcal{L}}\n",
    "\\newcommand{\\BS}{\\text{BS}}\n",
    "$$"
   ]
  },
  {
   "cell_type": "markdown",
   "metadata": {},
   "source": [
    "<font color = \"red\">Homework is to be done by each student individually.  To receive full credit, you must email a completed copy of this iPython notebook to Victor Istratov (stavka@gmail.com), Yassine Ghalem (yassine.ghalem@gmail.com) and Jim Gatheral (jim.gatheral@gmail.com) by the due date and time.  All R-code must run correctly and solutions must be written up neatly in Markdown/LaTeX format."
   ]
  },
  {
   "cell_type": "markdown",
   "metadata": {},
   "source": [
    "## Junliang Zhou\n",
    "\n",
    "Tel: (347) 276-1207\n",
    "\n",
    "Email: gjimzhou@gmail.com"
   ]
  },
  {
   "cell_type": "markdown",
   "metadata": {},
   "source": [
    "### 1. (4 points) \n",
    "\n",
    "Read Chapter 1 of Market Liquidity by Foucault, Pagano and R&ouml;ell.\n",
    "What algorithmic trading strategy was being used by the seller who triggered the Flash\n",
    "Crash of May 6, 2010? Why did it cause a crash? How could this algorithm have been\n",
    "amended so as to avoid the ensuing disaster?"
   ]
  },
  {
   "cell_type": "markdown",
   "metadata": {},
   "source": [
    "### Solution\n",
    "\n",
    "The initial order to cause the chain effect was to sell seventy-five thousand E-mini futures contracts on the S&P 500 index traded on the CME–the largest change in a trader’s position since January 2010 and the strategy used to execute the order was so called “constant participation rate”, which are supposed to attenuate the impact on prices by splitting the initial order into smaller child orders.\n",
    "\n",
    "Since the parent order was extremely large, the child orders are still relatively large comparing to normal book orders. As the child orders exhausted almost all limit orders avaliable, the strategy not only failed to reduced the market impact, but also accelerated market crash by causing servere hearding effect.\n",
    "\n",
    "Based on the flaws shown during the flash crash, amendities can be made by taking received execution price into consideration. To be more precise, trading less as the price impact increases."
   ]
  },
  {
   "cell_type": "markdown",
   "metadata": {},
   "source": [
    "<font color=red>COMMENT: the trader needed to exclude his own trades from the computation of the volume. -2pts</font>"
   ]
  },
  {
   "cell_type": "markdown",
   "metadata": {},
   "source": [
    "## The Smith Farmer zero-intelligence model"
   ]
  },
  {
   "cell_type": "markdown",
   "metadata": {},
   "source": [
    "### Set up R-environment\n",
    "\n",
    "The following code sources *ziSetup.R* which contains all the functions required for the problem."
   ]
  },
  {
   "cell_type": "code",
   "execution_count": 10,
   "metadata": {
    "collapsed": false
   },
   "outputs": [],
   "source": [
    "download.file(url=\"https://mfe.baruch.cuny.edu/wp-content/uploads/2015/01/ziSetup.zip\", destfile=\"ziSetup.zip\")\n",
    "unzip(zipfile=\"ziSetup.zip\")\n",
    "\n",
    "source(\"ziSetup.R\")\n",
    "library(repr)\n",
    "options(repr.plot.width=7, repr.plot.height=7)\n",
    "library(pracma)"
   ]
  },
  {
   "cell_type": "markdown",
   "metadata": {},
   "source": [
    "### 2. (4 points)\n",
    "\n",
    "Using the provided functions in *ziSetup.R* (with $\\alpha = 1$, $\\mu = 10$, $\\delta = 1/5$),\n",
    "initialize the order book and add two orders to the (best) bid side of the book. The resulting\n",
    "book should have 3 orders at best bid and 1 order at best offer. Plot the resulting book\n",
    "shape."
   ]
  },
  {
   "cell_type": "markdown",
   "metadata": {},
   "source": [
    "### Solution"
   ]
  },
  {
   "cell_type": "code",
   "execution_count": 2,
   "metadata": {
    "collapsed": false
   },
   "outputs": [
    {
     "data": {
      "image/png": "[encoded data removed]",
      "text/plain": [
       "Plot with title \"NA\""
      ]
     },
     "metadata": {},
     "output_type": "display_data"
    }
   ],
   "source": [
    "#Mystery tag\n",
    "logging <- F\n",
    "\n",
    "# Parameter settings\n",
    "alpha <- 1\n",
    "mu <- 10\n",
    "delta <- 1/5\n",
    "\n",
    "# Initialize book with asymptotic depth of 5 shares\n",
    "initializeBook5()\n",
    "\n",
    "# Add two orders to the (best) bid side\n",
    "limitBuyOrder(bestBid())\n",
    "limitBuyOrder(bestBid())\n",
    "\n",
    "# Plot the resulting book shape\n",
    "plot(-20:20, bookShape(20), main=NA, xlab=\"Relative price\", ylab=\"# Shares\", col=\"red\", type=\"b\")"
   ]
  },
  {
   "cell_type": "markdown",
   "metadata": {},
   "source": [
    "### 3. (16 points)\n",
    "\n",
    "(a) Using the code supplied to generate Figure 2 as a template, simulate 100,000 events, computing the average book shape (in a band $\\pm 20$ around the mid price) for the\n",
    "following sets of parameters:\n",
    "\n",
    "|$\\alpha$|$\\mu$|$\\delta$|\n",
    "-----|-----:|-------:|\n",
    "I| 1 | 10 | $\\frac15$\n",
    "II| 1 | 8 |  $\\frac15$\n",
    "III| 1 |  10 | $\\frac16$\n",
    "IV| 1  | 10 | $\\frac18$ \n",
    "\n",
    "(Warning: This might take longer than 15 minutes to run!).\n",
    "\n",
    "(b) Generate a summary plot of the average book shapes for each parameter set (I, II, II, and IV).\n",
    "\n",
    "\n",
    "(c) Verify that the relationships between the slopes of the order books at-the-money for each parameter set are consistent with the predictions from dimensional analysis.\n",
    "\n",
    "(d) Verify that the asymptotic book depths are consistent with the predictions from dimensional analysis."
   ]
  },
  {
   "cell_type": "markdown",
   "metadata": {},
   "source": [
    "### Solution\n",
    "\n",
    "(a), (b)"
   ]
  },
  {
   "cell_type": "code",
   "execution_count": 3,
   "metadata": {
    "collapsed": true
   },
   "outputs": [],
   "source": [
    "# Function to plot average book shape for given parameters\n",
    "plotAveBookShape <- function(a, m, d, n){\n",
    "\n",
    "    # Mystery tag again\n",
    "    logging <- F\n",
    "\n",
    "    # Initialize order book\n",
    "    alpha <<- a\n",
    "    mu <<- m\n",
    "    delta <<- d \n",
    "    initializeBook5()\n",
    "\n",
    "    # Burn in for 100 events\n",
    "    for(count in 1:100){\n",
    "        generateEvent()\n",
    "    }\n",
    "\n",
    "    # Set event times\n",
    "    numEvents <- 100000\n",
    "\n",
    "    # Calculate average book shape\n",
    "    avgBookShape <- bookShape(20) / numEvents\n",
    "    for(count in 2:numEvents){\n",
    "        generateEvent()\n",
    "        avgBookShape <- avgBookShape + bookShape(20) / numEvents\n",
    "    }\n",
    "    \n",
    "    # Fit order slope and depth\n",
    "    fit1 <- lm(avgBookShape[12:21] ~ c(-9:0))\n",
    "    fit2 <- lm(avgBookShape[21:30] ~ c(0:9))\n",
    "    slope1 <- fit1$coefficients[2]\n",
    "    slope2 <- fit2$coefficients[2]\n",
    "    slope <- (slope2-slope1) / 2\n",
    "    depth <- (mean(avgBookShape[1:10]) + mean(avgBookShape[32:41])) / 2\n",
    "    results[n,1] <<- slope\n",
    "    results[n,2] <<- depth\n",
    "    \n",
    "    # Plot the result\n",
    "    plot(-20:20, avgBookShape, main=n, xlab=\"Relative price\", ylab=\"# Shares\", col=\"red\", type=\"b\")\n",
    "}"
   ]
  },
  {
   "cell_type": "code",
   "execution_count": 4,
   "metadata": {
    "collapsed": false
   },
   "outputs": [
    {
     "name": "stdout",
     "output_type": "stream",
     "text": [
      "        Slope    Depth\n",
      "I   0.4935492 4.982676\n",
      "II  0.5083231 5.081729\n",
      "III 0.6090112 6.101931\n",
      "IV  0.8559452 7.983787\n"
     ]
    },
    {
     "data": {
      "image/png": "[encoded data removed]",
      "text/plain": [
       "Plot with title \"IV\""
      ]
     },
     "metadata": {},
     "output_type": "display_data"
    }
   ],
   "source": [
    "# Setup book parameters\n",
    "alphas <- c(1, 1, 1, 1)\n",
    "mus <- c(10, 8, 10, 10)\n",
    "deltas <- c(1/5, 1/5, 1/6, 1/8)\n",
    "\n",
    "# Setup result matrix\n",
    "results <- matrix(0,4,2)\n",
    "rownames(results) <- c(\"I\", \"II\", \"III\", \"IV\")\n",
    "colnames(results) <- c(\"Slope\", \"Depth\")\n",
    "\n",
    "# Set plots position\n",
    "par(mfrow=c(2,2))\n",
    "\n",
    "# Plot results\n",
    "for (count in 1:4){\n",
    "    plotAveBookShape(alphas[count], mus[count], deltas[count], rownames(results)[count])\n",
    "}\n",
    "\n",
    "print(results)"
   ]
  },
  {
   "cell_type": "markdown",
   "metadata": {
    "collapsed": false
   },
   "source": [
    "(c)\n",
    "\n",
    "The slope of order book given by ZI model is $\\frac{\\alpha^2}{\\mu\\delta}$. The table below shows both calculated and simulated slopes for four sets.\n",
    "\n",
    "|Calculated|Simulated|\n",
    "-----|-----:|\n",
    "I| 0.500 | 0.5013192 \n",
    "II| 0.625 | 0.5070946\n",
    "III| 0.600 | 0.6134964\n",
    "IV| 0.800 | 0.8427480\n",
    "\n",
    "We can see from the table that the slopes of order books are consistent with the predictions from dimensional analysis."
   ]
  },
  {
   "cell_type": "markdown",
   "metadata": {},
   "source": [
    "(d)\n",
    "\n",
    "The asymptotic book depth of order book given by ZI model is $\\frac{\\alpha}{\\delta}$. The table below shows both calculated and simulated depths for four sets.\n",
    "\n",
    "|Calculated|Simulated|\n",
    "-----|-----:|\n",
    "I| 5 | 5.043502 \n",
    "II| 5 | 5.022679\n",
    "III| 6 | 6.017144\n",
    "IV| 8 | 8.009415 \n",
    "\n",
    "We can see from the table that the asymptotic book depths are consistent with the predictions from dimensional analysis."
   ]
  },
  {
   "cell_type": "markdown",
   "metadata": {},
   "source": [
    "### The following code sets up the data required for Problem 4."
   ]
  },
  {
   "cell_type": "code",
   "execution_count": 5,
   "metadata": {
    "collapsed": false
   },
   "outputs": [],
   "source": [
    "download.file(url=\"https://mfe.baruch.cuny.edu/wp-content/uploads/2015/01/ziSimResults.rData_.zip\", destfile=\"ziSimResults.rData.zip\")\n",
    "unzip(zipfile=\"ziSimResults.rData.zip\")\n",
    "load(\"ziSimResults.rData\")"
   ]
  },
  {
   "cell_type": "markdown",
   "metadata": {},
   "source": [
    "### 4. (12 points)\n",
    "\n",
    "The datafile *ziSimResults.rData* contains a list of bid and ask prices after 100 events resulting from 10,000 simulations of the SFGK model with $\\alpha = 1$, $\\mu = 10$, and $\\delta = 1/5$. The $j$th element of the list has results for an initial book configuration with $q_b = j$ shares on the bid side and $q_a = 1$ share on the ask side."
   ]
  },
  {
   "cell_type": "code",
   "execution_count": 6,
   "metadata": {
    "collapsed": false
   },
   "outputs": [
    {
     "data": {
      "text/html": [
       "<table>\n",
       "<thead><tr><th></th><th scope=col>bid</th><th scope=col>ask</th><th scope=col>bid.1</th><th scope=col>ask.1</th><th scope=col>bid.2</th><th scope=col>ask.2</th><th scope=col>bid.3</th><th scope=col>ask.3</th><th scope=col>bid.4</th><th scope=col>ask.4</th><th scope=col>bid.5</th><th scope=col>ask.5</th><th scope=col>bid.6</th><th scope=col>ask.6</th><th scope=col>bid.7</th><th scope=col>ask.7</th><th scope=col>bid.8</th><th scope=col>ask.8</th><th scope=col>bid.9</th><th scope=col>ask.9</th></tr></thead>\n",
       "<tbody>\n",
       "\t<tr><th scope=row>1</th><td>-1</td><td> 2</td><td>-2</td><td> 2</td><td>-2</td><td> 4</td><td>-1</td><td> 3</td><td>-1</td><td> 3</td><td>-1</td><td> 2</td><td>-1</td><td> 2</td><td> 0</td><td> 3</td><td>-1</td><td> 2</td><td>-1</td><td> 0</td></tr>\n",
       "\t<tr><th scope=row>2</th><td>-1</td><td> 4</td><td>-3</td><td>-1</td><td>-2</td><td> 3</td><td> 1</td><td> 3</td><td>-2</td><td> 1</td><td>-1</td><td> 0</td><td>-1</td><td> 3</td><td> 0</td><td> 4</td><td>-1</td><td> 1</td><td> 1</td><td> 2</td></tr>\n",
       "\t<tr><th scope=row>3</th><td>-2</td><td>-1</td><td>-1</td><td> 0</td><td>-1</td><td> 0</td><td>-1</td><td> 3</td><td>-2</td><td> 2</td><td>-1</td><td> 2</td><td> 2</td><td> 3</td><td>-1</td><td> 1</td><td>-1</td><td> 1</td><td>-1</td><td> 0</td></tr>\n",
       "\t<tr><th scope=row>4</th><td> 0</td><td> 3</td><td>-2</td><td> 3</td><td>-2</td><td> 3</td><td>-2</td><td> 1</td><td> 0</td><td> 3</td><td>-1</td><td> 2</td><td>-1</td><td> 1</td><td>-1</td><td> 2</td><td>-1</td><td> 0</td><td>-1</td><td> 3</td></tr>\n",
       "\t<tr><th scope=row>5</th><td>-2</td><td> 2</td><td> 0</td><td> 4</td><td> 0</td><td> 3</td><td> 3</td><td> 5</td><td>-2</td><td> 2</td><td> 0</td><td> 3</td><td>-1</td><td> 2</td><td>-1</td><td> 2</td><td>-1</td><td> 2</td><td> 1</td><td> 3</td></tr>\n",
       "\t<tr><th scope=row>6</th><td>-2</td><td> 0</td><td>-4</td><td> 1</td><td>-1</td><td> 1</td><td>-3</td><td> 2</td><td>-1</td><td> 3</td><td> 1</td><td> 3</td><td>-1</td><td> 1</td><td> 1</td><td> 2</td><td> 3</td><td> 4</td><td> 2</td><td> 3</td></tr>\n",
       "</tbody>\n",
       "</table>\n"
      ],
      "text/latex": [
       "\\begin{tabular}{r|llllllllllllllllllll}\n",
       "  & bid & ask & bid.1 & ask.1 & bid.2 & ask.2 & bid.3 & ask.3 & bid.4 & ask.4 & bid.5 & ask.5 & bid.6 & ask.6 & bid.7 & ask.7 & bid.8 & ask.8 & bid.9 & ask.9\\\\\n",
       "\\hline\n",
       "\t1 & -1 &  2 & -2 &  2 & -2 &  4 & -1 &  3 & -1 &  3 & -1 &  2 & -1 &  2 &  0 &  3 & -1 &  2 & -1 &  0\\\\\n",
       "\t2 & -1 &  4 & -3 & -1 & -2 &  3 &  1 &  3 & -2 &  1 & -1 &  0 & -1 &  3 &  0 &  4 & -1 &  1 &  1 &  2\\\\\n",
       "\t3 & -2 & -1 & -1 &  0 & -1 &  0 & -1 &  3 & -2 &  2 & -1 &  2 &  2 &  3 & -1 &  1 & -1 &  1 & -1 &  0\\\\\n",
       "\t4 &  0 &  3 & -2 &  3 & -2 &  3 & -2 &  1 &  0 &  3 & -1 &  2 & -1 &  1 & -1 &  2 & -1 &  0 & -1 &  3\\\\\n",
       "\t5 & -2 &  2 &  0 &  4 &  0 &  3 &  3 &  5 & -2 &  2 &  0 &  3 & -1 &  2 & -1 &  2 & -1 &  2 &  1 &  3\\\\\n",
       "\t6 & -2 &  0 & -4 &  1 & -1 &  1 & -3 &  2 & -1 &  3 &  1 &  3 & -1 &  1 &  1 &  2 &  3 &  4 &  2 &  3\\\\\n",
       "\\end{tabular}\n"
      ],
      "text/plain": [
       "  bid ask bid.1 ask.1 bid.2 ask.2 bid.3 ask.3 bid.4 ask.4 bid.5 ask.5 bid.6\n",
       "1  -1   2    -2     2    -2     4    -1     3    -1     3    -1     2    -1\n",
       "2  -1   4    -3    -1    -2     3     1     3    -2     1    -1     0    -1\n",
       "3  -2  -1    -1     0    -1     0    -1     3    -2     2    -1     2     2\n",
       "4   0   3    -2     3    -2     3    -2     1     0     3    -1     2    -1\n",
       "5  -2   2     0     4     0     3     3     5    -2     2     0     3    -1\n",
       "6  -2   0    -4     1    -1     1    -3     2    -1     3     1     3    -1\n",
       "  ask.6 bid.7 ask.7 bid.8 ask.8 bid.9 ask.9\n",
       "1     2     0     3    -1     2    -1     0\n",
       "2     3     0     4    -1     1     1     2\n",
       "3     3    -1     1    -1     1    -1     0\n",
       "4     1    -1     2    -1     0    -1     3\n",
       "5     2    -1     2    -1     2     1     3\n",
       "6     1     1     2     3     4     2     3"
      ]
     },
     "metadata": {},
     "output_type": "display_data"
    }
   ],
   "source": [
    "head(data.frame(ziSimResults))"
   ]
  },
  {
   "cell_type": "markdown",
   "metadata": {},
   "source": [
    "(a) For each size $q_b$ at best bid, compute the mean mid-price after 10,000 events and with error computed as standard deviation of the mean.\n",
    "\n",
    "(b) Plot mean mid-price vs size at best bid, reproducing Figure 3 of the lecture slides. \n",
    "Remember to include error bars!\n",
    "\n",
    "(c) Repeat part (b) with the order book imbalance $I$ on the x-axis, reproducing Figure 7 in the lecture slides.\n",
    "\n",
    "\n",
    "(d) If you see an order book with large quantity at the bid and small quantity at the offer, what does it tell you about the future price?"
   ]
  },
  {
   "cell_type": "markdown",
   "metadata": {},
   "source": [
    "### Solution\n",
    "\n",
    "(a)"
   ]
  },
  {
   "cell_type": "code",
   "execution_count": 7,
   "metadata": {
    "collapsed": false
   },
   "outputs": [
    {
     "name": "stdout",
     "output_type": "stream",
     "text": [
      "              1         2          3          4          5          6\n",
      "Mean 0.00590000 0.2155000 0.41350000 0.56635000 0.66850000 0.74110000\n",
      "Std  0.01537986 0.0143163 0.01310835 0.01229115 0.01123358 0.01038017\n",
      "              7           8           9          10\n",
      "Mean 0.80530000 0.809550000 0.838800000 0.834350000\n",
      "Std  0.01019091 0.009888385 0.009779878 0.009617315\n"
     ]
    }
   ],
   "source": [
    "# Extract data\n",
    "simResults <- as.matrix(data.frame(ziSimResults))\n",
    "\n",
    "# Setup parameters\n",
    "bidSizes <- 1:10\n",
    "imbalances <- (bidSizes - 1) / (bidSizes + 1)\n",
    "\n",
    "# Setup result matrix\n",
    "results <- matrix(0,2,10)\n",
    "rownames(results) <- c(\"Mean\", \"Std\")\n",
    "colnames(results) <- bidSizes\n",
    "\n",
    "# Calculate mean and standard deviation\n",
    "for (i in bidSizes){\n",
    "    \n",
    "    # Initialize variables\n",
    "    bidPrice <- simResults[,2*i]\n",
    "    askPrice <- simResults[,2*i-1]\n",
    "    midPrice <- bidPrice\n",
    "    numEvents <- length(bidPrice)\n",
    "        \n",
    "    # Calculate\n",
    "    for (j in 1:length(bidPrice)){\n",
    "        midPrice[j] <- (bidPrice[j] + askPrice[j]) / 2\n",
    "    }\n",
    "    \n",
    "    # Transfer results to the result matrix\n",
    "    results[1,i] <- mean(midPrice)\n",
    "    results[2,i] <- sd(midPrice) / sqrt(numEvents)\n",
    "}\n",
    "\n",
    "# Output results\n",
    "print(results)"
   ]
  },
  {
   "cell_type": "markdown",
   "metadata": {},
   "source": [
    "(b)"
   ]
  },
  {
   "cell_type": "code",
   "execution_count": 8,
   "metadata": {
    "collapsed": false,
    "scrolled": true
   },
   "outputs": [
    {
     "data": {
      "image/png": "[encoded data removed]",
      "text/plain": [
       "plot without title"
      ]
     },
     "metadata": {},
     "output_type": "display_data"
    }
   ],
   "source": [
    "# Plot mid-price vs size at best bid\n",
    "plot(bidSizes, results[1,], col=\"red\", type=\"b\", xlab=\"Size at Best Bid\", ylab=\"Mean Mid-Price\")\n",
    "errorbar(bidSizes, results[1,], yerr=results[2,], add=T, cap=0.015, col=\"red\", lwd=1.5)"
   ]
  },
  {
   "cell_type": "markdown",
   "metadata": {},
   "source": [
    "(c)"
   ]
  },
  {
   "cell_type": "code",
   "execution_count": 9,
   "metadata": {
    "collapsed": false
   },
   "outputs": [
    {
     "data": {
      "image/png": "[encoded data removed]",
      "text/plain": [
       "plot without title"
      ]
     },
     "metadata": {},
     "output_type": "display_data"
    }
   ],
   "source": [
    "# Plot mid-price vs book imbalance\n",
    "plot(imbalances, results[1,], col=\"red\", type=\"b\", xlab=\"Imbalance\", ylab=\"Mean Mid-Price\")\n",
    "errorbar(imbalances, results[1,], yerr=results[2,], add=T, cap=0.015, col=\"red\", lwd=1.5)"
   ]
  },
  {
   "cell_type": "markdown",
   "metadata": {},
   "source": [
    "(c)\n",
    "\n",
    "If there is an order book with large quantity at the bid and small quantity at the offer, the mid-price tend to increase and it's proportion to the imbalance at the best quotes."
   ]
  },
  {
   "cell_type": "markdown",
   "metadata": {},
   "source": [
    "## Is the market price a martingale?"
   ]
  },
  {
   "cell_type": "markdown",
   "metadata": {},
   "source": [
    "### 5. (4 points) \n",
    "\n",
    "A derivatives quant explains (patiently) to you that asset prices are martingales (informally speaking that expected price changes are zero). Do you agree? How is your understanding consistent with the derivative quant’s understanding?"
   ]
  },
  {
   "cell_type": "markdown",
   "metadata": {},
   "source": [
    "### Solution\n",
    "\n",
    "From the perspective of a continuous, frictionless, and efficient market based on stochastic calculus, asset prices are martingales. From the perspective of mid-prices in real market, asset prices are definitively not martingales. While the conclusions drawn from two models are different, they are not contradicting with each other.\n",
    "\n",
    "The market mid-price is calculated by the arithmetic average of the prices at the best quotes, which neglects the effect of quote sizes on both sides. Therefore, the momentum of mid-price becomes predictable by computing the imbalance around the spread and so diminishes the property of martingale.\n",
    "\n",
    "Note that prices in martingale theory are assumed to be continuous. By introducing the concept of micro-price, we can reduce the gap between the two models. Micro-price is proposed to reflect the effect of quote sizes on asset prices. The major definitions of micro-price all take the imbalance into consideration. by including the momentum, we mentioned before into micro-price itself, it is a more precise approximation of the ideal martingale asset price, comparing to the original mid-price.\n",
    "\n",
    "To sum up, the two understandings on based on two different angles of view on the market. Each point of view extracts some essentials of the market and forms different models to reflect some properties of the market. "
   ]
  }
 ],
 "metadata": {
  "anaconda-cloud": {},
  "kernelspec": {
   "display_name": "R",
   "language": "R",
   "name": "ir"
  },
  "language_info": {
   "codemirror_mode": "r",
   "file_extension": ".r",
   "mimetype": "text/x-r-source",
   "name": "R",
   "pygments_lexer": "r",
   "version": "3.3.1"
  }
 },
 "nbformat": 4,
 "nbformat_minor": 0
}
