{
 "cells": [
  {
   "cell_type": "markdown",
   "metadata": {},
   "source": [
    "# MTH9879 Homework 1\n",
    "\n",
    "Assigned: January 31, 2019.\n",
    "Due: February 14, 2019 by 6pm. \n",
    "\n",
    "Late homework **will not be accepted**.\n",
    "\n",
    "$$\n",
    "\\newcommand{\\supp}{\\mathrm{supp}}\n",
    "\\newcommand{\\E}{\\mathbb{E} }\n",
    "\\def\\Cov{{ \\mbox{Cov} }}\n",
    "\\def\\Var{{ \\mbox{Var} }}\n",
    "\\newcommand{\\1}{\\mathbf{1} }\n",
    "\\newcommand{\\PP}{\\mathbb{P} }\n",
    "%\\newcommand{\\Pr}{\\mathrm{Pr} }\n",
    "\\newcommand{\\QQ}{\\mathbb{Q} }\n",
    "\\newcommand{\\RR}{\\mathbb{R} }\n",
    "\\newcommand{\\DD}{\\mathbb{D} }\n",
    "\\newcommand{\\HH}{\\mathbb{H} }\n",
    "\\newcommand{\\spn}{\\mathrm{span} }\n",
    "\\newcommand{\\cov}{\\mathrm{cov} }\n",
    "\\newcommand{\\sgn}{\\mathrm{sgn} }\n",
    "\\newcommand{\\HS}{\\mathcal{L}_{\\mathrm{HS}} }\n",
    "%\\newcommand{\\HS}{\\mathrm{HS} }\n",
    "\\newcommand{\\trace}{\\mathrm{trace} }\n",
    "\\newcommand{\\LL}{\\mathcal{L} }\n",
    "%\\newcommand{\\LL}{\\mathrm{L} }\n",
    "\\newcommand{\\s}{\\mathcal{S} }\n",
    "\\newcommand{\\ee}{\\mathcal{E} }\n",
    "\\newcommand{\\ff}{\\mathcal{F} }\n",
    "\\newcommand{\\hh}{\\mathcal{H} }\n",
    "\\newcommand{\\bb}{\\mathcal{B} }\n",
    "\\newcommand{\\dd}{\\mathcal{D} }\n",
    "\\newcommand{\\g}{\\mathcal{G} }\n",
    "\\newcommand{\\p}{\\partial}\n",
    "\\newcommand{\\half}{\\frac{1}{2} }\n",
    "\\newcommand{\\T}{\\mathcal{T} }\n",
    "\\newcommand{\\bi}{\\begin{itemize}}\n",
    "\\newcommand{\\ei}{\\end{itemize}}\n",
    "\\newcommand{\\beq}{\\begin{equation}}\n",
    "\\newcommand{\\eeq}{\\end{equation}}\n",
    "\\newcommand{\\beas}{\\begin{eqnarray*}}\n",
    "\\newcommand{\\eeas}{\\end{eqnarray*}}\n",
    "\\newcommand{\\cO}{\\mathcal{O}}\n",
    "\\newcommand{\\cF}{\\mathcal{F}}\n",
    "\\newcommand{\\cL}{\\mathcal{L}}\n",
    "\\newcommand{\\BS}{\\text{BS}}\n",
    "$$"
   ]
  },
  {
   "cell_type": "markdown",
   "metadata": {},
   "source": [
    "<font color = \"red\">Homework is to be done by each student individually.  To receive full credit, you must email a completed copy of this iPython notebook to Victor Istratov (stavka@gmail.com), Yassine Ghalem (yassine.ghalem@gmail.com) and Jim Gatheral (jim.gatheral@gmail.com) by the due date and time.  All R-code must run correctly and solutions must be written up neatly in Markdown/LaTeX format."
   ]
  },
  {
   "cell_type": "markdown",
   "metadata": {},
   "source": [
    "### 1. (4 points) \n",
    "\n",
    "Read Chapter 1 of Market Liquidity by Foucault, Pagano and R&ouml;ell.\n",
    "What algorithmic trading strategy was being used by the seller who triggered the Flash\n",
    "Crash of May 6, 2010? Why did it cause a crash? How could this algorithm have been\n",
    "amended so as to avoid the ensuing disaster?"
   ]
  },
  {
   "cell_type": "markdown",
   "metadata": {},
   "source": [
    "### 2. (0 points) \n",
    "\n",
    "Read Chapters 3 and 8 of Trades, Quotes and Prices by Bouchaud et al., at least sections 8.1 to 8.5.  8.6 and 8.7 are optional."
   ]
  },
  {
   "cell_type": "markdown",
   "metadata": {},
   "source": [
    "## The Santa Fe zero-intelligence model"
   ]
  },
  {
   "cell_type": "markdown",
   "metadata": {},
   "source": [
    "### Set up R-environment\n",
    "\n",
    "The following code sources *ziSetup.R* which contains all the functions required for the problem."
   ]
  },
  {
   "cell_type": "code",
   "execution_count": 1,
   "metadata": {
    "collapsed": true
   },
   "outputs": [],
   "source": [
    "download.file(url=\"http://mfe.baruch.cuny.edu/wp-content/uploads/2019/01/ziSetup.zip\", destfile=\"ziSetup.zip\")\n",
    "unzip(zipfile=\"ziSetup.zip\")\n",
    "\n",
    "source(\"ziSetup.R\")\n",
    "library(repr)\n",
    "options(repr.plot.width=10,repr.plot.height=7)"
   ]
  },
  {
   "cell_type": "markdown",
   "metadata": {},
   "source": [
    "### 3. (4 points)\n",
    "\n",
    "Using the provided functions in *ziSetup.R* (with $\\lambda = 1$, $\\mu = 10$, $\\nu = 1/5$),\n",
    "initialize the order book and add two orders to the (best) bid side of the book. The resulting\n",
    "book should have 3 orders at best bid and 1 order at best offer. Plot the resulting book\n",
    "shape."
   ]
  },
  {
   "cell_type": "markdown",
   "metadata": {},
   "source": [
    "### 4. (16 points)\n",
    "\n",
    "(a) Using the code supplied to generate Figure 2 as a template, simulate 100,000 events, computing the average book shape (in a band $\\pm 20$ around the mid price) for the\n",
    "following sets of parameters:\n",
    "\n",
    "|$\\lambda$|$\\mu$|$\\nu$|\n",
    "-----|-----:|-------:|\n",
    "I| 1 | 10 | $\\frac15$\n",
    "II| 1 | 8 |  $\\frac15$\n",
    "III| 1 |  10 | $\\frac16$\n",
    "IV| 1  | 10 | $\\frac18$ \n",
    "\n",
    "(Warning: This might take longer than 15 minutes to run!).\n",
    "\n",
    "(b) Generate a summary plot of the average book shapes for each parameter set (I, II, II, and IV).\n",
    "\n",
    "\n",
    "(c) Verify that the relationships between the slopes of the order books at-the-money for each parameter set are consistent with the predictions from dimensional analysis.\n",
    "\n",
    "(d) Verify that the asymptotic book depths are consistent with the predictions from dimensional analysis."
   ]
  },
  {
   "cell_type": "markdown",
   "metadata": {},
   "source": [
    "### The following code sets up the data required for Problem 4."
   ]
  },
  {
   "cell_type": "code",
   "execution_count": 8,
   "metadata": {
    "collapsed": true
   },
   "outputs": [],
   "source": [
    "download.file(url=\"http://mfe.baruch.cuny.edu/wp-content/uploads/2015/01/ziSimResults.rData_.zip\", destfile=\"ziSimResults.rData.zip\")\n",
    "unzip(zipfile=\"ziSimResults.rData.zip\")\n",
    "load(\"ziSimResults.rData\")"
   ]
  },
  {
   "cell_type": "markdown",
   "metadata": {},
   "source": [
    "### 5. (12 points)\n",
    "\n",
    "The datafile *ziSimResults.rData* contains a list of bid and ask prices after 100 events resulting from 10,000 simulations of the Santa Fe model with $\\lambda = 1$, $\\mu = 10$, and $\\nu = 1/5$. The $j$th element of the list has results for an initial book configuration with $q_b = j$ shares on the bid side and $q_a = 1$ share on the ask side."
   ]
  },
  {
   "cell_type": "code",
   "execution_count": 9,
   "metadata": {},
   "outputs": [
    {
     "data": {
      "text/html": [
       "<table>\n",
       "<thead><tr><th scope=col>bid</th><th scope=col>ask</th><th scope=col>bid.1</th><th scope=col>ask.1</th><th scope=col>bid.2</th><th scope=col>ask.2</th><th scope=col>bid.3</th><th scope=col>ask.3</th><th scope=col>bid.4</th><th scope=col>ask.4</th><th scope=col>bid.5</th><th scope=col>ask.5</th><th scope=col>bid.6</th><th scope=col>ask.6</th><th scope=col>bid.7</th><th scope=col>ask.7</th><th scope=col>bid.8</th><th scope=col>ask.8</th><th scope=col>bid.9</th><th scope=col>ask.9</th></tr></thead>\n",
       "<tbody>\n",
       "\t<tr><td>-1</td><td> 2</td><td>-2</td><td> 2</td><td>-2</td><td>4 </td><td>-1</td><td>3 </td><td>-1</td><td>3 </td><td>-1</td><td>2 </td><td>-1</td><td>2 </td><td> 0</td><td>3 </td><td>-1</td><td>2 </td><td>-1</td><td>0 </td></tr>\n",
       "\t<tr><td>-1</td><td> 4</td><td>-3</td><td>-1</td><td>-2</td><td>3 </td><td> 1</td><td>3 </td><td>-2</td><td>1 </td><td>-1</td><td>0 </td><td>-1</td><td>3 </td><td> 0</td><td>4 </td><td>-1</td><td>1 </td><td> 1</td><td>2 </td></tr>\n",
       "\t<tr><td>-2</td><td>-1</td><td>-1</td><td> 0</td><td>-1</td><td>0 </td><td>-1</td><td>3 </td><td>-2</td><td>2 </td><td>-1</td><td>2 </td><td> 2</td><td>3 </td><td>-1</td><td>1 </td><td>-1</td><td>1 </td><td>-1</td><td>0 </td></tr>\n",
       "\t<tr><td> 0</td><td> 3</td><td>-2</td><td> 3</td><td>-2</td><td>3 </td><td>-2</td><td>1 </td><td> 0</td><td>3 </td><td>-1</td><td>2 </td><td>-1</td><td>1 </td><td>-1</td><td>2 </td><td>-1</td><td>0 </td><td>-1</td><td>3 </td></tr>\n",
       "\t<tr><td>-2</td><td> 2</td><td> 0</td><td> 4</td><td> 0</td><td>3 </td><td> 3</td><td>5 </td><td>-2</td><td>2 </td><td> 0</td><td>3 </td><td>-1</td><td>2 </td><td>-1</td><td>2 </td><td>-1</td><td>2 </td><td> 1</td><td>3 </td></tr>\n",
       "\t<tr><td>-2</td><td> 0</td><td>-4</td><td> 1</td><td>-1</td><td>1 </td><td>-3</td><td>2 </td><td>-1</td><td>3 </td><td> 1</td><td>3 </td><td>-1</td><td>1 </td><td> 1</td><td>2 </td><td> 3</td><td>4 </td><td> 2</td><td>3 </td></tr>\n",
       "</tbody>\n",
       "</table>\n"
      ],
      "text/latex": [
       "\\begin{tabular}{r|llllllllllllllllllll}\n",
       " bid & ask & bid.1 & ask.1 & bid.2 & ask.2 & bid.3 & ask.3 & bid.4 & ask.4 & bid.5 & ask.5 & bid.6 & ask.6 & bid.7 & ask.7 & bid.8 & ask.8 & bid.9 & ask.9\\\\\n",
       "\\hline\n",
       "\t -1 &  2 & -2 &  2 & -2 & 4  & -1 & 3  & -1 & 3  & -1 & 2  & -1 & 2  &  0 & 3  & -1 & 2  & -1 & 0 \\\\\n",
       "\t -1 &  4 & -3 & -1 & -2 & 3  &  1 & 3  & -2 & 1  & -1 & 0  & -1 & 3  &  0 & 4  & -1 & 1  &  1 & 2 \\\\\n",
       "\t -2 & -1 & -1 &  0 & -1 & 0  & -1 & 3  & -2 & 2  & -1 & 2  &  2 & 3  & -1 & 1  & -1 & 1  & -1 & 0 \\\\\n",
       "\t  0 &  3 & -2 &  3 & -2 & 3  & -2 & 1  &  0 & 3  & -1 & 2  & -1 & 1  & -1 & 2  & -1 & 0  & -1 & 3 \\\\\n",
       "\t -2 &  2 &  0 &  4 &  0 & 3  &  3 & 5  & -2 & 2  &  0 & 3  & -1 & 2  & -1 & 2  & -1 & 2  &  1 & 3 \\\\\n",
       "\t -2 &  0 & -4 &  1 & -1 & 1  & -3 & 2  & -1 & 3  &  1 & 3  & -1 & 1  &  1 & 2  &  3 & 4  &  2 & 3 \\\\\n",
       "\\end{tabular}\n"
      ],
      "text/markdown": [
       "\n",
       "bid | ask | bid.1 | ask.1 | bid.2 | ask.2 | bid.3 | ask.3 | bid.4 | ask.4 | bid.5 | ask.5 | bid.6 | ask.6 | bid.7 | ask.7 | bid.8 | ask.8 | bid.9 | ask.9 | \n",
       "|---|---|---|---|---|---|\n",
       "| -1 |  2 | -2 |  2 | -2 | 4  | -1 | 3  | -1 | 3  | -1 | 2  | -1 | 2  |  0 | 3  | -1 | 2  | -1 | 0  | \n",
       "| -1 |  4 | -3 | -1 | -2 | 3  |  1 | 3  | -2 | 1  | -1 | 0  | -1 | 3  |  0 | 4  | -1 | 1  |  1 | 2  | \n",
       "| -2 | -1 | -1 |  0 | -1 | 0  | -1 | 3  | -2 | 2  | -1 | 2  |  2 | 3  | -1 | 1  | -1 | 1  | -1 | 0  | \n",
       "|  0 |  3 | -2 |  3 | -2 | 3  | -2 | 1  |  0 | 3  | -1 | 2  | -1 | 1  | -1 | 2  | -1 | 0  | -1 | 3  | \n",
       "| -2 |  2 |  0 |  4 |  0 | 3  |  3 | 5  | -2 | 2  |  0 | 3  | -1 | 2  | -1 | 2  | -1 | 2  |  1 | 3  | \n",
       "| -2 |  0 | -4 |  1 | -1 | 1  | -3 | 2  | -1 | 3  |  1 | 3  | -1 | 1  |  1 | 2  |  3 | 4  |  2 | 3  | \n",
       "\n",
       "\n"
      ],
      "text/plain": [
       "  bid ask bid.1 ask.1 bid.2 ask.2 bid.3 ask.3 bid.4 ask.4 bid.5 ask.5 bid.6\n",
       "1 -1   2  -2     2    -2    4     -1    3     -1    3     -1    2     -1   \n",
       "2 -1   4  -3    -1    -2    3      1    3     -2    1     -1    0     -1   \n",
       "3 -2  -1  -1     0    -1    0     -1    3     -2    2     -1    2      2   \n",
       "4  0   3  -2     3    -2    3     -2    1      0    3     -1    2     -1   \n",
       "5 -2   2   0     4     0    3      3    5     -2    2      0    3     -1   \n",
       "6 -2   0  -4     1    -1    1     -3    2     -1    3      1    3     -1   \n",
       "  ask.6 bid.7 ask.7 bid.8 ask.8 bid.9 ask.9\n",
       "1 2      0    3     -1    2     -1    0    \n",
       "2 3      0    4     -1    1      1    2    \n",
       "3 3     -1    1     -1    1     -1    0    \n",
       "4 1     -1    2     -1    0     -1    3    \n",
       "5 2     -1    2     -1    2      1    3    \n",
       "6 1      1    2      3    4      2    3    "
      ]
     },
     "metadata": {},
     "output_type": "display_data"
    }
   ],
   "source": [
    "head(data.frame(ziSimResults))"
   ]
  },
  {
   "cell_type": "markdown",
   "metadata": {},
   "source": [
    "(a) For each size $q_b$ at best bid, compute the mean mid-price after 10,000 events and with error computed as standard deviation of the mean.\n",
    "\n",
    "(b) Plot mean mid-price vs size at best bid, reproducing Figure 3 of the lecture slides. \n",
    "Remember to include error bars!\n",
    "\n",
    "(c) Repeat part (b) with the order book imbalance $I$ on the x-axis, reproducing Figure 7 in the lecture slides.\n",
    "\n",
    "\n",
    "(d) If you see an order book with large quantity at the bid and small quantity at the offer, what does it tell you about the future price?"
   ]
  },
  {
   "cell_type": "markdown",
   "metadata": {},
   "source": [
    "## Is the market price a martingale?"
   ]
  },
  {
   "cell_type": "markdown",
   "metadata": {},
   "source": [
    "### 6. (4 points) \n",
    "\n",
    "A derivatives quant explains to you  (patiently but with a wthering look) that asset prices are martingales (informally speaking that expected price changes are zero). Do you agree? How is your understanding consistent with the derivative quant’s understanding?"
   ]
  },
  {
   "cell_type": "code",
   "execution_count": null,
   "metadata": {
    "collapsed": true
   },
   "outputs": [],
   "source": []
  }
 ],
 "metadata": {
  "kernelspec": {
   "display_name": "Python 3",
   "language": "python",
   "name": "python3"
  },
  "language_info": {
   "codemirror_mode": {
    "name": "ipython",
    "version": 3
   },
   "file_extension": ".py",
   "mimetype": "text/x-python",
   "name": "python",
   "nbconvert_exporter": "python",
   "pygments_lexer": "ipython3",
   "version": "3.7.0"
  }
 },
 "nbformat": 4,
 "nbformat_minor": 1
}
