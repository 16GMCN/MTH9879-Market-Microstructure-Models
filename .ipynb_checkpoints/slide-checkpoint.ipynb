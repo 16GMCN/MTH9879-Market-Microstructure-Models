{
 "cells": [
  {
   "cell_type": "markdown",
   "metadata": {
    "slideshow": {
     "slide_type": "slide"
    }
   },
   "source": [
    "## Optimal Trading with Alpha Predictors\n",
    "\n",
    "#### Author: Filippo Passerini, Samuel E. Vazquez\n",
    "#### Lecturer: Chenyu Zhao (Part I), Haocheng Gu (Part II)\n",
    "\n",
    "![timeline](timeline.png)\n",
    "\n",
    "Price dynamic\n",
    "$$\n",
    "dP_t=\\alpha_t dt+\\sqrt\\nu dW_t\n",
    "$$\n",
    "\n",
    "Decompose alpha \n",
    "$$\n",
    "\\alpha_t:=\\bar \\alpha+x_t,\\,\\,\\,\\,  \\mathbb E[x_t]=0\n",
    "$$\n",
    "\n",
    "Intra-day signal general dynamic\n",
    "$$\n",
    "dx_t=\\mu(t,x)dt+\\sqrt {\\eta(t,x)}dZ_t\n",
    "$$"
   ]
  },
  {
   "cell_type": "markdown",
   "metadata": {
    "slideshow": {
     "slide_type": "subslide"
    }
   },
   "source": [
    "\n",
    "Define integrated gain of signals\n",
    "$$\n",
    "g(t,x):=\\int_t^{2T}\\mathbb E[x_s|x_t=x]ds\n",
    "$$\n",
    "\n",
    "Evolution of our position\n",
    "$$\n",
    "dq_t=u_tdt\n",
    "$$"
   ]
  },
  {
   "cell_type": "code",
   "execution_count": null,
   "metadata": {},
   "outputs": [],
   "source": []
  }
 ],
 "metadata": {
  "celltoolbar": "Slideshow",
  "kernelspec": {
   "display_name": "Python 3",
   "language": "python",
   "name": "python3"
  },
  "language_info": {
   "codemirror_mode": {
    "name": "ipython",
    "version": 3
   },
   "file_extension": ".py",
   "mimetype": "text/x-python",
   "name": "python",
   "nbconvert_exporter": "python",
   "pygments_lexer": "ipython3",
   "version": "3.7.3"
  },
  "latex_envs": {
   "LaTeX_envs_menu_present": true,
   "autoclose": true,
   "autocomplete": true,
   "bibliofile": "biblio.bib",
   "cite_by": "apalike",
   "current_citInitial": 1,
   "eqLabelWithNumbers": false,
   "eqNumInitial": 1,
   "hotkeys": {
    "equation": "Ctrl-E",
    "itemize": "Ctrl-I"
   },
   "labels_anchors": false,
   "latex_user_defs": false,
   "report_style_numbering": false,
   "user_envs_cfg": false
  },
  "toc": {
   "base_numbering": 1,
   "nav_menu": {},
   "number_sections": true,
   "sideBar": true,
   "skip_h1_title": false,
   "title_cell": "Table of Contents",
   "title_sidebar": "Contents",
   "toc_cell": false,
   "toc_position": {},
   "toc_section_display": true,
   "toc_window_display": false
  },
  "varInspector": {
   "cols": {
    "lenName": 16,
    "lenType": 16,
    "lenVar": 40
   },
   "kernels_config": {
    "python": {
     "delete_cmd_postfix": "",
     "delete_cmd_prefix": "del ",
     "library": "var_list.py",
     "varRefreshCmd": "print(var_dic_list())"
    },
    "r": {
     "delete_cmd_postfix": ") ",
     "delete_cmd_prefix": "rm(",
     "library": "var_list.r",
     "varRefreshCmd": "cat(var_dic_list()) "
    }
   },
   "types_to_exclude": [
    "module",
    "function",
    "builtin_function_or_method",
    "instance",
    "_Feature"
   ],
   "window_display": false
  }
 },
 "nbformat": 4,
 "nbformat_minor": 2
}
