{
 "cells": [
  {
   "cell_type": "markdown",
   "metadata": {},
   "source": [
    "# Chenyu Zhao\n",
    "#### R Verison 3.5.1"
   ]
  },
  {
   "cell_type": "markdown",
   "metadata": {},
   "source": [
    "# MTH9879 Homework 3\n",
    "\n",
    "Assigned: February 14, 2019.\n",
    "Due: February 28, 2019 by 6pm. \n",
    "\n",
    "Late homework **will not be accepted**.\n",
    "\n",
    "$$\n",
    "\\newcommand{\\supp}{\\mathrm{supp}}\n",
    "\\newcommand{\\E}{\\mathbb{E}}\n",
    "\\newcommand{\\Eof}[1]{\\mathbb{E}\\left[ #1 \\right]}\n",
    "\\def\\Cov{{ \\mbox{Cov} }}\n",
    "\\def\\Var{{ \\mbox{Var} }}\n",
    "\\newcommand{\\1}{\\mathbf{1} }\n",
    "\\newcommand{\\PP}{\\mathbb{P} }\n",
    "%\\newcommand{\\Pr}{\\mathrm{Pr} }\n",
    "\\newcommand{\\QQ}{\\mathbb{Q} }\n",
    "\\newcommand{\\RR}{\\mathbb{R} }\n",
    "\\newcommand{\\DD}{\\mathbb{D} }\n",
    "\\newcommand{\\HH}{\\mathbb{H} }\n",
    "\\newcommand{\\spn}{\\mathrm{span} }\n",
    "\\newcommand{\\cov}{\\mathrm{cov} }\n",
    "\\newcommand{\\sgn}{\\mathrm{sgn} }\n",
    "\\newcommand{\\HS}{\\mathcal{L}_{\\mathrm{HS}} }\n",
    "%\\newcommand{\\HS}{\\mathrm{HS} }\n",
    "\\newcommand{\\trace}{\\mathrm{trace} }\n",
    "\\newcommand{\\LL}{\\mathcal{L} }\n",
    "%\\newcommand{\\LL}{\\mathrm{L} }\n",
    "\\newcommand{\\s}{\\mathcal{S} }\n",
    "\\newcommand{\\ee}{\\mathcal{E} }\n",
    "\\newcommand{\\ff}{\\mathcal{F} }\n",
    "\\newcommand{\\hh}{\\mathcal{H} }\n",
    "\\newcommand{\\bb}{\\mathcal{B} }\n",
    "\\newcommand{\\dd}{\\mathcal{D} }\n",
    "\\newcommand{\\g}{\\mathcal{G} }\n",
    "\\newcommand{\\p}{\\partial}\n",
    "\\newcommand{\\half}{\\frac{1}{2} }\n",
    "\\newcommand{\\T}{\\mathcal{T} }\n",
    "\\newcommand{\\bi}{\\begin{itemize}}\n",
    "\\newcommand{\\ei}{\\end{itemize}}\n",
    "\\newcommand{\\beq}{\\begin{equation}}\n",
    "\\newcommand{\\eeq}{\\end{equation}}\n",
    "\\newcommand{\\beas}{\\begin{eqnarray*}}\n",
    "\\newcommand{\\eeas}{\\end{eqnarray*}}\n",
    "\\newcommand{\\cO}{\\mathcal{O}}\n",
    "\\newcommand{\\cF}{\\mathcal{F}}\n",
    "\\newcommand{\\cL}{\\mathcal{L}}\n",
    "\\newcommand{\\BS}{\\text{BS}}\n",
    "$$"
   ]
  },
  {
   "cell_type": "markdown",
   "metadata": {},
   "source": [
    "<font color = \"red\">Homework is to be done by each student individually.  To receive full credit, you must email a completed copy of this Jupyter notebook to Yassine Ghalane (yassine.ghalem@gmail.com), Victor Istrakov (stavka@gmail.com), and Tai-Ho Wang (tai-ho.wang@baruch.cuny.edu) by the due date and time.  All R-code must run correctly and solutions must be written up neatly in Markdown/LaTeX format.\n",
    "\n",
    "<font color=\"blue\">If you encounter problems with Markdown/LaTeX or Jupyter notebook, please contact your TAs.\n"
   ]
  },
  {
   "cell_type": "markdown",
   "metadata": {},
   "source": [
    "### 0. (0 points) \n",
    "Read Chapter 11 of Hasbrouck and Section 3.5 of Foucault, Pagano and R&ouml;ell. "
   ]
  },
  {
   "cell_type": "markdown",
   "metadata": {},
   "source": [
    "## The Garman (1976) model"
   ]
  },
  {
   "cell_type": "markdown",
   "metadata": {},
   "source": [
    "### 1. (6 points) \n",
    "Suppose supply and demand functions satisfy\n",
    "\n",
    "$$\n",
    "P_A(\\lambda) = 101 − 18\\lambda + \\lambda^2; \\; P_B(\\lambda) = 61 + 2\\lambda + \\lambda^2,\n",
    "$$\n",
    "\n",
    "where $\\lambda$ is the market order arrival rate per minute and $P_B(\\cdot)$ and $P_A(\\cdot)$ denote supply and demand curves respectively. <br>\n",
    "Determine the dealer’s optimal bid $B$ and ask $A$ and the average profit per minute."
   ]
  },
  {
   "cell_type": "markdown",
   "metadata": {},
   "source": [
    "### Answer\n",
    "\n",
    "The dealer's profit is $\\pi(B,A)=(P_A(\\lambda)-P_B(\\lambda))\\lambda$, and we maximize it, which is\n",
    "\n",
    "$$\n",
    "\\pi(B,A)=(40-20\\lambda)\\lambda\n",
    "$$\n",
    "\n",
    "$\\frac{d\\pi}{d\\lambda}=0$ gives $\\lambda^*=1$\n",
    "\n",
    "Therefore, the dealer's optimal bid and ask is $P_A(\\lambda^*)=84$, $P_B(\\lambda^*)=64$.\n",
    "\n",
    "The corresponding profit per minute is $\\pi(B,A)=20$"
   ]
  },
  {
   "cell_type": "markdown",
   "metadata": {},
   "source": [
    "## The Stoll (1978) model"
   ]
  },
  {
   "cell_type": "markdown",
   "metadata": {},
   "source": [
    "### 2. (4 points) \n",
    "In the Stoll (1978) model, assuming exponential utility with $S \\sim N(\\mu, \\sigma^2)$, and with current inventory $q$ shares, what are the dealer’s indifference bid and ask prices for $n$ shares?"
   ]
  },
  {
   "cell_type": "markdown",
   "metadata": {},
   "source": [
    "### Answer\n",
    "\n",
    "For the dealer to be indifferent, we must have\n",
    "\n",
    "$$\n",
    "\\E\\left[U((q+n)S-nB)  \\right]=\\E\\left[U(qs)\\right] \n",
    "$$\n",
    "\n",
    "Therefore\n",
    "\n",
    "$$\n",
    "(q+n)\\E\\left[S\\right]-nB-\\frac{\\alpha}{2}Var\\left[(q+n)S\\right]=q\\E\\left[S\\right]-\\frac{\\alpha}{2}Var\\left[qs\\right]\n",
    "$$\n",
    "\n",
    "gives\n",
    "\n",
    "$$\n",
    "B=\\mu-\\frac{\\alpha}{2}(n+2q)\\sigma^2\n",
    "$$\n",
    "\n",
    "By similiar argument, we have\n",
    "\n",
    "$$\n",
    "A=\\mu+\\frac{\\alpha}{2}(n-2q)\\sigma^2\n",
    "$$"
   ]
  },
  {
   "cell_type": "markdown",
   "metadata": {},
   "source": [
    "### 3. (10 points)\n",
    "As mentioned in Lecture 3, in real markets, bid and ask prices $B$ and $A$ are typically given and the dealer must decide how much size to quote at these fixed prices.  Suppose there are currently $Q_A$ offered and $Q_B$ shares bid.  According to Lecture 1,\n",
    "\n",
    "$$\n",
    "\\Eof{S} \\approx M + \\frac s 2 \\,\\frac 4\\pi \\,\\arctan I.\n",
    "$$\n",
    "\n",
    "where $M$ is the mid-price, $s=A-B$, and the book imbalance is given by\n",
    "\n",
    "$$\n",
    "I = \\frac{Q_B-Q_A}{Q_B + Q_A}.\n",
    "$$\n",
    "\n",
    "Assume that $S$ is normally distributed with variance $\\sigma^2$, that the dealer has exponential utility, and that his current inventory is $q$.\n",
    "\n",
    "(a) Use your answer to Problem 2 to show that the indifference size $n_B$ the dealer should quote at the bid $B$ is given by\n",
    "\n",
    "$$\n",
    "n_B = \\frac{s}{\\alpha\\,\\sigma^2}\\,\\left(  1+\\frac 4 \\pi \\,\\arctan I \\right) - 2\\,q.\n",
    "$$\n",
    "\n",
    "(c) Derive a similar formula for the indifference offered quantity $n_A$.\n",
    "\n",
    "(b) Give your intuition for the sensitivities of $n_B$ and $n_A$ to each of the various inputs.\n"
   ]
  },
  {
   "cell_type": "markdown",
   "metadata": {},
   "source": [
    "### Answer\n",
    "\n",
    "(a) Problem 2 gives $B=\\mu-\\frac{\\alpha}{2}n_B\\sigma^2-\\alpha q\\sigma^2$, which equivalent to\n",
    "\n",
    "$$\n",
    "n_B=\\frac{2(\\mu)-B}{\\alpha\\sigma^2}-2q\n",
    "$$\n",
    "\n",
    "We plug in the following relation.\n",
    "\n",
    "\\begin{cases}\n",
    "B&=M-\\frac{s}{2}\\\\\n",
    "\\Eof{S} &= M + \\frac s 2 \\,\\frac 4\\pi \\,\\arctan I\n",
    "\\end{cases}\n",
    "\n",
    "Therefore we get\n",
    "\n",
    "$$\n",
    "n_B = \\frac{s}{\\alpha\\,\\sigma^2}\\,\\left(  1+\\frac 4 \\pi \\,\\arctan I \\right) - 2\\,q\n",
    "$$"
   ]
  },
  {
   "cell_type": "markdown",
   "metadata": {},
   "source": [
    "(b) Use the same argument in part (a), we get\n",
    "\n",
    "$$\n",
    "n_A = \\frac{s}{\\alpha\\,\\sigma^2}\\,\\left(  1-\\frac 4 \\pi \\,\\arctan I \\right) + 2\\,q\n",
    "$$"
   ]
  },
  {
   "cell_type": "markdown",
   "metadata": {},
   "source": [
    "(c) \n",
    "\n",
    "#### Inventory q\n",
    "\n",
    "The more inventory, the smaller $n_B$ and larger $n_A$ is, which implies the dealer should sell more and buy less.\n",
    "\n",
    "#### Imbalance I\n",
    "\n",
    "When I is positive, it means $Q_B$ is larger than $Q_A$. Since the best bid quote size is larger. So the dealer should buy more and sell less.\n",
    "\n",
    "#### Spread s\n",
    "\n",
    "Bigger the spread, larger the the buy and sell size is. Then the dealers' decision will narrow the spread, which is the market function of dealers.\n",
    "\n",
    "#### Risk Averse Factor $\\alpha$\n",
    "\n",
    "The more risk averse factor is, the less the dealer would like to take risk. So the dealer will trade with small size.\n",
    "\n",
    "#### Variance $\\sigma^2$\n",
    "\n",
    "The bigger the variance, the more risky the market is. So the dealer will trade with small size. "
   ]
  },
  {
   "cell_type": "markdown",
   "metadata": {},
   "source": [
    "## Avellaneda and Stoikov (2008)"
   ]
  },
  {
   "cell_type": "markdown",
   "metadata": {},
   "source": [
    "### 4. (6 points) \n",
    "According to the lecture slides, in the Avellaneda and Stoikov model, the optimal bid and ask prices are given in terms of market order arrival rates by\n",
    "\n",
    "$$\n",
    "B = S - \\delta^B = r_B - \\frac{1}{\\alpha}\\,\\log\\left(1 - \\alpha\\,\\frac{{\\lambda_B}(\\delta^B)}{\\lambda_B'(\\delta^B)}\\right).\n",
    "$$\n",
    "\n",
    "Similarly, the optimal ask price is given by\n",
    "\n",
    "$$\n",
    "A = S + \\delta^A = r_A + \\frac{1}{\\alpha}\\,\\log\\left(1 - \\alpha\\,\\frac{{\\lambda_A}(\\delta^A)}{\\lambda_A'(\\delta^A)}\\right).\n",
    "$$\n",
    "\n",
    "\n",
    "Suppose that arrival rates of orders (symmetric between market buys and sells) are given by\n",
    "\n",
    "$$\n",
    "\\lambda(\\delta, q) = e^{-k \\delta \\pm \\beta\\,q}\n",
    "$$\n",
    "\n",
    "for some constant $\\beta>0$ that reflects adverse selection (i.e., the longer you are, the more market sell orders arrive).\n",
    "\n",
    "(a) Write down expressions for $A$ and $B$ in terms of $r_A$, $r_B$, $k$, $\\beta$ and $q$.\n",
    "\n",
    "(b) How does the optimal spread depend on $q$?\n",
    "\n",
    "(c) Conjecture how the reservation prices $r_A$ and $r_B$ should depend on $q$ if there is adverse selection.\n"
   ]
  },
  {
   "cell_type": "markdown",
   "metadata": {},
   "source": [
    "### Answer\n",
    "\n",
    "(a) Suppose the q is not a function of $\\delta$\n",
    "\n",
    "Then \n",
    "\n",
    "$$\n",
    "B=r_B-\\frac{1}{\\alpha}log(1+\\frac{\\alpha}{k})\n",
    "$$\n",
    "\n",
    "$$\n",
    "A=r_A+\\frac{1}{\\alpha}log(1+\\frac{\\alpha}{k})\n",
    "$$\n",
    "\n",
    "If q is a fucntion of $\\delta$. Denote $\\frac{\\partial q}{\\partial \\delta}=q'$\n",
    "\n",
    "Then \n",
    "\n",
    "$$\n",
    "B=r_B-\\frac{1}{\\alpha}log(1+\\frac{\\alpha}{k+\\beta q'})\n",
    "$$\n",
    "\n",
    "$$\n",
    "A=r_A+\\frac{1}{\\alpha}log(1+\\frac{\\alpha}{k-\\beta q'})\n",
    "$$"
   ]
  },
  {
   "cell_type": "markdown",
   "metadata": {},
   "source": [
    "<font color=red>COMMENT: this is not the expected result. -2pts</font>"
   ]
  },
  {
   "cell_type": "markdown",
   "metadata": {},
   "source": [
    "(b) The spread is (suppose q is not a function of $\\delta$) \n",
    "\n",
    "$$\n",
    "A-B=r_A-r_B+\\frac{2}{\\alpha}log(1+\\frac{\\alpha}{k})\n",
    "$$\n",
    "\n",
    "It does not depend on q explicitly. But $r_B$ and $r_A$ are functions of q. So the q will influence the spread. "
   ]
  },
  {
   "cell_type": "markdown",
   "metadata": {},
   "source": [
    "<font color=red>COMMENT: ambiguous answer. -1pt</font>"
   ]
  },
  {
   "cell_type": "markdown",
   "metadata": {},
   "source": [
    "(c) The reservation price is the price that the market maker is willing to trade indifferently in utility. If there is adverse selection, then when the q is large, then there will be more market sell orders, hence lower the bid price. $r_B$ should decrease.\n",
    "\n",
    "When the q is small, there will be more market buy orders, hence increase the ask price. $r_A$ should increase.\n",
    "\n",
    "So both $r_A$ and $r_B$ are decreasing with the inventory q."
   ]
  }
 ],
 "metadata": {
  "anaconda-cloud": {},
  "celltoolbar": "Slideshow",
  "kernelspec": {
   "display_name": "R",
   "language": "R",
   "name": "ir"
  },
  "language_info": {
   "codemirror_mode": "r",
   "file_extension": ".r",
   "mimetype": "text/x-r-source",
   "name": "R",
   "pygments_lexer": "r",
   "version": "3.5.1"
  }
 },
 "nbformat": 4,
 "nbformat_minor": 1
}
