{
 "cells": [
  {
   "cell_type": "markdown",
   "metadata": {},
   "source": [
    "# Chenyu Zhao\n",
    "### R version: 3.5.1"
   ]
  },
  {
   "cell_type": "markdown",
   "metadata": {},
   "source": [
    "# MTH9879 Homework 9\n",
    "\n",
    "Assigned: April 4, 2019.\n",
    "Due: April 18, 2019 by 6pm. \n",
    "\n",
    "Late homework **will not be accepted**.\n",
    "\n",
    "$$\n",
    "\\newcommand{\\supp}{\\mathrm{supp}}\n",
    "\\newcommand{\\E}{\\mathbb{E}}\n",
    "\\newcommand{\\Eof}[1]{\\mathbb{E}\\left[ #1 \\right]}\n",
    "\\def\\Cov{{ \\mbox{Cov} }}\n",
    "\\def\\Var{{ \\mbox{Var} }}\n",
    "\\newcommand{\\1}{\\mathbf{1} }\n",
    "\\newcommand{\\PP}{\\mathbb{P} }\n",
    "%\\newcommand{\\Pr}{\\mathrm{Pr} }\n",
    "\\newcommand{\\QQ}{\\mathbb{Q} }\n",
    "\\newcommand{\\RR}{\\mathbb{R} }\n",
    "\\newcommand{\\DD}{\\mathbb{D} }\n",
    "\\newcommand{\\HH}{\\mathbb{H} }\n",
    "\\newcommand{\\spn}{\\mathrm{span} }\n",
    "\\newcommand{\\cov}{\\mathrm{cov} }\n",
    "\\newcommand{\\sgn}{\\mathrm{sgn} }\n",
    "\\newcommand{\\HS}{\\mathcal{L}_{\\mathrm{HS}} }\n",
    "%\\newcommand{\\HS}{\\mathrm{HS} }\n",
    "\\newcommand{\\trace}{\\mathrm{trace} }\n",
    "\\newcommand{\\LL}{\\mathcal{L} }\n",
    "%\\newcommand{\\LL}{\\mathrm{L} }\n",
    "\\newcommand{\\s}{\\mathcal{S} }\n",
    "\\newcommand{\\ee}{\\mathcal{E} }\n",
    "\\newcommand{\\ff}{\\mathcal{F} }\n",
    "\\newcommand{\\hh}{\\mathcal{H} }\n",
    "\\newcommand{\\bb}{\\mathcal{B} }\n",
    "\\newcommand{\\dd}{\\mathcal{D} }\n",
    "\\newcommand{\\g}{\\mathcal{G} }\n",
    "\\newcommand{\\p}{\\partial}\n",
    "\\newcommand{\\half}{\\frac{1}{2} }\n",
    "\\newcommand{\\T}{\\mathcal{T} }\n",
    "\\newcommand{\\bi}{\\begin{itemize}}\n",
    "\\newcommand{\\ei}{\\end{itemize}}\n",
    "\\newcommand{\\beq}{\\begin{equation}}\n",
    "\\newcommand{\\eeq}{\\end{equation}}\n",
    "\\newcommand{\\beas}{\\begin{eqnarray*}}\n",
    "\\newcommand{\\eeas}{\\end{eqnarray*}}\n",
    "\\newcommand{\\cO}{\\mathcal{O}}\n",
    "\\newcommand{\\cC}{\\mathcal{C}}\n",
    "\\newcommand{\\cF}{\\mathcal{F}}\n",
    "\\newcommand{\\cL}{\\mathcal{L}}\n",
    "\\newcommand{\\BS}{\\text{BS}}\n",
    "$$"
   ]
  },
  {
   "cell_type": "markdown",
   "metadata": {},
   "source": [
    "<font color = \"red\">Homework is to be done by each student individually.  To receive full credit, you must email a completed copy of this Jupyter notebook to Yassine Ghalane (yassine.ghalem@gmail.com), Victor Istrakov (stavka@gmail.com), and Tai-Ho Wang (tai-ho.wang@baruch.cuny.edu) by the due date and time.  All R-code must run correctly and solutions must be written up neatly in Markdown/LaTeX format.\n",
    "\n",
    "<font color=\"blue\">If you encounter problems with Markdown/LaTeX or Jupyter notebook, please contact your TAs."
   ]
  },
  {
   "cell_type": "markdown",
   "metadata": {},
   "source": [
    "### 1. (12 points)\n",
    "Following Almgren and Chriss,  assume that the stock price $S_t$ evolves as\n",
    "\n",
    "$$\n",
    "dS_t = \\sigma\\,dZ_t\n",
    "$$\n",
    "\n",
    "and the price $\\tilde S_t$ at which we transact is given by\n",
    "\n",
    "$$\n",
    "\\tilde S_t = S_t - \\eta\\,v_t\n",
    "$$\n",
    "\n",
    "where $v_t:=-{\\dot x}_t$ is the rate of trading with $x_0 = X$ and $x_T = 0$.\n",
    "\n",
    "In the lecture slides, we showed that with a risk term that penalizes average VaR instead of variance, the risk-adjusted cost of trading associated with a given price path $\\{S_t\\}$ is given by\n",
    "\n",
    "$$\n",
    "C = \\int_0^T\\,(S_t - \\eta\\,v_t) dx_t + \\lambda\\,\\sigma\\,\\int_0^T\\,x_t\\,dt\n",
    "$$\n",
    "\n",
    "for some price of risk $\\lambda$. We want to find a (possibly state-dependent) control $v_t$ that minimizes the expected cost $\\cC=\\E[C]$.\n",
    "\n",
    "(a) Apply the technique of integration by parts to simplify the term $\\int_0^T S_t dx_t$. Write down the HJB equation for the resulting problem.\n",
    "\n",
    "(b) Solve the first order condition to find the optimal trading rate $v^\\star$.    \n",
    "\n",
    "(c) Substitute $v^\\star$ back into the HJB equation to show that the value function $\\cC$ must satisfy\n",
    "$$\n",
    "\\cC_t = \\frac{\\cC_x^2}{4\\,\\eta\\,} - \\lambda \\sigma x.\n",
    "$$\n",
    "\n",
    "(d) With the terminal condition, \n",
    "$$\\lim_{t\\uparrow T}\\cC(t,x) = \\begin{cases}0&\\text{if $x=0$,}\\\\\n",
    "+\\infty&\\text{if $x\\neq0$.}\n",
    "\\end{cases}$$\n",
    "solve the HJB equaiton with the ansatz $\\cC(t,x) = a(t)x^2 + b(t)x + c(t)$. Verify that the optimal trading strategy with liquidation horizon set to the characteristic time is given by\n",
    "\\begin{eqnarray*}\n",
    "x_t&=&X\\,\\left(1-\\frac{t}{T}\\right)^2.\n",
    "\\end{eqnarray*}\n",
    "Recall that with the notation of the lecture slides, the characteristic time is defined as\n",
    "$$\n",
    "T^\\star=\\sqrt{\\frac{2\\,X}{A}}=\\sqrt{\\frac{4\\,\\eta\\,X}{\\lambda\\,\\sigma}}\n",
    "$$\n",
    "Compute the risk-adjusted cost function $\\cC$ associated with this strategy. \n"
   ]
  },
  {
   "cell_type": "markdown",
   "metadata": {},
   "source": [
    "### Answer\n",
    "\n",
    "(a)\n",
    "integral by parts\n",
    "\n",
    "$$\n",
    "\\int_0^TS_tdx_t=S_Tx_T-S_0x_0-\\int_0^Tx_tdS_t=-S_0X-\\int_0^T\\sigma x_tdZ_t\n",
    "$$\n",
    "\n",
    "and $v_tdx_t=-v_T^2dt$, we have\n",
    "$$\n",
    "\\therefore E[C]=-S_0X+\\eta\\int_0^Tv_u^2du+\\lambda\\sigma\\int_0^Tx_udu\n",
    "$$\n",
    "\n",
    "let $J=\\inf_{v\\in\\mathcal{G}}\\{\\eta\\int_0^Tv_u^2du+\\lambda\\sigma\\int_0^Tx_udu \\}$\n",
    "\n",
    "By HJB equation, we have\n",
    "\n",
    "$$\n",
    "\\frac{\\partial J}{\\partial t}+\\lambda\\sigma x+\\min_{v\\in\\mathcal{G}}\\{-vJ_x+\\eta v^2\\}=0\n",
    "$$"
   ]
  },
  {
   "cell_type": "markdown",
   "metadata": {},
   "source": [
    "(b) The first order optimal v is\n",
    "\n",
    "$$\n",
    "v^\\star=\\frac{J_x}{2\\eta}\n",
    "$$\n",
    "\n",
    "by solving optimal value for quadratic function  $-vJ_x+\\eta v^2$"
   ]
  },
  {
   "cell_type": "markdown",
   "metadata": {},
   "source": [
    "(c) plug $v^\\star$ back in HJB equation, we have \n",
    "$$\n",
    "\\frac{\\partial J}{\\partial t}+\\lambda\\sigma x-\\frac{J_x}{2\\eta}J_x+\\eta (\\frac{J_x}{2\\eta})^2=0\n",
    "$$\n",
    "\n",
    "Here the notation of J is identical to $\\cC$, so we have \n",
    "$$\n",
    "\\cC_t = \\frac{\\cC_x^2}{4\\,\\eta\\,} - \\lambda \\sigma x.\n",
    "$$"
   ]
  },
  {
   "cell_type": "markdown",
   "metadata": {},
   "source": [
    "(d) With the ansatz $\\cC(t,x) = a(t)x^2 + b(t)x + c(t)$, the equation from (c) is then\n",
    "\n",
    "$$\n",
    "a'x^2+b'x+c'=\\frac{(2ax+b)^2}{4\\eta}-\\lambda\\sigma x\n",
    "$$\n",
    "\n",
    "We slove for a, b, c and it gives\n",
    "\n",
    "$$\n",
    "\\begin{split}\n",
    "a(t) &= \\frac {1} {T - t} \\eta\\\\ \n",
    "b(t) &= \\frac {\\kappa} {2} {(T - t)} \\eta\\\\ \n",
    "c(t) &= - \\frac {\\kappa^2} {48} {(T - t)}^3\\eta\n",
    "\\end{split}\n",
    "$$\n",
    "where $\\kappa = \\frac {\\lambda \\sigma} {\\eta}$\n",
    "\n",
    "$$\n",
    "\\therefore \\cC(t,x)=\\frac {1} {T - t} \\eta x^2+\\frac {\\kappa} {2} {(T - t)} \\eta x- \\frac {\\kappa^2} {48} {(T - t)}^3\\eta\n",
    "$$\n",
    "\n",
    "use the equation from (b), we have\n",
    "\n",
    "$$\n",
    "v^\\star=\\frac {x} {T - t} + \\frac {\\kappa} {4} {(T - t)}\n",
    "$$"
   ]
  },
  {
   "cell_type": "markdown",
   "metadata": {},
   "source": [
    "Because $v^\\star=-\\frac{dx}{dt}$, and with boundary condition $x_0=X$ and $x_T=0$, we have\n",
    "\n",
    "$$\n",
    "x(t)=(\\frac XT-\\frac \\kappa 4 t)(T-t)\n",
    "$$\n",
    "\n",
    "hence \n",
    "\n",
    "$$\n",
    "v(t)=(\\frac XT - \\frac \\kappa 4 t) + \\frac \\kappa 4 (T - t)\n",
    "$$\n",
    "\n",
    "When T is optimal, we have\n",
    "$$\n",
    "\\frac {\\partial C}{\\partial T}=\\eta v_T^2+\\lambda\\sigma x_T=0\n",
    "$$\n",
    "\n",
    "from boundary condition we know $x_T=0$, so from above function we have $v_T=0$, plug in to the v's expression, we have\n",
    "\n",
    "$$\n",
    "\\frac XT=\\frac \\kappa 4 T\n",
    "$$\n",
    "\n",
    "So \n",
    "\n",
    "$$\n",
    "T^\\star=\\sqrt{\\frac{4X}{\\kappa}}=\\sqrt{\\frac{4\\,\\eta\\,X}{\\lambda\\,\\sigma}}\n",
    "$$\n",
    "\n",
    "plug this back in $x(t)$'s expression, we finally have\n",
    "$$\n",
    "x_t=X\\,\\left(1-\\frac{t}{T}\\right)^2\n",
    "$$\n",
    "\n",
    "plug this into following $\\cC$'s expression, we have \n",
    "$$\n",
    "\\cC(t,x)=\\frac {1} {T - t} \\eta x^2+\\frac {\\kappa} {2} {(T - t)} \\eta x- \\frac {\\kappa^2} {48} {(T - t)}^3\\eta\n",
    "$$\n",
    "\n",
    "we have the risk-adjusted cost function associated with this strategy"
   ]
  },
  {
   "cell_type": "markdown",
   "metadata": {},
   "source": [
    "## ABM and GBM"
   ]
  },
  {
   "cell_type": "markdown",
   "metadata": {},
   "source": [
    "### Set up R environment"
   ]
  },
  {
   "cell_type": "code",
   "execution_count": 1,
   "metadata": {
    "collapsed": false
   },
   "outputs": [
    {
     "name": "stderr",
     "output_type": "stream",
     "text": [
      "Loading required package: xts\n",
      "Loading required package: zoo\n",
      "\n",
      "Attaching package: ‘zoo’\n",
      "\n",
      "The following objects are masked from ‘package:base’:\n",
      "\n",
      "    as.Date, as.Date.numeric\n",
      "\n"
     ]
    }
   ],
   "source": [
    "library(highfrequency)\n",
    "#download.file(url=\"http://mfe.baruch.cuny.edu/wp-content/uploads/2015/03/MSFT130311.rData_.zip\", destfile=\"MSFT130311.zip\")\n",
    "#unzip(zipfile=\"MSFT130311.zip\")\n",
    "load(\"MSFT130311.rData\")"
   ]
  },
  {
   "cell_type": "code",
   "execution_count": 2,
   "metadata": {
    "collapsed": true
   },
   "outputs": [],
   "source": [
    "library(xts)"
   ]
  },
  {
   "cell_type": "markdown",
   "metadata": {},
   "source": [
    "### 2. (8 points)\n",
    "\n",
    "Recall from the lecture slides that with time-averaged VaR as the risk penalty, and when the liquidation time $T$ is chosen to be the characteristic time, the optimal trading rate under ABM becomes\n",
    "\n",
    "$$\n",
    "v^A(t)= \\frac{x_t}{T-t}\\,+\\frac{X}{T}\\,\\left(1-\\frac t T\\right)\n",
    "$$\n",
    "\n",
    "and the optimal trading rate under GBM becomes\n",
    "\n",
    "$$\n",
    "v^G(t)= \\frac{x_t}{T-t}\\,+\\frac{X}{T}\\,\\frac{S_t}{S_0}\\,\\left(1-\\frac t T\\right).\n",
    "$$\n",
    "\n",
    "(a) The *msft.bats* dataset from *MSFT130311.rData* contains all trades on the BATS exchange on 11-Mar-2013.  One trading days has 390 minutes.  Sample the  *msft.bats* dataset evenly, roughly every minute of volume time.  Superimpose plots of the optimal strategy under ABM and GBM assuming liquidation takes place over one trading day.\n",
    "\n",
    "(b) Denote the corresponding position sizes by $x^A(t)$ and $x^G(t)$ respectively.  What is the maximum deviation of the two position sizes as a percentage of the initial position $X$?  How significant is this deviation?\n",
    "\n"
   ]
  },
  {
   "cell_type": "markdown",
   "metadata": {},
   "source": [
    "### Answer\n",
    "\n",
    "(a)"
   ]
  },
  {
   "cell_type": "code",
   "execution_count": 3,
   "metadata": {
    "collapsed": true
   },
   "outputs": [],
   "source": [
    "X<-10000\n",
    "T<-390\n",
    "\n",
    "shares<-as.numeric(msft130311.bats$signed.shares)\n",
    "prices<-as.numeric(msft130311.bats$trade.price)\n",
    "\n",
    "len<-length(shares)\n",
    "\n",
    "totalshares<-0\n",
    "for(i in 1:len){\n",
    "    totalshares<-totalshares+abs(shares[i])\n",
    "}\n",
    "\n",
    "tempshares<-0\n",
    "\n",
    "# sample price according to volume time\n",
    "sampleprice<-c()\n",
    "j<-1\n",
    "for(i in 1:T){\n",
    "    while(tempshares<totalshares*i/T){\n",
    "        tempshares<-tempshares+abs(shares[j])\n",
    "        j<-j+1\n",
    "    }\n",
    "    sampleprice<-c(sampleprice,prices[j-1])\n",
    "}"
   ]
  },
  {
   "cell_type": "code",
   "execution_count": 4,
   "metadata": {
    "collapsed": true
   },
   "outputs": [],
   "source": [
    "Vabm<-function(x,t){\n",
    "    return (x/(T-t)+X/T*(1-t/T))\n",
    "}\n",
    "\n",
    "Vgbm<-function(x,t){\n",
    "    return (x/(T-t)+X/T*sampleprice[t]/prices[1]*(1-t/T))\n",
    "}\n",
    "\n",
    "Xabm<-c(X)\n",
    "Xgbm<-c(X)\n",
    "\n",
    "for(i in 1:(T-1)){\n",
    "    Xabm<-c(Xabm,Xabm[i]-Vabm(Xabm[i],i))\n",
    "    Xgbm<-c(Xgbm,Xgbm[i]-Vgbm(Xgbm[i],i))\n",
    "}"
   ]
  },
  {
   "cell_type": "code",
   "execution_count": 5,
   "metadata": {
    "collapsed": false
   },
   "outputs": [
    {
     "data": {
      "image/png": "[encoded data removed]",
      "text/plain": [
       "Plot with title “Optimal Strategy under ABM and GBM”"
      ]
     },
     "metadata": {},
     "output_type": "display_data"
    }
   ],
   "source": [
    "plot(1:T, (1:T)*X/T, type=\"n\", xlab=\"Time\", ylab=\"Shares\",\n",
    "     main=\"Optimal Strategy under ABM and GBM\")\n",
    "lines(Xabm, col=\"red\")\n",
    "lines(Xgbm, col=\"blue\")\n",
    "legend(\"topright\", c(\"ABM\",\"GBM\"), col=c(\"red\",\"blue\"), lty=1)"
   ]
  },
  {
   "cell_type": "markdown",
   "metadata": {},
   "source": [
    "(b)"
   ]
  },
  {
   "cell_type": "code",
   "execution_count": 6,
   "metadata": {
    "collapsed": false
   },
   "outputs": [
    {
     "name": "stdout",
     "output_type": "stream",
     "text": [
      "[1] 0.001235201\n"
     ]
    }
   ],
   "source": [
    "maxdev<-max(abs(Xabm-Xgbm))/X\n",
    "print(maxdev)"
   ]
  },
  {
   "cell_type": "markdown",
   "metadata": {},
   "source": [
    "The maximum deviation of the two position sizes as a percentage of the initial position  X is 0.1235%. Which is very small and not significant."
   ]
  },
  {
   "cell_type": "markdown",
   "metadata": {},
   "source": [
    "## Kratz and Schöneborn with time-averaged VaR risk charge"
   ]
  },
  {
   "cell_type": "markdown",
   "metadata": {},
   "source": [
    "### 3. (16 points)\n",
    "\n",
    "(a) Repeat the computation of the optimal strategy from the lecture slides with time-averaged VaR\n",
    "\n",
    "$$\n",
    "\\lambda\\,\\sigma\\,\\int_0^T\\,x_t\\,dt\n",
    "$$\n",
    "\n",
    "as the risk term (rather than the quadratic variation $\\lambda\\,\\sigma^2\\,\\int_0^T\\,x_t^2\\,dt$).  Show that the optimal position\n",
    "\n",
    "$$\n",
    "x^\\star(t)=\\left(X-\\frac{A\\, T}{\\theta }\\right)\\,\\frac{1-e^{-\\theta\\,(T-t)} }{1-e^{-\\theta\\,T }}+\\frac{A }{\\theta }\\,(T-t)\n",
    "$$\n",
    "and deduce the optimal trading rate $v^\\star(t)$.\n",
    "\n",
    "(b) By Taylor-expanding the solution around $\\theta=0$, show that we retrieve the solution derived in the slides with no dark pool\n",
    "\n",
    "$$\n",
    "x^\\star(t)=\\left(X-\\frac{A \\, T}{2}\\,t\\right)\\,\\left(1-\\frac{t}{T}\\right) .\n",
    "$$\n",
    "\n",
    "in the limit $\\theta \\to 0$.\n"
   ]
  },
  {
   "cell_type": "markdown",
   "metadata": {},
   "source": [
    "### Answer\n",
    "\n",
    "(a)\n",
    "\n",
    "HJB equation in this case is \n",
    "\n",
    "$$\n",
    "\\frac{\\partial \\cC}{\\partial t}+\\lambda \\sigma x+\\min_{\\mathcal{G}}\\{-v\\cC_x + \\eta v^2+\\theta [ \\cC(t,x-y)-\\cC(t,x)  ] \\}\n",
    "$$\n",
    "\n",
    "to minimize second part of this equation, we get the first order condition for optimal trading rate $v^\\star(t)$\n",
    "\n",
    "$$\n",
    "v^\\star=\\frac{1}{2\\eta}\\cC_x\n",
    "$$\n",
    "\n",
    "another first order condition is to minimize $ [ \\cC(t,x-y)-\\cC(t,x)  ]$, and we get\n",
    "\n",
    "$$\n",
    "y^\\star=x\n",
    "$$\n",
    "\n",
    "Substituting back to HJB and we get\n",
    "$$\n",
    "\\frac{\\partial \\cC}{\\partial t}+\\lambda \\sigma x-\\frac 1{4\\eta}(\\cC_x)^2-\\theta C=0\n",
    "$$"
   ]
  },
  {
   "cell_type": "markdown",
   "metadata": {},
   "source": [
    "Here, we solve it by imposing the ansatz\n",
    "\n",
    "$$\n",
    "\\cC(t,x) = a(t)x^2 + b(t)x + c(t)\n",
    "$$\n",
    "\n",
    "take it into HJB and we get\n",
    "\n",
    "$$\n",
    "\\begin{split}\n",
    "a'-\\frac {a^2} {\\eta} -\\theta a=0 \\\\\n",
    "b'+\\lambda\\sigma-\\frac{ab}\\eta-\\theta b =0 \\\\\n",
    "c'-\\frac {b^2} {4\\eta}-\\theta c=0\n",
    "\\end{split}\n",
    "$$\n",
    "\n",
    "with boundary condition $$\\lim_{t\\uparrow T}\\cC(t,x) = \\begin{cases}0&\\text{if $x=0$,}\\\\\n",
    "+\\infty&\\text{if $x\\neq0$.}\n",
    "\\end{cases}$$\n",
    "\n",
    "After solving for these equations, we get\n",
    "\n",
    "$$\n",
    "\\begin{split}\n",
    "a(t)&= -\\frac {\\theta} {1-e^{\\theta(T-t)}} \\\\ \n",
    "b(t)&= 2A [ \\frac {(T-t)} {1-e^{\\theta(T-t)}} + \\frac{1}{\\theta}]\n",
    "\\end{split}\n",
    "$$\n",
    "\n",
    "where $A=\\frac{\\lambda \\sigma }{2 \\eta}$\n"
   ]
  },
  {
   "cell_type": "markdown",
   "metadata": {},
   "source": [
    "By using first order condition for $v$, we can get $v^\\star=\\frac{1}{2\\eta}\\cC_x$, by solving ODE $d x(t)/{dt}=-v(t)$, we have\n",
    "\n",
    "$$\n",
    "x^\\star(t)=(X-\\frac{AT}{\\theta}) \\frac{1-e^{-\\theta(T-t)}}{1-e^{-\\theta T }}+\\frac{A}{\\theta} (T-t)\n",
    "$$\n",
    "\n",
    "and \n",
    "\n",
    "$$\n",
    "v^\\star(t)=-d{x}^\\star(t)/dt=(X-\\frac{AT}{\\theta}) \\frac{\\theta e^{-\\theta(T-t)}}{1-e^{-\\theta T }}+\\frac{A}{\\theta} \n",
    "$$"
   ]
  },
  {
   "cell_type": "markdown",
   "metadata": {},
   "source": [
    "(b)\n",
    "\n",
    "expand $e^x=1+x+\\frac12 x^2$\n",
    "\n",
    "$$\n",
    "\\begin{split}\n",
    "x^\\star(t)&=(X-\\frac{AT}{\\theta})\\frac{\\theta (T-t)-\\frac12 \\theta^2(T-t)^2}{\\theta T-\\frac12 \\theta^2 T^2}+\\frac A\\theta(T-t)\\\\\n",
    "&=X\\frac{(T-t)-\\frac12 \\theta(T-t)^2}{ T-\\frac12 \\theta T^2}-\\frac{\\frac12A(T-t)t}{1-\\frac12\\theta T}\n",
    "\\end{split}\n",
    "$$"
   ]
  },
  {
   "cell_type": "markdown",
   "metadata": {},
   "source": [
    "let $\\theta \\to 0$,\n",
    "\n",
    "$$\n",
    "\\begin{split}\n",
    "x^\\star(t)&=X\\frac{T-t}{T}-\\frac{A(T-t)t}{2}\\\\\n",
    "    &=\\left(X-\\frac{A \\, T}{2}\\,t\\right)\\,\\left(1-\\frac{t}{T}\\right) \n",
    "    \\end{split}\n",
    "$$"
   ]
  }
 ],
 "metadata": {
  "anaconda-cloud": {},
  "celltoolbar": "Slideshow",
  "kernelspec": {
   "display_name": "R",
   "language": "R",
   "name": "ir"
  },
  "language_info": {
   "codemirror_mode": "r",
   "file_extension": ".r",
   "mimetype": "text/x-r-source",
   "name": "R",
   "pygments_lexer": "r",
   "version": "3.5.1"
  }
 },
 "nbformat": 4,
 "nbformat_minor": 1
}
