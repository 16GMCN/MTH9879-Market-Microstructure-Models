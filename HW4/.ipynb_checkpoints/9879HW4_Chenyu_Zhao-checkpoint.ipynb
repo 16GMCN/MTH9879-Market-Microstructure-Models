{
 "cells": [
  {
   "cell_type": "markdown",
   "metadata": {},
   "source": [
    "# Chenyu Zhao\n",
    "#### R version: 3.5.1"
   ]
  },
  {
   "cell_type": "markdown",
   "metadata": {},
   "source": [
    "# MTH9879 Homework 4\n",
    "\n",
    "Assigned: February 21, 2019.\n",
    "Due: March 7, 2019 by 6pm. \n",
    "\n",
    "Late homework **will not be accepted**.\n",
    "\n",
    "$$\n",
    "\\newcommand{\\supp}{\\mathrm{supp}}\n",
    "\\newcommand{\\E}{\\mathbb{E}}\n",
    "\\newcommand{\\Eof}[1]{\\mathbb{E}\\left[ #1 \\right]}\n",
    "\\def\\Cov{{ \\mbox{Cov} }}\n",
    "\\def\\Var{{ \\mbox{Var} }}\n",
    "\\newcommand{\\1}{\\mathbf{1} }\n",
    "\\newcommand{\\PP}{\\mathbb{P} }\n",
    "%\\newcommand{\\Pr}{\\mathrm{Pr} }\n",
    "\\newcommand{\\QQ}{\\mathbb{Q} }\n",
    "\\newcommand{\\RR}{\\mathbb{R} }\n",
    "\\newcommand{\\DD}{\\mathbb{D} }\n",
    "\\newcommand{\\HH}{\\mathbb{H} }\n",
    "\\newcommand{\\spn}{\\mathrm{span} }\n",
    "\\newcommand{\\cov}{\\mathrm{cov} }\n",
    "\\newcommand{\\sgn}{\\mathrm{sgn} }\n",
    "\\newcommand{\\HS}{\\mathcal{L}_{\\mathrm{HS}} }\n",
    "%\\newcommand{\\HS}{\\mathrm{HS} }\n",
    "\\newcommand{\\trace}{\\mathrm{trace} }\n",
    "\\newcommand{\\LL}{\\mathcal{L} }\n",
    "%\\newcommand{\\LL}{\\mathrm{L} }\n",
    "\\newcommand{\\s}{\\mathcal{S} }\n",
    "\\newcommand{\\ee}{\\mathcal{E} }\n",
    "\\newcommand{\\ff}{\\mathcal{F} }\n",
    "\\newcommand{\\hh}{\\mathcal{H} }\n",
    "\\newcommand{\\bb}{\\mathcal{B} }\n",
    "\\newcommand{\\dd}{\\mathcal{D} }\n",
    "\\newcommand{\\g}{\\mathcal{G} }\n",
    "\\newcommand{\\p}{\\partial}\n",
    "\\newcommand{\\half}{\\frac{1}{2} }\n",
    "\\newcommand{\\T}{\\mathcal{T} }\n",
    "\\newcommand{\\bi}{\\begin{itemize}}\n",
    "\\newcommand{\\ei}{\\end{itemize}}\n",
    "\\newcommand{\\beq}{\\begin{equation}}\n",
    "\\newcommand{\\eeq}{\\end{equation}}\n",
    "\\newcommand{\\beas}{\\begin{eqnarray*}}\n",
    "\\newcommand{\\eeas}{\\end{eqnarray*}}\n",
    "\\newcommand{\\cO}{\\mathcal{O}}\n",
    "\\newcommand{\\cF}{\\mathcal{F}}\n",
    "\\newcommand{\\cL}{\\mathcal{L}}\n",
    "\\newcommand{\\BS}{\\text{BS}}\n",
    "$$"
   ]
  },
  {
   "cell_type": "markdown",
   "metadata": {},
   "source": [
    "<font color = \"red\">Homework is to be done by each student individually.  To receive full credit, you must email a completed copy of this Jupyter notebook to Yassine Ghalane (yassine.ghalem@gmail.com), Victor Istrakov (stavka@gmail.com), and Tai-Ho Wang (tai-ho.wang@baruch.cuny.edu) by the due date and time.  All R-code must run correctly and solutions must be written up neatly in Markdown/LaTeX format.\n",
    "\n",
    "<font color=\"blue\">If you encounter problems with Markdown/LaTeX or Jupyter notebook, please contact your TAs."
   ]
  },
  {
   "cell_type": "markdown",
   "metadata": {},
   "source": [
    "### 0. (0 points) \n",
    "Read Chapter 5 and 6 of Hasbrouck and Chapters 2 and 3 of Foucault, Pagano and R&ouml;ell. \n"
   ]
  },
  {
   "cell_type": "markdown",
   "metadata": {},
   "source": [
    "## Glosten and Milgrom"
   ]
  },
  {
   "cell_type": "markdown",
   "metadata": {},
   "source": [
    "### 1. (8 points) \n",
    "\n",
    "(Adapted from Hasbrouck 5.2 but please note that the setup in (3) in the slides is different from Hasbrouck's in Figure 5.1 of his book.) Consider a variant of the Glosten and Milgrom model where there is informed trading only in the low state $V=\\underline V$.\n",
    "\n",
    "(a) Show that the learned probability after one step that the true price is $\\bar V$ is given by\n",
    "\n",
    "$$\n",
    "\\delta_1(Buy)=\\Pr(\\bar V|Buy)=\\frac{\\delta}{1-\\mu\\,(1-\\delta)};\\quad \\delta_1(Sell)=\\Pr(\\bar V|Sell)=\\frac{\\delta}{1+\\mu\\,(1-\\delta)}\n",
    "$$\n",
    "\n",
    "and that\n",
    "\n",
    "$$\n",
    "A=\\frac{\\underline V\\,{(1-\\delta)\\,(1-\\mu)}+\\bar V\\,{\\delta}}{{1-\\mu\\,(1-\\delta)}};\\quad B=\\frac{\\underline V\\,{(1-\\delta)\\,(1+\\mu)}+\\bar V\\,{\\delta}}{1+\\mu\\,(1-\\delta)}\n",
    "$$\n",
    "\n",
    "(b) Deduce an expression for the spread $s=A-B$.\n",
    "\n",
    "(c) Explain the sensitivities of the spread to the parameters of the model to a non-expert.\n"
   ]
  },
  {
   "cell_type": "markdown",
   "metadata": {},
   "source": [
    "### Answer\n",
    "\n",
    "(a) \n",
    "$$\n",
    "\\Pr(Buy)=\\frac{1}{2}(\\delta+(1-\\mu)(1-\\delta)) \\quad \\Pr(Sell)=\\frac{1}{2}(\\delta+(1-\\mu)(1-\\delta))+(1-\\delta)\\mu\n",
    "$$\n",
    "\n",
    "and $\\Pr(\\bar V, Buy)=\\Pr(\\bar V, Sell)=\\frac{1}{2}\\delta $\n",
    "\n",
    "So\n",
    "$$\n",
    "\\delta_1(Buy)=\\Pr(\\bar V |Buy)=\\frac{\\Pr(\\bar V, Buy)}{\\Pr(Buy)}=\\frac{\\delta}{1-\\mu\\,(1-\\delta)}\n",
    "$$\n",
    "\n",
    "$$\n",
    "\\delta_1(Sell)=\\Pr(\\bar V |Sell)=\\frac{\\Pr(\\bar V, Sell)}{\\Pr(Sell)}=\\frac{\\delta}{1+\\mu\\,(1-\\delta)}\n",
    "$$\n",
    "\n",
    "And the same, $\\Pr(\\underline V, Buy)=\\frac{1}{2}(1-\\delta)(1-\\mu) \\quad \\Pr(\\underline V, Sell)=\\frac{1}{2}(1-\\delta)(1-\\mu)+(1-\\delta)\\mu $\n",
    "\n",
    "So we can also calculate $\\Pr(\\underline V |Buy)$ and $\\Pr(\\underline V |Sell)$\n",
    "\n",
    "So\n",
    "\n",
    "$$\n",
    "A=E[V|Buy]=\\bar V \\Pr(\\bar V |Buy)+\\underline V\\Pr(\\underline V|Buy)=\\frac{\\underline V\\,{(1-\\delta)\\,(1-\\mu)}+\\bar V\\,{\\delta}}{{1-\\mu\\,(1-\\delta)}}\n",
    "$$\n",
    "\n",
    "$$\n",
    "B=E[V|Sell]=\\bar V \\Pr(\\bar V |Sell)+\\underline V\\Pr(\\underline V|Sell)=\\frac{\\underline V\\,{(1-\\delta)\\,(1+\\mu)}+\\bar V\\,{\\delta}}{1+\\mu\\,(1-\\delta)}\n",
    "$$"
   ]
  },
  {
   "cell_type": "markdown",
   "metadata": {},
   "source": [
    "(b)\n",
    "$$\n",
    "s=A-B=\\frac{2(\\bar V - \\underline V)\\mu\\delta(1-\\delta)}{1-\\mu^2(1-\\delta)^2}\n",
    "$$"
   ]
  },
  {
   "cell_type": "markdown",
   "metadata": {},
   "source": [
    "(c)\n",
    "\n",
    "#### $\\bar V - \\underline V$\n",
    "\n",
    "When this parameter is large, means more volatility in asset price. The market maker needs more compansation for this risk, so the spread becomes larger.\n",
    "\n",
    "#### $\\mu$\n",
    "\n",
    "When this parameter is large, means more informed trader in the market, hence more adverse selection effect. This should be compansate by larger spread.\n",
    "\n",
    "#### $\\delta$\n",
    "\n",
    "When this parameter increase, the spread decrease. This implies adverse selection in sell orders."
   ]
  },
  {
   "cell_type": "markdown",
   "metadata": {},
   "source": [
    "### Set up R environment for the next questions"
   ]
  },
  {
   "cell_type": "code",
   "execution_count": 1,
   "metadata": {},
   "outputs": [],
   "source": [
    "# install.packages(\"highfrequency\")"
   ]
  },
  {
   "cell_type": "code",
   "execution_count": 2,
   "metadata": {},
   "outputs": [
    {
     "name": "stderr",
     "output_type": "stream",
     "text": [
      "Loading required package: xts\n",
      "Loading required package: zoo\n",
      "\n",
      "Attaching package: ‘zoo’\n",
      "\n",
      "The following objects are masked from ‘package:base’:\n",
      "\n",
      "    as.Date, as.Date.numeric\n",
      "\n"
     ]
    }
   ],
   "source": [
    "download.file(url=\"https://mfe.baruch.cuny.edu/wp-content/uploads/2018/02/tqDataBAC_20170919.zip\", destfile=\"tq.zip\")\n",
    "unzip(zipfile=\"tq.zip\")\n",
    "load(\"tqDataBAC_20170919.rData\")\n",
    "\n",
    "library(highfrequency)\n",
    "Sys.setenv(TZ='EST')"
   ]
  },
  {
   "cell_type": "markdown",
   "metadata": {},
   "source": [
    "## The Lee and Ready tick test"
   ]
  },
  {
   "cell_type": "markdown",
   "metadata": {},
   "source": [
    "### 2. (10 points) \n",
    "\n",
    "In the following use the trades and quotes object *tqdata* in the loaded data *tqDataBAC_20170919.rData*.  Denote trade prices by $p_t$ and mid-quotes by $m_t$.\n",
    "\n",
    "(a) Compute the time series of trade signs $\\epsilon_t$ according to $\\epsilon_t=+1$ if $p_t>m_t$ and  $\\epsilon_t=-1$ otherwise, using the Lee-Ready rule for trades at mid.  Name this series *tradeSigns*. (Note this was already done in the lecture.)\n",
    "\n",
    "(b) Compute the Lee-Ready trade-sign indicator time series (as if you didn't have quotes and so no mid-prices).\n",
    "\n",
    "(c) Compute the correlation of these two indicators.\n",
    "\n",
    "(d) Assume the rule in part (a) is 100% accurate.  What percentage of trades are correctly signed by the Lee-Ready test?\n",
    "\n",
    "(e) Explain the relationship between your answers in (c) and (d).\n"
   ]
  },
  {
   "cell_type": "markdown",
   "metadata": {},
   "source": [
    "### Answer\n",
    "\n",
    "(a)"
   ]
  },
  {
   "cell_type": "code",
   "execution_count": 3,
   "metadata": {},
   "outputs": [],
   "source": [
    "tradeSigns<-getTradeDirection(tqdata)"
   ]
  },
  {
   "cell_type": "markdown",
   "metadata": {},
   "source": [
    "(b)"
   ]
  },
  {
   "cell_type": "code",
   "execution_count": 4,
   "metadata": {},
   "outputs": [],
   "source": [
    "price<-as.numeric(tqdata$PRICE)\n",
    "indicator<-rep(0,length(price)-1)\n",
    "\n",
    "# here we ommit the case of the first two prices are equal\n",
    "for(i in 2:length(price)){\n",
    "    if(price[i]>price[i-1])\n",
    "        indicator[i-1]=1\n",
    "    else if(price[i]<price[i-1])\n",
    "        indicator[i-1]=-1\n",
    "    else\n",
    "        indicator[i-1]=indicator[i-2]\n",
    "}\n"
   ]
  },
  {
   "cell_type": "markdown",
   "metadata": {},
   "source": [
    "(c)"
   ]
  },
  {
   "cell_type": "code",
   "execution_count": 5,
   "metadata": {},
   "outputs": [
    {
     "name": "stdout",
     "output_type": "stream",
     "text": [
      "[1] \"The correlation is: \"\n",
      "[1] 0.6996392\n"
     ]
    }
   ],
   "source": [
    "correlation=cor(indicator,tradeSigns[-1])\n",
    "print(\"The correlation is: \")\n",
    "print(correlation)"
   ]
  },
  {
   "cell_type": "markdown",
   "metadata": {},
   "source": [
    "(d)"
   ]
  },
  {
   "cell_type": "code",
   "execution_count": 6,
   "metadata": {},
   "outputs": [
    {
     "name": "stdout",
     "output_type": "stream",
     "text": [
      "[1] \"percentage of trades are correctly signed: \"\n",
      "[1] 0.8494215\n"
     ]
    }
   ],
   "source": [
    "trueSigns=(indicator==tradeSigns[-1])\n",
    "print(\"percentage of trades are correctly signed: \")\n",
    "print(sum(trueSigns)/length(indicator))"
   ]
  },
  {
   "cell_type": "markdown",
   "metadata": {},
   "source": [
    "(e)\n",
    "\n",
    "Correlation and percentage of ture signs are highly correlated. If one is larger, the other one is also larger."
   ]
  },
  {
   "cell_type": "markdown",
   "metadata": {},
   "source": [
    "## Realized spread by exchange"
   ]
  },
  {
   "cell_type": "markdown",
   "metadata": {},
   "source": [
    "### 3. (8 points)\n",
    "\n",
    "(a) Reproduce Figure 6 from the lecture slides, making sure to get the aesthetics right.\n",
    "\n",
    "(b) Explain why the realized spread profile varies by exchange.\n",
    "\n",
    "(c) Redo the picture adjusting for the following (assumed) take fees:\n",
    "\n",
    "**Exchange** | **Take fee** \n",
    "--- | --- \n",
    "  | (**cents**)\n",
    "D | 0.10 \n",
    "B | -0.04\n",
    "Z | 0.29\n",
    "Y | 0.00\n",
    "P | 0.25\n",
    "\n",
    "(d) Based on your results, where would you advise sending a small market order?  How about a large one?\n"
   ]
  },
  {
   "cell_type": "markdown",
   "metadata": {},
   "source": [
    "### Answer\n",
    "\n",
    "(a)"
   ]
  },
  {
   "cell_type": "code",
   "execution_count": 15,
   "metadata": {},
   "outputs": [
    {
     "data": {
      "image/png": "[encoded data removed]",
      "text/plain": [
       "plot without title"
      ]
     },
     "metadata": {},
     "output_type": "display_data"
    }
   ],
   "source": [
    "library(repr)\n",
    "options(repr.plot.width=5,repr.plot.height=5)\n",
    "\n",
    "rsInEx<-function(ex){\n",
    "    data=subset(tqdata,tqdata$EX==ex)\n",
    "    p<-as.numeric(data$PRICE)\n",
    "    mids<-(as.numeric(data$OFR)+as.numeric(data$BID))/2\n",
    "    n<-length(p)\n",
    "    tradeSigns <- getTradeDirection(data)\n",
    "    rs<-function(lag){mean(tradeSigns[1:(n-lag)]*(p[1:(n-lag)]-mids[-(1:lag)]))}\n",
    "    rsLag<-sapply(1:50,rs)\n",
    "    return (rsLag)\n",
    "}\n",
    "\n",
    "#rsLagD <- rsInEx('D')\n",
    "rsLagB <- rsInEx('B')\n",
    "rsLagZ <- rsInEx('Z')\n",
    "rsLagY <- rsInEx('Y')\n",
    "rsLagP <- rsInEx('P')\n",
    "\n",
    "plot(x=1:50,y=rsLagB,col=\"red\",type=\"l\",xlab=expression(tau), ylab = \"Realized spread\", ylim=c(-0.002, 0.005))\n",
    "#lines(x=1:50,y=rsLagD,col=\"brown\")\n",
    "lines(x=1:50,y=rsLagZ,col=\"blue\")\n",
    "lines(x=1:50,y=rsLagY,col=\"yellow\")\n",
    "lines(x=1:50,y=rsLagP,col=\"green\")\n",
    "legend(\"topright\", c(\"B - NASDAQ OMX BX\",\"Z - Cboe BZX\",\"Y - Cboe BYX\",\"P - NYSE Arca\"),lty = c(1,1,1,1,1), \n",
    "       col=c(\"red\",\"blue\",\"yellow\",\"green\"))"
   ]
  },
  {
   "cell_type": "markdown",
   "metadata": {},
   "source": [
    "(b)\n",
    "\n",
    "Each exchange has different rules of transaction fee. So traders' behaviours are different from exchange to exchange. So the realized spread structures are also different."
   ]
  },
  {
   "cell_type": "markdown",
   "metadata": {},
   "source": [
    "(c)"
   ]
  },
  {
   "cell_type": "code",
   "execution_count": 16,
   "metadata": {},
   "outputs": [
    {
     "data": {
      "image/png": "[encoded data removed]",
      "text/plain": [
       "plot without title"
      ]
     },
     "metadata": {},
     "output_type": "display_data"
    }
   ],
   "source": [
    "plot(x=1:50,y=rsLagB-0.0004*2,col=\"red\",type=\"l\",xlab=expression(tau), ylab = \"Realized spread\", ylim=c(-0.00, 0.009))\n",
    "#lines(x=1:50,y=rsLagD,col=\"brown\")\n",
    "lines(x=1:50,y=rsLagZ+0.0029*2,col=\"blue\")\n",
    "lines(x=1:50,y=rsLagY,col=\"yellow\")\n",
    "lines(x=1:50,y=rsLagP+0.0025*2,col=\"green\")\n",
    "legend(\"topright\", c(\"B - NASDAQ OMX BX\",\"Z - Cboe BZX\",\"Y - Cboe BYX\",\"P - NYSE Arca\"),lty = c(1,1,1,1,1), \n",
    "       col=c(\"red\",\"blue\",\"yellow\",\"green\"))"
   ]
  },
  {
   "cell_type": "markdown",
   "metadata": {},
   "source": [
    "(d)\n",
    "\n",
    "For small market order, the market impact is small so the market fee is the main reason for transaction cost. So we should choose a small fee exchange, such as NASDAQ OMX BX or Cboe BYX.\n",
    "\n",
    "For large market order, the market impact is main reason for transaction cost. So we should choose a exchange where order depth is large, hence our order has little market impact."
   ]
  },
  {
   "cell_type": "markdown",
   "metadata": {},
   "source": [
    "## Predicting trade signs"
   ]
  },
  {
   "cell_type": "markdown",
   "metadata": {},
   "source": [
    "### 4. (6 points) \n",
    "\n",
    "The following require the *tradeSigns* series from Problem 2.\n",
    "\n",
    "(a) Denote the probability of a sign reversal by $\\pi$.  Derive an expression in terms of $\\pi$ for the conditional expectation $\\E[\\epsilon_t|\\epsilon_{t-1}]$.\n",
    "\n",
    "(b) Assume zero expectation of the trading signs, fit an AR(1) model to the series *tradeSigns*.  What is the coefficient returned by this model?  Explain how  this coefficient relates to $\\pi$?\n"
   ]
  },
  {
   "cell_type": "markdown",
   "metadata": {},
   "source": [
    "### Answer\n",
    "\n",
    "(a) $\\epsilon_t=\\epsilon_{t-1}$ with probability of $\\pi$ and $\\epsilon_t=-\\epsilon_{t-1}$ with probability of $1-\\pi$\n",
    "\n",
    "hence\n",
    "\n",
    "$$\n",
    "E[\\epsilon_t|\\epsilon_{t-1}]=(1-2\\pi)\\epsilon_{t-1}\n",
    "$$"
   ]
  },
  {
   "cell_type": "markdown",
   "metadata": {},
   "source": [
    "(b)\n",
    "\n",
    "Build regression model. Because the zero expectation of trading signs, so there is no intercept in regression.\n",
    "\n",
    "$$\n",
    "\\epsilon_t=\\rho \\epsilon_{t-1}\n",
    "$$\n",
    "\n",
    "where $\\rho=(1-2\\pi)$"
   ]
  },
  {
   "cell_type": "code",
   "execution_count": 9,
   "metadata": {},
   "outputs": [
    {
     "name": "stdout",
     "output_type": "stream",
     "text": [
      "epsilon_tm \n",
      " 0.4819085 \n",
      "so pi is: 0.2590458"
     ]
    }
   ],
   "source": [
    "tradeSigns <- getTradeDirection(tqdata) \n",
    "epsilon_tm = tradeSigns[1:(length(tradeSigns)-1)]\n",
    "epsilon_t = tradeSigns[2:length(tradeSigns)]\n",
    "\n",
    "# because zero expectation, so there is no intercept in regression\n",
    "fit<-lm(formula=epsilon_t ~ epsilon_tm+0)\n",
    "\n",
    "print(fit$coeff[1])\n",
    "cat(\"so pi is:\",(1-fit$coeff[1])/2)"
   ]
  },
  {
   "cell_type": "markdown",
   "metadata": {},
   "source": [
    "## The MRR model"
   ]
  },
  {
   "cell_type": "markdown",
   "metadata": {},
   "source": [
    "### 5. (6 points)\n",
    "Using the estimate of $\\rho$ (the coefficient obtained from fitting to an AR(1) model) from Problem 4 and equation (11) from the lecture slides:\n",
    "\n",
    "$$\n",
    "\\Delta p_t=(\\phi+\\lambda)\\,\\epsilon_t-(\\phi+\\rho\\,\\lambda)\\,\\epsilon_{t-1}+e_t+\\Delta \\xi_t\n",
    "$$\n",
    "\n",
    "estimate by linear regression the MRR parameters $\\phi$ (transaction cost) and $\\lambda$ (adverse selection or \"Kyle lambda\") from  *tqdata*.  This amounts to ignoring the autocorrelation of the $\\Delta \\xi_t$.\n",
    "<br>\n",
    "\n",
    "Hint: Use the R function *lm*  to perform the linear regressions."
   ]
  },
  {
   "cell_type": "markdown",
   "metadata": {},
   "source": [
    "### Answer"
   ]
  },
  {
   "cell_type": "code",
   "execution_count": 10,
   "metadata": {},
   "outputs": [
    {
     "name": "stdout",
     "output_type": "stream",
     "text": [
      "  (Intercept)     epsilon_t    epsilon_tm \n",
      " 0.0000277404  0.0024637587 -0.0022776396 \n"
     ]
    }
   ],
   "source": [
    "p<-as.numeric(tqdata$PRICE)\n",
    "dp<-diff(p)\n",
    "\n",
    "fit2<-lm(formula=dp~epsilon_t+epsilon_tm)\n",
    "print(fit2$coeff)"
   ]
  },
  {
   "cell_type": "markdown",
   "metadata": {},
   "source": [
    "So \n",
    "$$\n",
    "\\phi+\\lambda= 0.0024637587 \\quad \\phi+\\rho\\lambda=0.0022776396 \n",
    "$$\n",
    "where $\\rho=0.4819085 $\n",
    "\n",
    "therefore\n",
    "$$\\lambda =0.000359239825397638 \\quad \\phi=0.00210451887460236$$"
   ]
  },
  {
   "cell_type": "code",
   "execution_count": 11,
   "metadata": {},
   "outputs": [],
   "source": [
    "#(0.0024637587-0.0022776396)/(1-0.4819085)"
   ]
  },
  {
   "cell_type": "code",
   "execution_count": 12,
   "metadata": {},
   "outputs": [],
   "source": [
    "#0.0024637587-0.000359239825397638"
   ]
  }
 ],
 "metadata": {
  "celltoolbar": "Slideshow",
  "kernelspec": {
   "display_name": "R",
   "language": "R",
   "name": "ir"
  },
  "language_info": {
   "codemirror_mode": "r",
   "file_extension": ".r",
   "mimetype": "text/x-r-source",
   "name": "R",
   "pygments_lexer": "r",
   "version": "3.5.1"
  }
 },
 "nbformat": 4,
 "nbformat_minor": 1
}
